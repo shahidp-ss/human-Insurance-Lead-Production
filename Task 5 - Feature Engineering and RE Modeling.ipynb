{
 "cells": [
  {
   "cell_type": "markdown",
   "metadata": {},
   "source": [
    "## Feature Engineering and Remodeling  \n",
    "\n",
    "#### To Do:\n",
    "\n",
    "1. Perform the required Feature Engineering (Feature Selection using RFE, Feature Transformation, etc.)\n",
    "\n",
    "2. Rebuild the models (Logistic Regression, SVM, KNN, DT, RF, Gradient Boosting, AdaBoosting etc.\n",
    "\n",
    "3. Compare the model (With Feature Engineering) Performance with previous model (Without Feature Engineering) "
   ]
  },
  {
   "cell_type": "code",
   "execution_count": 1,
   "metadata": {},
   "outputs": [],
   "source": [
    "# Import all the required Libraries\n",
    "\n",
    "import pandas as pd\n",
    "import numpy as np\n",
    "\n",
    "import seaborn as sns\n",
    "import matplotlib.pyplot as plt\n",
    "import warnings\n",
    "warnings.filterwarnings('ignore')"
   ]
  },
  {
   "cell_type": "code",
   "execution_count": 2,
   "metadata": {},
   "outputs": [],
   "source": [
    "df1=pd.read_csv('Clean.csv')"
   ]
  },
  {
   "cell_type": "code",
   "execution_count": 3,
   "metadata": {},
   "outputs": [
    {
     "data": {
      "text/plain": [
       "(10000, 25)"
      ]
     },
     "execution_count": 3,
     "metadata": {},
     "output_type": "execute_result"
    }
   ],
   "source": [
    "df1.shape"
   ]
  },
  {
   "cell_type": "code",
   "execution_count": 4,
   "metadata": {
    "scrolled": true
   },
   "outputs": [
    {
     "name": "stdout",
     "output_type": "stream",
     "text": [
      "<class 'pandas.core.frame.DataFrame'>\n",
      "RangeIndex: 10000 entries, 0 to 9999\n",
      "Data columns (total 25 columns):\n",
      " #   Column                   Non-Null Count  Dtype  \n",
      "---  ------                   --------------  -----  \n",
      " 0   Unnamed: 0               10000 non-null  int64  \n",
      " 1   Accomodation_Type        10000 non-null  int64  \n",
      " 2   Reco_Insurance_Type      10000 non-null  int64  \n",
      " 3   Is_Spouse                10000 non-null  int64  \n",
      " 4   Holding_Policy_Duration  10000 non-null  int64  \n",
      " 5   Reco_Policy_Premium      10000 non-null  float64\n",
      " 6   Response                 10000 non-null  int64  \n",
      " 7   X1                       10000 non-null  float64\n",
      " 8   X2                       10000 non-null  float64\n",
      " 9   X3                       10000 non-null  float64\n",
      " 10  X4                       10000 non-null  float64\n",
      " 11  X5                       10000 non-null  float64\n",
      " 12  X6                       10000 non-null  float64\n",
      " 13  X7                       10000 non-null  float64\n",
      " 14  X8                       10000 non-null  float64\n",
      " 15  Age                      10000 non-null  float64\n",
      " 16  City_Code_C10-C18        10000 non-null  int64  \n",
      " 17  City_Code_C19-C27        10000 non-null  int64  \n",
      " 18  City_Code_C28-C36        10000 non-null  int64  \n",
      " 19  Holding_Policy_Type_2.0  10000 non-null  int64  \n",
      " 20  Holding_Policy_Type_3.0  10000 non-null  int64  \n",
      " 21  Holding_Policy_Type_4.0  10000 non-null  int64  \n",
      " 22  Reco_Policy_Cat_12-15    10000 non-null  int64  \n",
      " 23  Reco_Policy_Cat_16-22    10000 non-null  int64  \n",
      " 24  Reco_Policy_Cat_6-11     10000 non-null  int64  \n",
      "dtypes: float64(10), int64(15)\n",
      "memory usage: 1.9 MB\n"
     ]
    }
   ],
   "source": [
    "df1.info()"
   ]
  },
  {
   "cell_type": "code",
   "execution_count": 5,
   "metadata": {},
   "outputs": [],
   "source": [
    "df1.drop('Unnamed: 0',axis=1,inplace=True)"
   ]
  },
  {
   "cell_type": "code",
   "execution_count": 6,
   "metadata": {},
   "outputs": [
    {
     "data": {
      "text/plain": [
       "0    7541\n",
       "1    2459\n",
       "Name: Response, dtype: int64"
      ]
     },
     "execution_count": 6,
     "metadata": {},
     "output_type": "execute_result"
    }
   ],
   "source": [
    "df1['Response'].value_counts()"
   ]
  },
  {
   "cell_type": "code",
   "execution_count": 7,
   "metadata": {},
   "outputs": [],
   "source": [
    "from imblearn.over_sampling import SMOTE\n",
    "sampler=SMOTE()"
   ]
  },
  {
   "cell_type": "code",
   "execution_count": 8,
   "metadata": {},
   "outputs": [],
   "source": [
    "X=df1.drop('Response',axis=1)\n",
    "y=df1['Response']"
   ]
  },
  {
   "cell_type": "code",
   "execution_count": 9,
   "metadata": {},
   "outputs": [],
   "source": [
    "predicts,response=sampler.fit_resample(X,y)"
   ]
  },
  {
   "cell_type": "code",
   "execution_count": 10,
   "metadata": {},
   "outputs": [
    {
     "name": "stdout",
     "output_type": "stream",
     "text": [
      "(15082, 23) (15082,)\n"
     ]
    }
   ],
   "source": [
    "print(predicts.shape,response.shape)"
   ]
  },
  {
   "cell_type": "code",
   "execution_count": 11,
   "metadata": {},
   "outputs": [
    {
     "data": {
      "text/plain": [
       "1    7541\n",
       "0    7541\n",
       "Name: Response, dtype: int64"
      ]
     },
     "execution_count": 11,
     "metadata": {},
     "output_type": "execute_result"
    }
   ],
   "source": [
    "response.value_counts()"
   ]
  },
  {
   "cell_type": "code",
   "execution_count": 16,
   "metadata": {},
   "outputs": [],
   "source": [
    "from sklearn.preprocessing import StandardScaler\n",
    "scaler=StandardScaler()"
   ]
  },
  {
   "cell_type": "code",
   "execution_count": 17,
   "metadata": {},
   "outputs": [
    {
     "data": {
      "text/html": [
       "<div>\n",
       "<style scoped>\n",
       "    .dataframe tbody tr th:only-of-type {\n",
       "        vertical-align: middle;\n",
       "    }\n",
       "\n",
       "    .dataframe tbody tr th {\n",
       "        vertical-align: top;\n",
       "    }\n",
       "\n",
       "    .dataframe thead th {\n",
       "        text-align: right;\n",
       "    }\n",
       "</style>\n",
       "<table border=\"1\" class=\"dataframe\">\n",
       "  <thead>\n",
       "    <tr style=\"text-align: right;\">\n",
       "      <th></th>\n",
       "      <th>Accomodation_Type</th>\n",
       "      <th>Reco_Insurance_Type</th>\n",
       "      <th>Is_Spouse</th>\n",
       "      <th>Holding_Policy_Duration</th>\n",
       "      <th>Reco_Policy_Premium</th>\n",
       "      <th>X1</th>\n",
       "      <th>X2</th>\n",
       "      <th>X3</th>\n",
       "      <th>X4</th>\n",
       "      <th>X5</th>\n",
       "      <th>...</th>\n",
       "      <th>Age</th>\n",
       "      <th>City_Code_C10-C18</th>\n",
       "      <th>City_Code_C19-C27</th>\n",
       "      <th>City_Code_C28-C36</th>\n",
       "      <th>Holding_Policy_Type_2.0</th>\n",
       "      <th>Holding_Policy_Type_3.0</th>\n",
       "      <th>Holding_Policy_Type_4.0</th>\n",
       "      <th>Reco_Policy_Cat_12-15</th>\n",
       "      <th>Reco_Policy_Cat_16-22</th>\n",
       "      <th>Reco_Policy_Cat_6-11</th>\n",
       "    </tr>\n",
       "  </thead>\n",
       "  <tbody>\n",
       "    <tr>\n",
       "      <th>0</th>\n",
       "      <td>1</td>\n",
       "      <td>1</td>\n",
       "      <td>0</td>\n",
       "      <td>15</td>\n",
       "      <td>13320.0</td>\n",
       "      <td>1.0</td>\n",
       "      <td>0.0</td>\n",
       "      <td>0.0</td>\n",
       "      <td>0.0</td>\n",
       "      <td>0.0</td>\n",
       "      <td>...</td>\n",
       "      <td>36.0</td>\n",
       "      <td>0</td>\n",
       "      <td>0</td>\n",
       "      <td>0</td>\n",
       "      <td>1</td>\n",
       "      <td>0</td>\n",
       "      <td>0</td>\n",
       "      <td>0</td>\n",
       "      <td>1</td>\n",
       "      <td>0</td>\n",
       "    </tr>\n",
       "    <tr>\n",
       "      <th>1</th>\n",
       "      <td>1</td>\n",
       "      <td>1</td>\n",
       "      <td>0</td>\n",
       "      <td>10</td>\n",
       "      <td>16152.0</td>\n",
       "      <td>0.0</td>\n",
       "      <td>0.0</td>\n",
       "      <td>0.0</td>\n",
       "      <td>0.0</td>\n",
       "      <td>0.0</td>\n",
       "      <td>...</td>\n",
       "      <td>66.0</td>\n",
       "      <td>0</td>\n",
       "      <td>0</td>\n",
       "      <td>0</td>\n",
       "      <td>0</td>\n",
       "      <td>0</td>\n",
       "      <td>0</td>\n",
       "      <td>0</td>\n",
       "      <td>1</td>\n",
       "      <td>0</td>\n",
       "    </tr>\n",
       "    <tr>\n",
       "      <th>2</th>\n",
       "      <td>0</td>\n",
       "      <td>1</td>\n",
       "      <td>0</td>\n",
       "      <td>3</td>\n",
       "      <td>7310.0</td>\n",
       "      <td>1.0</td>\n",
       "      <td>0.0</td>\n",
       "      <td>0.0</td>\n",
       "      <td>0.0</td>\n",
       "      <td>0.0</td>\n",
       "      <td>...</td>\n",
       "      <td>24.0</td>\n",
       "      <td>0</td>\n",
       "      <td>0</td>\n",
       "      <td>0</td>\n",
       "      <td>0</td>\n",
       "      <td>0</td>\n",
       "      <td>0</td>\n",
       "      <td>0</td>\n",
       "      <td>1</td>\n",
       "      <td>0</td>\n",
       "    </tr>\n",
       "    <tr>\n",
       "      <th>3</th>\n",
       "      <td>0</td>\n",
       "      <td>1</td>\n",
       "      <td>0</td>\n",
       "      <td>1</td>\n",
       "      <td>15792.0</td>\n",
       "      <td>1.0</td>\n",
       "      <td>0.0</td>\n",
       "      <td>0.0</td>\n",
       "      <td>0.0</td>\n",
       "      <td>0.0</td>\n",
       "      <td>...</td>\n",
       "      <td>75.0</td>\n",
       "      <td>0</td>\n",
       "      <td>1</td>\n",
       "      <td>0</td>\n",
       "      <td>0</td>\n",
       "      <td>1</td>\n",
       "      <td>0</td>\n",
       "      <td>0</td>\n",
       "      <td>1</td>\n",
       "      <td>0</td>\n",
       "    </tr>\n",
       "    <tr>\n",
       "      <th>4</th>\n",
       "      <td>1</td>\n",
       "      <td>0</td>\n",
       "      <td>1</td>\n",
       "      <td>15</td>\n",
       "      <td>23673.0</td>\n",
       "      <td>1.0</td>\n",
       "      <td>0.0</td>\n",
       "      <td>0.0</td>\n",
       "      <td>0.0</td>\n",
       "      <td>0.0</td>\n",
       "      <td>...</td>\n",
       "      <td>58.5</td>\n",
       "      <td>0</td>\n",
       "      <td>0</td>\n",
       "      <td>0</td>\n",
       "      <td>0</td>\n",
       "      <td>0</td>\n",
       "      <td>1</td>\n",
       "      <td>0</td>\n",
       "      <td>1</td>\n",
       "      <td>0</td>\n",
       "    </tr>\n",
       "  </tbody>\n",
       "</table>\n",
       "<p>5 rows × 23 columns</p>\n",
       "</div>"
      ],
      "text/plain": [
       "   Accomodation_Type  Reco_Insurance_Type  Is_Spouse  Holding_Policy_Duration  \\\n",
       "0                  1                    1          0                       15   \n",
       "1                  1                    1          0                       10   \n",
       "2                  0                    1          0                        3   \n",
       "3                  0                    1          0                        1   \n",
       "4                  1                    0          1                       15   \n",
       "\n",
       "   Reco_Policy_Premium   X1   X2   X3   X4   X5  ...   Age  City_Code_C10-C18  \\\n",
       "0              13320.0  1.0  0.0  0.0  0.0  0.0  ...  36.0                  0   \n",
       "1              16152.0  0.0  0.0  0.0  0.0  0.0  ...  66.0                  0   \n",
       "2               7310.0  1.0  0.0  0.0  0.0  0.0  ...  24.0                  0   \n",
       "3              15792.0  1.0  0.0  0.0  0.0  0.0  ...  75.0                  0   \n",
       "4              23673.0  1.0  0.0  0.0  0.0  0.0  ...  58.5                  0   \n",
       "\n",
       "   City_Code_C19-C27  City_Code_C28-C36  Holding_Policy_Type_2.0  \\\n",
       "0                  0                  0                        1   \n",
       "1                  0                  0                        0   \n",
       "2                  0                  0                        0   \n",
       "3                  1                  0                        0   \n",
       "4                  0                  0                        0   \n",
       "\n",
       "   Holding_Policy_Type_3.0  Holding_Policy_Type_4.0  Reco_Policy_Cat_12-15  \\\n",
       "0                        0                        0                      0   \n",
       "1                        0                        0                      0   \n",
       "2                        0                        0                      0   \n",
       "3                        1                        0                      0   \n",
       "4                        0                        1                      0   \n",
       "\n",
       "   Reco_Policy_Cat_16-22  Reco_Policy_Cat_6-11  \n",
       "0                      1                     0  \n",
       "1                      1                     0  \n",
       "2                      1                     0  \n",
       "3                      1                     0  \n",
       "4                      1                     0  \n",
       "\n",
       "[5 rows x 23 columns]"
      ]
     },
     "execution_count": 17,
     "metadata": {},
     "output_type": "execute_result"
    }
   ],
   "source": [
    "predicts.head()"
   ]
  },
  {
   "cell_type": "code",
   "execution_count": 18,
   "metadata": {},
   "outputs": [
    {
     "data": {
      "text/plain": [
       "(15082, 23)"
      ]
     },
     "execution_count": 18,
     "metadata": {},
     "output_type": "execute_result"
    }
   ],
   "source": [
    "predicts.shape"
   ]
  },
  {
   "cell_type": "code",
   "execution_count": 19,
   "metadata": {},
   "outputs": [],
   "source": [
    "predicts['Age']=scaler.fit_transform(predicts[['Age']])\n",
    "predicts['Holding_Policy_Duration']=scaler.fit_transform(predicts[['Holding_Policy_Duration']])\n",
    "predicts['Reco_Policy_Premium']=scaler.fit_transform(predicts[['Reco_Policy_Premium']])"
   ]
  },
  {
   "cell_type": "code",
   "execution_count": 20,
   "metadata": {},
   "outputs": [
    {
     "data": {
      "text/html": [
       "<div>\n",
       "<style scoped>\n",
       "    .dataframe tbody tr th:only-of-type {\n",
       "        vertical-align: middle;\n",
       "    }\n",
       "\n",
       "    .dataframe tbody tr th {\n",
       "        vertical-align: top;\n",
       "    }\n",
       "\n",
       "    .dataframe thead th {\n",
       "        text-align: right;\n",
       "    }\n",
       "</style>\n",
       "<table border=\"1\" class=\"dataframe\">\n",
       "  <thead>\n",
       "    <tr style=\"text-align: right;\">\n",
       "      <th></th>\n",
       "      <th>Accomodation_Type</th>\n",
       "      <th>Reco_Insurance_Type</th>\n",
       "      <th>Is_Spouse</th>\n",
       "      <th>Holding_Policy_Duration</th>\n",
       "      <th>Reco_Policy_Premium</th>\n",
       "      <th>X1</th>\n",
       "      <th>X2</th>\n",
       "      <th>X3</th>\n",
       "      <th>X4</th>\n",
       "      <th>X5</th>\n",
       "      <th>...</th>\n",
       "      <th>Age</th>\n",
       "      <th>City_Code_C10-C18</th>\n",
       "      <th>City_Code_C19-C27</th>\n",
       "      <th>City_Code_C28-C36</th>\n",
       "      <th>Holding_Policy_Type_2.0</th>\n",
       "      <th>Holding_Policy_Type_3.0</th>\n",
       "      <th>Holding_Policy_Type_4.0</th>\n",
       "      <th>Reco_Policy_Cat_12-15</th>\n",
       "      <th>Reco_Policy_Cat_16-22</th>\n",
       "      <th>Reco_Policy_Cat_6-11</th>\n",
       "    </tr>\n",
       "  </thead>\n",
       "  <tbody>\n",
       "    <tr>\n",
       "      <th>0</th>\n",
       "      <td>1</td>\n",
       "      <td>1</td>\n",
       "      <td>0</td>\n",
       "      <td>0.971262</td>\n",
       "      <td>-0.129807</td>\n",
       "      <td>1.000000</td>\n",
       "      <td>0.000000</td>\n",
       "      <td>0.000000</td>\n",
       "      <td>0.000000</td>\n",
       "      <td>0.0</td>\n",
       "      <td>...</td>\n",
       "      <td>-0.466424</td>\n",
       "      <td>0</td>\n",
       "      <td>0</td>\n",
       "      <td>0</td>\n",
       "      <td>1</td>\n",
       "      <td>0</td>\n",
       "      <td>0</td>\n",
       "      <td>0</td>\n",
       "      <td>1</td>\n",
       "      <td>0</td>\n",
       "    </tr>\n",
       "    <tr>\n",
       "      <th>1</th>\n",
       "      <td>1</td>\n",
       "      <td>1</td>\n",
       "      <td>0</td>\n",
       "      <td>0.042880</td>\n",
       "      <td>0.315590</td>\n",
       "      <td>0.000000</td>\n",
       "      <td>0.000000</td>\n",
       "      <td>0.000000</td>\n",
       "      <td>0.000000</td>\n",
       "      <td>0.0</td>\n",
       "      <td>...</td>\n",
       "      <td>1.331724</td>\n",
       "      <td>0</td>\n",
       "      <td>0</td>\n",
       "      <td>0</td>\n",
       "      <td>0</td>\n",
       "      <td>0</td>\n",
       "      <td>0</td>\n",
       "      <td>0</td>\n",
       "      <td>1</td>\n",
       "      <td>0</td>\n",
       "    </tr>\n",
       "    <tr>\n",
       "      <th>2</th>\n",
       "      <td>0</td>\n",
       "      <td>1</td>\n",
       "      <td>0</td>\n",
       "      <td>-1.256856</td>\n",
       "      <td>-1.075017</td>\n",
       "      <td>1.000000</td>\n",
       "      <td>0.000000</td>\n",
       "      <td>0.000000</td>\n",
       "      <td>0.000000</td>\n",
       "      <td>0.0</td>\n",
       "      <td>...</td>\n",
       "      <td>-1.185684</td>\n",
       "      <td>0</td>\n",
       "      <td>0</td>\n",
       "      <td>0</td>\n",
       "      <td>0</td>\n",
       "      <td>0</td>\n",
       "      <td>0</td>\n",
       "      <td>0</td>\n",
       "      <td>1</td>\n",
       "      <td>0</td>\n",
       "    </tr>\n",
       "    <tr>\n",
       "      <th>3</th>\n",
       "      <td>0</td>\n",
       "      <td>1</td>\n",
       "      <td>0</td>\n",
       "      <td>-1.628209</td>\n",
       "      <td>0.258972</td>\n",
       "      <td>1.000000</td>\n",
       "      <td>0.000000</td>\n",
       "      <td>0.000000</td>\n",
       "      <td>0.000000</td>\n",
       "      <td>0.0</td>\n",
       "      <td>...</td>\n",
       "      <td>1.871168</td>\n",
       "      <td>0</td>\n",
       "      <td>1</td>\n",
       "      <td>0</td>\n",
       "      <td>0</td>\n",
       "      <td>1</td>\n",
       "      <td>0</td>\n",
       "      <td>0</td>\n",
       "      <td>1</td>\n",
       "      <td>0</td>\n",
       "    </tr>\n",
       "    <tr>\n",
       "      <th>4</th>\n",
       "      <td>1</td>\n",
       "      <td>0</td>\n",
       "      <td>1</td>\n",
       "      <td>0.971262</td>\n",
       "      <td>1.498439</td>\n",
       "      <td>1.000000</td>\n",
       "      <td>0.000000</td>\n",
       "      <td>0.000000</td>\n",
       "      <td>0.000000</td>\n",
       "      <td>0.0</td>\n",
       "      <td>...</td>\n",
       "      <td>0.882187</td>\n",
       "      <td>0</td>\n",
       "      <td>0</td>\n",
       "      <td>0</td>\n",
       "      <td>0</td>\n",
       "      <td>0</td>\n",
       "      <td>1</td>\n",
       "      <td>0</td>\n",
       "      <td>1</td>\n",
       "      <td>0</td>\n",
       "    </tr>\n",
       "    <tr>\n",
       "      <th>...</th>\n",
       "      <td>...</td>\n",
       "      <td>...</td>\n",
       "      <td>...</td>\n",
       "      <td>...</td>\n",
       "      <td>...</td>\n",
       "      <td>...</td>\n",
       "      <td>...</td>\n",
       "      <td>...</td>\n",
       "      <td>...</td>\n",
       "      <td>...</td>\n",
       "      <td>...</td>\n",
       "      <td>...</td>\n",
       "      <td>...</td>\n",
       "      <td>...</td>\n",
       "      <td>...</td>\n",
       "      <td>...</td>\n",
       "      <td>...</td>\n",
       "      <td>...</td>\n",
       "      <td>...</td>\n",
       "      <td>...</td>\n",
       "      <td>...</td>\n",
       "    </tr>\n",
       "    <tr>\n",
       "      <th>15077</th>\n",
       "      <td>0</td>\n",
       "      <td>0</td>\n",
       "      <td>0</td>\n",
       "      <td>0.785586</td>\n",
       "      <td>1.049194</td>\n",
       "      <td>0.000000</td>\n",
       "      <td>0.738049</td>\n",
       "      <td>0.261951</td>\n",
       "      <td>0.000000</td>\n",
       "      <td>0.0</td>\n",
       "      <td>...</td>\n",
       "      <td>0.300742</td>\n",
       "      <td>0</td>\n",
       "      <td>0</td>\n",
       "      <td>0</td>\n",
       "      <td>0</td>\n",
       "      <td>1</td>\n",
       "      <td>0</td>\n",
       "      <td>0</td>\n",
       "      <td>0</td>\n",
       "      <td>0</td>\n",
       "    </tr>\n",
       "    <tr>\n",
       "      <th>15078</th>\n",
       "      <td>0</td>\n",
       "      <td>1</td>\n",
       "      <td>0</td>\n",
       "      <td>0.228556</td>\n",
       "      <td>-0.399693</td>\n",
       "      <td>0.000000</td>\n",
       "      <td>0.000000</td>\n",
       "      <td>0.000000</td>\n",
       "      <td>1.000000</td>\n",
       "      <td>0.0</td>\n",
       "      <td>...</td>\n",
       "      <td>-0.984951</td>\n",
       "      <td>0</td>\n",
       "      <td>0</td>\n",
       "      <td>0</td>\n",
       "      <td>0</td>\n",
       "      <td>0</td>\n",
       "      <td>0</td>\n",
       "      <td>0</td>\n",
       "      <td>1</td>\n",
       "      <td>0</td>\n",
       "    </tr>\n",
       "    <tr>\n",
       "      <th>15079</th>\n",
       "      <td>0</td>\n",
       "      <td>1</td>\n",
       "      <td>0</td>\n",
       "      <td>-1.071179</td>\n",
       "      <td>-0.494994</td>\n",
       "      <td>0.210776</td>\n",
       "      <td>0.000000</td>\n",
       "      <td>0.000000</td>\n",
       "      <td>0.789224</td>\n",
       "      <td>0.0</td>\n",
       "      <td>...</td>\n",
       "      <td>-0.100620</td>\n",
       "      <td>0</td>\n",
       "      <td>0</td>\n",
       "      <td>0</td>\n",
       "      <td>0</td>\n",
       "      <td>0</td>\n",
       "      <td>0</td>\n",
       "      <td>0</td>\n",
       "      <td>0</td>\n",
       "      <td>0</td>\n",
       "    </tr>\n",
       "    <tr>\n",
       "      <th>15080</th>\n",
       "      <td>1</td>\n",
       "      <td>0</td>\n",
       "      <td>1</td>\n",
       "      <td>0.971262</td>\n",
       "      <td>2.190909</td>\n",
       "      <td>0.000000</td>\n",
       "      <td>0.541767</td>\n",
       "      <td>0.000000</td>\n",
       "      <td>0.458233</td>\n",
       "      <td>0.0</td>\n",
       "      <td>...</td>\n",
       "      <td>1.445305</td>\n",
       "      <td>0</td>\n",
       "      <td>0</td>\n",
       "      <td>0</td>\n",
       "      <td>0</td>\n",
       "      <td>0</td>\n",
       "      <td>0</td>\n",
       "      <td>0</td>\n",
       "      <td>1</td>\n",
       "      <td>0</td>\n",
       "    </tr>\n",
       "    <tr>\n",
       "      <th>15081</th>\n",
       "      <td>0</td>\n",
       "      <td>1</td>\n",
       "      <td>0</td>\n",
       "      <td>-1.256856</td>\n",
       "      <td>-0.316647</td>\n",
       "      <td>1.000000</td>\n",
       "      <td>0.000000</td>\n",
       "      <td>0.000000</td>\n",
       "      <td>0.000000</td>\n",
       "      <td>0.0</td>\n",
       "      <td>...</td>\n",
       "      <td>-1.001339</td>\n",
       "      <td>0</td>\n",
       "      <td>0</td>\n",
       "      <td>0</td>\n",
       "      <td>0</td>\n",
       "      <td>0</td>\n",
       "      <td>0</td>\n",
       "      <td>0</td>\n",
       "      <td>1</td>\n",
       "      <td>0</td>\n",
       "    </tr>\n",
       "  </tbody>\n",
       "</table>\n",
       "<p>15082 rows × 23 columns</p>\n",
       "</div>"
      ],
      "text/plain": [
       "       Accomodation_Type  Reco_Insurance_Type  Is_Spouse  \\\n",
       "0                      1                    1          0   \n",
       "1                      1                    1          0   \n",
       "2                      0                    1          0   \n",
       "3                      0                    1          0   \n",
       "4                      1                    0          1   \n",
       "...                  ...                  ...        ...   \n",
       "15077                  0                    0          0   \n",
       "15078                  0                    1          0   \n",
       "15079                  0                    1          0   \n",
       "15080                  1                    0          1   \n",
       "15081                  0                    1          0   \n",
       "\n",
       "       Holding_Policy_Duration  Reco_Policy_Premium        X1        X2  \\\n",
       "0                     0.971262            -0.129807  1.000000  0.000000   \n",
       "1                     0.042880             0.315590  0.000000  0.000000   \n",
       "2                    -1.256856            -1.075017  1.000000  0.000000   \n",
       "3                    -1.628209             0.258972  1.000000  0.000000   \n",
       "4                     0.971262             1.498439  1.000000  0.000000   \n",
       "...                        ...                  ...       ...       ...   \n",
       "15077                 0.785586             1.049194  0.000000  0.738049   \n",
       "15078                 0.228556            -0.399693  0.000000  0.000000   \n",
       "15079                -1.071179            -0.494994  0.210776  0.000000   \n",
       "15080                 0.971262             2.190909  0.000000  0.541767   \n",
       "15081                -1.256856            -0.316647  1.000000  0.000000   \n",
       "\n",
       "             X3        X4   X5  ...       Age  City_Code_C10-C18  \\\n",
       "0      0.000000  0.000000  0.0  ... -0.466424                  0   \n",
       "1      0.000000  0.000000  0.0  ...  1.331724                  0   \n",
       "2      0.000000  0.000000  0.0  ... -1.185684                  0   \n",
       "3      0.000000  0.000000  0.0  ...  1.871168                  0   \n",
       "4      0.000000  0.000000  0.0  ...  0.882187                  0   \n",
       "...         ...       ...  ...  ...       ...                ...   \n",
       "15077  0.261951  0.000000  0.0  ...  0.300742                  0   \n",
       "15078  0.000000  1.000000  0.0  ... -0.984951                  0   \n",
       "15079  0.000000  0.789224  0.0  ... -0.100620                  0   \n",
       "15080  0.000000  0.458233  0.0  ...  1.445305                  0   \n",
       "15081  0.000000  0.000000  0.0  ... -1.001339                  0   \n",
       "\n",
       "       City_Code_C19-C27  City_Code_C28-C36  Holding_Policy_Type_2.0  \\\n",
       "0                      0                  0                        1   \n",
       "1                      0                  0                        0   \n",
       "2                      0                  0                        0   \n",
       "3                      1                  0                        0   \n",
       "4                      0                  0                        0   \n",
       "...                  ...                ...                      ...   \n",
       "15077                  0                  0                        0   \n",
       "15078                  0                  0                        0   \n",
       "15079                  0                  0                        0   \n",
       "15080                  0                  0                        0   \n",
       "15081                  0                  0                        0   \n",
       "\n",
       "       Holding_Policy_Type_3.0  Holding_Policy_Type_4.0  \\\n",
       "0                            0                        0   \n",
       "1                            0                        0   \n",
       "2                            0                        0   \n",
       "3                            1                        0   \n",
       "4                            0                        1   \n",
       "...                        ...                      ...   \n",
       "15077                        1                        0   \n",
       "15078                        0                        0   \n",
       "15079                        0                        0   \n",
       "15080                        0                        0   \n",
       "15081                        0                        0   \n",
       "\n",
       "       Reco_Policy_Cat_12-15  Reco_Policy_Cat_16-22  Reco_Policy_Cat_6-11  \n",
       "0                          0                      1                     0  \n",
       "1                          0                      1                     0  \n",
       "2                          0                      1                     0  \n",
       "3                          0                      1                     0  \n",
       "4                          0                      1                     0  \n",
       "...                      ...                    ...                   ...  \n",
       "15077                      0                      0                     0  \n",
       "15078                      0                      1                     0  \n",
       "15079                      0                      0                     0  \n",
       "15080                      0                      1                     0  \n",
       "15081                      0                      1                     0  \n",
       "\n",
       "[15082 rows x 23 columns]"
      ]
     },
     "execution_count": 20,
     "metadata": {},
     "output_type": "execute_result"
    }
   ],
   "source": [
    "predicts"
   ]
  },
  {
   "cell_type": "code",
   "execution_count": 21,
   "metadata": {},
   "outputs": [],
   "source": [
    "from sklearn.model_selection import train_test_split"
   ]
  },
  {
   "cell_type": "code",
   "execution_count": 22,
   "metadata": {},
   "outputs": [],
   "source": [
    "x_train,x_test,y_train,y_test=train_test_split(predicts,response,test_size=0.2)"
   ]
  },
  {
   "cell_type": "markdown",
   "metadata": {},
   "source": [
    "## Model Building - Logistic Regression, SVM, KNN, DT, RF, Gradient Boosting, AdaBoosting etc\n",
    "\n",
    "For all the algorithms mentioned above, perform below mentioned steps.\n",
    "\n",
    "**To Do:**\n",
    "1. Train the Model using `Accuracy` as the evaluation metric\n",
    "2. Predict\n",
    "3. Evaluate use Accuracy, Confusion Matrix, Precision & Recall, F1-score and ROC AUC to understand model performance\n",
    "4. Compare the perormance of all the models"
   ]
  },
  {
   "cell_type": "code",
   "execution_count": 23,
   "metadata": {},
   "outputs": [],
   "source": [
    "Performance_with_over_sampled_data=pd.DataFrame(index=['Accuracy','Precision','Recall','F1_score','AUC'])"
   ]
  },
  {
   "cell_type": "markdown",
   "metadata": {},
   "source": [
    "# Logistic Regression"
   ]
  },
  {
   "cell_type": "code",
   "execution_count": 24,
   "metadata": {},
   "outputs": [],
   "source": [
    "from sklearn.linear_model import LogisticRegression\n",
    "LR_model=LogisticRegression(max_iter=10000)"
   ]
  },
  {
   "cell_type": "code",
   "execution_count": 25,
   "metadata": {},
   "outputs": [
    {
     "name": "stdout",
     "output_type": "stream",
     "text": [
      "Training Accuracy :  0.6943224202237878\n"
     ]
    }
   ],
   "source": [
    "LR_model.fit(x_train,y_train)\n",
    "print('Training Accuracy : ',LR_model.score(x_train,y_train))"
   ]
  },
  {
   "cell_type": "code",
   "execution_count": 26,
   "metadata": {},
   "outputs": [
    {
     "name": "stdout",
     "output_type": "stream",
     "text": [
      "Testing Accuracy :  0.6983758700696056\n"
     ]
    }
   ],
   "source": [
    "lg_pred=LR_model.predict(x_test)\n",
    "print('Testing Accuracy : ',LR_model.score(x_test,y_test))"
   ]
  },
  {
   "cell_type": "code",
   "execution_count": 27,
   "metadata": {},
   "outputs": [],
   "source": [
    "from sklearn.metrics import accuracy_score,confusion_matrix,classification_report,precision_score,recall_score,f1_score,roc_auc_score"
   ]
  },
  {
   "cell_type": "code",
   "execution_count": 28,
   "metadata": {},
   "outputs": [
    {
     "data": {
      "text/plain": [
       "array([[1124,  388],\n",
       "       [ 522,  983]], dtype=int64)"
      ]
     },
     "execution_count": 28,
     "metadata": {},
     "output_type": "execute_result"
    }
   ],
   "source": [
    "confusion_matrix(y_test,lg_pred)"
   ]
  },
  {
   "cell_type": "code",
   "execution_count": 29,
   "metadata": {},
   "outputs": [
    {
     "name": "stdout",
     "output_type": "stream",
     "text": [
      "              precision    recall  f1-score   support\n",
      "\n",
      "           0       0.68      0.74      0.71      1512\n",
      "           1       0.72      0.65      0.68      1505\n",
      "\n",
      "    accuracy                           0.70      3017\n",
      "   macro avg       0.70      0.70      0.70      3017\n",
      "weighted avg       0.70      0.70      0.70      3017\n",
      "\n",
      "\n",
      "Accuracy is :  0.6983758700696056\n",
      "Precission :  0.7169948942377826\n",
      "Recall :  0.653156146179402\n",
      "f1-score :  0.6835883171070931\n",
      "Roc Auc score :  0.6982711947828226\n"
     ]
    }
   ],
   "source": [
    "print(classification_report(y_test,lg_pred))\n",
    "print()\n",
    "print('Accuracy is : ',accuracy_score(y_test,lg_pred))\n",
    "print('Precission : ',precision_score(y_test,lg_pred))\n",
    "print('Recall : ',recall_score(y_test,lg_pred))\n",
    "print('f1-score : ',f1_score(y_test,lg_pred))\n",
    "print('Roc Auc score : ',roc_auc_score(y_test,lg_pred))"
   ]
  },
  {
   "cell_type": "code",
   "execution_count": 30,
   "metadata": {},
   "outputs": [],
   "source": [
    "y_preds = LR_model.predict_proba(x_test)[:,1]"
   ]
  },
  {
   "cell_type": "code",
   "execution_count": 31,
   "metadata": {},
   "outputs": [
    {
     "name": "stdout",
     "output_type": "stream",
     "text": [
      "Area under the ROC curve :  0.759151593453919\n"
     ]
    }
   ],
   "source": [
    "from sklearn.metrics import roc_curve,auc\n",
    "[fpr, tpr, thr] = roc_curve(y_test, y_preds)\n",
    "print('Area under the ROC curve : ',auc(fpr, tpr))"
   ]
  },
  {
   "cell_type": "code",
   "execution_count": 32,
   "metadata": {},
   "outputs": [
    {
     "data": {
      "image/png": "[encoded data removed]",
      "text/plain": [
       "<Figure size 432x288 with 1 Axes>"
      ]
     },
     "metadata": {
      "needs_background": "light"
     },
     "output_type": "display_data"
    }
   ],
   "source": [
    "plt.figure()\n",
    "plt.plot(fpr, tpr, color='coral', label = 'ROC Curve with Area Under Curve = '+str(auc (fpr, tpr)))\n",
    "plt.title('ROC curve for Logistic Regression',fontsize=15)\n",
    "plt.xlabel('False positive Rate (1 - specificity)')\n",
    "plt.ylabel('True Positive Rate ')\n",
    "plt.legend(loc='lower right')\n",
    "plt.show()"
   ]
  },
  {
   "cell_type": "code",
   "execution_count": 32,
   "metadata": {},
   "outputs": [],
   "source": [
    "Performance_with_over_sampled_data['Logistic Regression']=[accuracy_score(y_test,lg_pred),\n",
    "                                                                    precision_score(y_test,lg_pred),\n",
    "                                                                    recall_score(y_test,lg_pred),\n",
    "                                                                    f1_score(y_test,lg_pred),\n",
    "                                                                    auc(fpr, tpr)]"
   ]
  },
  {
   "cell_type": "code",
   "execution_count": null,
   "metadata": {},
   "outputs": [],
   "source": []
  },
  {
   "cell_type": "markdown",
   "metadata": {},
   "source": [
    "# SVM"
   ]
  },
  {
   "cell_type": "code",
   "execution_count": 33,
   "metadata": {},
   "outputs": [],
   "source": [
    "from sklearn.svm import SVC\n",
    "svm_model=SVC(probability=True)"
   ]
  },
  {
   "cell_type": "code",
   "execution_count": 34,
   "metadata": {},
   "outputs": [
    {
     "name": "stdout",
     "output_type": "stream",
     "text": [
      "Training Accuracy :  0.7638624119353502\n"
     ]
    }
   ],
   "source": [
    "svm_model.fit(x_train,y_train)\n",
    "print('Training Accuracy : ',svm_model.score(x_train,y_train))"
   ]
  },
  {
   "cell_type": "code",
   "execution_count": 35,
   "metadata": {},
   "outputs": [
    {
     "name": "stdout",
     "output_type": "stream",
     "text": [
      "Testing Accuracy :  0.7431223069274113\n"
     ]
    }
   ],
   "source": [
    "sv_pred=svm_model.predict(x_test)\n",
    "print('Testing Accuracy : ',svm_model.score(x_test,y_test))"
   ]
  },
  {
   "cell_type": "code",
   "execution_count": 36,
   "metadata": {},
   "outputs": [
    {
     "data": {
      "text/plain": [
       "array([[1324,  188],\n",
       "       [ 587,  918]], dtype=int64)"
      ]
     },
     "execution_count": 36,
     "metadata": {},
     "output_type": "execute_result"
    }
   ],
   "source": [
    "confusion_matrix(y_test,sv_pred)"
   ]
  },
  {
   "cell_type": "code",
   "execution_count": 37,
   "metadata": {},
   "outputs": [
    {
     "name": "stdout",
     "output_type": "stream",
     "text": [
      "              precision    recall  f1-score   support\n",
      "\n",
      "           0       0.69      0.88      0.77      1512\n",
      "           1       0.83      0.61      0.70      1505\n",
      "\n",
      "    accuracy                           0.74      3017\n",
      "   macro avg       0.76      0.74      0.74      3017\n",
      "weighted avg       0.76      0.74      0.74      3017\n",
      "\n",
      "\n",
      "Accuracy is :  0.7431223069274113\n",
      "Precission :  0.8300180831826401\n",
      "Recall :  0.6099667774086379\n",
      "f1-score :  0.7031788586748372\n",
      "Roc Auc score :  0.7428140765350068\n"
     ]
    }
   ],
   "source": [
    "print(classification_report(y_test,sv_pred))\n",
    "print()\n",
    "print('Accuracy is : ',accuracy_score(y_test,sv_pred))\n",
    "print('Precission : ',precision_score(y_test,sv_pred))\n",
    "print('Recall : ',recall_score(y_test,sv_pred))\n",
    "print('f1-score : ',f1_score(y_test,sv_pred))\n",
    "print('Roc Auc score : ',roc_auc_score(y_test,sv_pred))"
   ]
  },
  {
   "cell_type": "code",
   "execution_count": 38,
   "metadata": {},
   "outputs": [],
   "source": [
    "y_preds = svm_model.predict_proba(x_test)[:,1]"
   ]
  },
  {
   "cell_type": "code",
   "execution_count": 39,
   "metadata": {},
   "outputs": [
    {
     "name": "stdout",
     "output_type": "stream",
     "text": [
      "Area under the ROC curve :  0.8067653676457665\n"
     ]
    }
   ],
   "source": [
    "[fpr, tpr, thr] = roc_curve(y_test, y_preds)\n",
    "print('Area under the ROC curve : ',auc(fpr, tpr))"
   ]
  },
  {
   "cell_type": "code",
   "execution_count": 40,
   "metadata": {
    "scrolled": true
   },
   "outputs": [
    {
     "data": {
      "image/png": "[encoded data removed]",
      "text/plain": [
       "<Figure size 432x288 with 1 Axes>"
      ]
     },
     "metadata": {
      "needs_background": "light"
     },
     "output_type": "display_data"
    }
   ],
   "source": [
    "plt.figure()\n",
    "plt.plot(fpr, tpr, color='coral', label = 'ROC Curve with Area Under Curve = '+str(auc (fpr, tpr)))\n",
    "plt.title('ROC curve for SVM ',fontsize=15)\n",
    "plt.xlabel('False positive Rate (1 - specificity)')\n",
    "plt.ylabel('True Positive Rate ')\n",
    "plt.legend(loc='lower right')\n",
    "plt.show()"
   ]
  },
  {
   "cell_type": "code",
   "execution_count": 42,
   "metadata": {},
   "outputs": [],
   "source": [
    "Performance_with_over_sampled_data['SVM']=[accuracy_score(y_test,sv_pred),\n",
    "                                                                    precision_score(y_test,sv_pred),\n",
    "                                                                    recall_score(y_test,sv_pred),\n",
    "                                                                    f1_score(y_test,sv_pred),\n",
    "                                                                    auc(fpr, tpr)]"
   ]
  },
  {
   "cell_type": "markdown",
   "metadata": {},
   "source": [
    "# Decision Tree"
   ]
  },
  {
   "cell_type": "code",
   "execution_count": 43,
   "metadata": {},
   "outputs": [],
   "source": [
    "from sklearn.tree import DecisionTreeClassifier\n",
    "dt_model=DecisionTreeClassifier()"
   ]
  },
  {
   "cell_type": "code",
   "execution_count": 44,
   "metadata": {},
   "outputs": [
    {
     "name": "stdout",
     "output_type": "stream",
     "text": [
      "Training Accuracy :  0.9998342312474099\n"
     ]
    }
   ],
   "source": [
    "dt_model.fit(x_train,y_train)\n",
    "print('Training Accuracy : ',dt_model.score(x_train,y_train))"
   ]
  },
  {
   "cell_type": "code",
   "execution_count": 45,
   "metadata": {},
   "outputs": [
    {
     "name": "stdout",
     "output_type": "stream",
     "text": [
      "Testing Accuracy :  0.7381504806098773\n"
     ]
    }
   ],
   "source": [
    "dt_pred=dt_model.predict(x_test)\n",
    "print('Testing Accuracy : ',dt_model.score(x_test,y_test))"
   ]
  },
  {
   "cell_type": "code",
   "execution_count": 46,
   "metadata": {},
   "outputs": [
    {
     "data": {
      "text/plain": [
       "array([[1124,  388],\n",
       "       [ 402, 1103]], dtype=int64)"
      ]
     },
     "execution_count": 46,
     "metadata": {},
     "output_type": "execute_result"
    }
   ],
   "source": [
    "confusion_matrix(y_test,dt_pred)"
   ]
  },
  {
   "cell_type": "code",
   "execution_count": 47,
   "metadata": {},
   "outputs": [
    {
     "name": "stdout",
     "output_type": "stream",
     "text": [
      "              precision    recall  f1-score   support\n",
      "\n",
      "           0       0.74      0.74      0.74      1512\n",
      "           1       0.74      0.73      0.74      1505\n",
      "\n",
      "    accuracy                           0.74      3017\n",
      "   macro avg       0.74      0.74      0.74      3017\n",
      "weighted avg       0.74      0.74      0.74      3017\n",
      "\n",
      "\n",
      "Accuracy is :  0.7381504806098773\n",
      "Precission :  0.7397719651240778\n",
      "Recall :  0.7328903654485049\n",
      "f1-score :  0.7363150867823764\n",
      "Roc Auc score :  0.7381383044173742\n"
     ]
    }
   ],
   "source": [
    "print(classification_report(y_test,dt_pred))\n",
    "print()\n",
    "print('Accuracy is : ',accuracy_score(y_test,dt_pred))\n",
    "print('Precission : ',precision_score(y_test,dt_pred))\n",
    "print('Recall : ',recall_score(y_test,dt_pred))\n",
    "print('f1-score : ',f1_score(y_test,dt_pred))\n",
    "print('Roc Auc score : ',roc_auc_score(y_test,dt_pred))"
   ]
  },
  {
   "cell_type": "code",
   "execution_count": 48,
   "metadata": {},
   "outputs": [],
   "source": [
    "y_preds = dt_model.predict_proba(x_test)[:,1]"
   ]
  },
  {
   "cell_type": "code",
   "execution_count": 49,
   "metadata": {},
   "outputs": [
    {
     "name": "stdout",
     "output_type": "stream",
     "text": [
      "Area under the ROC curve :  0.7379616446061629\n"
     ]
    }
   ],
   "source": [
    "[fpr, tpr, thr] = roc_curve(y_test, y_preds)\n",
    "print('Area under the ROC curve : ',auc(fpr, tpr))"
   ]
  },
  {
   "cell_type": "code",
   "execution_count": 50,
   "metadata": {},
   "outputs": [
    {
     "data": {
      "image/png": "[encoded data removed]",
      "text/plain": [
       "<Figure size 432x288 with 1 Axes>"
      ]
     },
     "metadata": {
      "needs_background": "light"
     },
     "output_type": "display_data"
    }
   ],
   "source": [
    "plt.figure()\n",
    "plt.plot(fpr, tpr, color='coral', label = 'ROC Curve with Area Under Curve = '+str(auc (fpr, tpr)))\n",
    "plt.title('ROC curve for Decision Tree',fontsize=15)\n",
    "plt.xlabel('False positive Rate (1 - specificity)')\n",
    "plt.ylabel('True Positive Rate ')\n",
    "plt.legend(loc='lower right')\n",
    "plt.show()"
   ]
  },
  {
   "cell_type": "code",
   "execution_count": 52,
   "metadata": {},
   "outputs": [],
   "source": [
    "Performance_with_over_sampled_data['Decision Tree']=[accuracy_score(y_test,dt_pred),\n",
    "                                                                    precision_score(y_test,dt_pred),\n",
    "                                                                    recall_score(y_test,dt_pred),\n",
    "                                                                    f1_score(y_test,dt_pred),\n",
    "                                                                    auc(fpr, tpr)]"
   ]
  },
  {
   "cell_type": "markdown",
   "metadata": {},
   "source": [
    "# Random Forest"
   ]
  },
  {
   "cell_type": "code",
   "execution_count": 53,
   "metadata": {},
   "outputs": [],
   "source": [
    "from sklearn.ensemble import RandomForestClassifier\n",
    "rf_model=RandomForestClassifier()"
   ]
  },
  {
   "cell_type": "code",
   "execution_count": 54,
   "metadata": {},
   "outputs": [
    {
     "name": "stdout",
     "output_type": "stream",
     "text": [
      "Training Accuracy :  0.9998342312474099\n"
     ]
    }
   ],
   "source": [
    "rf_model.fit(x_train,y_train)\n",
    "print('Training Accuracy : ',rf_model.score(x_train,y_train))"
   ]
  },
  {
   "cell_type": "code",
   "execution_count": 55,
   "metadata": {},
   "outputs": [
    {
     "name": "stdout",
     "output_type": "stream",
     "text": [
      "Testing Accuracy :  0.760689426582698\n"
     ]
    }
   ],
   "source": [
    "rf_pred=rf_model.predict(x_test)\n",
    "print('Testing Accuracy : ',rf_model.score(x_test,y_test))"
   ]
  },
  {
   "cell_type": "code",
   "execution_count": 56,
   "metadata": {},
   "outputs": [
    {
     "data": {
      "text/plain": [
       "array([[1263,  249],\n",
       "       [ 473, 1032]], dtype=int64)"
      ]
     },
     "execution_count": 56,
     "metadata": {},
     "output_type": "execute_result"
    }
   ],
   "source": [
    "confusion_matrix(y_test,rf_pred)"
   ]
  },
  {
   "cell_type": "code",
   "execution_count": 57,
   "metadata": {},
   "outputs": [
    {
     "name": "stdout",
     "output_type": "stream",
     "text": [
      "              precision    recall  f1-score   support\n",
      "\n",
      "           0       0.73      0.84      0.78      1512\n",
      "           1       0.81      0.69      0.74      1505\n",
      "\n",
      "    accuracy                           0.76      3017\n",
      "   macro avg       0.77      0.76      0.76      3017\n",
      "weighted avg       0.77      0.76      0.76      3017\n",
      "\n",
      "\n",
      "Accuracy is :  0.760689426582698\n",
      "Precission :  0.8056206088992974\n",
      "Recall :  0.6857142857142857\n",
      "f1-score :  0.7408470926058865\n",
      "Roc Auc score :  0.760515873015873\n"
     ]
    }
   ],
   "source": [
    "print(classification_report(y_test,rf_pred))\n",
    "print()\n",
    "print('Accuracy is : ',accuracy_score(y_test,rf_pred))\n",
    "print('Precission : ',precision_score(y_test,rf_pred))\n",
    "print('Recall : ',recall_score(y_test,rf_pred))\n",
    "print('f1-score : ',f1_score(y_test,rf_pred))\n",
    "print('Roc Auc score : ',roc_auc_score(y_test,rf_pred))"
   ]
  },
  {
   "cell_type": "code",
   "execution_count": 58,
   "metadata": {},
   "outputs": [],
   "source": [
    "y_preds = rf_model.predict_proba(x_test)[:,1]"
   ]
  },
  {
   "cell_type": "code",
   "execution_count": 59,
   "metadata": {},
   "outputs": [
    {
     "name": "stdout",
     "output_type": "stream",
     "text": [
      "Area under the ROC curve :  0.8265578582854332\n"
     ]
    }
   ],
   "source": [
    "[fpr, tpr, thr] = roc_curve(y_test, y_preds)\n",
    "print('Area under the ROC curve : ',auc(fpr, tpr))"
   ]
  },
  {
   "cell_type": "code",
   "execution_count": 60,
   "metadata": {},
   "outputs": [
    {
     "data": {
      "image/png": "[encoded data removed]",
      "text/plain": [
       "<Figure size 432x288 with 1 Axes>"
      ]
     },
     "metadata": {
      "needs_background": "light"
     },
     "output_type": "display_data"
    }
   ],
   "source": [
    "plt.figure()\n",
    "plt.plot(fpr, tpr, color='coral', label = 'ROC Curve with Area Under Curve = '+str(auc (fpr, tpr)))\n",
    "plt.title('ROC curve for Random forest',fontsize=15)\n",
    "plt.xlabel('False positive Rate (1 - specificity)')\n",
    "plt.ylabel('True Positive Rate ')\n",
    "plt.legend(loc='lower right')\n",
    "plt.show()"
   ]
  },
  {
   "cell_type": "code",
   "execution_count": 62,
   "metadata": {},
   "outputs": [],
   "source": [
    "Performance_with_over_sampled_data['Random Forest']=[accuracy_score(y_test,rf_pred),\n",
    "                                                                    precision_score(y_test,rf_pred),\n",
    "                                                                    recall_score(y_test,rf_pred),\n",
    "                                                                    f1_score(y_test,rf_pred),\n",
    "                                                                    auc(fpr, tpr)]"
   ]
  },
  {
   "cell_type": "markdown",
   "metadata": {},
   "source": [
    "# KNN"
   ]
  },
  {
   "cell_type": "code",
   "execution_count": 63,
   "metadata": {},
   "outputs": [],
   "source": [
    "from sklearn.neighbors import KNeighborsClassifier\n",
    "knn_model=KNeighborsClassifier()"
   ]
  },
  {
   "cell_type": "code",
   "execution_count": 64,
   "metadata": {},
   "outputs": [
    {
     "name": "stdout",
     "output_type": "stream",
     "text": [
      "Training Accuracy :  0.8064649813510153\n"
     ]
    }
   ],
   "source": [
    "knn_model.fit(x_train,y_train)\n",
    "print('Training Accuracy : ',knn_model.score(x_train,y_train))"
   ]
  },
  {
   "cell_type": "code",
   "execution_count": 65,
   "metadata": {},
   "outputs": [
    {
     "name": "stdout",
     "output_type": "stream",
     "text": [
      "Testing Accuracy :  0.69804441498177\n"
     ]
    }
   ],
   "source": [
    "kn_pred=knn_model.predict(x_test)\n",
    "print('Testing Accuracy : ',knn_model.score(x_test,y_test))"
   ]
  },
  {
   "cell_type": "code",
   "execution_count": 66,
   "metadata": {},
   "outputs": [
    {
     "data": {
      "text/plain": [
       "array([[1081,  431],\n",
       "       [ 480, 1025]], dtype=int64)"
      ]
     },
     "execution_count": 66,
     "metadata": {},
     "output_type": "execute_result"
    }
   ],
   "source": [
    "confusion_matrix(y_test,kn_pred)"
   ]
  },
  {
   "cell_type": "code",
   "execution_count": 67,
   "metadata": {},
   "outputs": [
    {
     "name": "stdout",
     "output_type": "stream",
     "text": [
      "              precision    recall  f1-score   support\n",
      "\n",
      "           0       0.69      0.71      0.70      1512\n",
      "           1       0.70      0.68      0.69      1505\n",
      "\n",
      "    accuracy                           0.70      3017\n",
      "   macro avg       0.70      0.70      0.70      3017\n",
      "weighted avg       0.70      0.70      0.70      3017\n",
      "\n",
      "\n",
      "Accuracy is :  0.69804441498177\n",
      "Precission :  0.7039835164835165\n",
      "Recall :  0.6810631229235881\n",
      "f1-score :  0.6923336710570753\n",
      "Roc Auc score :  0.6980051064353391\n"
     ]
    }
   ],
   "source": [
    "print(classification_report(y_test,kn_pred))\n",
    "print()\n",
    "print('Accuracy is : ',accuracy_score(y_test,kn_pred))\n",
    "print('Precission : ',precision_score(y_test,kn_pred))\n",
    "print('Recall : ',recall_score(y_test,kn_pred))\n",
    "print('f1-score : ',f1_score(y_test,kn_pred))\n",
    "print('Roc Auc score : ',roc_auc_score(y_test,kn_pred))"
   ]
  },
  {
   "cell_type": "code",
   "execution_count": 68,
   "metadata": {},
   "outputs": [
    {
     "name": "stdout",
     "output_type": "stream",
     "text": [
      "Area under the ROC curve :  0.7659242120620858\n"
     ]
    }
   ],
   "source": [
    "y_preds = knn_model.predict_proba(x_test)[:,1]\n",
    "[fpr, tpr, thr] = roc_curve(y_test, y_preds)\n",
    "print('Area under the ROC curve : ',auc(fpr, tpr))"
   ]
  },
  {
   "cell_type": "code",
   "execution_count": 69,
   "metadata": {},
   "outputs": [
    {
     "data": {
      "image/png": "[encoded data removed]",
      "text/plain": [
       "<Figure size 432x288 with 1 Axes>"
      ]
     },
     "metadata": {
      "needs_background": "light"
     },
     "output_type": "display_data"
    }
   ],
   "source": [
    "plt.figure()\n",
    "plt.plot(fpr, tpr, color='coral', label = 'ROC Curve with Area Under Curve = '+str(auc (fpr, tpr)))\n",
    "plt.title('ROC curve for KNN',fontsize=15)\n",
    "plt.xlabel('False positive Rate (1 - specificity)')\n",
    "plt.ylabel('True Positive Rate ')\n",
    "plt.legend(loc='lower right')\n",
    "plt.show()"
   ]
  },
  {
   "cell_type": "code",
   "execution_count": 70,
   "metadata": {},
   "outputs": [],
   "source": [
    "Performance_with_over_sampled_data['KNN']=[accuracy_score(y_test,kn_pred),\n",
    "                                                                    precision_score(y_test,kn_pred),\n",
    "                                                                    recall_score(y_test,kn_pred),\n",
    "                                                                    f1_score(y_test,kn_pred),\n",
    "                                                                    auc(fpr, tpr)]"
   ]
  },
  {
   "cell_type": "markdown",
   "metadata": {},
   "source": [
    "# Adaboosting"
   ]
  },
  {
   "cell_type": "code",
   "execution_count": 71,
   "metadata": {},
   "outputs": [],
   "source": [
    "from sklearn.ensemble import AdaBoostClassifier\n",
    "adaboost=AdaBoostClassifier()"
   ]
  },
  {
   "cell_type": "code",
   "execution_count": 72,
   "metadata": {},
   "outputs": [
    {
     "name": "stdout",
     "output_type": "stream",
     "text": [
      "Training Accuracy :  0.764774140074596\n"
     ]
    }
   ],
   "source": [
    "adaboost.fit(x_train,y_train)\n",
    "print('Training Accuracy : ',adaboost.score(x_train,y_train))"
   ]
  },
  {
   "cell_type": "code",
   "execution_count": 73,
   "metadata": {},
   "outputs": [
    {
     "name": "stdout",
     "output_type": "stream",
     "text": [
      "Testing Accuracy :  0.749088498508452\n"
     ]
    }
   ],
   "source": [
    "ad_pred=adaboost.predict(x_test)\n",
    "print('Testing Accuracy : ',adaboost.score(x_test,y_test))"
   ]
  },
  {
   "cell_type": "code",
   "execution_count": 74,
   "metadata": {},
   "outputs": [
    {
     "data": {
      "text/plain": [
       "array([[1337,  175],\n",
       "       [ 582,  923]], dtype=int64)"
      ]
     },
     "execution_count": 74,
     "metadata": {},
     "output_type": "execute_result"
    }
   ],
   "source": [
    "confusion_matrix(y_test,ad_pred)"
   ]
  },
  {
   "cell_type": "code",
   "execution_count": 75,
   "metadata": {},
   "outputs": [
    {
     "name": "stdout",
     "output_type": "stream",
     "text": [
      "              precision    recall  f1-score   support\n",
      "\n",
      "           0       0.70      0.88      0.78      1512\n",
      "           1       0.84      0.61      0.71      1505\n",
      "\n",
      "    accuracy                           0.75      3017\n",
      "   macro avg       0.77      0.75      0.74      3017\n",
      "weighted avg       0.77      0.75      0.74      3017\n",
      "\n",
      "\n",
      "Accuracy is :  0.749088498508452\n",
      "Precission :  0.8406193078324226\n",
      "Recall :  0.6132890365448505\n",
      "f1-score :  0.7091817134076065\n",
      "Roc Auc score :  0.7487741479020549\n"
     ]
    }
   ],
   "source": [
    "print(classification_report(y_test,ad_pred))\n",
    "print()\n",
    "print('Accuracy is : ',accuracy_score(y_test,ad_pred))\n",
    "print('Precission : ',precision_score(y_test,ad_pred))\n",
    "print('Recall : ',recall_score(y_test,ad_pred))\n",
    "print('f1-score : ',f1_score(y_test,ad_pred))\n",
    "print('Roc Auc score : ',roc_auc_score(y_test,ad_pred))"
   ]
  },
  {
   "cell_type": "code",
   "execution_count": 76,
   "metadata": {},
   "outputs": [
    {
     "name": "stdout",
     "output_type": "stream",
     "text": [
      "Area under the ROC curve :  0.8088589182443002\n"
     ]
    }
   ],
   "source": [
    "y_preds = adaboost.predict_proba(x_test)[:,1]\n",
    "[fpr, tpr, thr] = roc_curve(y_test, y_preds)\n",
    "print('Area under the ROC curve : ',auc(fpr, tpr))"
   ]
  },
  {
   "cell_type": "code",
   "execution_count": 77,
   "metadata": {},
   "outputs": [
    {
     "data": {
      "image/png": "[encoded data removed]",
      "text/plain": [
       "<Figure size 432x288 with 1 Axes>"
      ]
     },
     "metadata": {
      "needs_background": "light"
     },
     "output_type": "display_data"
    }
   ],
   "source": [
    "plt.figure()\n",
    "plt.plot(fpr, tpr, color='coral', label = 'ROC Curve with Area Under Curve = '+str(auc (fpr, tpr)))\n",
    "plt.title('ROC curve for Adaboost',fontsize=15)\n",
    "plt.xlabel('False positive Rate (1 - specificity)')\n",
    "plt.ylabel('True Positive Rate ')\n",
    "plt.legend(loc='lower right')\n",
    "plt.show()"
   ]
  },
  {
   "cell_type": "code",
   "execution_count": 78,
   "metadata": {},
   "outputs": [],
   "source": [
    "Performance_with_over_sampled_data['Adaboosting']=[accuracy_score(y_test,ad_pred),\n",
    "                                                                    precision_score(y_test,ad_pred),\n",
    "                                                                    recall_score(y_test,ad_pred),\n",
    "                                                                    f1_score(y_test,ad_pred),\n",
    "                                                                    auc(fpr, tpr)]"
   ]
  },
  {
   "cell_type": "markdown",
   "metadata": {},
   "source": [
    "# Gradient Boosting"
   ]
  },
  {
   "cell_type": "code",
   "execution_count": 79,
   "metadata": {},
   "outputs": [],
   "source": [
    "from sklearn.ensemble import GradientBoostingClassifier\n",
    "gb_model=GradientBoostingClassifier()"
   ]
  },
  {
   "cell_type": "code",
   "execution_count": 80,
   "metadata": {},
   "outputs": [
    {
     "name": "stdout",
     "output_type": "stream",
     "text": [
      "Training Accuracy :  0.7870700372979693\n"
     ]
    }
   ],
   "source": [
    "gb_model.fit(x_train,y_train)\n",
    "print('Training Accuracy : ',gb_model.score(x_train,y_train))"
   ]
  },
  {
   "cell_type": "code",
   "execution_count": 81,
   "metadata": {},
   "outputs": [
    {
     "name": "stdout",
     "output_type": "stream",
     "text": [
      "Testing Accuracy :  0.76731852833941\n"
     ]
    }
   ],
   "source": [
    "gb_pred=gb_model.predict(x_test)\n",
    "print('Testing Accuracy : ',gb_model.score(x_test,y_test))"
   ]
  },
  {
   "cell_type": "code",
   "execution_count": 82,
   "metadata": {},
   "outputs": [
    {
     "data": {
      "text/plain": [
       "array([[1397,  115],\n",
       "       [ 587,  918]], dtype=int64)"
      ]
     },
     "execution_count": 82,
     "metadata": {},
     "output_type": "execute_result"
    }
   ],
   "source": [
    "confusion_matrix(y_test,gb_pred)"
   ]
  },
  {
   "cell_type": "code",
   "execution_count": 83,
   "metadata": {},
   "outputs": [
    {
     "name": "stdout",
     "output_type": "stream",
     "text": [
      "              precision    recall  f1-score   support\n",
      "\n",
      "           0       0.70      0.92      0.80      1512\n",
      "           1       0.89      0.61      0.72      1505\n",
      "\n",
      "    accuracy                           0.77      3017\n",
      "   macro avg       0.80      0.77      0.76      3017\n",
      "weighted avg       0.80      0.77      0.76      3017\n",
      "\n",
      "\n",
      "Accuracy is :  0.76731852833941\n",
      "Precission :  0.888673765730881\n",
      "Recall :  0.6099667774086379\n",
      "f1-score :  0.7234042553191489\n",
      "Roc Auc score :  0.7669542881752185\n"
     ]
    }
   ],
   "source": [
    "print(classification_report(y_test,gb_pred))\n",
    "print()\n",
    "print('Accuracy is : ',accuracy_score(y_test,gb_pred))\n",
    "print('Precission : ',precision_score(y_test,gb_pred))\n",
    "print('Recall : ',recall_score(y_test,gb_pred))\n",
    "print('f1-score : ',f1_score(y_test,gb_pred))\n",
    "print('Roc Auc score : ',roc_auc_score(y_test,gb_pred))"
   ]
  },
  {
   "cell_type": "code",
   "execution_count": 84,
   "metadata": {},
   "outputs": [
    {
     "name": "stdout",
     "output_type": "stream",
     "text": [
      "Area under the ROC curve :  0.8211644606162879\n"
     ]
    }
   ],
   "source": [
    "y_preds = gb_model.predict_proba(x_test)[:,1]\n",
    "[fpr, tpr, thr] = roc_curve(y_test, y_preds)\n",
    "print('Area under the ROC curve : ',auc(fpr, tpr))"
   ]
  },
  {
   "cell_type": "code",
   "execution_count": 85,
   "metadata": {},
   "outputs": [
    {
     "data": {
      "image/png": "[encoded data removed]",
      "text/plain": [
       "<Figure size 432x288 with 1 Axes>"
      ]
     },
     "metadata": {
      "needs_background": "light"
     },
     "output_type": "display_data"
    }
   ],
   "source": [
    "plt.figure()\n",
    "plt.plot(fpr, tpr, color='coral', label = 'ROC Curve with Area Under Curve = '+str(auc (fpr, tpr)))\n",
    "plt.title('ROC curve for Gradient Boosting',fontsize=15)\n",
    "plt.xlabel('False positive Rate (1 - specificity)')\n",
    "plt.ylabel('True Positive Rate ')\n",
    "plt.legend(loc='lower right')\n",
    "plt.show()"
   ]
  },
  {
   "cell_type": "code",
   "execution_count": 86,
   "metadata": {},
   "outputs": [],
   "source": [
    "Performance_with_over_sampled_data['Gradient Boosting']=[accuracy_score(y_test,gb_pred),\n",
    "                                                                    precision_score(y_test,gb_pred),\n",
    "                                                                    recall_score(y_test,gb_pred),\n",
    "                                                                    f1_score(y_test,gb_pred),\n",
    "                                                                    auc(fpr, tpr)]"
   ]
  },
  {
   "cell_type": "markdown",
   "metadata": {},
   "source": [
    "# Comparing performance"
   ]
  },
  {
   "cell_type": "code",
   "execution_count": 87,
   "metadata": {
    "scrolled": true
   },
   "outputs": [
    {
     "data": {
      "text/html": [
       "<div>\n",
       "<style scoped>\n",
       "    .dataframe tbody tr th:only-of-type {\n",
       "        vertical-align: middle;\n",
       "    }\n",
       "\n",
       "    .dataframe tbody tr th {\n",
       "        vertical-align: top;\n",
       "    }\n",
       "\n",
       "    .dataframe thead th {\n",
       "        text-align: right;\n",
       "    }\n",
       "</style>\n",
       "<table border=\"1\" class=\"dataframe\">\n",
       "  <thead>\n",
       "    <tr style=\"text-align: right;\">\n",
       "      <th></th>\n",
       "      <th>Logistic Regression</th>\n",
       "      <th>SVM</th>\n",
       "      <th>Decision Tree</th>\n",
       "      <th>Random Forest</th>\n",
       "      <th>KNN</th>\n",
       "      <th>Adaboosting</th>\n",
       "      <th>Gradient Boosting</th>\n",
       "    </tr>\n",
       "  </thead>\n",
       "  <tbody>\n",
       "    <tr>\n",
       "      <th>Accuracy</th>\n",
       "      <td>0.698376</td>\n",
       "      <td>0.743122</td>\n",
       "      <td>0.738150</td>\n",
       "      <td>0.760689</td>\n",
       "      <td>0.698044</td>\n",
       "      <td>0.749088</td>\n",
       "      <td>0.767319</td>\n",
       "    </tr>\n",
       "    <tr>\n",
       "      <th>Precision</th>\n",
       "      <td>0.716995</td>\n",
       "      <td>0.830018</td>\n",
       "      <td>0.739772</td>\n",
       "      <td>0.805621</td>\n",
       "      <td>0.703984</td>\n",
       "      <td>0.840619</td>\n",
       "      <td>0.888674</td>\n",
       "    </tr>\n",
       "    <tr>\n",
       "      <th>Recall</th>\n",
       "      <td>0.653156</td>\n",
       "      <td>0.609967</td>\n",
       "      <td>0.732890</td>\n",
       "      <td>0.685714</td>\n",
       "      <td>0.681063</td>\n",
       "      <td>0.613289</td>\n",
       "      <td>0.609967</td>\n",
       "    </tr>\n",
       "    <tr>\n",
       "      <th>F1_score</th>\n",
       "      <td>0.683588</td>\n",
       "      <td>0.703179</td>\n",
       "      <td>0.736315</td>\n",
       "      <td>0.740847</td>\n",
       "      <td>0.692334</td>\n",
       "      <td>0.709182</td>\n",
       "      <td>0.723404</td>\n",
       "    </tr>\n",
       "    <tr>\n",
       "      <th>AUC</th>\n",
       "      <td>0.759152</td>\n",
       "      <td>0.806765</td>\n",
       "      <td>0.737962</td>\n",
       "      <td>0.826558</td>\n",
       "      <td>0.765924</td>\n",
       "      <td>0.808859</td>\n",
       "      <td>0.821164</td>\n",
       "    </tr>\n",
       "  </tbody>\n",
       "</table>\n",
       "</div>"
      ],
      "text/plain": [
       "           Logistic Regression       SVM  Decision Tree  Random Forest  \\\n",
       "Accuracy              0.698376  0.743122       0.738150       0.760689   \n",
       "Precision             0.716995  0.830018       0.739772       0.805621   \n",
       "Recall                0.653156  0.609967       0.732890       0.685714   \n",
       "F1_score              0.683588  0.703179       0.736315       0.740847   \n",
       "AUC                   0.759152  0.806765       0.737962       0.826558   \n",
       "\n",
       "                KNN  Adaboosting  Gradient Boosting  \n",
       "Accuracy   0.698044     0.749088           0.767319  \n",
       "Precision  0.703984     0.840619           0.888674  \n",
       "Recall     0.681063     0.613289           0.609967  \n",
       "F1_score   0.692334     0.709182           0.723404  \n",
       "AUC        0.765924     0.808859           0.821164  "
      ]
     },
     "execution_count": 87,
     "metadata": {},
     "output_type": "execute_result"
    }
   ],
   "source": [
    "Performance_with_over_sampled_data"
   ]
  },
  {
   "cell_type": "code",
   "execution_count": 89,
   "metadata": {},
   "outputs": [
    {
     "data": {
      "image/png": "[encoded data removed]",
      "text/plain": [
       "<Figure size 1440x720 with 1 Axes>"
      ]
     },
     "metadata": {
      "needs_background": "light"
     },
     "output_type": "display_data"
    }
   ],
   "source": [
    "x = np.array([\"Logistic_Reg\",\"SVM\", \"KNN\", \"Decision_Tree\", \"Random_Forest\", \"Gradient_Boosting\", \"AdaBoost\"])\n",
    "y = np.array([0.698376,0.743122,0.698044,0.738150,0.760689,0.767319,0.749088])\n",
    "width = 0.6\n",
    "plt.figure(figsize=[20,10])\n",
    "plt.bar(x,y,width)\n",
    "plt.xlabel('Models')\n",
    "plt.ylabel('Accuracy')\n",
    "plt.title('Accuracy of Different Algorithms using default')\n",
    "plt.show()"
   ]
  },
  {
   "cell_type": "markdown",
   "metadata": {},
   "source": [
    "## Observation \n",
    "here we observe that the Gradient_Boosting Model having good accuracy"
   ]
  },
  {
   "cell_type": "code",
   "execution_count": null,
   "metadata": {},
   "outputs": [],
   "source": []
  },
  {
   "cell_type": "markdown",
   "metadata": {},
   "source": [
    "# Feature Selection using RFE, Feature Transformation"
   ]
  },
  {
   "cell_type": "code",
   "execution_count": 90,
   "metadata": {},
   "outputs": [],
   "source": [
    "from sklearn.feature_selection import RFE"
   ]
  },
  {
   "cell_type": "code",
   "execution_count": 91,
   "metadata": {},
   "outputs": [],
   "source": [
    "performance_metrics_with_selected_features=pd.DataFrame(index=['Accuracy','Precision','Recall','F1_score','AUC'])"
   ]
  },
  {
   "cell_type": "markdown",
   "metadata": {},
   "source": [
    "# Logistic Regression"
   ]
  },
  {
   "cell_type": "code",
   "execution_count": 92,
   "metadata": {},
   "outputs": [],
   "source": [
    "selector=RFE(estimator=LogisticRegression(max_iter=10000,solver='saga',penalty='l2',C=0.8383838383838385))\n",
    "selector=selector.fit(predicts,response)\n",
    "selected_features=predicts.columns[np.where(selector.get_support()==True)]\n",
    "x_train,x_test,y_train,y_test=train_test_split(predicts[selected_features],response,test_size=0.2)"
   ]
  },
  {
   "cell_type": "code",
   "execution_count": 92,
   "metadata": {},
   "outputs": [
    {
     "data": {
      "text/plain": [
       "array([[261, 252],\n",
       "       [184, 287]], dtype=int64)"
      ]
     },
     "execution_count": 92,
     "metadata": {},
     "output_type": "execute_result"
    }
   ],
   "source": [
    "LR_final_model=LogisticRegression(max_iter=10000,solver='saga',penalty='l2',C=0.8383838383838385)\n",
    "LR_final_model.fit(x_train,y_train)\n",
    "lg_pred=LR_final_model.predict(x_test)\n",
    "y_preds=LR_final_model.predict_proba(x_test)[:,1]\n",
    "\n",
    "\n",
    "confusion_matrix(y_test,lg_pred)"
   ]
  },
  {
   "cell_type": "code",
   "execution_count": 93,
   "metadata": {},
   "outputs": [
    {
     "name": "stdout",
     "output_type": "stream",
     "text": [
      "              precision    recall  f1-score   support\n",
      "\n",
      "           0       0.59      0.51      0.54       513\n",
      "           1       0.53      0.61      0.57       471\n",
      "\n",
      "    accuracy                           0.56       984\n",
      "   macro avg       0.56      0.56      0.56       984\n",
      "weighted avg       0.56      0.56      0.56       984\n",
      "\n",
      "\n",
      "Accuracy is :  0.556910569105691\n",
      "Precission :  0.5324675324675324\n",
      "Recall :  0.6093418259023354\n",
      "f1-score :  0.5683168316831683\n",
      "Roc Auc score :  0.5590568778634485\n"
     ]
    }
   ],
   "source": [
    "print(classification_report(y_test,lg_pred))\n",
    "print()\n",
    "print('Accuracy is : ',accuracy_score(y_test,lg_pred))\n",
    "print('Precission : ',precision_score(y_test,lg_pred))\n",
    "print('Recall : ',recall_score(y_test,lg_pred))\n",
    "print('f1-score : ',f1_score(y_test,lg_pred))\n",
    "print('Roc Auc score : ',roc_auc_score(y_test,lg_pred))"
   ]
  },
  {
   "cell_type": "code",
   "execution_count": 94,
   "metadata": {},
   "outputs": [
    {
     "name": "stdout",
     "output_type": "stream",
     "text": [
      "Area under the ROC curve :  0.5865832309010319\n"
     ]
    }
   ],
   "source": [
    "[fpr, tpr, thr] = roc_curve(y_test, y_preds)\n",
    "print('Area under the ROC curve : ',auc(fpr, tpr))"
   ]
  },
  {
   "cell_type": "code",
   "execution_count": 95,
   "metadata": {},
   "outputs": [
    {
     "data": {
      "image/png": "[encoded data removed]",
      "text/plain": [
       "<Figure size 432x288 with 1 Axes>"
      ]
     },
     "metadata": {
      "needs_background": "light"
     },
     "output_type": "display_data"
    }
   ],
   "source": [
    "plt.figure()\n",
    "plt.plot(fpr, tpr, color='coral', label = 'ROC Curve with Area Under Curve = '+str(auc (fpr, tpr)))\n",
    "plt.title('ROC curve for Logistic Regression ',fontsize=15)\n",
    "plt.xlabel('False positive Rate (1 - specificity)')\n",
    "plt.ylabel('True Positive Rate ')\n",
    "plt.legend(loc='lower right')\n",
    "plt.show()"
   ]
  },
  {
   "cell_type": "code",
   "execution_count": 143,
   "metadata": {},
   "outputs": [],
   "source": [
    "performance_metrics_with_selected_features['Logistic Regression']=[accuracy_score(y_test,lg_pred),\n",
    "                                                                    precision_score(y_test,lg_pred),\n",
    "                                                                    recall_score(y_test,lg_pred),\n",
    "                                                                    f1_score(y_test,lg_pred),\n",
    "                                                                    auc(fpr, tpr)]"
   ]
  },
  {
   "cell_type": "markdown",
   "metadata": {},
   "source": [
    "# SVM"
   ]
  },
  {
   "cell_type": "code",
   "execution_count": 97,
   "metadata": {},
   "outputs": [],
   "source": [
    "selector=RFE(estimator=SVC(probability=True,kernel='linear',gamma='auto',C=0.9090909090909092),importance_getter='coef_')\n",
    "selector=selector.fit(predicts,response)\n",
    "selected_features=predicts.columns[np.where(selector.get_support()==True)]\n",
    "x_train,x_test,y_train,y_test=train_test_split(predicts[selected_features],response,test_size=0.2)"
   ]
  },
  {
   "cell_type": "code",
   "execution_count": 98,
   "metadata": {},
   "outputs": [],
   "source": [
    "svm_final_model=SVC(probability=True,kernel='linear',gamma='auto',C=0.9090909090909092)\n",
    "svm_final_model.fit(x_train,y_train)\n",
    "sv_pred=svm_final_model.predict(x_test)\n",
    "y_preds=svm_final_model.predict_proba(x_test)[:,1]"
   ]
  },
  {
   "cell_type": "code",
   "execution_count": 99,
   "metadata": {},
   "outputs": [
    {
     "data": {
      "text/plain": [
       "array([[110, 379],\n",
       "       [ 59, 436]], dtype=int64)"
      ]
     },
     "execution_count": 99,
     "metadata": {},
     "output_type": "execute_result"
    }
   ],
   "source": [
    "confusion_matrix(y_test,sv_pred)"
   ]
  },
  {
   "cell_type": "code",
   "execution_count": 100,
   "metadata": {},
   "outputs": [
    {
     "name": "stdout",
     "output_type": "stream",
     "text": [
      "              precision    recall  f1-score   support\n",
      "\n",
      "           0       0.65      0.22      0.33       489\n",
      "           1       0.53      0.88      0.67       495\n",
      "\n",
      "    accuracy                           0.55       984\n",
      "   macro avg       0.59      0.55      0.50       984\n",
      "weighted avg       0.59      0.55      0.50       984\n",
      "\n",
      "\n",
      "Accuracy is :  0.5548780487804879\n",
      "Precission :  0.5349693251533743\n",
      "Recall :  0.8808080808080808\n",
      "f1-score :  0.6656488549618321\n",
      "Roc Auc score :  0.5528784780318522\n"
     ]
    }
   ],
   "source": [
    "print(classification_report(y_test,sv_pred))\n",
    "print()\n",
    "print('Accuracy is : ',accuracy_score(y_test,sv_pred))\n",
    "print('Precission : ',precision_score(y_test,sv_pred))\n",
    "print('Recall : ',recall_score(y_test,sv_pred))\n",
    "print('f1-score : ',f1_score(y_test,sv_pred))\n",
    "print('Roc Auc score : ',roc_auc_score(y_test,sv_pred))"
   ]
  },
  {
   "cell_type": "code",
   "execution_count": 101,
   "metadata": {},
   "outputs": [
    {
     "name": "stdout",
     "output_type": "stream",
     "text": [
      "Area under the ROC curve :  0.5815888950858276\n"
     ]
    }
   ],
   "source": [
    "[fpr, tpr, thr] = roc_curve(y_test, y_preds)\n",
    "print('Area under the ROC curve : ',auc(fpr, tpr))"
   ]
  },
  {
   "cell_type": "code",
   "execution_count": 102,
   "metadata": {},
   "outputs": [
    {
     "data": {
      "image/png": "[encoded data removed]",
      "text/plain": [
       "<Figure size 432x288 with 1 Axes>"
      ]
     },
     "metadata": {
      "needs_background": "light"
     },
     "output_type": "display_data"
    }
   ],
   "source": [
    "plt.figure()\n",
    "plt.plot(fpr, tpr, color='coral', label = 'ROC Curve with Area Under Curve = '+str(auc (fpr, tpr)))\n",
    "plt.title('ROC curve for SVM ',fontsize=15)\n",
    "plt.xlabel('False positive Rate (1 - specificity)')\n",
    "plt.ylabel('True Positive Rate ')\n",
    "plt.legend(loc='lower right')\n",
    "plt.show()"
   ]
  },
  {
   "cell_type": "code",
   "execution_count": 144,
   "metadata": {},
   "outputs": [],
   "source": [
    "performance_metrics_with_selected_features['SVM']=[accuracy_score(y_test,sv_pred),\n",
    "                                                                    precision_score(y_test,sv_pred),\n",
    "                                                                    recall_score(y_test,sv_pred),\n",
    "                                                                    f1_score(y_test,sv_pred),\n",
    "                                                                    auc(fpr, tpr)]"
   ]
  },
  {
   "cell_type": "markdown",
   "metadata": {},
   "source": [
    "# KNN"
   ]
  },
  {
   "cell_type": "code",
   "execution_count": 105,
   "metadata": {},
   "outputs": [],
   "source": [
    "knn_final_model=KNeighborsClassifier(weights='distance',n_neighbors=9,metric='euclidean')\n",
    "knn_final_model.fit(x_train,y_train)\n",
    "kn_pred=knn_final_model.predict(x_test)\n",
    "y_preds=knn_final_model.predict_proba(x_test)[:,1]"
   ]
  },
  {
   "cell_type": "code",
   "execution_count": 106,
   "metadata": {},
   "outputs": [
    {
     "data": {
      "text/plain": [
       "array([[350, 139],\n",
       "       [310, 185]], dtype=int64)"
      ]
     },
     "execution_count": 106,
     "metadata": {},
     "output_type": "execute_result"
    }
   ],
   "source": [
    "confusion_matrix(y_test,kn_pred)"
   ]
  },
  {
   "cell_type": "code",
   "execution_count": 107,
   "metadata": {},
   "outputs": [
    {
     "name": "stdout",
     "output_type": "stream",
     "text": [
      "              precision    recall  f1-score   support\n",
      "\n",
      "           0       0.53      0.72      0.61       489\n",
      "           1       0.57      0.37      0.45       495\n",
      "\n",
      "    accuracy                           0.54       984\n",
      "   macro avg       0.55      0.54      0.53       984\n",
      "weighted avg       0.55      0.54      0.53       984\n",
      "\n",
      "\n",
      "Accuracy is :  0.5436991869918699\n",
      "Precission :  0.5709876543209876\n",
      "Recall :  0.37373737373737376\n",
      "f1-score :  0.4517704517704517\n",
      "Roc Auc score :  0.5447418975026337\n"
     ]
    }
   ],
   "source": [
    "print(classification_report(y_test,kn_pred))\n",
    "print()\n",
    "print('Accuracy is : ',accuracy_score(y_test,kn_pred))\n",
    "print('Precission : ',precision_score(y_test,kn_pred))\n",
    "print('Recall : ',recall_score(y_test,kn_pred))\n",
    "print('f1-score : ',f1_score(y_test,kn_pred))\n",
    "print('Roc Auc score : ',roc_auc_score(y_test,kn_pred))"
   ]
  },
  {
   "cell_type": "code",
   "execution_count": 108,
   "metadata": {},
   "outputs": [
    {
     "name": "stdout",
     "output_type": "stream",
     "text": [
      "Area under the ROC curve :  0.5386936853194522\n"
     ]
    }
   ],
   "source": [
    "[fpr, tpr, thr] = roc_curve(y_test, y_preds)\n",
    "print('Area under the ROC curve : ',auc(fpr, tpr))"
   ]
  },
  {
   "cell_type": "code",
   "execution_count": 109,
   "metadata": {},
   "outputs": [
    {
     "data": {
      "image/png": "[encoded data removed]",
      "text/plain": [
       "<Figure size 432x288 with 1 Axes>"
      ]
     },
     "metadata": {
      "needs_background": "light"
     },
     "output_type": "display_data"
    }
   ],
   "source": [
    "plt.figure()\n",
    "plt.plot(fpr, tpr, color='coral', label = 'ROC Curve with Area Under Curve = '+str(auc (fpr, tpr)))\n",
    "plt.title('ROC curve for KNN ',fontsize=15)\n",
    "plt.xlabel('False positive Rate (1 - specificity)')\n",
    "plt.ylabel('True Positive Rate ')\n",
    "plt.legend(loc='lower right')\n",
    "plt.show()"
   ]
  },
  {
   "cell_type": "code",
   "execution_count": 145,
   "metadata": {},
   "outputs": [],
   "source": [
    "performance_metrics_with_selected_features['KNN']=[accuracy_score(y_test,kn_pred),\n",
    "                                                                    precision_score(y_test,kn_pred),\n",
    "                                                                    recall_score(y_test,kn_pred),\n",
    "                                                                    f1_score(y_test,kn_pred),\n",
    "                                                                    auc(fpr, tpr)]"
   ]
  },
  {
   "cell_type": "markdown",
   "metadata": {},
   "source": [
    "# Decision Tree"
   ]
  },
  {
   "cell_type": "code",
   "execution_count": 112,
   "metadata": {},
   "outputs": [],
   "source": [
    "selector=RFE(estimator=DecisionTreeClassifier(splitter= 'random',\n",
    "                                     min_samples_split= 20,\n",
    "                                     max_leaf_nodes=30,\n",
    "                                     max_features= 'sqrt',\n",
    "                                     max_depth=15,\n",
    "                                     criterion= 'entropy'))\n",
    "selector=selector.fit(predicts,response)\n",
    "selected_features=predicts.columns[np.where(selector.get_support()==True)]\n",
    "x_train,x_test,y_train,y_test=train_test_split(predicts[selected_features],response,test_size=0.2)"
   ]
  },
  {
   "cell_type": "code",
   "execution_count": 113,
   "metadata": {},
   "outputs": [],
   "source": [
    "dt_final_model=DecisionTreeClassifier(splitter= 'random',\n",
    "                                     min_samples_split= 20,\n",
    "                                     max_leaf_nodes=30,\n",
    "                                     max_features= 'sqrt',\n",
    "                                     max_depth=15,\n",
    "                                     criterion= 'entropy')\n",
    "dt_final_model.fit(x_train,y_train)\n",
    "dt_pred=dt_final_model.predict(x_test)\n",
    "y_preds=dt_final_model.predict_proba(x_test)[:,1]"
   ]
  },
  {
   "cell_type": "code",
   "execution_count": 114,
   "metadata": {},
   "outputs": [
    {
     "data": {
      "text/plain": [
       "array([[398,  94],\n",
       "       [335, 157]], dtype=int64)"
      ]
     },
     "execution_count": 114,
     "metadata": {},
     "output_type": "execute_result"
    }
   ],
   "source": [
    "confusion_matrix(y_test,dt_pred)"
   ]
  },
  {
   "cell_type": "code",
   "execution_count": 115,
   "metadata": {},
   "outputs": [
    {
     "name": "stdout",
     "output_type": "stream",
     "text": [
      "              precision    recall  f1-score   support\n",
      "\n",
      "           0       0.54      0.81      0.65       492\n",
      "           1       0.63      0.32      0.42       492\n",
      "\n",
      "    accuracy                           0.56       984\n",
      "   macro avg       0.58      0.56      0.54       984\n",
      "weighted avg       0.58      0.56      0.54       984\n",
      "\n",
      "\n",
      "Accuracy is :  0.5640243902439024\n",
      "Precission :  0.6254980079681275\n",
      "Recall :  0.31910569105691056\n",
      "f1-score :  0.4226110363391655\n",
      "Roc Auc score :  0.5640243902439024\n"
     ]
    }
   ],
   "source": [
    "print(classification_report(y_test,dt_pred))\n",
    "print()\n",
    "print('Accuracy is : ',accuracy_score(y_test,dt_pred))\n",
    "print('Precission : ',precision_score(y_test,dt_pred))\n",
    "print('Recall : ',recall_score(y_test,dt_pred))\n",
    "print('f1-score : ',f1_score(y_test,dt_pred))\n",
    "print('Roc Auc score : ',roc_auc_score(y_test,dt_pred))"
   ]
  },
  {
   "cell_type": "code",
   "execution_count": 116,
   "metadata": {},
   "outputs": [
    {
     "name": "stdout",
     "output_type": "stream",
     "text": [
      "Area under the ROC curve :  0.584950674201864\n"
     ]
    }
   ],
   "source": [
    "[fpr, tpr, thr] = roc_curve(y_test, y_preds)\n",
    "print('Area under the ROC curve : ',auc(fpr, tpr))"
   ]
  },
  {
   "cell_type": "code",
   "execution_count": 117,
   "metadata": {},
   "outputs": [
    {
     "data": {
      "image/png": "[encoded data removed]",
      "text/plain": [
       "<Figure size 432x288 with 1 Axes>"
      ]
     },
     "metadata": {
      "needs_background": "light"
     },
     "output_type": "display_data"
    }
   ],
   "source": [
    "plt.figure()\n",
    "plt.plot(fpr, tpr, color='coral', label = 'ROC Curve with Area Under Curve = '+str(auc (fpr, tpr)))\n",
    "plt.title('ROC curve for Decision Tree ',fontsize=15)\n",
    "plt.xlabel('False positive Rate (1 - specificity)')\n",
    "plt.ylabel('True Positive Rate ')\n",
    "plt.legend(loc='lower right')\n",
    "plt.show()"
   ]
  },
  {
   "cell_type": "code",
   "execution_count": 146,
   "metadata": {},
   "outputs": [],
   "source": [
    "performance_metrics_with_selected_features['Decision Tree']=[accuracy_score(y_test,dt_pred),\n",
    "                                                                    precision_score(y_test,dt_pred),\n",
    "                                                                    recall_score(y_test,dt_pred),\n",
    "                                                                    f1_score(y_test,dt_pred),\n",
    "                                                                    auc(fpr, tpr)]"
   ]
  },
  {
   "cell_type": "markdown",
   "metadata": {},
   "source": [
    "# Random Forest"
   ]
  },
  {
   "cell_type": "code",
   "execution_count": 119,
   "metadata": {},
   "outputs": [],
   "source": [
    "selector=RFE(estimator=RandomForestClassifier(n_estimators= 20,\n",
    "                                     min_samples_split=5,\n",
    "                                     max_leaf_nodes=80,\n",
    "                                     max_features= 'auto',\n",
    "                                     max_depth=20,\n",
    "                                     criterion= 'gini'))\n",
    "selector=selector.fit(predicts,response)\n",
    "selected_features=predicts.columns[np.where(selector.get_support()==True)]\n",
    "x_train,x_test,y_train,y_test=train_test_split(predicts[selected_features],response,test_size=0.2)"
   ]
  },
  {
   "cell_type": "code",
   "execution_count": 120,
   "metadata": {},
   "outputs": [],
   "source": [
    "rf_final_model=RandomForestClassifier(n_estimators= 20,\n",
    "                                     min_samples_split=5,\n",
    "                                     max_leaf_nodes=80,\n",
    "                                     max_features= 'auto',\n",
    "                                     max_depth=20,\n",
    "                                     criterion= 'gini')\n",
    "rf_final_model.fit(x_train,y_train)\n",
    "rf_pred=rf_final_model.predict(x_test)\n",
    "y_preds=rf_final_model.predict_proba(x_test)[:,1]"
   ]
  },
  {
   "cell_type": "code",
   "execution_count": 121,
   "metadata": {},
   "outputs": [
    {
     "data": {
      "text/plain": [
       "array([[243, 261],\n",
       "       [174, 306]], dtype=int64)"
      ]
     },
     "execution_count": 121,
     "metadata": {},
     "output_type": "execute_result"
    }
   ],
   "source": [
    "confusion_matrix(y_test,rf_pred)"
   ]
  },
  {
   "cell_type": "code",
   "execution_count": 122,
   "metadata": {},
   "outputs": [
    {
     "name": "stdout",
     "output_type": "stream",
     "text": [
      "              precision    recall  f1-score   support\n",
      "\n",
      "           0       0.58      0.48      0.53       504\n",
      "           1       0.54      0.64      0.58       480\n",
      "\n",
      "    accuracy                           0.56       984\n",
      "   macro avg       0.56      0.56      0.56       984\n",
      "weighted avg       0.56      0.56      0.56       984\n",
      "\n",
      "\n",
      "Accuracy is :  0.5579268292682927\n",
      "Precission :  0.5396825396825397\n",
      "Recall :  0.6375\n",
      "f1-score :  0.5845272206303723\n",
      "Roc Auc score :  0.5598214285714286\n"
     ]
    }
   ],
   "source": [
    "print(classification_report(y_test,rf_pred))\n",
    "print()\n",
    "print('Accuracy is : ',accuracy_score(y_test,rf_pred))\n",
    "print('Precission : ',precision_score(y_test,rf_pred))\n",
    "print('Recall : ',recall_score(y_test,rf_pred))\n",
    "print('f1-score : ',f1_score(y_test,rf_pred))\n",
    "print('Roc Auc score : ',roc_auc_score(y_test,rf_pred))"
   ]
  },
  {
   "cell_type": "code",
   "execution_count": 123,
   "metadata": {},
   "outputs": [
    {
     "name": "stdout",
     "output_type": "stream",
     "text": [
      "Area under the ROC curve :  0.576037533068783\n"
     ]
    }
   ],
   "source": [
    "[fpr, tpr, thr] = roc_curve(y_test, y_preds)\n",
    "print('Area under the ROC curve : ',auc(fpr, tpr))"
   ]
  },
  {
   "cell_type": "code",
   "execution_count": 124,
   "metadata": {},
   "outputs": [
    {
     "data": {
      "image/png": "[encoded data removed]",
      "text/plain": [
       "<Figure size 432x288 with 1 Axes>"
      ]
     },
     "metadata": {
      "needs_background": "light"
     },
     "output_type": "display_data"
    }
   ],
   "source": [
    "plt.figure()\n",
    "plt.plot(fpr, tpr, color='coral', label = 'ROC Curve with Area Under Curve = '+str(auc (fpr, tpr)))\n",
    "plt.title('ROC curve for Random forest ',fontsize=15)\n",
    "plt.xlabel('False positive Rate (1 - specificity)')\n",
    "plt.ylabel('True Positive Rate ')\n",
    "plt.legend(loc='lower right')\n",
    "plt.show()"
   ]
  },
  {
   "cell_type": "code",
   "execution_count": 147,
   "metadata": {},
   "outputs": [],
   "source": [
    "performance_metrics_with_selected_features['Random Forest']=[accuracy_score(y_test,rf_pred),\n",
    "                                                                    precision_score(y_test,rf_pred),\n",
    "                                                                    recall_score(y_test,rf_pred),\n",
    "                                                                    f1_score(y_test,rf_pred),\n",
    "                                                                    auc(fpr, tpr)]"
   ]
  },
  {
   "cell_type": "markdown",
   "metadata": {},
   "source": [
    "# Gradient Boosting"
   ]
  },
  {
   "cell_type": "code",
   "execution_count": 126,
   "metadata": {},
   "outputs": [],
   "source": [
    "selector=RFE(estimator=GradientBoostingClassifier(n_estimators= 50,\n",
    "                                             min_samples_split= 10,\n",
    "                                             max_leaf_nodes= 10,\n",
    "                                             max_features= 'auto',\n",
    "                                             max_depth= 20,\n",
    "                                             criterion= 'mse'))\n",
    "selector=selector.fit(predicts,response)\n",
    "selected_features=predicts.columns[np.where(selector.get_support()==True)]\n",
    "x_train,x_test,y_train,y_test=train_test_split(predicts[selected_features],response,test_size=0.2)"
   ]
  },
  {
   "cell_type": "code",
   "execution_count": 127,
   "metadata": {},
   "outputs": [],
   "source": [
    "gd_final_model=GradientBoostingClassifier(n_estimators= 50,\n",
    "                                             min_samples_split= 10,\n",
    "                                             max_leaf_nodes= 10,\n",
    "                                             max_features= 'auto',\n",
    "                                             max_depth= 20,\n",
    "                                             criterion= 'mse')\n",
    "gd_final_model.fit(x_train,y_train)\n",
    "gb_pred=gd_final_model.predict(x_test)\n",
    "y_preds=gd_final_model.predict_proba(x_test)[:,1]"
   ]
  },
  {
   "cell_type": "code",
   "execution_count": 128,
   "metadata": {},
   "outputs": [
    {
     "data": {
      "text/plain": [
       "array([[241, 222],\n",
       "       [197, 324]], dtype=int64)"
      ]
     },
     "execution_count": 128,
     "metadata": {},
     "output_type": "execute_result"
    }
   ],
   "source": [
    "confusion_matrix(y_test,gb_pred)"
   ]
  },
  {
   "cell_type": "code",
   "execution_count": 129,
   "metadata": {},
   "outputs": [
    {
     "name": "stdout",
     "output_type": "stream",
     "text": [
      "              precision    recall  f1-score   support\n",
      "\n",
      "           0       0.55      0.52      0.53       463\n",
      "           1       0.59      0.62      0.61       521\n",
      "\n",
      "    accuracy                           0.57       984\n",
      "   macro avg       0.57      0.57      0.57       984\n",
      "weighted avg       0.57      0.57      0.57       984\n",
      "\n",
      "\n",
      "Accuracy is :  0.5741869918699187\n",
      "Precission :  0.5934065934065934\n",
      "Recall :  0.6218809980806143\n",
      "f1-score :  0.6073102155576383\n",
      "Roc Auc score :  0.5711996783059659\n"
     ]
    }
   ],
   "source": [
    "print(classification_report(y_test,gb_pred))\n",
    "print()\n",
    "print('Accuracy is : ',accuracy_score(y_test,gb_pred))\n",
    "print('Precission : ',precision_score(y_test,gb_pred))\n",
    "print('Recall : ',recall_score(y_test,gb_pred))\n",
    "print('f1-score : ',f1_score(y_test,gb_pred))\n",
    "print('Roc Auc score : ',roc_auc_score(y_test,gb_pred))"
   ]
  },
  {
   "cell_type": "code",
   "execution_count": 130,
   "metadata": {},
   "outputs": [
    {
     "name": "stdout",
     "output_type": "stream",
     "text": [
      "Area under the ROC curve :  0.5930508284865041\n"
     ]
    }
   ],
   "source": [
    "[fpr, tpr, thr] = roc_curve(y_test, y_preds)\n",
    "print('Area under the ROC curve : ',auc(fpr, tpr))"
   ]
  },
  {
   "cell_type": "code",
   "execution_count": 131,
   "metadata": {},
   "outputs": [
    {
     "data": {
      "image/png": "[encoded data removed]",
      "text/plain": [
       "<Figure size 432x288 with 1 Axes>"
      ]
     },
     "metadata": {
      "needs_background": "light"
     },
     "output_type": "display_data"
    }
   ],
   "source": [
    "plt.figure()\n",
    "plt.plot(fpr, tpr, color='coral', label = 'ROC Curve with Area Under Curve = '+str(auc (fpr, tpr)))\n",
    "plt.title('ROC curve for Gradient boosting ',fontsize=15)\n",
    "plt.xlabel('False positive Rate (1 - specificity)')\n",
    "plt.ylabel('True Positive Rate ')\n",
    "plt.legend(loc='lower right')\n",
    "plt.show()"
   ]
  },
  {
   "cell_type": "code",
   "execution_count": 148,
   "metadata": {},
   "outputs": [],
   "source": [
    "performance_metrics_with_selected_features['Gradient boosting']=[accuracy_score(y_test,gb_pred),\n",
    "                                                                    precision_score(y_test,gb_pred),\n",
    "                                                                    recall_score(y_test,gb_pred),\n",
    "                                                                    f1_score(y_test,gb_pred),\n",
    "                                                                    auc(fpr, tpr)]"
   ]
  },
  {
   "cell_type": "markdown",
   "metadata": {},
   "source": [
    "# Adaboost"
   ]
  },
  {
   "cell_type": "code",
   "execution_count": 133,
   "metadata": {},
   "outputs": [],
   "source": [
    "selector=RFE(estimator=AdaBoostClassifier(n_estimators= 50, learning_rate= 0.5, algorithm= 'SAMME.R'))\n",
    "selector=selector.fit(predicts,response)\n",
    "selected_features=predicts.columns[np.where(selector.get_support()==True)]\n",
    "x_train,x_test,y_train,y_test=train_test_split(predicts[selected_features],response,test_size=0.2)"
   ]
  },
  {
   "cell_type": "code",
   "execution_count": 134,
   "metadata": {},
   "outputs": [],
   "source": [
    "ada_final_model=AdaBoostClassifier(n_estimators= 50, learning_rate= 0.5, algorithm= 'SAMME.R')\n",
    "ada_final_model.fit(x_train,y_train)\n",
    "ad_pred=ada_final_model.predict(x_test)\n",
    "y_preds=ada_final_model.predict_proba(x_test)[:,1]"
   ]
  },
  {
   "cell_type": "code",
   "execution_count": 135,
   "metadata": {},
   "outputs": [
    {
     "data": {
      "text/plain": [
       "array([[193, 299],\n",
       "       [145, 347]], dtype=int64)"
      ]
     },
     "execution_count": 135,
     "metadata": {},
     "output_type": "execute_result"
    }
   ],
   "source": [
    "confusion_matrix(y_test,ad_pred)"
   ]
  },
  {
   "cell_type": "code",
   "execution_count": 136,
   "metadata": {},
   "outputs": [
    {
     "name": "stdout",
     "output_type": "stream",
     "text": [
      "              precision    recall  f1-score   support\n",
      "\n",
      "           0       0.57      0.39      0.47       492\n",
      "           1       0.54      0.71      0.61       492\n",
      "\n",
      "    accuracy                           0.55       984\n",
      "   macro avg       0.55      0.55      0.54       984\n",
      "weighted avg       0.55      0.55      0.54       984\n",
      "\n",
      "\n",
      "Accuracy is :  0.5487804878048781\n",
      "Precission :  0.5371517027863777\n",
      "Recall :  0.7052845528455285\n",
      "f1-score :  0.6098418277680141\n",
      "Roc Auc score :  0.5487804878048781\n"
     ]
    }
   ],
   "source": [
    "print(classification_report(y_test,ad_pred))\n",
    "print()\n",
    "print('Accuracy is : ',accuracy_score(y_test,ad_pred))\n",
    "print('Precission : ',precision_score(y_test,ad_pred))\n",
    "print('Recall : ',recall_score(y_test,ad_pred))\n",
    "print('f1-score : ',f1_score(y_test,ad_pred))\n",
    "print('Roc Auc score : ',roc_auc_score(y_test,ad_pred))"
   ]
  },
  {
   "cell_type": "code",
   "execution_count": 137,
   "metadata": {},
   "outputs": [
    {
     "name": "stdout",
     "output_type": "stream",
     "text": [
      "Area under the ROC curve :  0.5599304316213893\n"
     ]
    }
   ],
   "source": [
    "[fpr, tpr, thr] = roc_curve(y_test, y_preds)\n",
    "print('Area under the ROC curve : ',auc(fpr, tpr))"
   ]
  },
  {
   "cell_type": "code",
   "execution_count": 138,
   "metadata": {},
   "outputs": [
    {
     "data": {
      "image/png": "[encoded data removed]",
      "text/plain": [
       "<Figure size 432x288 with 1 Axes>"
      ]
     },
     "metadata": {
      "needs_background": "light"
     },
     "output_type": "display_data"
    }
   ],
   "source": [
    "plt.figure()\n",
    "plt.plot(fpr, tpr, color='coral', label = 'ROC Curve with Area Under Curve = '+str(auc (fpr, tpr)))\n",
    "plt.title('ROC curve for Adaboosting ',fontsize=15)\n",
    "plt.xlabel('False positive Rate (1 - specificity)')\n",
    "plt.ylabel('True Positive Rate ')\n",
    "plt.legend(loc='lower right')\n",
    "plt.show()"
   ]
  },
  {
   "cell_type": "code",
   "execution_count": 149,
   "metadata": {},
   "outputs": [],
   "source": [
    "performance_metrics_with_selected_features['Adaboost']=[accuracy_score(y_test,ad_pred),\n",
    "                                                                    precision_score(y_test,ad_pred),\n",
    "                                                                    recall_score(y_test,ad_pred),\n",
    "                                                                    f1_score(y_test,ad_pred),\n",
    "                                                                    auc(fpr, tpr)]"
   ]
  },
  {
   "cell_type": "code",
   "execution_count": 152,
   "metadata": {},
   "outputs": [
    {
     "data": {
      "text/html": [
       "<div>\n",
       "<style scoped>\n",
       "    .dataframe tbody tr th:only-of-type {\n",
       "        vertical-align: middle;\n",
       "    }\n",
       "\n",
       "    .dataframe tbody tr th {\n",
       "        vertical-align: top;\n",
       "    }\n",
       "\n",
       "    .dataframe thead th {\n",
       "        text-align: right;\n",
       "    }\n",
       "</style>\n",
       "<table border=\"1\" class=\"dataframe\">\n",
       "  <thead>\n",
       "    <tr style=\"text-align: right;\">\n",
       "      <th></th>\n",
       "      <th>Logistic Regression</th>\n",
       "      <th>SVM</th>\n",
       "      <th>Decision Tree</th>\n",
       "      <th>Random Forest</th>\n",
       "      <th>KNN</th>\n",
       "      <th>Adaboosting</th>\n",
       "      <th>Gradient Boosting</th>\n",
       "    </tr>\n",
       "  </thead>\n",
       "  <tbody>\n",
       "    <tr>\n",
       "      <th>Accuracy</th>\n",
       "      <td>0.566057</td>\n",
       "      <td>0.565041</td>\n",
       "      <td>0.511179</td>\n",
       "      <td>0.553862</td>\n",
       "      <td>0.531504</td>\n",
       "      <td>0.572154</td>\n",
       "      <td>0.572154</td>\n",
       "    </tr>\n",
       "    <tr>\n",
       "      <th>Precision</th>\n",
       "      <td>0.564374</td>\n",
       "      <td>0.565693</td>\n",
       "      <td>0.520343</td>\n",
       "      <td>0.559921</td>\n",
       "      <td>0.540541</td>\n",
       "      <td>0.573284</td>\n",
       "      <td>0.575816</td>\n",
       "    </tr>\n",
       "    <tr>\n",
       "      <th>Recall</th>\n",
       "      <td>0.640000</td>\n",
       "      <td>0.620000</td>\n",
       "      <td>0.486000</td>\n",
       "      <td>0.570000</td>\n",
       "      <td>0.520000</td>\n",
       "      <td>0.618000</td>\n",
       "      <td>0.600000</td>\n",
       "    </tr>\n",
       "    <tr>\n",
       "      <th>F1_score</th>\n",
       "      <td>0.599813</td>\n",
       "      <td>0.591603</td>\n",
       "      <td>0.502585</td>\n",
       "      <td>0.564916</td>\n",
       "      <td>0.530071</td>\n",
       "      <td>0.594803</td>\n",
       "      <td>0.587659</td>\n",
       "    </tr>\n",
       "    <tr>\n",
       "      <th>AUC</th>\n",
       "      <td>0.588322</td>\n",
       "      <td>0.589479</td>\n",
       "      <td>0.511595</td>\n",
       "      <td>0.555822</td>\n",
       "      <td>0.532882</td>\n",
       "      <td>0.596667</td>\n",
       "      <td>0.609669</td>\n",
       "    </tr>\n",
       "  </tbody>\n",
       "</table>\n",
       "</div>"
      ],
      "text/plain": [
       "           Logistic Regression       SVM  Decision Tree  Random Forest  \\\n",
       "Accuracy              0.566057  0.565041       0.511179       0.553862   \n",
       "Precision             0.564374  0.565693       0.520343       0.559921   \n",
       "Recall                0.640000  0.620000       0.486000       0.570000   \n",
       "F1_score              0.599813  0.591603       0.502585       0.564916   \n",
       "AUC                   0.588322  0.589479       0.511595       0.555822   \n",
       "\n",
       "                KNN  Adaboosting  Gradient Boosting  \n",
       "Accuracy   0.531504     0.572154           0.572154  \n",
       "Precision  0.540541     0.573284           0.575816  \n",
       "Recall     0.520000     0.618000           0.600000  \n",
       "F1_score   0.530071     0.594803           0.587659  \n",
       "AUC        0.532882     0.596667           0.609669  "
      ]
     },
     "execution_count": 152,
     "metadata": {},
     "output_type": "execute_result"
    }
   ],
   "source": [
    "performance_metrics_with_default_parameters"
   ]
  },
  {
   "cell_type": "code",
   "execution_count": 150,
   "metadata": {},
   "outputs": [
    {
     "data": {
      "text/html": [
       "<div>\n",
       "<style scoped>\n",
       "    .dataframe tbody tr th:only-of-type {\n",
       "        vertical-align: middle;\n",
       "    }\n",
       "\n",
       "    .dataframe tbody tr th {\n",
       "        vertical-align: top;\n",
       "    }\n",
       "\n",
       "    .dataframe thead th {\n",
       "        text-align: right;\n",
       "    }\n",
       "</style>\n",
       "<table border=\"1\" class=\"dataframe\">\n",
       "  <thead>\n",
       "    <tr style=\"text-align: right;\">\n",
       "      <th></th>\n",
       "      <th>Logistic Regression</th>\n",
       "      <th>SVM</th>\n",
       "      <th>KNN</th>\n",
       "      <th>Decision Tree</th>\n",
       "      <th>Random Forest</th>\n",
       "      <th>Gradient boosting</th>\n",
       "      <th>Adaboost</th>\n",
       "    </tr>\n",
       "  </thead>\n",
       "  <tbody>\n",
       "    <tr>\n",
       "      <th>Accuracy</th>\n",
       "      <td>0.488821</td>\n",
       "      <td>0.503049</td>\n",
       "      <td>0.516260</td>\n",
       "      <td>0.494919</td>\n",
       "      <td>0.511179</td>\n",
       "      <td>0.512195</td>\n",
       "      <td>0.548780</td>\n",
       "    </tr>\n",
       "    <tr>\n",
       "      <th>Precision</th>\n",
       "      <td>0.489796</td>\n",
       "      <td>0.501840</td>\n",
       "      <td>0.524691</td>\n",
       "      <td>0.490040</td>\n",
       "      <td>0.509700</td>\n",
       "      <td>0.510989</td>\n",
       "      <td>0.537152</td>\n",
       "    </tr>\n",
       "    <tr>\n",
       "      <th>Recall</th>\n",
       "      <td>0.536585</td>\n",
       "      <td>0.831301</td>\n",
       "      <td>0.345528</td>\n",
       "      <td>0.250000</td>\n",
       "      <td>0.587398</td>\n",
       "      <td>0.567073</td>\n",
       "      <td>0.705285</td>\n",
       "    </tr>\n",
       "    <tr>\n",
       "      <th>F1_score</th>\n",
       "      <td>0.512124</td>\n",
       "      <td>0.625861</td>\n",
       "      <td>0.416667</td>\n",
       "      <td>0.331090</td>\n",
       "      <td>0.545798</td>\n",
       "      <td>0.537572</td>\n",
       "      <td>0.609842</td>\n",
       "    </tr>\n",
       "    <tr>\n",
       "      <th>AUC</th>\n",
       "      <td>0.559930</td>\n",
       "      <td>0.559930</td>\n",
       "      <td>0.559930</td>\n",
       "      <td>0.559930</td>\n",
       "      <td>0.559930</td>\n",
       "      <td>0.559930</td>\n",
       "      <td>0.559930</td>\n",
       "    </tr>\n",
       "  </tbody>\n",
       "</table>\n",
       "</div>"
      ],
      "text/plain": [
       "           Logistic Regression       SVM       KNN  Decision Tree  \\\n",
       "Accuracy              0.488821  0.503049  0.516260       0.494919   \n",
       "Precision             0.489796  0.501840  0.524691       0.490040   \n",
       "Recall                0.536585  0.831301  0.345528       0.250000   \n",
       "F1_score              0.512124  0.625861  0.416667       0.331090   \n",
       "AUC                   0.559930  0.559930  0.559930       0.559930   \n",
       "\n",
       "           Random Forest  Gradient boosting  Adaboost  \n",
       "Accuracy        0.511179           0.512195  0.548780  \n",
       "Precision       0.509700           0.510989  0.537152  \n",
       "Recall          0.587398           0.567073  0.705285  \n",
       "F1_score        0.545798           0.537572  0.609842  \n",
       "AUC             0.559930           0.559930  0.559930  "
      ]
     },
     "execution_count": 150,
     "metadata": {},
     "output_type": "execute_result"
    }
   ],
   "source": [
    "performance_metrics_with_selected_features"
   ]
  },
  {
   "cell_type": "code",
   "execution_count": 160,
   "metadata": {},
   "outputs": [
    {
     "data": {
      "image/png": "[encoded data removed]",
      "text/plain": [
       "<Figure size 1440x720 with 1 Axes>"
      ]
     },
     "metadata": {
      "needs_background": "light"
     },
     "output_type": "display_data"
    }
   ],
   "source": [
    "x = np.array([\"Logistic_Reg\",\"SVM\", \"KNN\", \"Decision_Tree\", \"Random_Forest\", \"Gradient_Boosting\", \"AdaBoost\"])\n",
    "y = np.array([0.488821,0.503049,0.516260,0.494919,0.511179,0.512195,0.548780])\n",
    "width = 0.6\n",
    "plt.figure(figsize=[20,10])\n",
    "plt.bar(x,y,width)\n",
    "plt.xlabel('Models')\n",
    "plt.ylabel('Accuracy')\n",
    "plt.title('Accuracy of Different Algorithms using selected features')\n",
    "plt.show()"
   ]
  },
  {
   "cell_type": "code",
   "execution_count": null,
   "metadata": {},
   "outputs": [],
   "source": []
  },
  {
   "cell_type": "markdown",
   "metadata": {},
   "source": [
    "# Some conclusion \n",
    "here we compare default and selected parameter model to each other,we observe that deafault parameters having good accuracy\n",
    "<br>Here we conclude that all the models having good accuracy.\n",
    "<br>Reco_Policy_Cat, Holding_Policy_Type are most imported features.\n",
    "<br>If Holding_Policy_Type is of type 1 or 3, then they have more chances of cross selling insurance.\n",
    "<br>If Holding policy duration in in bet 1, 2, 4 or more than 14 years then we have more chance to cross sell."
   ]
  },
  {
   "cell_type": "code",
   "execution_count": null,
   "metadata": {},
   "outputs": [],
   "source": []
  }
 ],
 "metadata": {
  "kernelspec": {
   "display_name": "Python 3",
   "language": "python",
   "name": "python3"
  },
  "language_info": {
   "codemirror_mode": {
    "name": "ipython",
    "version": 3
   },
   "file_extension": ".py",
   "mimetype": "text/x-python",
   "name": "python",
   "nbconvert_exporter": "python",
   "pygments_lexer": "ipython3",
   "version": "3.8.5"
  }
 },
 "nbformat": 4,
 "nbformat_minor": 5
}
