{
 "cells": [
  {
   "cell_type": "markdown",
   "metadata": {},
   "source": [
    "# Task - 3\n",
    "\n",
    "\n",
    "\n",
    "## **Task has been mentioned at the end of this notebook**  "
   ]
  },
  {
   "cell_type": "code",
   "execution_count": 2,
   "metadata": {},
   "outputs": [],
   "source": [
    "# Import all the required Libraries\n",
    "\n",
    "import pandas as pd\n",
    "import numpy as np\n",
    "\n",
    "import seaborn as sns\n",
    "import matplotlib.pyplot as plt\n",
    "import warnings\n",
    "warnings.filterwarnings('ignore')"
   ]
  },
  {
   "cell_type": "code",
   "execution_count": 2,
   "metadata": {},
   "outputs": [],
   "source": [
    "df1=pd.read_csv('Clean.csv')"
   ]
  },
  {
   "cell_type": "code",
   "execution_count": 3,
   "metadata": {},
   "outputs": [
    {
     "data": {
      "text/plain": [
       "(10000, 25)"
      ]
     },
     "execution_count": 3,
     "metadata": {},
     "output_type": "execute_result"
    }
   ],
   "source": [
    "df1.shape"
   ]
  },
  {
   "cell_type": "code",
   "execution_count": 4,
   "metadata": {},
   "outputs": [
    {
     "name": "stdout",
     "output_type": "stream",
     "text": [
      "<class 'pandas.core.frame.DataFrame'>\n",
      "RangeIndex: 10000 entries, 0 to 9999\n",
      "Data columns (total 25 columns):\n",
      " #   Column                   Non-Null Count  Dtype  \n",
      "---  ------                   --------------  -----  \n",
      " 0   Unnamed: 0               10000 non-null  int64  \n",
      " 1   Accomodation_Type        10000 non-null  int64  \n",
      " 2   Reco_Insurance_Type      10000 non-null  int64  \n",
      " 3   Is_Spouse                10000 non-null  int64  \n",
      " 4   Holding_Policy_Duration  10000 non-null  int64  \n",
      " 5   Reco_Policy_Premium      10000 non-null  float64\n",
      " 6   Response                 10000 non-null  int64  \n",
      " 7   X1                       10000 non-null  float64\n",
      " 8   X2                       10000 non-null  float64\n",
      " 9   X3                       10000 non-null  float64\n",
      " 10  X4                       10000 non-null  float64\n",
      " 11  X5                       10000 non-null  float64\n",
      " 12  X6                       10000 non-null  float64\n",
      " 13  X7                       10000 non-null  float64\n",
      " 14  X8                       10000 non-null  float64\n",
      " 15  Age                      10000 non-null  float64\n",
      " 16  City_Code_C10-C18        10000 non-null  int64  \n",
      " 17  City_Code_C19-C27        10000 non-null  int64  \n",
      " 18  City_Code_C28-C36        10000 non-null  int64  \n",
      " 19  Holding_Policy_Type_2.0  10000 non-null  int64  \n",
      " 20  Holding_Policy_Type_3.0  10000 non-null  int64  \n",
      " 21  Holding_Policy_Type_4.0  10000 non-null  int64  \n",
      " 22  Reco_Policy_Cat_12-15    10000 non-null  int64  \n",
      " 23  Reco_Policy_Cat_16-22    10000 non-null  int64  \n",
      " 24  Reco_Policy_Cat_6-11     10000 non-null  int64  \n",
      "dtypes: float64(10), int64(15)\n",
      "memory usage: 1.9 MB\n"
     ]
    }
   ],
   "source": [
    "df1.info()"
   ]
  },
  {
   "cell_type": "code",
   "execution_count": null,
   "metadata": {},
   "outputs": [],
   "source": []
  },
  {
   "cell_type": "markdown",
   "metadata": {},
   "source": [
    "## Observe that 26.5% datapoints belong to one class rest all belongs to other class. Clearly dataset is having high imbalance.\n",
    "\n",
    "**To Do:**\n",
    "1. Read about Oversampling and Undersampling.\n",
    "2. Perform undersampling."
   ]
  },
  {
   "cell_type": "code",
   "execution_count": 5,
   "metadata": {},
   "outputs": [
    {
     "data": {
      "text/plain": [
       "0    7541\n",
       "1    2459\n",
       "Name: Response, dtype: int64"
      ]
     },
     "execution_count": 5,
     "metadata": {},
     "output_type": "execute_result"
    }
   ],
   "source": [
    "df1['Response'].value_counts()"
   ]
  },
  {
   "cell_type": "code",
   "execution_count": 6,
   "metadata": {},
   "outputs": [],
   "source": [
    "from imblearn.under_sampling import RandomUnderSampler"
   ]
  },
  {
   "cell_type": "code",
   "execution_count": 7,
   "metadata": {},
   "outputs": [],
   "source": [
    "sampler=RandomUnderSampler()"
   ]
  },
  {
   "cell_type": "code",
   "execution_count": 8,
   "metadata": {},
   "outputs": [],
   "source": [
    "X=df1.drop('Response',axis=1)\n",
    "y=df1['Response']"
   ]
  },
  {
   "cell_type": "code",
   "execution_count": 9,
   "metadata": {},
   "outputs": [
    {
     "name": "stdout",
     "output_type": "stream",
     "text": [
      "(10000, 24) (10000,)\n"
     ]
    }
   ],
   "source": [
    "print(X.shape,y.shape)"
   ]
  },
  {
   "cell_type": "code",
   "execution_count": 10,
   "metadata": {},
   "outputs": [],
   "source": [
    "predicts,response=sampler.fit_resample(X,y)"
   ]
  },
  {
   "cell_type": "code",
   "execution_count": 11,
   "metadata": {},
   "outputs": [
    {
     "name": "stdout",
     "output_type": "stream",
     "text": [
      "(4918, 24) (4918,)\n"
     ]
    }
   ],
   "source": [
    "print(predicts.shape,response.shape)"
   ]
  },
  {
   "cell_type": "code",
   "execution_count": 12,
   "metadata": {},
   "outputs": [
    {
     "data": {
      "text/plain": [
       "1    2459\n",
       "0    2459\n",
       "Name: Response, dtype: int64"
      ]
     },
     "execution_count": 12,
     "metadata": {},
     "output_type": "execute_result"
    }
   ],
   "source": [
    "response.value_counts()"
   ]
  },
  {
   "cell_type": "code",
   "execution_count": null,
   "metadata": {},
   "outputs": [],
   "source": []
  },
  {
   "cell_type": "markdown",
   "metadata": {},
   "source": [
    "## Train Test Split\n",
    "\n",
    "**To Do:**\n",
    "1. Sandardise the data\n",
    "2. Perform 80-20 split"
   ]
  },
  {
   "cell_type": "code",
   "execution_count": 13,
   "metadata": {},
   "outputs": [
    {
     "data": {
      "text/html": [
       "<div>\n",
       "<style scoped>\n",
       "    .dataframe tbody tr th:only-of-type {\n",
       "        vertical-align: middle;\n",
       "    }\n",
       "\n",
       "    .dataframe tbody tr th {\n",
       "        vertical-align: top;\n",
       "    }\n",
       "\n",
       "    .dataframe thead th {\n",
       "        text-align: right;\n",
       "    }\n",
       "</style>\n",
       "<table border=\"1\" class=\"dataframe\">\n",
       "  <thead>\n",
       "    <tr style=\"text-align: right;\">\n",
       "      <th></th>\n",
       "      <th>Unnamed: 0</th>\n",
       "      <th>Accomodation_Type</th>\n",
       "      <th>Reco_Insurance_Type</th>\n",
       "      <th>Is_Spouse</th>\n",
       "      <th>Holding_Policy_Duration</th>\n",
       "      <th>Reco_Policy_Premium</th>\n",
       "      <th>X1</th>\n",
       "      <th>X2</th>\n",
       "      <th>X3</th>\n",
       "      <th>X4</th>\n",
       "      <th>...</th>\n",
       "      <th>Age</th>\n",
       "      <th>City_Code_C10-C18</th>\n",
       "      <th>City_Code_C19-C27</th>\n",
       "      <th>City_Code_C28-C36</th>\n",
       "      <th>Holding_Policy_Type_2.0</th>\n",
       "      <th>Holding_Policy_Type_3.0</th>\n",
       "      <th>Holding_Policy_Type_4.0</th>\n",
       "      <th>Reco_Policy_Cat_12-15</th>\n",
       "      <th>Reco_Policy_Cat_16-22</th>\n",
       "      <th>Reco_Policy_Cat_6-11</th>\n",
       "    </tr>\n",
       "  </thead>\n",
       "  <tbody>\n",
       "    <tr>\n",
       "      <th>0</th>\n",
       "      <td>8578</td>\n",
       "      <td>1</td>\n",
       "      <td>0</td>\n",
       "      <td>1</td>\n",
       "      <td>15</td>\n",
       "      <td>26656.0</td>\n",
       "      <td>0.0</td>\n",
       "      <td>1.0</td>\n",
       "      <td>0.0</td>\n",
       "      <td>0.0</td>\n",
       "      <td>...</td>\n",
       "      <td>70.5</td>\n",
       "      <td>0</td>\n",
       "      <td>0</td>\n",
       "      <td>0</td>\n",
       "      <td>0</td>\n",
       "      <td>1</td>\n",
       "      <td>0</td>\n",
       "      <td>0</td>\n",
       "      <td>1</td>\n",
       "      <td>0</td>\n",
       "    </tr>\n",
       "    <tr>\n",
       "      <th>1</th>\n",
       "      <td>2223</td>\n",
       "      <td>0</td>\n",
       "      <td>1</td>\n",
       "      <td>0</td>\n",
       "      <td>15</td>\n",
       "      <td>9688.0</td>\n",
       "      <td>1.0</td>\n",
       "      <td>0.0</td>\n",
       "      <td>0.0</td>\n",
       "      <td>0.0</td>\n",
       "      <td>...</td>\n",
       "      <td>28.0</td>\n",
       "      <td>0</td>\n",
       "      <td>0</td>\n",
       "      <td>0</td>\n",
       "      <td>0</td>\n",
       "      <td>1</td>\n",
       "      <td>0</td>\n",
       "      <td>0</td>\n",
       "      <td>0</td>\n",
       "      <td>0</td>\n",
       "    </tr>\n",
       "    <tr>\n",
       "      <th>2</th>\n",
       "      <td>642</td>\n",
       "      <td>1</td>\n",
       "      <td>1</td>\n",
       "      <td>0</td>\n",
       "      <td>2</td>\n",
       "      <td>13530.0</td>\n",
       "      <td>1.0</td>\n",
       "      <td>0.0</td>\n",
       "      <td>0.0</td>\n",
       "      <td>0.0</td>\n",
       "      <td>...</td>\n",
       "      <td>43.0</td>\n",
       "      <td>0</td>\n",
       "      <td>1</td>\n",
       "      <td>0</td>\n",
       "      <td>0</td>\n",
       "      <td>0</td>\n",
       "      <td>0</td>\n",
       "      <td>0</td>\n",
       "      <td>0</td>\n",
       "      <td>0</td>\n",
       "    </tr>\n",
       "    <tr>\n",
       "      <th>3</th>\n",
       "      <td>1392</td>\n",
       "      <td>0</td>\n",
       "      <td>1</td>\n",
       "      <td>0</td>\n",
       "      <td>15</td>\n",
       "      <td>12100.0</td>\n",
       "      <td>0.0</td>\n",
       "      <td>0.0</td>\n",
       "      <td>0.0</td>\n",
       "      <td>1.0</td>\n",
       "      <td>...</td>\n",
       "      <td>43.0</td>\n",
       "      <td>0</td>\n",
       "      <td>0</td>\n",
       "      <td>0</td>\n",
       "      <td>0</td>\n",
       "      <td>1</td>\n",
       "      <td>0</td>\n",
       "      <td>0</td>\n",
       "      <td>1</td>\n",
       "      <td>0</td>\n",
       "    </tr>\n",
       "    <tr>\n",
       "      <th>4</th>\n",
       "      <td>7955</td>\n",
       "      <td>1</td>\n",
       "      <td>0</td>\n",
       "      <td>1</td>\n",
       "      <td>9</td>\n",
       "      <td>19084.8</td>\n",
       "      <td>0.0</td>\n",
       "      <td>1.0</td>\n",
       "      <td>0.0</td>\n",
       "      <td>0.0</td>\n",
       "      <td>...</td>\n",
       "      <td>45.0</td>\n",
       "      <td>0</td>\n",
       "      <td>1</td>\n",
       "      <td>0</td>\n",
       "      <td>0</td>\n",
       "      <td>0</td>\n",
       "      <td>0</td>\n",
       "      <td>1</td>\n",
       "      <td>0</td>\n",
       "      <td>0</td>\n",
       "    </tr>\n",
       "  </tbody>\n",
       "</table>\n",
       "<p>5 rows × 24 columns</p>\n",
       "</div>"
      ],
      "text/plain": [
       "   Unnamed: 0  Accomodation_Type  Reco_Insurance_Type  Is_Spouse  \\\n",
       "0        8578                  1                    0          1   \n",
       "1        2223                  0                    1          0   \n",
       "2         642                  1                    1          0   \n",
       "3        1392                  0                    1          0   \n",
       "4        7955                  1                    0          1   \n",
       "\n",
       "   Holding_Policy_Duration  Reco_Policy_Premium   X1   X2   X3   X4  ...  \\\n",
       "0                       15              26656.0  0.0  1.0  0.0  0.0  ...   \n",
       "1                       15               9688.0  1.0  0.0  0.0  0.0  ...   \n",
       "2                        2              13530.0  1.0  0.0  0.0  0.0  ...   \n",
       "3                       15              12100.0  0.0  0.0  0.0  1.0  ...   \n",
       "4                        9              19084.8  0.0  1.0  0.0  0.0  ...   \n",
       "\n",
       "    Age  City_Code_C10-C18  City_Code_C19-C27  City_Code_C28-C36  \\\n",
       "0  70.5                  0                  0                  0   \n",
       "1  28.0                  0                  0                  0   \n",
       "2  43.0                  0                  1                  0   \n",
       "3  43.0                  0                  0                  0   \n",
       "4  45.0                  0                  1                  0   \n",
       "\n",
       "   Holding_Policy_Type_2.0  Holding_Policy_Type_3.0  Holding_Policy_Type_4.0  \\\n",
       "0                        0                        1                        0   \n",
       "1                        0                        1                        0   \n",
       "2                        0                        0                        0   \n",
       "3                        0                        1                        0   \n",
       "4                        0                        0                        0   \n",
       "\n",
       "   Reco_Policy_Cat_12-15  Reco_Policy_Cat_16-22  Reco_Policy_Cat_6-11  \n",
       "0                      0                      1                     0  \n",
       "1                      0                      0                     0  \n",
       "2                      0                      0                     0  \n",
       "3                      0                      1                     0  \n",
       "4                      1                      0                     0  \n",
       "\n",
       "[5 rows x 24 columns]"
      ]
     },
     "execution_count": 13,
     "metadata": {},
     "output_type": "execute_result"
    }
   ],
   "source": [
    "predicts.head()"
   ]
  },
  {
   "cell_type": "code",
   "execution_count": 14,
   "metadata": {},
   "outputs": [
    {
     "data": {
      "text/plain": [
       "(4918, 24)"
      ]
     },
     "execution_count": 14,
     "metadata": {},
     "output_type": "execute_result"
    }
   ],
   "source": [
    "predicts.shape"
   ]
  },
  {
   "cell_type": "code",
   "execution_count": 15,
   "metadata": {},
   "outputs": [],
   "source": [
    "from sklearn.preprocessing import StandardScaler"
   ]
  },
  {
   "cell_type": "code",
   "execution_count": 16,
   "metadata": {},
   "outputs": [],
   "source": [
    "scaler=StandardScaler()\n",
    "predicts['Age']=scaler.fit_transform(predicts[['Age']])\n",
    "predicts['Holding_Policy_Duration']=scaler.fit_transform(predicts[['Holding_Policy_Duration']])\n",
    "predicts['Reco_Policy_Premium']=scaler.fit_transform(predicts[['Reco_Policy_Premium']])"
   ]
  },
  {
   "cell_type": "code",
   "execution_count": 17,
   "metadata": {},
   "outputs": [
    {
     "data": {
      "text/html": [
       "<div>\n",
       "<style scoped>\n",
       "    .dataframe tbody tr th:only-of-type {\n",
       "        vertical-align: middle;\n",
       "    }\n",
       "\n",
       "    .dataframe tbody tr th {\n",
       "        vertical-align: top;\n",
       "    }\n",
       "\n",
       "    .dataframe thead th {\n",
       "        text-align: right;\n",
       "    }\n",
       "</style>\n",
       "<table border=\"1\" class=\"dataframe\">\n",
       "  <thead>\n",
       "    <tr style=\"text-align: right;\">\n",
       "      <th></th>\n",
       "      <th>Unnamed: 0</th>\n",
       "      <th>Accomodation_Type</th>\n",
       "      <th>Reco_Insurance_Type</th>\n",
       "      <th>Is_Spouse</th>\n",
       "      <th>Holding_Policy_Duration</th>\n",
       "      <th>Reco_Policy_Premium</th>\n",
       "      <th>X1</th>\n",
       "      <th>X2</th>\n",
       "      <th>X3</th>\n",
       "      <th>X4</th>\n",
       "      <th>...</th>\n",
       "      <th>Age</th>\n",
       "      <th>City_Code_C10-C18</th>\n",
       "      <th>City_Code_C19-C27</th>\n",
       "      <th>City_Code_C28-C36</th>\n",
       "      <th>Holding_Policy_Type_2.0</th>\n",
       "      <th>Holding_Policy_Type_3.0</th>\n",
       "      <th>Holding_Policy_Type_4.0</th>\n",
       "      <th>Reco_Policy_Cat_12-15</th>\n",
       "      <th>Reco_Policy_Cat_16-22</th>\n",
       "      <th>Reco_Policy_Cat_6-11</th>\n",
       "    </tr>\n",
       "  </thead>\n",
       "  <tbody>\n",
       "    <tr>\n",
       "      <th>0</th>\n",
       "      <td>8578</td>\n",
       "      <td>1</td>\n",
       "      <td>0</td>\n",
       "      <td>1</td>\n",
       "      <td>0.922193</td>\n",
       "      <td>1.977447</td>\n",
       "      <td>0.0</td>\n",
       "      <td>1.0</td>\n",
       "      <td>0.0</td>\n",
       "      <td>0.0</td>\n",
       "      <td>...</td>\n",
       "      <td>1.567939</td>\n",
       "      <td>0</td>\n",
       "      <td>0</td>\n",
       "      <td>0</td>\n",
       "      <td>0</td>\n",
       "      <td>1</td>\n",
       "      <td>0</td>\n",
       "      <td>0</td>\n",
       "      <td>1</td>\n",
       "      <td>0</td>\n",
       "    </tr>\n",
       "    <tr>\n",
       "      <th>1</th>\n",
       "      <td>2223</td>\n",
       "      <td>0</td>\n",
       "      <td>1</td>\n",
       "      <td>0</td>\n",
       "      <td>0.922193</td>\n",
       "      <td>-0.700290</td>\n",
       "      <td>1.0</td>\n",
       "      <td>0.0</td>\n",
       "      <td>0.0</td>\n",
       "      <td>0.0</td>\n",
       "      <td>...</td>\n",
       "      <td>-0.928245</td>\n",
       "      <td>0</td>\n",
       "      <td>0</td>\n",
       "      <td>0</td>\n",
       "      <td>0</td>\n",
       "      <td>1</td>\n",
       "      <td>0</td>\n",
       "      <td>0</td>\n",
       "      <td>0</td>\n",
       "      <td>0</td>\n",
       "    </tr>\n",
       "    <tr>\n",
       "      <th>2</th>\n",
       "      <td>642</td>\n",
       "      <td>1</td>\n",
       "      <td>1</td>\n",
       "      <td>0</td>\n",
       "      <td>-1.365008</td>\n",
       "      <td>-0.093980</td>\n",
       "      <td>1.0</td>\n",
       "      <td>0.0</td>\n",
       "      <td>0.0</td>\n",
       "      <td>0.0</td>\n",
       "      <td>...</td>\n",
       "      <td>-0.047239</td>\n",
       "      <td>0</td>\n",
       "      <td>1</td>\n",
       "      <td>0</td>\n",
       "      <td>0</td>\n",
       "      <td>0</td>\n",
       "      <td>0</td>\n",
       "      <td>0</td>\n",
       "      <td>0</td>\n",
       "      <td>0</td>\n",
       "    </tr>\n",
       "    <tr>\n",
       "      <th>3</th>\n",
       "      <td>1392</td>\n",
       "      <td>0</td>\n",
       "      <td>1</td>\n",
       "      <td>0</td>\n",
       "      <td>0.922193</td>\n",
       "      <td>-0.319650</td>\n",
       "      <td>0.0</td>\n",
       "      <td>0.0</td>\n",
       "      <td>0.0</td>\n",
       "      <td>1.0</td>\n",
       "      <td>...</td>\n",
       "      <td>-0.047239</td>\n",
       "      <td>0</td>\n",
       "      <td>0</td>\n",
       "      <td>0</td>\n",
       "      <td>0</td>\n",
       "      <td>1</td>\n",
       "      <td>0</td>\n",
       "      <td>0</td>\n",
       "      <td>1</td>\n",
       "      <td>0</td>\n",
       "    </tr>\n",
       "    <tr>\n",
       "      <th>4</th>\n",
       "      <td>7955</td>\n",
       "      <td>1</td>\n",
       "      <td>0</td>\n",
       "      <td>1</td>\n",
       "      <td>-0.133439</td>\n",
       "      <td>0.782628</td>\n",
       "      <td>0.0</td>\n",
       "      <td>1.0</td>\n",
       "      <td>0.0</td>\n",
       "      <td>0.0</td>\n",
       "      <td>...</td>\n",
       "      <td>0.070229</td>\n",
       "      <td>0</td>\n",
       "      <td>1</td>\n",
       "      <td>0</td>\n",
       "      <td>0</td>\n",
       "      <td>0</td>\n",
       "      <td>0</td>\n",
       "      <td>1</td>\n",
       "      <td>0</td>\n",
       "      <td>0</td>\n",
       "    </tr>\n",
       "    <tr>\n",
       "      <th>...</th>\n",
       "      <td>...</td>\n",
       "      <td>...</td>\n",
       "      <td>...</td>\n",
       "      <td>...</td>\n",
       "      <td>...</td>\n",
       "      <td>...</td>\n",
       "      <td>...</td>\n",
       "      <td>...</td>\n",
       "      <td>...</td>\n",
       "      <td>...</td>\n",
       "      <td>...</td>\n",
       "      <td>...</td>\n",
       "      <td>...</td>\n",
       "      <td>...</td>\n",
       "      <td>...</td>\n",
       "      <td>...</td>\n",
       "      <td>...</td>\n",
       "      <td>...</td>\n",
       "      <td>...</td>\n",
       "      <td>...</td>\n",
       "      <td>...</td>\n",
       "    </tr>\n",
       "    <tr>\n",
       "      <th>4913</th>\n",
       "      <td>9983</td>\n",
       "      <td>1</td>\n",
       "      <td>1</td>\n",
       "      <td>0</td>\n",
       "      <td>0.746254</td>\n",
       "      <td>1.392600</td>\n",
       "      <td>0.0</td>\n",
       "      <td>0.0</td>\n",
       "      <td>0.0</td>\n",
       "      <td>1.0</td>\n",
       "      <td>...</td>\n",
       "      <td>1.479838</td>\n",
       "      <td>0</td>\n",
       "      <td>0</td>\n",
       "      <td>0</td>\n",
       "      <td>0</td>\n",
       "      <td>1</td>\n",
       "      <td>0</td>\n",
       "      <td>0</td>\n",
       "      <td>1</td>\n",
       "      <td>0</td>\n",
       "    </tr>\n",
       "    <tr>\n",
       "      <th>4914</th>\n",
       "      <td>9988</td>\n",
       "      <td>1</td>\n",
       "      <td>1</td>\n",
       "      <td>0</td>\n",
       "      <td>-0.837193</td>\n",
       "      <td>-0.423805</td>\n",
       "      <td>1.0</td>\n",
       "      <td>0.0</td>\n",
       "      <td>0.0</td>\n",
       "      <td>0.0</td>\n",
       "      <td>...</td>\n",
       "      <td>-0.575843</td>\n",
       "      <td>0</td>\n",
       "      <td>0</td>\n",
       "      <td>0</td>\n",
       "      <td>0</td>\n",
       "      <td>1</td>\n",
       "      <td>0</td>\n",
       "      <td>0</td>\n",
       "      <td>1</td>\n",
       "      <td>0</td>\n",
       "    </tr>\n",
       "    <tr>\n",
       "      <th>4915</th>\n",
       "      <td>9990</td>\n",
       "      <td>0</td>\n",
       "      <td>1</td>\n",
       "      <td>0</td>\n",
       "      <td>0.922193</td>\n",
       "      <td>-1.640213</td>\n",
       "      <td>0.0</td>\n",
       "      <td>1.0</td>\n",
       "      <td>0.0</td>\n",
       "      <td>0.0</td>\n",
       "      <td>...</td>\n",
       "      <td>-1.221914</td>\n",
       "      <td>0</td>\n",
       "      <td>1</td>\n",
       "      <td>0</td>\n",
       "      <td>0</td>\n",
       "      <td>1</td>\n",
       "      <td>0</td>\n",
       "      <td>0</td>\n",
       "      <td>1</td>\n",
       "      <td>0</td>\n",
       "    </tr>\n",
       "    <tr>\n",
       "      <th>4916</th>\n",
       "      <td>9991</td>\n",
       "      <td>0</td>\n",
       "      <td>1</td>\n",
       "      <td>0</td>\n",
       "      <td>-0.485316</td>\n",
       "      <td>-0.058946</td>\n",
       "      <td>1.0</td>\n",
       "      <td>0.0</td>\n",
       "      <td>0.0</td>\n",
       "      <td>0.0</td>\n",
       "      <td>...</td>\n",
       "      <td>0.305163</td>\n",
       "      <td>0</td>\n",
       "      <td>1</td>\n",
       "      <td>0</td>\n",
       "      <td>0</td>\n",
       "      <td>1</td>\n",
       "      <td>0</td>\n",
       "      <td>1</td>\n",
       "      <td>0</td>\n",
       "      <td>0</td>\n",
       "    </tr>\n",
       "    <tr>\n",
       "      <th>4917</th>\n",
       "      <td>9995</td>\n",
       "      <td>1</td>\n",
       "      <td>0</td>\n",
       "      <td>1</td>\n",
       "      <td>0.922193</td>\n",
       "      <td>2.164296</td>\n",
       "      <td>0.0</td>\n",
       "      <td>0.0</td>\n",
       "      <td>0.0</td>\n",
       "      <td>0.0</td>\n",
       "      <td>...</td>\n",
       "      <td>-0.017872</td>\n",
       "      <td>0</td>\n",
       "      <td>0</td>\n",
       "      <td>0</td>\n",
       "      <td>0</td>\n",
       "      <td>1</td>\n",
       "      <td>0</td>\n",
       "      <td>0</td>\n",
       "      <td>1</td>\n",
       "      <td>0</td>\n",
       "    </tr>\n",
       "  </tbody>\n",
       "</table>\n",
       "<p>4918 rows × 24 columns</p>\n",
       "</div>"
      ],
      "text/plain": [
       "      Unnamed: 0  Accomodation_Type  Reco_Insurance_Type  Is_Spouse  \\\n",
       "0           8578                  1                    0          1   \n",
       "1           2223                  0                    1          0   \n",
       "2            642                  1                    1          0   \n",
       "3           1392                  0                    1          0   \n",
       "4           7955                  1                    0          1   \n",
       "...          ...                ...                  ...        ...   \n",
       "4913        9983                  1                    1          0   \n",
       "4914        9988                  1                    1          0   \n",
       "4915        9990                  0                    1          0   \n",
       "4916        9991                  0                    1          0   \n",
       "4917        9995                  1                    0          1   \n",
       "\n",
       "      Holding_Policy_Duration  Reco_Policy_Premium   X1   X2   X3   X4  ...  \\\n",
       "0                    0.922193             1.977447  0.0  1.0  0.0  0.0  ...   \n",
       "1                    0.922193            -0.700290  1.0  0.0  0.0  0.0  ...   \n",
       "2                   -1.365008            -0.093980  1.0  0.0  0.0  0.0  ...   \n",
       "3                    0.922193            -0.319650  0.0  0.0  0.0  1.0  ...   \n",
       "4                   -0.133439             0.782628  0.0  1.0  0.0  0.0  ...   \n",
       "...                       ...                  ...  ...  ...  ...  ...  ...   \n",
       "4913                 0.746254             1.392600  0.0  0.0  0.0  1.0  ...   \n",
       "4914                -0.837193            -0.423805  1.0  0.0  0.0  0.0  ...   \n",
       "4915                 0.922193            -1.640213  0.0  1.0  0.0  0.0  ...   \n",
       "4916                -0.485316            -0.058946  1.0  0.0  0.0  0.0  ...   \n",
       "4917                 0.922193             2.164296  0.0  0.0  0.0  0.0  ...   \n",
       "\n",
       "           Age  City_Code_C10-C18  City_Code_C19-C27  City_Code_C28-C36  \\\n",
       "0     1.567939                  0                  0                  0   \n",
       "1    -0.928245                  0                  0                  0   \n",
       "2    -0.047239                  0                  1                  0   \n",
       "3    -0.047239                  0                  0                  0   \n",
       "4     0.070229                  0                  1                  0   \n",
       "...        ...                ...                ...                ...   \n",
       "4913  1.479838                  0                  0                  0   \n",
       "4914 -0.575843                  0                  0                  0   \n",
       "4915 -1.221914                  0                  1                  0   \n",
       "4916  0.305163                  0                  1                  0   \n",
       "4917 -0.017872                  0                  0                  0   \n",
       "\n",
       "      Holding_Policy_Type_2.0  Holding_Policy_Type_3.0  \\\n",
       "0                           0                        1   \n",
       "1                           0                        1   \n",
       "2                           0                        0   \n",
       "3                           0                        1   \n",
       "4                           0                        0   \n",
       "...                       ...                      ...   \n",
       "4913                        0                        1   \n",
       "4914                        0                        1   \n",
       "4915                        0                        1   \n",
       "4916                        0                        1   \n",
       "4917                        0                        1   \n",
       "\n",
       "      Holding_Policy_Type_4.0  Reco_Policy_Cat_12-15  Reco_Policy_Cat_16-22  \\\n",
       "0                           0                      0                      1   \n",
       "1                           0                      0                      0   \n",
       "2                           0                      0                      0   \n",
       "3                           0                      0                      1   \n",
       "4                           0                      1                      0   \n",
       "...                       ...                    ...                    ...   \n",
       "4913                        0                      0                      1   \n",
       "4914                        0                      0                      1   \n",
       "4915                        0                      0                      1   \n",
       "4916                        0                      1                      0   \n",
       "4917                        0                      0                      1   \n",
       "\n",
       "      Reco_Policy_Cat_6-11  \n",
       "0                        0  \n",
       "1                        0  \n",
       "2                        0  \n",
       "3                        0  \n",
       "4                        0  \n",
       "...                    ...  \n",
       "4913                     0  \n",
       "4914                     0  \n",
       "4915                     0  \n",
       "4916                     0  \n",
       "4917                     0  \n",
       "\n",
       "[4918 rows x 24 columns]"
      ]
     },
     "execution_count": 17,
     "metadata": {},
     "output_type": "execute_result"
    }
   ],
   "source": [
    "predicts"
   ]
  },
  {
   "cell_type": "code",
   "execution_count": 18,
   "metadata": {},
   "outputs": [],
   "source": [
    "from sklearn.model_selection import train_test_split"
   ]
  },
  {
   "cell_type": "code",
   "execution_count": 19,
   "metadata": {},
   "outputs": [],
   "source": [
    "x_train,x_test,y_train,y_test=train_test_split(predicts,response,test_size=0.2)"
   ]
  },
  {
   "cell_type": "code",
   "execution_count": 20,
   "metadata": {},
   "outputs": [
    {
     "name": "stdout",
     "output_type": "stream",
     "text": [
      "(3934, 24) (984, 24)\n"
     ]
    }
   ],
   "source": [
    "print(x_train.shape,x_test.shape)"
   ]
  },
  {
   "cell_type": "code",
   "execution_count": 21,
   "metadata": {},
   "outputs": [
    {
     "name": "stdout",
     "output_type": "stream",
     "text": [
      "(3934,) (984,)\n"
     ]
    }
   ],
   "source": [
    "print(y_train.shape,y_test.shape)"
   ]
  },
  {
   "cell_type": "markdown",
   "metadata": {},
   "source": [
    "## Model Building - Logistic Regression, SVM, KNN, DT, RF, Gradient Boosting, AdaBoosting etc\n",
    "\n",
    "For all the algorithms mentioned above, perform below mentioned steps.\n",
    "\n",
    "**To Do:**\n",
    "1. Train the Model using `Accuracy` as the evaluation metric\n",
    "2. Predict\n",
    "3. Evaluate use Accuracy, Confusion Matrix, Precision & Recall, F1-score and ROC AUC to understand model performance\n",
    "4. Compare the perormance of all the models"
   ]
  },
  {
   "cell_type": "code",
   "execution_count": 22,
   "metadata": {},
   "outputs": [],
   "source": [
    "performance_metrics_with_default_parameters=pd.DataFrame(index=['Accuracy','Precision','Recall','F1_score','AUC'])"
   ]
  },
  {
   "cell_type": "markdown",
   "metadata": {},
   "source": [
    "# Logistic Regression"
   ]
  },
  {
   "cell_type": "code",
   "execution_count": 23,
   "metadata": {},
   "outputs": [],
   "source": [
    "from sklearn.linear_model import LogisticRegression\n",
    "LR_model=LogisticRegression(max_iter=10000)"
   ]
  },
  {
   "cell_type": "code",
   "execution_count": 24,
   "metadata": {},
   "outputs": [
    {
     "name": "stdout",
     "output_type": "stream",
     "text": [
      "Training Accuracy :  0.5554143365531266\n"
     ]
    }
   ],
   "source": [
    "LR_model.fit(x_train,y_train)\n",
    "print('Training Accuracy : ',LR_model.score(x_train,y_train))"
   ]
  },
  {
   "cell_type": "code",
   "execution_count": 25,
   "metadata": {},
   "outputs": [
    {
     "name": "stdout",
     "output_type": "stream",
     "text": [
      "Testing Accuracy :  0.5264227642276422\n"
     ]
    }
   ],
   "source": [
    "lg_pred=LR_model.predict(x_test)\n",
    "print('Testing Accuracy : ',LR_model.score(x_test,y_test))"
   ]
  },
  {
   "cell_type": "code",
   "execution_count": 26,
   "metadata": {},
   "outputs": [],
   "source": [
    "from sklearn.metrics import accuracy_score,confusion_matrix,classification_report,precision_score,recall_score,f1_score,roc_auc_score"
   ]
  },
  {
   "cell_type": "code",
   "execution_count": 27,
   "metadata": {},
   "outputs": [
    {
     "data": {
      "text/plain": [
       "array([[234, 267],\n",
       "       [199, 284]], dtype=int64)"
      ]
     },
     "execution_count": 27,
     "metadata": {},
     "output_type": "execute_result"
    }
   ],
   "source": [
    "confusion_matrix(y_test,lg_pred)"
   ]
  },
  {
   "cell_type": "code",
   "execution_count": 28,
   "metadata": {},
   "outputs": [
    {
     "name": "stdout",
     "output_type": "stream",
     "text": [
      "              precision    recall  f1-score   support\n",
      "\n",
      "           0       0.54      0.47      0.50       501\n",
      "           1       0.52      0.59      0.55       483\n",
      "\n",
      "    accuracy                           0.53       984\n",
      "   macro avg       0.53      0.53      0.53       984\n",
      "weighted avg       0.53      0.53      0.52       984\n",
      "\n",
      "\n",
      "Accuracy is :  0.5264227642276422\n",
      "Precission :  0.515426497277677\n",
      "Recall :  0.587991718426501\n",
      "f1-score :  0.5493230174081237\n",
      "Roc Auc score :  0.527528793344987\n"
     ]
    }
   ],
   "source": [
    "print(classification_report(y_test,lg_pred))\n",
    "print()\n",
    "print('Accuracy is : ',accuracy_score(y_test,lg_pred))\n",
    "print('Precission : ',precision_score(y_test,lg_pred))\n",
    "print('Recall : ',recall_score(y_test,lg_pred))\n",
    "print('f1-score : ',f1_score(y_test,lg_pred))\n",
    "print('Roc Auc score : ',roc_auc_score(y_test,lg_pred))"
   ]
  },
  {
   "cell_type": "code",
   "execution_count": 29,
   "metadata": {},
   "outputs": [],
   "source": [
    "y_preds = LR_model.predict_proba(x_test)[:,1]"
   ]
  },
  {
   "cell_type": "code",
   "execution_count": 30,
   "metadata": {},
   "outputs": [
    {
     "name": "stdout",
     "output_type": "stream",
     "text": [
      "Area under the ROC curve :  0.5496171218639326\n"
     ]
    }
   ],
   "source": [
    "from sklearn.metrics import roc_curve,auc\n",
    "[fpr, tpr, thr] = roc_curve(y_test, y_preds)\n",
    "print('Area under the ROC curve : ',auc(fpr, tpr))"
   ]
  },
  {
   "cell_type": "code",
   "execution_count": 31,
   "metadata": {},
   "outputs": [
    {
     "data": {
      "image/png": "[encoded data removed]",
      "text/plain": [
       "<Figure size 432x288 with 1 Axes>"
      ]
     },
     "metadata": {
      "needs_background": "light"
     },
     "output_type": "display_data"
    }
   ],
   "source": [
    "plt.figure()\n",
    "plt.plot(fpr, tpr, color='coral', label = 'ROC Curve with Area Under Curve = '+str(auc (fpr, tpr)))\n",
    "plt.title('ROC curve for Logistic Regression',fontsize=15)\n",
    "plt.xlabel('False positive Rate (1 - specificity)')\n",
    "plt.ylabel('True Positive Rate ')\n",
    "plt.legend(loc='lower right')\n",
    "plt.show()"
   ]
  },
  {
   "cell_type": "code",
   "execution_count": 32,
   "metadata": {},
   "outputs": [],
   "source": [
    "performance_metrics_with_default_parameters['Logistic Regression']=[accuracy_score(y_test,lg_pred),\n",
    "                                                                    precision_score(y_test,lg_pred),\n",
    "                                                                    recall_score(y_test,lg_pred),\n",
    "                                                                    f1_score(y_test,lg_pred),\n",
    "                                                                    auc(fpr, tpr)]"
   ]
  },
  {
   "cell_type": "code",
   "execution_count": null,
   "metadata": {},
   "outputs": [],
   "source": []
  },
  {
   "cell_type": "markdown",
   "metadata": {},
   "source": [
    "# SVM"
   ]
  },
  {
   "cell_type": "code",
   "execution_count": 33,
   "metadata": {},
   "outputs": [],
   "source": [
    "from sklearn.svm import SVC\n",
    "svm_model=SVC(probability=True)"
   ]
  },
  {
   "cell_type": "code",
   "execution_count": 34,
   "metadata": {},
   "outputs": [
    {
     "name": "stdout",
     "output_type": "stream",
     "text": [
      "Training Accuracy :  0.5063548551093036\n"
     ]
    }
   ],
   "source": [
    "svm_model.fit(x_train,y_train)\n",
    "print('Training Accuracy : ',svm_model.score(x_train,y_train))"
   ]
  },
  {
   "cell_type": "code",
   "execution_count": 35,
   "metadata": {},
   "outputs": [
    {
     "name": "stdout",
     "output_type": "stream",
     "text": [
      "Testing Accuracy :  0.47459349593495936\n"
     ]
    }
   ],
   "source": [
    "sv_pred=svm_model.predict(x_test)\n",
    "print('Testing Accuracy : ',svm_model.score(x_test,y_test))"
   ]
  },
  {
   "cell_type": "code",
   "execution_count": 36,
   "metadata": {},
   "outputs": [
    {
     "data": {
      "text/plain": [
       "array([[154, 347],\n",
       "       [170, 313]], dtype=int64)"
      ]
     },
     "execution_count": 36,
     "metadata": {},
     "output_type": "execute_result"
    }
   ],
   "source": [
    "confusion_matrix(y_test,sv_pred)"
   ]
  },
  {
   "cell_type": "code",
   "execution_count": 37,
   "metadata": {},
   "outputs": [
    {
     "name": "stdout",
     "output_type": "stream",
     "text": [
      "              precision    recall  f1-score   support\n",
      "\n",
      "           0       0.48      0.31      0.37       501\n",
      "           1       0.47      0.65      0.55       483\n",
      "\n",
      "    accuracy                           0.47       984\n",
      "   macro avg       0.47      0.48      0.46       984\n",
      "weighted avg       0.47      0.47      0.46       984\n",
      "\n",
      "\n",
      "Accuracy is :  0.47459349593495936\n",
      "Precission :  0.47424242424242424\n",
      "Recall :  0.6480331262939959\n",
      "f1-score :  0.5476815398075241\n",
      "Roc Auc score :  0.4777091779174571\n"
     ]
    }
   ],
   "source": [
    "print(classification_report(y_test,sv_pred))\n",
    "print()\n",
    "print('Accuracy is : ',accuracy_score(y_test,sv_pred))\n",
    "print('Precission : ',precision_score(y_test,sv_pred))\n",
    "print('Recall : ',recall_score(y_test,sv_pred))\n",
    "print('f1-score : ',f1_score(y_test,sv_pred))\n",
    "print('Roc Auc score : ',roc_auc_score(y_test,sv_pred))"
   ]
  },
  {
   "cell_type": "code",
   "execution_count": 38,
   "metadata": {},
   "outputs": [],
   "source": [
    "y_preds = svm_model.predict_proba(x_test)[:,1]"
   ]
  },
  {
   "cell_type": "code",
   "execution_count": 39,
   "metadata": {},
   "outputs": [
    {
     "name": "stdout",
     "output_type": "stream",
     "text": [
      "Area under the ROC curve :  0.5284503456854407\n"
     ]
    }
   ],
   "source": [
    "[fpr, tpr, thr] = roc_curve(y_test, y_preds)\n",
    "print('Area under the ROC curve : ',auc(fpr, tpr))"
   ]
  },
  {
   "cell_type": "code",
   "execution_count": 40,
   "metadata": {
    "scrolled": true
   },
   "outputs": [
    {
     "data": {
      "image/png": "[encoded data removed]",
      "text/plain": [
       "<Figure size 432x288 with 1 Axes>"
      ]
     },
     "metadata": {
      "needs_background": "light"
     },
     "output_type": "display_data"
    }
   ],
   "source": [
    "plt.figure()\n",
    "plt.plot(fpr, tpr, color='coral', label = 'ROC Curve with Area Under Curve = '+str(auc (fpr, tpr)))\n",
    "plt.title('ROC curve for SVM ',fontsize=15)\n",
    "plt.xlabel('False positive Rate (1 - specificity)')\n",
    "plt.ylabel('True Positive Rate ')\n",
    "plt.legend(loc='lower right')\n",
    "plt.show()"
   ]
  },
  {
   "cell_type": "code",
   "execution_count": 41,
   "metadata": {},
   "outputs": [],
   "source": [
    "performance_metrics_with_default_parameters['SVM']=[accuracy_score(y_test,sv_pred),\n",
    "                                                                    precision_score(y_test,sv_pred),\n",
    "                                                                    recall_score(y_test,sv_pred),\n",
    "                                                                    f1_score(y_test,sv_pred),\n",
    "                                                                    auc(fpr, tpr)]"
   ]
  },
  {
   "cell_type": "markdown",
   "metadata": {},
   "source": [
    "# Decision Tree"
   ]
  },
  {
   "cell_type": "code",
   "execution_count": 42,
   "metadata": {},
   "outputs": [],
   "source": [
    "from sklearn.tree import DecisionTreeClassifier\n",
    "dt_model=DecisionTreeClassifier()"
   ]
  },
  {
   "cell_type": "code",
   "execution_count": 43,
   "metadata": {},
   "outputs": [
    {
     "name": "stdout",
     "output_type": "stream",
     "text": [
      "Training Accuracy :  1.0\n"
     ]
    }
   ],
   "source": [
    "dt_model.fit(x_train,y_train)\n",
    "print('Training Accuracy : ',dt_model.score(x_train,y_train))"
   ]
  },
  {
   "cell_type": "code",
   "execution_count": 44,
   "metadata": {},
   "outputs": [
    {
     "name": "stdout",
     "output_type": "stream",
     "text": [
      "Testing Accuracy :  0.5264227642276422\n"
     ]
    }
   ],
   "source": [
    "dt_pred=dt_model.predict(x_test)\n",
    "print('Testing Accuracy : ',dt_model.score(x_test,y_test))"
   ]
  },
  {
   "cell_type": "code",
   "execution_count": 45,
   "metadata": {},
   "outputs": [
    {
     "data": {
      "text/plain": [
       "array([[260, 241],\n",
       "       [225, 258]], dtype=int64)"
      ]
     },
     "execution_count": 45,
     "metadata": {},
     "output_type": "execute_result"
    }
   ],
   "source": [
    "confusion_matrix(y_test,dt_pred)"
   ]
  },
  {
   "cell_type": "code",
   "execution_count": 46,
   "metadata": {},
   "outputs": [
    {
     "name": "stdout",
     "output_type": "stream",
     "text": [
      "              precision    recall  f1-score   support\n",
      "\n",
      "           0       0.54      0.52      0.53       501\n",
      "           1       0.52      0.53      0.53       483\n",
      "\n",
      "    accuracy                           0.53       984\n",
      "   macro avg       0.53      0.53      0.53       984\n",
      "weighted avg       0.53      0.53      0.53       984\n",
      "\n",
      "\n",
      "Accuracy is :  0.5264227642276422\n",
      "Precission :  0.5170340681362725\n",
      "Recall :  0.5341614906832298\n",
      "f1-score :  0.5254582484725051\n",
      "Roc Auc score :  0.5265617832657665\n"
     ]
    }
   ],
   "source": [
    "print(classification_report(y_test,dt_pred))\n",
    "print()\n",
    "print('Accuracy is : ',accuracy_score(y_test,dt_pred))\n",
    "print('Precission : ',precision_score(y_test,dt_pred))\n",
    "print('Recall : ',recall_score(y_test,dt_pred))\n",
    "print('f1-score : ',f1_score(y_test,dt_pred))\n",
    "print('Roc Auc score : ',roc_auc_score(y_test,dt_pred))"
   ]
  },
  {
   "cell_type": "code",
   "execution_count": 47,
   "metadata": {},
   "outputs": [],
   "source": [
    "y_preds = dt_model.predict_proba(x_test)[:,1]"
   ]
  },
  {
   "cell_type": "code",
   "execution_count": 48,
   "metadata": {},
   "outputs": [
    {
     "name": "stdout",
     "output_type": "stream",
     "text": [
      "Area under the ROC curve :  0.5265617832657665\n"
     ]
    }
   ],
   "source": [
    "[fpr, tpr, thr] = roc_curve(y_test, y_preds)\n",
    "print('Area under the ROC curve : ',auc(fpr, tpr))"
   ]
  },
  {
   "cell_type": "code",
   "execution_count": 49,
   "metadata": {},
   "outputs": [
    {
     "data": {
      "image/png": "[encoded data removed]",
      "text/plain": [
       "<Figure size 432x288 with 1 Axes>"
      ]
     },
     "metadata": {
      "needs_background": "light"
     },
     "output_type": "display_data"
    }
   ],
   "source": [
    "plt.figure()\n",
    "plt.plot(fpr, tpr, color='coral', label = 'ROC Curve with Area Under Curve = '+str(auc (fpr, tpr)))\n",
    "plt.title('ROC curve for Decision Tree',fontsize=15)\n",
    "plt.xlabel('False positive Rate (1 - specificity)')\n",
    "plt.ylabel('True Positive Rate ')\n",
    "plt.legend(loc='lower right')\n",
    "plt.show()"
   ]
  },
  {
   "cell_type": "code",
   "execution_count": 50,
   "metadata": {},
   "outputs": [],
   "source": [
    "performance_metrics_with_default_parameters['Decision Tree']=[accuracy_score(y_test,dt_pred),\n",
    "                                                                    precision_score(y_test,dt_pred),\n",
    "                                                                    recall_score(y_test,dt_pred),\n",
    "                                                                    f1_score(y_test,dt_pred),\n",
    "                                                                    auc(fpr, tpr)]"
   ]
  },
  {
   "cell_type": "markdown",
   "metadata": {},
   "source": [
    "# Random Forest"
   ]
  },
  {
   "cell_type": "code",
   "execution_count": 51,
   "metadata": {},
   "outputs": [],
   "source": [
    "from sklearn.ensemble import RandomForestClassifier\n",
    "rf_model=RandomForestClassifier()"
   ]
  },
  {
   "cell_type": "code",
   "execution_count": 52,
   "metadata": {},
   "outputs": [
    {
     "name": "stdout",
     "output_type": "stream",
     "text": [
      "Training Accuracy :  1.0\n"
     ]
    }
   ],
   "source": [
    "rf_model.fit(x_train,y_train)\n",
    "print('Training Accuracy : ',rf_model.score(x_train,y_train))"
   ]
  },
  {
   "cell_type": "code",
   "execution_count": 53,
   "metadata": {},
   "outputs": [
    {
     "name": "stdout",
     "output_type": "stream",
     "text": [
      "Testing Accuracy :  0.5101626016260162\n"
     ]
    }
   ],
   "source": [
    "rf_pred=rf_model.predict(x_test)\n",
    "print('Testing Accuracy : ',rf_model.score(x_test,y_test))"
   ]
  },
  {
   "cell_type": "code",
   "execution_count": 54,
   "metadata": {},
   "outputs": [
    {
     "data": {
      "text/plain": [
       "array([[260, 241],\n",
       "       [241, 242]], dtype=int64)"
      ]
     },
     "execution_count": 54,
     "metadata": {},
     "output_type": "execute_result"
    }
   ],
   "source": [
    "confusion_matrix(y_test,rf_pred)"
   ]
  },
  {
   "cell_type": "code",
   "execution_count": 55,
   "metadata": {},
   "outputs": [
    {
     "name": "stdout",
     "output_type": "stream",
     "text": [
      "              precision    recall  f1-score   support\n",
      "\n",
      "           0       0.52      0.52      0.52       501\n",
      "           1       0.50      0.50      0.50       483\n",
      "\n",
      "    accuracy                           0.51       984\n",
      "   macro avg       0.51      0.51      0.51       984\n",
      "weighted avg       0.51      0.51      0.51       984\n",
      "\n",
      "\n",
      "Accuracy is :  0.5101626016260162\n",
      "Precission :  0.5010351966873706\n",
      "Recall :  0.5010351966873706\n",
      "f1-score :  0.5010351966873706\n",
      "Roc Auc score :  0.509998636267837\n"
     ]
    }
   ],
   "source": [
    "print(classification_report(y_test,rf_pred))\n",
    "print()\n",
    "print('Accuracy is : ',accuracy_score(y_test,rf_pred))\n",
    "print('Precission : ',precision_score(y_test,rf_pred))\n",
    "print('Recall : ',recall_score(y_test,rf_pred))\n",
    "print('f1-score : ',f1_score(y_test,rf_pred))\n",
    "print('Roc Auc score : ',roc_auc_score(y_test,rf_pred))"
   ]
  },
  {
   "cell_type": "code",
   "execution_count": 56,
   "metadata": {},
   "outputs": [],
   "source": [
    "y_preds = rf_model.predict_proba(x_test)[:,1]"
   ]
  },
  {
   "cell_type": "code",
   "execution_count": 57,
   "metadata": {},
   "outputs": [
    {
     "name": "stdout",
     "output_type": "stream",
     "text": [
      "Area under the ROC curve :  0.5256629597946962\n"
     ]
    }
   ],
   "source": [
    "[fpr, tpr, thr] = roc_curve(y_test, y_preds)\n",
    "print('Area under the ROC curve : ',auc(fpr, tpr))"
   ]
  },
  {
   "cell_type": "code",
   "execution_count": 58,
   "metadata": {},
   "outputs": [
    {
     "data": {
      "image/png": "[encoded data removed]",
      "text/plain": [
       "<Figure size 432x288 with 1 Axes>"
      ]
     },
     "metadata": {
      "needs_background": "light"
     },
     "output_type": "display_data"
    }
   ],
   "source": [
    "plt.figure()\n",
    "plt.plot(fpr, tpr, color='coral', label = 'ROC Curve with Area Under Curve = '+str(auc (fpr, tpr)))\n",
    "plt.title('ROC curve for Random forest',fontsize=15)\n",
    "plt.xlabel('False positive Rate (1 - specificity)')\n",
    "plt.ylabel('True Positive Rate ')\n",
    "plt.legend(loc='lower right')\n",
    "plt.show()"
   ]
  },
  {
   "cell_type": "code",
   "execution_count": 59,
   "metadata": {},
   "outputs": [],
   "source": [
    "performance_metrics_with_default_parameters['Random Forest']=[accuracy_score(y_test,rf_pred),\n",
    "                                                                    precision_score(y_test,rf_pred),\n",
    "                                                                    recall_score(y_test,rf_pred),\n",
    "                                                                    f1_score(y_test,rf_pred),\n",
    "                                                                    auc(fpr, tpr)]"
   ]
  },
  {
   "cell_type": "markdown",
   "metadata": {},
   "source": [
    "# KNN"
   ]
  },
  {
   "cell_type": "code",
   "execution_count": 60,
   "metadata": {},
   "outputs": [],
   "source": [
    "from sklearn.neighbors import KNeighborsClassifier\n",
    "knn_model=KNeighborsClassifier()"
   ]
  },
  {
   "cell_type": "code",
   "execution_count": 61,
   "metadata": {},
   "outputs": [
    {
     "name": "stdout",
     "output_type": "stream",
     "text": [
      "Training Accuracy :  0.688357905439756\n"
     ]
    }
   ],
   "source": [
    "knn_model.fit(x_train,y_train)\n",
    "print('Training Accuracy : ',knn_model.score(x_train,y_train))"
   ]
  },
  {
   "cell_type": "code",
   "execution_count": 62,
   "metadata": {},
   "outputs": [
    {
     "name": "stdout",
     "output_type": "stream",
     "text": [
      "Testing Accuracy :  0.532520325203252\n"
     ]
    }
   ],
   "source": [
    "kn_pred=knn_model.predict(x_test)\n",
    "print('Testing Accuracy : ',knn_model.score(x_test,y_test))"
   ]
  },
  {
   "cell_type": "code",
   "execution_count": 63,
   "metadata": {},
   "outputs": [
    {
     "data": {
      "text/plain": [
       "array([[265, 236],\n",
       "       [224, 259]], dtype=int64)"
      ]
     },
     "execution_count": 63,
     "metadata": {},
     "output_type": "execute_result"
    }
   ],
   "source": [
    "confusion_matrix(y_test,kn_pred)"
   ]
  },
  {
   "cell_type": "code",
   "execution_count": 64,
   "metadata": {},
   "outputs": [
    {
     "name": "stdout",
     "output_type": "stream",
     "text": [
      "              precision    recall  f1-score   support\n",
      "\n",
      "           0       0.54      0.53      0.54       501\n",
      "           1       0.52      0.54      0.53       483\n",
      "\n",
      "    accuracy                           0.53       984\n",
      "   macro avg       0.53      0.53      0.53       984\n",
      "weighted avg       0.53      0.53      0.53       984\n",
      "\n",
      "\n",
      "Accuracy is :  0.532520325203252\n",
      "Precission :  0.5232323232323233\n",
      "Recall :  0.5362318840579711\n",
      "f1-score :  0.5296523517382413\n",
      "Roc Auc score :  0.5325869999132171\n"
     ]
    }
   ],
   "source": [
    "print(classification_report(y_test,kn_pred))\n",
    "print()\n",
    "print('Accuracy is : ',accuracy_score(y_test,kn_pred))\n",
    "print('Precission : ',precision_score(y_test,kn_pred))\n",
    "print('Recall : ',recall_score(y_test,kn_pred))\n",
    "print('f1-score : ',f1_score(y_test,kn_pred))\n",
    "print('Roc Auc score : ',roc_auc_score(y_test,kn_pred))"
   ]
  },
  {
   "cell_type": "code",
   "execution_count": 65,
   "metadata": {},
   "outputs": [
    {
     "name": "stdout",
     "output_type": "stream",
     "text": [
      "Area under the ROC curve :  0.5414760541029743\n"
     ]
    }
   ],
   "source": [
    "y_preds = knn_model.predict_proba(x_test)[:,1]\n",
    "[fpr, tpr, thr] = roc_curve(y_test, y_preds)\n",
    "print('Area under the ROC curve : ',auc(fpr, tpr))"
   ]
  },
  {
   "cell_type": "code",
   "execution_count": 66,
   "metadata": {},
   "outputs": [
    {
     "data": {
      "image/png": "[encoded data removed]",
      "text/plain": [
       "<Figure size 432x288 with 1 Axes>"
      ]
     },
     "metadata": {
      "needs_background": "light"
     },
     "output_type": "display_data"
    }
   ],
   "source": [
    "plt.figure()\n",
    "plt.plot(fpr, tpr, color='coral', label = 'ROC Curve with Area Under Curve = '+str(auc (fpr, tpr)))\n",
    "plt.title('ROC curve for KNN',fontsize=15)\n",
    "plt.xlabel('False positive Rate (1 - specificity)')\n",
    "plt.ylabel('True Positive Rate ')\n",
    "plt.legend(loc='lower right')\n",
    "plt.show()"
   ]
  },
  {
   "cell_type": "code",
   "execution_count": 67,
   "metadata": {},
   "outputs": [],
   "source": [
    "performance_metrics_with_default_parameters['KNN']=[accuracy_score(y_test,kn_pred),\n",
    "                                                                    precision_score(y_test,kn_pred),\n",
    "                                                                    recall_score(y_test,kn_pred),\n",
    "                                                                    f1_score(y_test,kn_pred),\n",
    "                                                                    auc(fpr, tpr)]"
   ]
  },
  {
   "cell_type": "markdown",
   "metadata": {},
   "source": [
    "# Adaboosting"
   ]
  },
  {
   "cell_type": "code",
   "execution_count": 68,
   "metadata": {},
   "outputs": [],
   "source": [
    "from sklearn.ensemble import AdaBoostClassifier\n",
    "adaboost=AdaBoostClassifier()"
   ]
  },
  {
   "cell_type": "code",
   "execution_count": 69,
   "metadata": {},
   "outputs": [
    {
     "name": "stdout",
     "output_type": "stream",
     "text": [
      "Training Accuracy :  0.5920183019827148\n"
     ]
    }
   ],
   "source": [
    "adaboost.fit(x_train,y_train)\n",
    "print('Training Accuracy : ',adaboost.score(x_train,y_train))"
   ]
  },
  {
   "cell_type": "code",
   "execution_count": 70,
   "metadata": {},
   "outputs": [
    {
     "name": "stdout",
     "output_type": "stream",
     "text": [
      "Testing Accuracy :  0.5711382113821138\n"
     ]
    }
   ],
   "source": [
    "ad_pred=adaboost.predict(x_test)\n",
    "print('Testing Accuracy : ',adaboost.score(x_test,y_test))"
   ]
  },
  {
   "cell_type": "code",
   "execution_count": 71,
   "metadata": {},
   "outputs": [
    {
     "data": {
      "text/plain": [
       "array([[249, 252],\n",
       "       [170, 313]], dtype=int64)"
      ]
     },
     "execution_count": 71,
     "metadata": {},
     "output_type": "execute_result"
    }
   ],
   "source": [
    "confusion_matrix(y_test,ad_pred)"
   ]
  },
  {
   "cell_type": "code",
   "execution_count": 72,
   "metadata": {},
   "outputs": [
    {
     "name": "stdout",
     "output_type": "stream",
     "text": [
      "              precision    recall  f1-score   support\n",
      "\n",
      "           0       0.59      0.50      0.54       501\n",
      "           1       0.55      0.65      0.60       483\n",
      "\n",
      "    accuracy                           0.57       984\n",
      "   macro avg       0.57      0.57      0.57       984\n",
      "weighted avg       0.57      0.57      0.57       984\n",
      "\n",
      "\n",
      "Accuracy is :  0.5711382113821138\n",
      "Precission :  0.5539823008849557\n",
      "Recall :  0.6480331262939959\n",
      "f1-score :  0.5973282442748091\n",
      "Roc Auc score :  0.5725195571589741\n"
     ]
    }
   ],
   "source": [
    "print(classification_report(y_test,ad_pred))\n",
    "print()\n",
    "print('Accuracy is : ',accuracy_score(y_test,ad_pred))\n",
    "print('Precission : ',precision_score(y_test,ad_pred))\n",
    "print('Recall : ',recall_score(y_test,ad_pred))\n",
    "print('f1-score : ',f1_score(y_test,ad_pred))\n",
    "print('Roc Auc score : ',roc_auc_score(y_test,ad_pred))"
   ]
  },
  {
   "cell_type": "code",
   "execution_count": 73,
   "metadata": {},
   "outputs": [
    {
     "name": "stdout",
     "output_type": "stream",
     "text": [
      "Area under the ROC curve :  0.5977754635656224\n"
     ]
    }
   ],
   "source": [
    "y_preds = adaboost.predict_proba(x_test)[:,1]\n",
    "[fpr, tpr, thr] = roc_curve(y_test, y_preds)\n",
    "print('Area under the ROC curve : ',auc(fpr, tpr))"
   ]
  },
  {
   "cell_type": "code",
   "execution_count": 74,
   "metadata": {},
   "outputs": [
    {
     "data": {
      "image/png": "[encoded data removed]",
      "text/plain": [
       "<Figure size 432x288 with 1 Axes>"
      ]
     },
     "metadata": {
      "needs_background": "light"
     },
     "output_type": "display_data"
    }
   ],
   "source": [
    "plt.figure()\n",
    "plt.plot(fpr, tpr, color='coral', label = 'ROC Curve with Area Under Curve = '+str(auc (fpr, tpr)))\n",
    "plt.title('ROC curve for Adaboost',fontsize=15)\n",
    "plt.xlabel('False positive Rate (1 - specificity)')\n",
    "plt.ylabel('True Positive Rate ')\n",
    "plt.legend(loc='lower right')\n",
    "plt.show()"
   ]
  },
  {
   "cell_type": "code",
   "execution_count": 75,
   "metadata": {},
   "outputs": [],
   "source": [
    "performance_metrics_with_default_parameters['Adaboosting']=[accuracy_score(y_test,ad_pred),\n",
    "                                                                    precision_score(y_test,ad_pred),\n",
    "                                                                    recall_score(y_test,ad_pred),\n",
    "                                                                    f1_score(y_test,ad_pred),\n",
    "                                                                    auc(fpr, tpr)]"
   ]
  },
  {
   "cell_type": "markdown",
   "metadata": {},
   "source": [
    "# Gradient Boosting"
   ]
  },
  {
   "cell_type": "code",
   "execution_count": 76,
   "metadata": {},
   "outputs": [],
   "source": [
    "from sklearn.ensemble import GradientBoostingClassifier\n",
    "gb_model=GradientBoostingClassifier()"
   ]
  },
  {
   "cell_type": "code",
   "execution_count": 77,
   "metadata": {},
   "outputs": [
    {
     "name": "stdout",
     "output_type": "stream",
     "text": [
      "Training Accuracy :  0.6690391459074733\n"
     ]
    }
   ],
   "source": [
    "gb_model.fit(x_train,y_train)\n",
    "print('Training Accuracy : ',gb_model.score(x_train,y_train))"
   ]
  },
  {
   "cell_type": "code",
   "execution_count": 78,
   "metadata": {},
   "outputs": [
    {
     "name": "stdout",
     "output_type": "stream",
     "text": [
      "Testing Accuracy :  0.5934959349593496\n"
     ]
    }
   ],
   "source": [
    "gb_pred=gb_model.predict(x_test)\n",
    "print('Testing Accuracy : ',gb_model.score(x_test,y_test))"
   ]
  },
  {
   "cell_type": "code",
   "execution_count": 79,
   "metadata": {},
   "outputs": [
    {
     "data": {
      "text/plain": [
       "array([[269, 232],\n",
       "       [168, 315]], dtype=int64)"
      ]
     },
     "execution_count": 79,
     "metadata": {},
     "output_type": "execute_result"
    }
   ],
   "source": [
    "confusion_matrix(y_test,gb_pred)"
   ]
  },
  {
   "cell_type": "code",
   "execution_count": 80,
   "metadata": {},
   "outputs": [
    {
     "name": "stdout",
     "output_type": "stream",
     "text": [
      "              precision    recall  f1-score   support\n",
      "\n",
      "           0       0.62      0.54      0.57       501\n",
      "           1       0.58      0.65      0.61       483\n",
      "\n",
      "    accuracy                           0.59       984\n",
      "   macro avg       0.60      0.59      0.59       984\n",
      "weighted avg       0.60      0.59      0.59       984\n",
      "\n",
      "\n",
      "Accuracy is :  0.5934959349593496\n",
      "Precission :  0.5758683729433273\n",
      "Recall :  0.6521739130434783\n",
      "f1-score :  0.6116504854368932\n",
      "Roc Auc score :  0.5945500303740345\n"
     ]
    }
   ],
   "source": [
    "print(classification_report(y_test,gb_pred))\n",
    "print()\n",
    "print('Accuracy is : ',accuracy_score(y_test,gb_pred))\n",
    "print('Precission : ',precision_score(y_test,gb_pred))\n",
    "print('Recall : ',recall_score(y_test,gb_pred))\n",
    "print('f1-score : ',f1_score(y_test,gb_pred))\n",
    "print('Roc Auc score : ',roc_auc_score(y_test,gb_pred))"
   ]
  },
  {
   "cell_type": "code",
   "execution_count": 81,
   "metadata": {},
   "outputs": [
    {
     "name": "stdout",
     "output_type": "stream",
     "text": [
      "Area under the ROC curve :  0.608402243132782\n"
     ]
    }
   ],
   "source": [
    "y_preds = gb_model.predict_proba(x_test)[:,1]\n",
    "[fpr, tpr, thr] = roc_curve(y_test, y_preds)\n",
    "print('Area under the ROC curve : ',auc(fpr, tpr))"
   ]
  },
  {
   "cell_type": "code",
   "execution_count": 82,
   "metadata": {},
   "outputs": [
    {
     "data": {
      "image/png": "[encoded data removed]",
      "text/plain": [
       "<Figure size 432x288 with 1 Axes>"
      ]
     },
     "metadata": {
      "needs_background": "light"
     },
     "output_type": "display_data"
    }
   ],
   "source": [
    "plt.figure()\n",
    "plt.plot(fpr, tpr, color='coral', label = 'ROC Curve with Area Under Curve = '+str(auc (fpr, tpr)))\n",
    "plt.title('ROC curve for Gradient Boosting',fontsize=15)\n",
    "plt.xlabel('False positive Rate (1 - specificity)')\n",
    "plt.ylabel('True Positive Rate ')\n",
    "plt.legend(loc='lower right')\n",
    "plt.show()"
   ]
  },
  {
   "cell_type": "code",
   "execution_count": 83,
   "metadata": {},
   "outputs": [],
   "source": [
    "performance_metrics_with_default_parameters['Gradient Boosting']=[accuracy_score(y_test,gb_pred),\n",
    "                                                                    precision_score(y_test,gb_pred),\n",
    "                                                                    recall_score(y_test,gb_pred),\n",
    "                                                                    f1_score(y_test,gb_pred),\n",
    "                                                                    auc(fpr, tpr)]"
   ]
  },
  {
   "cell_type": "markdown",
   "metadata": {},
   "source": [
    "# Comparing performance"
   ]
  },
  {
   "cell_type": "code",
   "execution_count": 84,
   "metadata": {},
   "outputs": [
    {
     "data": {
      "text/html": [
       "<div>\n",
       "<style scoped>\n",
       "    .dataframe tbody tr th:only-of-type {\n",
       "        vertical-align: middle;\n",
       "    }\n",
       "\n",
       "    .dataframe tbody tr th {\n",
       "        vertical-align: top;\n",
       "    }\n",
       "\n",
       "    .dataframe thead th {\n",
       "        text-align: right;\n",
       "    }\n",
       "</style>\n",
       "<table border=\"1\" class=\"dataframe\">\n",
       "  <thead>\n",
       "    <tr style=\"text-align: right;\">\n",
       "      <th></th>\n",
       "      <th>Logistic Regression</th>\n",
       "      <th>SVM</th>\n",
       "      <th>Decision Tree</th>\n",
       "      <th>Random Forest</th>\n",
       "      <th>KNN</th>\n",
       "      <th>Adaboosting</th>\n",
       "      <th>Gradient Boosting</th>\n",
       "    </tr>\n",
       "  </thead>\n",
       "  <tbody>\n",
       "    <tr>\n",
       "      <th>Accuracy</th>\n",
       "      <td>0.526423</td>\n",
       "      <td>0.474593</td>\n",
       "      <td>0.526423</td>\n",
       "      <td>0.510163</td>\n",
       "      <td>0.532520</td>\n",
       "      <td>0.571138</td>\n",
       "      <td>0.593496</td>\n",
       "    </tr>\n",
       "    <tr>\n",
       "      <th>Precision</th>\n",
       "      <td>0.515426</td>\n",
       "      <td>0.474242</td>\n",
       "      <td>0.517034</td>\n",
       "      <td>0.501035</td>\n",
       "      <td>0.523232</td>\n",
       "      <td>0.553982</td>\n",
       "      <td>0.575868</td>\n",
       "    </tr>\n",
       "    <tr>\n",
       "      <th>Recall</th>\n",
       "      <td>0.587992</td>\n",
       "      <td>0.648033</td>\n",
       "      <td>0.534161</td>\n",
       "      <td>0.501035</td>\n",
       "      <td>0.536232</td>\n",
       "      <td>0.648033</td>\n",
       "      <td>0.652174</td>\n",
       "    </tr>\n",
       "    <tr>\n",
       "      <th>F1_score</th>\n",
       "      <td>0.549323</td>\n",
       "      <td>0.547682</td>\n",
       "      <td>0.525458</td>\n",
       "      <td>0.501035</td>\n",
       "      <td>0.529652</td>\n",
       "      <td>0.597328</td>\n",
       "      <td>0.611650</td>\n",
       "    </tr>\n",
       "    <tr>\n",
       "      <th>AUC</th>\n",
       "      <td>0.549617</td>\n",
       "      <td>0.528450</td>\n",
       "      <td>0.526562</td>\n",
       "      <td>0.525663</td>\n",
       "      <td>0.541476</td>\n",
       "      <td>0.597775</td>\n",
       "      <td>0.608402</td>\n",
       "    </tr>\n",
       "  </tbody>\n",
       "</table>\n",
       "</div>"
      ],
      "text/plain": [
       "           Logistic Regression       SVM  Decision Tree  Random Forest  \\\n",
       "Accuracy              0.526423  0.474593       0.526423       0.510163   \n",
       "Precision             0.515426  0.474242       0.517034       0.501035   \n",
       "Recall                0.587992  0.648033       0.534161       0.501035   \n",
       "F1_score              0.549323  0.547682       0.525458       0.501035   \n",
       "AUC                   0.549617  0.528450       0.526562       0.525663   \n",
       "\n",
       "                KNN  Adaboosting  Gradient Boosting  \n",
       "Accuracy   0.532520     0.571138           0.593496  \n",
       "Precision  0.523232     0.553982           0.575868  \n",
       "Recall     0.536232     0.648033           0.652174  \n",
       "F1_score   0.529652     0.597328           0.611650  \n",
       "AUC        0.541476     0.597775           0.608402  "
      ]
     },
     "execution_count": 84,
     "metadata": {},
     "output_type": "execute_result"
    }
   ],
   "source": [
    "performance_metrics_with_default_parameters"
   ]
  },
  {
   "cell_type": "code",
   "execution_count": 85,
   "metadata": {
    "scrolled": true
   },
   "outputs": [
    {
     "name": "stdout",
     "output_type": "stream",
     "text": [
      "Logistic Regression Model Accuracy :  0.5264227642276422\n",
      "SVM Model Accuracy :  0.47459349593495936\n",
      "KNeighborsClassifier Model Accuracy :  0.532520325203252\n",
      "DecisionTreeClassifier Model Accuracy :  0.5264227642276422\n",
      "RandomForestClassifier Model Accuracy :  0.5101626016260162\n",
      "GradientBoostingClassifier Model Accuracy :  0.5934959349593496\n",
      "AdaBoostClassifier Model Accuracy :  0.5711382113821138\n"
     ]
    }
   ],
   "source": [
    "print('Logistic Regression Model Accuracy : ', accuracy_score(y_test,lg_pred))\n",
    "print('SVM Model Accuracy : ', accuracy_score(y_test,sv_pred))\n",
    "print('KNeighborsClassifier Model Accuracy : ', accuracy_score(y_test,kn_pred))\n",
    "print('DecisionTreeClassifier Model Accuracy : ', accuracy_score(y_test,dt_pred))\n",
    "print('RandomForestClassifier Model Accuracy : ', accuracy_score(y_test,rf_pred))\n",
    "print('GradientBoostingClassifier Model Accuracy : ', accuracy_score(y_test,gb_pred))\n",
    "print('AdaBoostClassifier Model Accuracy : ', accuracy_score(y_test,ad_pred))"
   ]
  },
  {
   "cell_type": "code",
   "execution_count": 3,
   "metadata": {},
   "outputs": [
    {
     "data": {
      "image/png": "[encoded data removed]",
      "text/plain": [
       "<Figure size 1440x720 with 1 Axes>"
      ]
     },
     "metadata": {
      "needs_background": "light"
     },
     "output_type": "display_data"
    }
   ],
   "source": [
    "x = np.array([\"Logistic_Reg\",\"SVM\", \"KNN\", \"Decision_Tree\", \"Random_Forest\", \"Gradient_Boosting\", \"AdaBoost\"])\n",
    "y = np.array([0.5264,0.4745,0.5325,0.5264,0.5101,0.5934,0.5711])\n",
    "width = 0.6\n",
    "plt.figure(figsize=[20,10])\n",
    "plt.bar(x,y,width)\n",
    "plt.xlabel('Models')\n",
    "plt.ylabel('Accuracy')\n",
    "plt.title('Accuracy of Different Algorithms using Hyperparameter')\n",
    "plt.show()\n"
   ]
  },
  {
   "cell_type": "code",
   "execution_count": null,
   "metadata": {},
   "outputs": [],
   "source": []
  },
  {
   "cell_type": "markdown",
   "metadata": {},
   "source": [
    "# Some conclusion \n",
    "###### Here we conclude that all the models having good accuracy instead of SVM and KNN.\n",
    "###### Reco_Policy_Cat, Holding_Policy_Type are most imported features\n",
    "###### If Holding_Policy_Type is of type 1 or 3, then they have more chances of cross selling insurance\n",
    "###### If Holding policy duration in in bet 1, 2, 4 or more than 14 years then we have more chance to cross sell"
   ]
  },
  {
   "cell_type": "code",
   "execution_count": null,
   "metadata": {},
   "outputs": [],
   "source": []
  }
 ],
 "metadata": {
  "kernelspec": {
   "display_name": "Python 3",
   "language": "python",
   "name": "python3"
  },
  "language_info": {
   "codemirror_mode": {
    "name": "ipython",
    "version": 3
   },
   "file_extension": ".py",
   "mimetype": "text/x-python",
   "name": "python",
   "nbconvert_exporter": "python",
   "pygments_lexer": "ipython3",
   "version": "3.8.5"
  }
 },
 "nbformat": 4,
 "nbformat_minor": 5
}
