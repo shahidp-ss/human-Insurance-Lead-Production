{
 "cells": [
  {
   "cell_type": "markdown",
   "metadata": {},
   "source": [
    "# Classification Assignment\n",
    "\n",
    "\n",
    "## **Task has been mentioned at the end of this notebook**  "
   ]
  },
  {
   "cell_type": "code",
   "execution_count": 165,
   "metadata": {},
   "outputs": [],
   "source": [
    "# Import all the required Libraries\n",
    "\n",
    "import pandas as pd\n",
    "import numpy as np\n",
    "\n",
    "import seaborn as sns\n",
    "import matplotlib.pyplot as plt\n",
    "import warnings\n",
    "warnings.filterwarnings('ignore')"
   ]
  },
  {
   "cell_type": "code",
   "execution_count": 166,
   "metadata": {},
   "outputs": [
    {
     "data": {
      "text/plain": [
       "(10000, 25)"
      ]
     },
     "execution_count": 166,
     "metadata": {},
     "output_type": "execute_result"
    }
   ],
   "source": [
    "df1=pd.read_csv('Clean.csv')\n",
    "df1.shape"
   ]
  },
  {
   "cell_type": "code",
   "execution_count": 167,
   "metadata": {
    "scrolled": true
   },
   "outputs": [
    {
     "name": "stdout",
     "output_type": "stream",
     "text": [
      "<class 'pandas.core.frame.DataFrame'>\n",
      "RangeIndex: 10000 entries, 0 to 9999\n",
      "Data columns (total 25 columns):\n",
      " #   Column                   Non-Null Count  Dtype  \n",
      "---  ------                   --------------  -----  \n",
      " 0   Unnamed: 0               10000 non-null  int64  \n",
      " 1   Accomodation_Type        10000 non-null  int64  \n",
      " 2   Reco_Insurance_Type      10000 non-null  int64  \n",
      " 3   Is_Spouse                10000 non-null  int64  \n",
      " 4   Holding_Policy_Duration  10000 non-null  int64  \n",
      " 5   Reco_Policy_Premium      10000 non-null  float64\n",
      " 6   Response                 10000 non-null  int64  \n",
      " 7   X1                       10000 non-null  float64\n",
      " 8   X2                       10000 non-null  float64\n",
      " 9   X3                       10000 non-null  float64\n",
      " 10  X4                       10000 non-null  float64\n",
      " 11  X5                       10000 non-null  float64\n",
      " 12  X6                       10000 non-null  float64\n",
      " 13  X7                       10000 non-null  float64\n",
      " 14  X8                       10000 non-null  float64\n",
      " 15  Age                      10000 non-null  float64\n",
      " 16  City_Code_C10-C18        10000 non-null  int64  \n",
      " 17  City_Code_C19-C27        10000 non-null  int64  \n",
      " 18  City_Code_C28-C36        10000 non-null  int64  \n",
      " 19  Holding_Policy_Type_2.0  10000 non-null  int64  \n",
      " 20  Holding_Policy_Type_3.0  10000 non-null  int64  \n",
      " 21  Holding_Policy_Type_4.0  10000 non-null  int64  \n",
      " 22  Reco_Policy_Cat_12-15    10000 non-null  int64  \n",
      " 23  Reco_Policy_Cat_16-22    10000 non-null  int64  \n",
      " 24  Reco_Policy_Cat_6-11     10000 non-null  int64  \n",
      "dtypes: float64(10), int64(15)\n",
      "memory usage: 1.9 MB\n"
     ]
    }
   ],
   "source": [
    "df1.info()"
   ]
  },
  {
   "cell_type": "code",
   "execution_count": 169,
   "metadata": {},
   "outputs": [],
   "source": [
    "df1.drop('Unnamed: 0',inplace=True,axis=1)"
   ]
  },
  {
   "cell_type": "markdown",
   "metadata": {},
   "source": [
    "## Observe that 24.59% datapoints belong to one class rest all belongs to other class. Clearly dataset is having high imbalance.\n",
    "\n",
    "**To Do:**\n",
    "1. Read about Oversampling and Undersampling.\n",
    "2. Perform undersampling."
   ]
  },
  {
   "cell_type": "code",
   "execution_count": 170,
   "metadata": {},
   "outputs": [
    {
     "data": {
      "text/plain": [
       "0    7541\n",
       "1    2459\n",
       "Name: Response, dtype: int64"
      ]
     },
     "execution_count": 170,
     "metadata": {},
     "output_type": "execute_result"
    }
   ],
   "source": [
    "df1['Response'].value_counts()"
   ]
  },
  {
   "cell_type": "code",
   "execution_count": 171,
   "metadata": {},
   "outputs": [],
   "source": [
    "from imblearn.under_sampling import RandomUnderSampler"
   ]
  },
  {
   "cell_type": "code",
   "execution_count": 172,
   "metadata": {},
   "outputs": [],
   "source": [
    "sampler=RandomUnderSampler()"
   ]
  },
  {
   "cell_type": "code",
   "execution_count": 173,
   "metadata": {},
   "outputs": [],
   "source": [
    "X=df1.drop('Response',axis=1)\n",
    "y=df1['Response']"
   ]
  },
  {
   "cell_type": "code",
   "execution_count": 174,
   "metadata": {},
   "outputs": [
    {
     "name": "stdout",
     "output_type": "stream",
     "text": [
      "(10000, 23) (10000,)\n"
     ]
    }
   ],
   "source": [
    "print(X.shape,y.shape)"
   ]
  },
  {
   "cell_type": "code",
   "execution_count": 175,
   "metadata": {},
   "outputs": [],
   "source": [
    "predicts,response=sampler.fit_resample(X,y)"
   ]
  },
  {
   "cell_type": "code",
   "execution_count": 176,
   "metadata": {},
   "outputs": [
    {
     "name": "stdout",
     "output_type": "stream",
     "text": [
      "(4918, 23) (4918,)\n"
     ]
    }
   ],
   "source": [
    "print(predicts.shape,response.shape)"
   ]
  },
  {
   "cell_type": "code",
   "execution_count": 177,
   "metadata": {},
   "outputs": [
    {
     "data": {
      "text/plain": [
       "1    2459\n",
       "0    2459\n",
       "Name: Response, dtype: int64"
      ]
     },
     "execution_count": 177,
     "metadata": {},
     "output_type": "execute_result"
    }
   ],
   "source": [
    "response.value_counts()"
   ]
  },
  {
   "cell_type": "code",
   "execution_count": 178,
   "metadata": {},
   "outputs": [
    {
     "data": {
      "text/html": [
       "<div>\n",
       "<style scoped>\n",
       "    .dataframe tbody tr th:only-of-type {\n",
       "        vertical-align: middle;\n",
       "    }\n",
       "\n",
       "    .dataframe tbody tr th {\n",
       "        vertical-align: top;\n",
       "    }\n",
       "\n",
       "    .dataframe thead th {\n",
       "        text-align: right;\n",
       "    }\n",
       "</style>\n",
       "<table border=\"1\" class=\"dataframe\">\n",
       "  <thead>\n",
       "    <tr style=\"text-align: right;\">\n",
       "      <th></th>\n",
       "      <th>Accomodation_Type</th>\n",
       "      <th>Reco_Insurance_Type</th>\n",
       "      <th>Is_Spouse</th>\n",
       "      <th>Holding_Policy_Duration</th>\n",
       "      <th>Reco_Policy_Premium</th>\n",
       "      <th>X1</th>\n",
       "      <th>X2</th>\n",
       "      <th>X3</th>\n",
       "      <th>X4</th>\n",
       "      <th>X5</th>\n",
       "      <th>...</th>\n",
       "      <th>Age</th>\n",
       "      <th>City_Code_C10-C18</th>\n",
       "      <th>City_Code_C19-C27</th>\n",
       "      <th>City_Code_C28-C36</th>\n",
       "      <th>Holding_Policy_Type_2.0</th>\n",
       "      <th>Holding_Policy_Type_3.0</th>\n",
       "      <th>Holding_Policy_Type_4.0</th>\n",
       "      <th>Reco_Policy_Cat_12-15</th>\n",
       "      <th>Reco_Policy_Cat_16-22</th>\n",
       "      <th>Reco_Policy_Cat_6-11</th>\n",
       "    </tr>\n",
       "  </thead>\n",
       "  <tbody>\n",
       "    <tr>\n",
       "      <th>0</th>\n",
       "      <td>1</td>\n",
       "      <td>0</td>\n",
       "      <td>1</td>\n",
       "      <td>15</td>\n",
       "      <td>31257.4</td>\n",
       "      <td>0.0</td>\n",
       "      <td>1.0</td>\n",
       "      <td>0.0</td>\n",
       "      <td>0.0</td>\n",
       "      <td>0.0</td>\n",
       "      <td>...</td>\n",
       "      <td>47.0</td>\n",
       "      <td>1</td>\n",
       "      <td>0</td>\n",
       "      <td>0</td>\n",
       "      <td>0</td>\n",
       "      <td>0</td>\n",
       "      <td>1</td>\n",
       "      <td>0</td>\n",
       "      <td>1</td>\n",
       "      <td>0</td>\n",
       "    </tr>\n",
       "    <tr>\n",
       "      <th>1</th>\n",
       "      <td>1</td>\n",
       "      <td>0</td>\n",
       "      <td>1</td>\n",
       "      <td>1</td>\n",
       "      <td>25728.0</td>\n",
       "      <td>1.0</td>\n",
       "      <td>0.0</td>\n",
       "      <td>0.0</td>\n",
       "      <td>0.0</td>\n",
       "      <td>0.0</td>\n",
       "      <td>...</td>\n",
       "      <td>37.0</td>\n",
       "      <td>0</td>\n",
       "      <td>1</td>\n",
       "      <td>0</td>\n",
       "      <td>0</td>\n",
       "      <td>1</td>\n",
       "      <td>0</td>\n",
       "      <td>0</td>\n",
       "      <td>1</td>\n",
       "      <td>0</td>\n",
       "    </tr>\n",
       "    <tr>\n",
       "      <th>2</th>\n",
       "      <td>1</td>\n",
       "      <td>1</td>\n",
       "      <td>0</td>\n",
       "      <td>15</td>\n",
       "      <td>14664.0</td>\n",
       "      <td>0.0</td>\n",
       "      <td>0.0</td>\n",
       "      <td>1.0</td>\n",
       "      <td>0.0</td>\n",
       "      <td>0.0</td>\n",
       "      <td>...</td>\n",
       "      <td>61.0</td>\n",
       "      <td>0</td>\n",
       "      <td>0</td>\n",
       "      <td>0</td>\n",
       "      <td>0</td>\n",
       "      <td>1</td>\n",
       "      <td>0</td>\n",
       "      <td>0</td>\n",
       "      <td>1</td>\n",
       "      <td>0</td>\n",
       "    </tr>\n",
       "    <tr>\n",
       "      <th>3</th>\n",
       "      <td>1</td>\n",
       "      <td>1</td>\n",
       "      <td>0</td>\n",
       "      <td>7</td>\n",
       "      <td>11502.0</td>\n",
       "      <td>0.0</td>\n",
       "      <td>1.0</td>\n",
       "      <td>0.0</td>\n",
       "      <td>0.0</td>\n",
       "      <td>0.0</td>\n",
       "      <td>...</td>\n",
       "      <td>38.0</td>\n",
       "      <td>0</td>\n",
       "      <td>1</td>\n",
       "      <td>0</td>\n",
       "      <td>0</td>\n",
       "      <td>1</td>\n",
       "      <td>0</td>\n",
       "      <td>0</td>\n",
       "      <td>1</td>\n",
       "      <td>0</td>\n",
       "    </tr>\n",
       "    <tr>\n",
       "      <th>4</th>\n",
       "      <td>1</td>\n",
       "      <td>0</td>\n",
       "      <td>1</td>\n",
       "      <td>6</td>\n",
       "      <td>16772.0</td>\n",
       "      <td>0.0</td>\n",
       "      <td>0.0</td>\n",
       "      <td>1.0</td>\n",
       "      <td>0.0</td>\n",
       "      <td>0.0</td>\n",
       "      <td>...</td>\n",
       "      <td>39.5</td>\n",
       "      <td>1</td>\n",
       "      <td>0</td>\n",
       "      <td>0</td>\n",
       "      <td>0</td>\n",
       "      <td>1</td>\n",
       "      <td>0</td>\n",
       "      <td>0</td>\n",
       "      <td>1</td>\n",
       "      <td>0</td>\n",
       "    </tr>\n",
       "  </tbody>\n",
       "</table>\n",
       "<p>5 rows × 23 columns</p>\n",
       "</div>"
      ],
      "text/plain": [
       "   Accomodation_Type  Reco_Insurance_Type  Is_Spouse  Holding_Policy_Duration  \\\n",
       "0                  1                    0          1                       15   \n",
       "1                  1                    0          1                        1   \n",
       "2                  1                    1          0                       15   \n",
       "3                  1                    1          0                        7   \n",
       "4                  1                    0          1                        6   \n",
       "\n",
       "   Reco_Policy_Premium   X1   X2   X3   X4   X5  ...   Age  City_Code_C10-C18  \\\n",
       "0              31257.4  0.0  1.0  0.0  0.0  0.0  ...  47.0                  1   \n",
       "1              25728.0  1.0  0.0  0.0  0.0  0.0  ...  37.0                  0   \n",
       "2              14664.0  0.0  0.0  1.0  0.0  0.0  ...  61.0                  0   \n",
       "3              11502.0  0.0  1.0  0.0  0.0  0.0  ...  38.0                  0   \n",
       "4              16772.0  0.0  0.0  1.0  0.0  0.0  ...  39.5                  1   \n",
       "\n",
       "   City_Code_C19-C27  City_Code_C28-C36  Holding_Policy_Type_2.0  \\\n",
       "0                  0                  0                        0   \n",
       "1                  1                  0                        0   \n",
       "2                  0                  0                        0   \n",
       "3                  1                  0                        0   \n",
       "4                  0                  0                        0   \n",
       "\n",
       "   Holding_Policy_Type_3.0  Holding_Policy_Type_4.0  Reco_Policy_Cat_12-15  \\\n",
       "0                        0                        1                      0   \n",
       "1                        1                        0                      0   \n",
       "2                        1                        0                      0   \n",
       "3                        1                        0                      0   \n",
       "4                        1                        0                      0   \n",
       "\n",
       "   Reco_Policy_Cat_16-22  Reco_Policy_Cat_6-11  \n",
       "0                      1                     0  \n",
       "1                      1                     0  \n",
       "2                      1                     0  \n",
       "3                      1                     0  \n",
       "4                      1                     0  \n",
       "\n",
       "[5 rows x 23 columns]"
      ]
     },
     "execution_count": 178,
     "metadata": {},
     "output_type": "execute_result"
    }
   ],
   "source": [
    "predicts.head()"
   ]
  },
  {
   "cell_type": "code",
   "execution_count": 179,
   "metadata": {},
   "outputs": [
    {
     "data": {
      "text/plain": [
       "(4918, 23)"
      ]
     },
     "execution_count": 179,
     "metadata": {},
     "output_type": "execute_result"
    }
   ],
   "source": [
    "predicts.shape"
   ]
  },
  {
   "cell_type": "code",
   "execution_count": 180,
   "metadata": {},
   "outputs": [],
   "source": [
    "from sklearn.preprocessing import StandardScaler"
   ]
  },
  {
   "cell_type": "code",
   "execution_count": 181,
   "metadata": {},
   "outputs": [],
   "source": [
    "scaler=StandardScaler()\n",
    "predicts['Age']=scaler.fit_transform(predicts[['Age']])\n",
    "predicts['Holding_Policy_Duration']=scaler.fit_transform(predicts[['Holding_Policy_Duration']])\n",
    "predicts['Reco_Policy_Premium']=scaler.fit_transform(predicts[['Reco_Policy_Premium']])"
   ]
  },
  {
   "cell_type": "code",
   "execution_count": 182,
   "metadata": {},
   "outputs": [
    {
     "data": {
      "text/html": [
       "<div>\n",
       "<style scoped>\n",
       "    .dataframe tbody tr th:only-of-type {\n",
       "        vertical-align: middle;\n",
       "    }\n",
       "\n",
       "    .dataframe tbody tr th {\n",
       "        vertical-align: top;\n",
       "    }\n",
       "\n",
       "    .dataframe thead th {\n",
       "        text-align: right;\n",
       "    }\n",
       "</style>\n",
       "<table border=\"1\" class=\"dataframe\">\n",
       "  <thead>\n",
       "    <tr style=\"text-align: right;\">\n",
       "      <th></th>\n",
       "      <th>Accomodation_Type</th>\n",
       "      <th>Reco_Insurance_Type</th>\n",
       "      <th>Is_Spouse</th>\n",
       "      <th>Holding_Policy_Duration</th>\n",
       "      <th>Reco_Policy_Premium</th>\n",
       "      <th>X1</th>\n",
       "      <th>X2</th>\n",
       "      <th>X3</th>\n",
       "      <th>X4</th>\n",
       "      <th>X5</th>\n",
       "      <th>...</th>\n",
       "      <th>Age</th>\n",
       "      <th>City_Code_C10-C18</th>\n",
       "      <th>City_Code_C19-C27</th>\n",
       "      <th>City_Code_C28-C36</th>\n",
       "      <th>Holding_Policy_Type_2.0</th>\n",
       "      <th>Holding_Policy_Type_3.0</th>\n",
       "      <th>Holding_Policy_Type_4.0</th>\n",
       "      <th>Reco_Policy_Cat_12-15</th>\n",
       "      <th>Reco_Policy_Cat_16-22</th>\n",
       "      <th>Reco_Policy_Cat_6-11</th>\n",
       "    </tr>\n",
       "  </thead>\n",
       "  <tbody>\n",
       "    <tr>\n",
       "      <th>0</th>\n",
       "      <td>1</td>\n",
       "      <td>0</td>\n",
       "      <td>1</td>\n",
       "      <td>0.914523</td>\n",
       "      <td>2.684266</td>\n",
       "      <td>0.0</td>\n",
       "      <td>1.0</td>\n",
       "      <td>0.0</td>\n",
       "      <td>0.0</td>\n",
       "      <td>0.0</td>\n",
       "      <td>...</td>\n",
       "      <td>0.188895</td>\n",
       "      <td>1</td>\n",
       "      <td>0</td>\n",
       "      <td>0</td>\n",
       "      <td>0</td>\n",
       "      <td>0</td>\n",
       "      <td>1</td>\n",
       "      <td>0</td>\n",
       "      <td>1</td>\n",
       "      <td>0</td>\n",
       "    </tr>\n",
       "    <tr>\n",
       "      <th>1</th>\n",
       "      <td>1</td>\n",
       "      <td>0</td>\n",
       "      <td>1</td>\n",
       "      <td>-1.560196</td>\n",
       "      <td>1.814669</td>\n",
       "      <td>1.0</td>\n",
       "      <td>0.0</td>\n",
       "      <td>0.0</td>\n",
       "      <td>0.0</td>\n",
       "      <td>0.0</td>\n",
       "      <td>...</td>\n",
       "      <td>-0.400450</td>\n",
       "      <td>0</td>\n",
       "      <td>1</td>\n",
       "      <td>0</td>\n",
       "      <td>0</td>\n",
       "      <td>1</td>\n",
       "      <td>0</td>\n",
       "      <td>0</td>\n",
       "      <td>1</td>\n",
       "      <td>0</td>\n",
       "    </tr>\n",
       "    <tr>\n",
       "      <th>2</th>\n",
       "      <td>1</td>\n",
       "      <td>1</td>\n",
       "      <td>0</td>\n",
       "      <td>0.914523</td>\n",
       "      <td>0.074658</td>\n",
       "      <td>0.0</td>\n",
       "      <td>0.0</td>\n",
       "      <td>1.0</td>\n",
       "      <td>0.0</td>\n",
       "      <td>0.0</td>\n",
       "      <td>...</td>\n",
       "      <td>1.013978</td>\n",
       "      <td>0</td>\n",
       "      <td>0</td>\n",
       "      <td>0</td>\n",
       "      <td>0</td>\n",
       "      <td>1</td>\n",
       "      <td>0</td>\n",
       "      <td>0</td>\n",
       "      <td>1</td>\n",
       "      <td>0</td>\n",
       "    </tr>\n",
       "    <tr>\n",
       "      <th>3</th>\n",
       "      <td>1</td>\n",
       "      <td>1</td>\n",
       "      <td>0</td>\n",
       "      <td>-0.499602</td>\n",
       "      <td>-0.422622</td>\n",
       "      <td>0.0</td>\n",
       "      <td>1.0</td>\n",
       "      <td>0.0</td>\n",
       "      <td>0.0</td>\n",
       "      <td>0.0</td>\n",
       "      <td>...</td>\n",
       "      <td>-0.341516</td>\n",
       "      <td>0</td>\n",
       "      <td>1</td>\n",
       "      <td>0</td>\n",
       "      <td>0</td>\n",
       "      <td>1</td>\n",
       "      <td>0</td>\n",
       "      <td>0</td>\n",
       "      <td>1</td>\n",
       "      <td>0</td>\n",
       "    </tr>\n",
       "    <tr>\n",
       "      <th>4</th>\n",
       "      <td>1</td>\n",
       "      <td>0</td>\n",
       "      <td>1</td>\n",
       "      <td>-0.676368</td>\n",
       "      <td>0.406179</td>\n",
       "      <td>0.0</td>\n",
       "      <td>0.0</td>\n",
       "      <td>1.0</td>\n",
       "      <td>0.0</td>\n",
       "      <td>0.0</td>\n",
       "      <td>...</td>\n",
       "      <td>-0.253114</td>\n",
       "      <td>1</td>\n",
       "      <td>0</td>\n",
       "      <td>0</td>\n",
       "      <td>0</td>\n",
       "      <td>1</td>\n",
       "      <td>0</td>\n",
       "      <td>0</td>\n",
       "      <td>1</td>\n",
       "      <td>0</td>\n",
       "    </tr>\n",
       "    <tr>\n",
       "      <th>...</th>\n",
       "      <td>...</td>\n",
       "      <td>...</td>\n",
       "      <td>...</td>\n",
       "      <td>...</td>\n",
       "      <td>...</td>\n",
       "      <td>...</td>\n",
       "      <td>...</td>\n",
       "      <td>...</td>\n",
       "      <td>...</td>\n",
       "      <td>...</td>\n",
       "      <td>...</td>\n",
       "      <td>...</td>\n",
       "      <td>...</td>\n",
       "      <td>...</td>\n",
       "      <td>...</td>\n",
       "      <td>...</td>\n",
       "      <td>...</td>\n",
       "      <td>...</td>\n",
       "      <td>...</td>\n",
       "      <td>...</td>\n",
       "      <td>...</td>\n",
       "    </tr>\n",
       "    <tr>\n",
       "      <th>4913</th>\n",
       "      <td>1</td>\n",
       "      <td>1</td>\n",
       "      <td>0</td>\n",
       "      <td>0.737757</td>\n",
       "      <td>1.377779</td>\n",
       "      <td>0.0</td>\n",
       "      <td>0.0</td>\n",
       "      <td>0.0</td>\n",
       "      <td>1.0</td>\n",
       "      <td>0.0</td>\n",
       "      <td>...</td>\n",
       "      <td>1.485454</td>\n",
       "      <td>0</td>\n",
       "      <td>0</td>\n",
       "      <td>0</td>\n",
       "      <td>0</td>\n",
       "      <td>1</td>\n",
       "      <td>0</td>\n",
       "      <td>0</td>\n",
       "      <td>1</td>\n",
       "      <td>0</td>\n",
       "    </tr>\n",
       "    <tr>\n",
       "      <th>4914</th>\n",
       "      <td>1</td>\n",
       "      <td>1</td>\n",
       "      <td>0</td>\n",
       "      <td>-0.853133</td>\n",
       "      <td>-0.432373</td>\n",
       "      <td>1.0</td>\n",
       "      <td>0.0</td>\n",
       "      <td>0.0</td>\n",
       "      <td>0.0</td>\n",
       "      <td>0.0</td>\n",
       "      <td>...</td>\n",
       "      <td>-0.577254</td>\n",
       "      <td>0</td>\n",
       "      <td>0</td>\n",
       "      <td>0</td>\n",
       "      <td>0</td>\n",
       "      <td>1</td>\n",
       "      <td>0</td>\n",
       "      <td>0</td>\n",
       "      <td>1</td>\n",
       "      <td>0</td>\n",
       "    </tr>\n",
       "    <tr>\n",
       "      <th>4915</th>\n",
       "      <td>0</td>\n",
       "      <td>1</td>\n",
       "      <td>0</td>\n",
       "      <td>0.914523</td>\n",
       "      <td>-1.644593</td>\n",
       "      <td>0.0</td>\n",
       "      <td>1.0</td>\n",
       "      <td>0.0</td>\n",
       "      <td>0.0</td>\n",
       "      <td>0.0</td>\n",
       "      <td>...</td>\n",
       "      <td>-1.225533</td>\n",
       "      <td>0</td>\n",
       "      <td>1</td>\n",
       "      <td>0</td>\n",
       "      <td>0</td>\n",
       "      <td>1</td>\n",
       "      <td>0</td>\n",
       "      <td>0</td>\n",
       "      <td>1</td>\n",
       "      <td>0</td>\n",
       "    </tr>\n",
       "    <tr>\n",
       "      <th>4916</th>\n",
       "      <td>0</td>\n",
       "      <td>1</td>\n",
       "      <td>0</td>\n",
       "      <td>-0.499602</td>\n",
       "      <td>-0.068770</td>\n",
       "      <td>1.0</td>\n",
       "      <td>0.0</td>\n",
       "      <td>0.0</td>\n",
       "      <td>0.0</td>\n",
       "      <td>0.0</td>\n",
       "      <td>...</td>\n",
       "      <td>0.306764</td>\n",
       "      <td>0</td>\n",
       "      <td>1</td>\n",
       "      <td>0</td>\n",
       "      <td>0</td>\n",
       "      <td>1</td>\n",
       "      <td>0</td>\n",
       "      <td>1</td>\n",
       "      <td>0</td>\n",
       "      <td>0</td>\n",
       "    </tr>\n",
       "    <tr>\n",
       "      <th>4917</th>\n",
       "      <td>1</td>\n",
       "      <td>0</td>\n",
       "      <td>1</td>\n",
       "      <td>0.914523</td>\n",
       "      <td>2.146819</td>\n",
       "      <td>0.0</td>\n",
       "      <td>0.0</td>\n",
       "      <td>0.0</td>\n",
       "      <td>0.0</td>\n",
       "      <td>1.0</td>\n",
       "      <td>...</td>\n",
       "      <td>-0.017376</td>\n",
       "      <td>0</td>\n",
       "      <td>0</td>\n",
       "      <td>0</td>\n",
       "      <td>0</td>\n",
       "      <td>1</td>\n",
       "      <td>0</td>\n",
       "      <td>0</td>\n",
       "      <td>1</td>\n",
       "      <td>0</td>\n",
       "    </tr>\n",
       "  </tbody>\n",
       "</table>\n",
       "<p>4918 rows × 23 columns</p>\n",
       "</div>"
      ],
      "text/plain": [
       "      Accomodation_Type  Reco_Insurance_Type  Is_Spouse  \\\n",
       "0                     1                    0          1   \n",
       "1                     1                    0          1   \n",
       "2                     1                    1          0   \n",
       "3                     1                    1          0   \n",
       "4                     1                    0          1   \n",
       "...                 ...                  ...        ...   \n",
       "4913                  1                    1          0   \n",
       "4914                  1                    1          0   \n",
       "4915                  0                    1          0   \n",
       "4916                  0                    1          0   \n",
       "4917                  1                    0          1   \n",
       "\n",
       "      Holding_Policy_Duration  Reco_Policy_Premium   X1   X2   X3   X4   X5  \\\n",
       "0                    0.914523             2.684266  0.0  1.0  0.0  0.0  0.0   \n",
       "1                   -1.560196             1.814669  1.0  0.0  0.0  0.0  0.0   \n",
       "2                    0.914523             0.074658  0.0  0.0  1.0  0.0  0.0   \n",
       "3                   -0.499602            -0.422622  0.0  1.0  0.0  0.0  0.0   \n",
       "4                   -0.676368             0.406179  0.0  0.0  1.0  0.0  0.0   \n",
       "...                       ...                  ...  ...  ...  ...  ...  ...   \n",
       "4913                 0.737757             1.377779  0.0  0.0  0.0  1.0  0.0   \n",
       "4914                -0.853133            -0.432373  1.0  0.0  0.0  0.0  0.0   \n",
       "4915                 0.914523            -1.644593  0.0  1.0  0.0  0.0  0.0   \n",
       "4916                -0.499602            -0.068770  1.0  0.0  0.0  0.0  0.0   \n",
       "4917                 0.914523             2.146819  0.0  0.0  0.0  0.0  1.0   \n",
       "\n",
       "      ...       Age  City_Code_C10-C18  City_Code_C19-C27  City_Code_C28-C36  \\\n",
       "0     ...  0.188895                  1                  0                  0   \n",
       "1     ... -0.400450                  0                  1                  0   \n",
       "2     ...  1.013978                  0                  0                  0   \n",
       "3     ... -0.341516                  0                  1                  0   \n",
       "4     ... -0.253114                  1                  0                  0   \n",
       "...   ...       ...                ...                ...                ...   \n",
       "4913  ...  1.485454                  0                  0                  0   \n",
       "4914  ... -0.577254                  0                  0                  0   \n",
       "4915  ... -1.225533                  0                  1                  0   \n",
       "4916  ...  0.306764                  0                  1                  0   \n",
       "4917  ... -0.017376                  0                  0                  0   \n",
       "\n",
       "      Holding_Policy_Type_2.0  Holding_Policy_Type_3.0  \\\n",
       "0                           0                        0   \n",
       "1                           0                        1   \n",
       "2                           0                        1   \n",
       "3                           0                        1   \n",
       "4                           0                        1   \n",
       "...                       ...                      ...   \n",
       "4913                        0                        1   \n",
       "4914                        0                        1   \n",
       "4915                        0                        1   \n",
       "4916                        0                        1   \n",
       "4917                        0                        1   \n",
       "\n",
       "      Holding_Policy_Type_4.0  Reco_Policy_Cat_12-15  Reco_Policy_Cat_16-22  \\\n",
       "0                           1                      0                      1   \n",
       "1                           0                      0                      1   \n",
       "2                           0                      0                      1   \n",
       "3                           0                      0                      1   \n",
       "4                           0                      0                      1   \n",
       "...                       ...                    ...                    ...   \n",
       "4913                        0                      0                      1   \n",
       "4914                        0                      0                      1   \n",
       "4915                        0                      0                      1   \n",
       "4916                        0                      1                      0   \n",
       "4917                        0                      0                      1   \n",
       "\n",
       "      Reco_Policy_Cat_6-11  \n",
       "0                        0  \n",
       "1                        0  \n",
       "2                        0  \n",
       "3                        0  \n",
       "4                        0  \n",
       "...                    ...  \n",
       "4913                     0  \n",
       "4914                     0  \n",
       "4915                     0  \n",
       "4916                     0  \n",
       "4917                     0  \n",
       "\n",
       "[4918 rows x 23 columns]"
      ]
     },
     "execution_count": 182,
     "metadata": {},
     "output_type": "execute_result"
    }
   ],
   "source": [
    "predicts"
   ]
  },
  {
   "cell_type": "markdown",
   "metadata": {},
   "source": [
    "## Train Test Split\n",
    "\n",
    "**To Do:**\n",
    "1. Sandardise the data\n",
    "2. Perform 80-20 split"
   ]
  },
  {
   "cell_type": "code",
   "execution_count": 183,
   "metadata": {},
   "outputs": [],
   "source": [
    "from sklearn.model_selection import train_test_split"
   ]
  },
  {
   "cell_type": "code",
   "execution_count": 184,
   "metadata": {},
   "outputs": [],
   "source": [
    "x_train,x_test,y_train,y_test=train_test_split(predicts,response,test_size=0.2)"
   ]
  },
  {
   "cell_type": "code",
   "execution_count": 185,
   "metadata": {},
   "outputs": [
    {
     "name": "stdout",
     "output_type": "stream",
     "text": [
      "(3934, 23) (984, 23)\n"
     ]
    }
   ],
   "source": [
    "print(x_train.shape,x_test.shape)"
   ]
  },
  {
   "cell_type": "code",
   "execution_count": 186,
   "metadata": {},
   "outputs": [
    {
     "name": "stdout",
     "output_type": "stream",
     "text": [
      "(3934,) (984,)\n"
     ]
    }
   ],
   "source": [
    "print(y_train.shape,y_test.shape)"
   ]
  },
  {
   "cell_type": "code",
   "execution_count": 187,
   "metadata": {},
   "outputs": [],
   "source": [
    "performance_metrics_with_hyperparameters=pd.DataFrame(index=['Accuracy','Precision','Recall','F1_score','AUC'])"
   ]
  },
  {
   "cell_type": "markdown",
   "metadata": {},
   "source": [
    "## Model Building - Logistic Regression\n",
    "\n",
    "**To Do:**\n",
    "1. Perform appropriate Hyperparameter Tuning\n",
    "2. Train the Model using `Accuracy` as the evaluation metric\n",
    "3. Predict\n",
    "4. Evaluate\n",
    "5. Use Accuracy, Confusion Matrix, Precision & Recall, F1-score and ROC AUC to understand model performance"
   ]
  },
  {
   "cell_type": "code",
   "execution_count": 188,
   "metadata": {},
   "outputs": [],
   "source": [
    "from sklearn.linear_model import LogisticRegression\n",
    "from sklearn.model_selection import RandomizedSearchCV\n",
    "from sklearn.metrics import accuracy_score,confusion_matrix,classification_report,precision_score,recall_score,f1_score,roc_auc_score\n",
    "from sklearn.metrics import roc_curve,auc"
   ]
  },
  {
   "cell_type": "code",
   "execution_count": 191,
   "metadata": {},
   "outputs": [],
   "source": [
    "h_params={'solver':['newton-cg', 'lbfgs', 'liblinear', 'sag', 'saga'],\n",
    "          'penalty' : ['l1', 'l2', 'elasticnet', 'none'],'C':np.linspace(0,1,100)}"
   ]
  },
  {
   "cell_type": "code",
   "execution_count": 192,
   "metadata": {},
   "outputs": [],
   "source": [
    "rscv=RandomizedSearchCV(estimator=LogisticRegression(),param_distributions=h_params,scoring='accuracy',cv=5,random_state=1)\n",
    "results=rscv.fit(predicts,response)"
   ]
  },
  {
   "cell_type": "code",
   "execution_count": 193,
   "metadata": {},
   "outputs": [
    {
     "data": {
      "text/plain": [
       "{'solver': 'newton-cg', 'penalty': 'l2', 'C': 0.4545454545454546}"
      ]
     },
     "execution_count": 193,
     "metadata": {},
     "output_type": "execute_result"
    }
   ],
   "source": [
    "results.best_params_"
   ]
  },
  {
   "cell_type": "code",
   "execution_count": 194,
   "metadata": {},
   "outputs": [
    {
     "data": {
      "text/plain": [
       "0.5526644004995493"
      ]
     },
     "execution_count": 194,
     "metadata": {},
     "output_type": "execute_result"
    }
   ],
   "source": [
    "results.best_score_"
   ]
  },
  {
   "cell_type": "markdown",
   "metadata": {},
   "source": [
    "# Logistic Regression with Hyperparameter"
   ]
  },
  {
   "cell_type": "code",
   "execution_count": 195,
   "metadata": {},
   "outputs": [],
   "source": [
    "LR_tuned_model=results.best_estimator_\n",
    "LR_tuned_model.fit(x_train,y_train)\n",
    "lg_pred=LR_tuned_model.predict(x_test)\n",
    "y_preds=LR_tuned_model.predict_proba(x_test)[:,1]"
   ]
  },
  {
   "cell_type": "code",
   "execution_count": 196,
   "metadata": {},
   "outputs": [
    {
     "data": {
      "text/plain": [
       "array([[194, 319],\n",
       "       [116, 355]], dtype=int64)"
      ]
     },
     "execution_count": 196,
     "metadata": {},
     "output_type": "execute_result"
    }
   ],
   "source": [
    "confusion_matrix(y_test,lg_pred)"
   ]
  },
  {
   "cell_type": "code",
   "execution_count": 197,
   "metadata": {},
   "outputs": [
    {
     "name": "stdout",
     "output_type": "stream",
     "text": [
      "              precision    recall  f1-score   support\n",
      "\n",
      "           0       0.63      0.38      0.47       513\n",
      "           1       0.53      0.75      0.62       471\n",
      "\n",
      "    accuracy                           0.56       984\n",
      "   macro avg       0.58      0.57      0.55       984\n",
      "weighted avg       0.58      0.56      0.54       984\n",
      "\n",
      "\n",
      "Accuracy is :  0.5579268292682927\n",
      "Precission :  0.526706231454006\n",
      "Recall :  0.7537154989384289\n",
      "f1-score :  0.6200873362445415\n",
      "Roc Auc score :  0.5659415701319825\n"
     ]
    }
   ],
   "source": [
    "print(classification_report(y_test,lg_pred))\n",
    "print()\n",
    "print('Accuracy is : ',accuracy_score(y_test,lg_pred))\n",
    "print('Precission : ',precision_score(y_test,lg_pred))\n",
    "print('Recall : ',recall_score(y_test,lg_pred))\n",
    "print('f1-score : ',f1_score(y_test,lg_pred))\n",
    "print('Roc Auc score : ',roc_auc_score(y_test,lg_pred))"
   ]
  },
  {
   "cell_type": "code",
   "execution_count": 198,
   "metadata": {},
   "outputs": [
    {
     "name": "stdout",
     "output_type": "stream",
     "text": [
      "Area under the ROC curve :  0.5948564499240552\n"
     ]
    }
   ],
   "source": [
    "[fpr, tpr, thr] = roc_curve(y_test, y_preds)\n",
    "print('Area under the ROC curve : ',auc(fpr, tpr))"
   ]
  },
  {
   "cell_type": "code",
   "execution_count": 199,
   "metadata": {},
   "outputs": [
    {
     "data": {
      "image/png": "[encoded data removed]",
      "text/plain": [
       "<Figure size 432x288 with 1 Axes>"
      ]
     },
     "metadata": {
      "needs_background": "light"
     },
     "output_type": "display_data"
    }
   ],
   "source": [
    "plt.figure()\n",
    "plt.plot(fpr, tpr, color='coral', label = 'ROC Curve with Area Under Curve = '+str(auc (fpr, tpr)))\n",
    "plt.title('ROC curve for Logistic Regression ',fontsize=15)\n",
    "plt.xlabel('False positive Rate (1 - specificity)')\n",
    "plt.ylabel('True Positive Rate ')\n",
    "plt.legend(loc='lower right')\n",
    "plt.show()"
   ]
  },
  {
   "cell_type": "code",
   "execution_count": 200,
   "metadata": {},
   "outputs": [],
   "source": [
    "performance_metrics_with_hyperparameters['Logistic Regression']=[accuracy_score(y_test,lg_pred),\n",
    "                                                                    precision_score(y_test,lg_pred),\n",
    "                                                                    recall_score(y_test,lg_pred),\n",
    "                                                                    f1_score(y_test,lg_pred),\n",
    "                                                                    auc(fpr, tpr)]"
   ]
  },
  {
   "cell_type": "code",
   "execution_count": null,
   "metadata": {},
   "outputs": [],
   "source": []
  },
  {
   "cell_type": "markdown",
   "metadata": {},
   "source": [
    "## Model Building - SVM, KNN, DT, RF, Gradient Boosting, AdaBoosting etc\n",
    "\n",
    "For all the algorithms mentioned above, perform below mentioned steps.\n",
    "\n",
    "**To Do:**\n",
    "1. Perform appropriate Hyperparameter Tuning\n",
    "2. Train the Model using `Accuracy` as the evaluation metric\n",
    "3. Predict\n",
    "4. Evaluate\n",
    "5. Use Accuracy, Confusion Matrix, Precision & Recall, F1-score and ROC AUC to understand model performance\n",
    "6. Compare the perormance of all the models"
   ]
  },
  {
   "cell_type": "code",
   "execution_count": 201,
   "metadata": {},
   "outputs": [],
   "source": [
    "from sklearn.svm import SVC\n",
    "from sklearn.tree import DecisionTreeClassifier\n",
    "from sklearn.ensemble import RandomForestClassifier\n",
    "from sklearn.neighbors import KNeighborsClassifier\n",
    "from sklearn.ensemble import AdaBoostClassifier\n",
    "from sklearn.ensemble import GradientBoostingClassifier"
   ]
  },
  {
   "cell_type": "markdown",
   "metadata": {},
   "source": [
    "# SVM "
   ]
  },
  {
   "cell_type": "code",
   "execution_count": 204,
   "metadata": {},
   "outputs": [],
   "source": [
    "h_params={'kernel':['linear', 'poly', 'rbf', 'sigmoid', 'precomputed'],'gamma':['scale','auto'],'C':np.linspace(0,1,100)}"
   ]
  },
  {
   "cell_type": "code",
   "execution_count": 205,
   "metadata": {},
   "outputs": [],
   "source": [
    "rscv=RandomizedSearchCV(estimator=SVC(probability=True),param_distributions=h_params,scoring='accuracy',cv=5,random_state=1)\n",
    "results=rscv.fit(predicts,response)"
   ]
  },
  {
   "cell_type": "code",
   "execution_count": 206,
   "metadata": {},
   "outputs": [
    {
     "data": {
      "text/plain": [
       "{'kernel': 'linear', 'gamma': 'auto', 'C': 0.23232323232323235}"
      ]
     },
     "execution_count": 206,
     "metadata": {},
     "output_type": "execute_result"
    }
   ],
   "source": [
    "results.best_params_"
   ]
  },
  {
   "cell_type": "code",
   "execution_count": 207,
   "metadata": {},
   "outputs": [
    {
     "data": {
      "text/plain": [
       "0.5597798757743426"
      ]
     },
     "execution_count": 207,
     "metadata": {},
     "output_type": "execute_result"
    }
   ],
   "source": [
    "results.best_score_"
   ]
  },
  {
   "cell_type": "markdown",
   "metadata": {},
   "source": [
    "# SVM with Hyperparameters"
   ]
  },
  {
   "cell_type": "code",
   "execution_count": 208,
   "metadata": {},
   "outputs": [],
   "source": [
    "svm_tuned_model=results.best_estimator_\n",
    "svm_tuned_model.fit(x_train,y_train)\n",
    "sv_pred=svm_tuned_model.predict(x_test)\n",
    "y_preds=svm_tuned_model.predict_proba(x_test)[:,1]"
   ]
  },
  {
   "cell_type": "code",
   "execution_count": 209,
   "metadata": {},
   "outputs": [
    {
     "data": {
      "text/plain": [
       "array([[147, 366],\n",
       "       [ 65, 406]], dtype=int64)"
      ]
     },
     "execution_count": 209,
     "metadata": {},
     "output_type": "execute_result"
    }
   ],
   "source": [
    "confusion_matrix(y_test,sv_pred)"
   ]
  },
  {
   "cell_type": "code",
   "execution_count": 210,
   "metadata": {},
   "outputs": [
    {
     "name": "stdout",
     "output_type": "stream",
     "text": [
      "              precision    recall  f1-score   support\n",
      "\n",
      "           0       0.69      0.29      0.41       513\n",
      "           1       0.53      0.86      0.65       471\n",
      "\n",
      "    accuracy                           0.56       984\n",
      "   macro avg       0.61      0.57      0.53       984\n",
      "weighted avg       0.61      0.56      0.52       984\n",
      "\n",
      "\n",
      "Accuracy is :  0.5619918699186992\n",
      "Precission :  0.5259067357512953\n",
      "Recall :  0.861995753715499\n",
      "f1-score :  0.6532582461786002\n",
      "Roc Auc score :  0.574272730658919\n"
     ]
    }
   ],
   "source": [
    "print(classification_report(y_test,sv_pred))\n",
    "print()\n",
    "print('Accuracy is : ',accuracy_score(y_test,sv_pred))\n",
    "print('Precission : ',precision_score(y_test,sv_pred))\n",
    "print('Recall : ',recall_score(y_test,sv_pred))\n",
    "print('f1-score : ',f1_score(y_test,sv_pred))\n",
    "print('Roc Auc score : ',roc_auc_score(y_test,sv_pred))"
   ]
  },
  {
   "cell_type": "code",
   "execution_count": 211,
   "metadata": {},
   "outputs": [
    {
     "name": "stdout",
     "output_type": "stream",
     "text": [
      "Area under the ROC curve :  0.5718743662648009\n"
     ]
    }
   ],
   "source": [
    "[fpr, tpr, thr] = roc_curve(y_test, y_preds)\n",
    "print('Area under the ROC curve : ',auc(fpr, tpr))"
   ]
  },
  {
   "cell_type": "code",
   "execution_count": 212,
   "metadata": {},
   "outputs": [
    {
     "data": {
      "image/png": "[encoded data removed]",
      "text/plain": [
       "<Figure size 432x288 with 1 Axes>"
      ]
     },
     "metadata": {
      "needs_background": "light"
     },
     "output_type": "display_data"
    }
   ],
   "source": [
    "plt.figure()\n",
    "plt.plot(fpr, tpr, color='coral', label = 'ROC Curve with Area Under Curve = '+str(auc (fpr, tpr)))\n",
    "plt.title('ROC curve for SVM ',fontsize=15)\n",
    "plt.xlabel('False positive Rate (1 - specificity)')\n",
    "plt.ylabel('True Positive Rate ')\n",
    "plt.legend(loc='lower right')\n",
    "plt.show()"
   ]
  },
  {
   "cell_type": "code",
   "execution_count": 213,
   "metadata": {},
   "outputs": [],
   "source": [
    "performance_metrics_with_hyperparameters['SVM']=[accuracy_score(y_test,sv_pred),\n",
    "                                                                    precision_score(y_test,sv_pred),\n",
    "                                                                    recall_score(y_test,sv_pred),\n",
    "                                                                    f1_score(y_test,sv_pred),\n",
    "                                                                    auc(fpr, tpr)]"
   ]
  },
  {
   "cell_type": "markdown",
   "metadata": {},
   "source": [
    "# KNN"
   ]
  },
  {
   "cell_type": "code",
   "execution_count": 214,
   "metadata": {},
   "outputs": [],
   "source": [
    "h_params={'n_neighbors':range(1,11,2),'weights':['uniform','distance'],'metric':['minkowski','euclidean','manhattan']}"
   ]
  },
  {
   "cell_type": "code",
   "execution_count": 215,
   "metadata": {},
   "outputs": [],
   "source": [
    "rscv=RandomizedSearchCV(estimator=KNeighborsClassifier(),param_distributions=h_params,scoring='accuracy',cv=5,random_state=1)\n",
    "results=rscv.fit(predicts,response)"
   ]
  },
  {
   "cell_type": "code",
   "execution_count": 216,
   "metadata": {},
   "outputs": [
    {
     "data": {
      "text/plain": [
       "{'weights': 'distance', 'n_neighbors': 9, 'metric': 'euclidean'}"
      ]
     },
     "execution_count": 216,
     "metadata": {},
     "output_type": "execute_result"
    }
   ],
   "source": [
    "results.best_params_"
   ]
  },
  {
   "cell_type": "code",
   "execution_count": 217,
   "metadata": {},
   "outputs": [
    {
     "data": {
      "text/plain": [
       "0.5243993416536403"
      ]
     },
     "execution_count": 217,
     "metadata": {},
     "output_type": "execute_result"
    }
   ],
   "source": [
    "results.best_score_"
   ]
  },
  {
   "cell_type": "markdown",
   "metadata": {},
   "source": [
    "# KNN with hyperparameters"
   ]
  },
  {
   "cell_type": "code",
   "execution_count": 218,
   "metadata": {},
   "outputs": [],
   "source": [
    "knn_tuned_model=results.best_estimator_\n",
    "knn_tuned_model.fit(x_train,y_train)\n",
    "kn_pred=knn_tuned_model.predict(x_test)\n",
    "y_preds=knn_tuned_model.predict_proba(x_test)[:,1]"
   ]
  },
  {
   "cell_type": "code",
   "execution_count": 219,
   "metadata": {},
   "outputs": [
    {
     "data": {
      "text/plain": [
       "array([[263, 250],\n",
       "       [219, 252]], dtype=int64)"
      ]
     },
     "execution_count": 219,
     "metadata": {},
     "output_type": "execute_result"
    }
   ],
   "source": [
    "confusion_matrix(y_test,kn_pred)"
   ]
  },
  {
   "cell_type": "code",
   "execution_count": 220,
   "metadata": {},
   "outputs": [
    {
     "name": "stdout",
     "output_type": "stream",
     "text": [
      "              precision    recall  f1-score   support\n",
      "\n",
      "           0       0.55      0.51      0.53       513\n",
      "           1       0.50      0.54      0.52       471\n",
      "\n",
      "    accuracy                           0.52       984\n",
      "   macro avg       0.52      0.52      0.52       984\n",
      "weighted avg       0.52      0.52      0.52       984\n",
      "\n",
      "\n",
      "Accuracy is :  0.5233739837398373\n",
      "Precission :  0.50199203187251\n",
      "Recall :  0.535031847133758\n",
      "f1-score :  0.5179856115107914\n",
      "Roc Auc score :  0.5238512062179511\n"
     ]
    }
   ],
   "source": [
    "print(classification_report(y_test,kn_pred))\n",
    "print()\n",
    "print('Accuracy is : ',accuracy_score(y_test,kn_pred))\n",
    "print('Precission : ',precision_score(y_test,kn_pred))\n",
    "print('Recall : ',recall_score(y_test,kn_pred))\n",
    "print('f1-score : ',f1_score(y_test,kn_pred))\n",
    "print('Roc Auc score : ',roc_auc_score(y_test,kn_pred))"
   ]
  },
  {
   "cell_type": "code",
   "execution_count": 221,
   "metadata": {},
   "outputs": [
    {
     "name": "stdout",
     "output_type": "stream",
     "text": [
      "Area under the ROC curve :  0.5238698302727803\n"
     ]
    }
   ],
   "source": [
    "[fpr, tpr, thr] = roc_curve(y_test, y_preds)\n",
    "print('Area under the ROC curve : ',auc(fpr, tpr))"
   ]
  },
  {
   "cell_type": "code",
   "execution_count": 222,
   "metadata": {},
   "outputs": [
    {
     "data": {
      "image/png": "[encoded data removed]",
      "text/plain": [
       "<Figure size 432x288 with 1 Axes>"
      ]
     },
     "metadata": {
      "needs_background": "light"
     },
     "output_type": "display_data"
    }
   ],
   "source": [
    "plt.figure()\n",
    "plt.plot(fpr, tpr, color='coral', label = 'ROC Curve with Area Under Curve = '+str(auc (fpr, tpr)))\n",
    "plt.title('ROC curve for KNN ',fontsize=15)\n",
    "plt.xlabel('False positive Rate (1 - specificity)')\n",
    "plt.ylabel('True Positive Rate ')\n",
    "plt.legend(loc='lower right')\n",
    "plt.show()"
   ]
  },
  {
   "cell_type": "code",
   "execution_count": 223,
   "metadata": {},
   "outputs": [],
   "source": [
    "performance_metrics_with_hyperparameters['KNN']=[accuracy_score(y_test,kn_pred),\n",
    "                                                                    precision_score(y_test,kn_pred),\n",
    "                                                                    recall_score(y_test,kn_pred),\n",
    "                                                                    f1_score(y_test,kn_pred),\n",
    "                                                                    auc(fpr, tpr)]"
   ]
  },
  {
   "cell_type": "markdown",
   "metadata": {},
   "source": [
    "# Decision Tree"
   ]
  },
  {
   "cell_type": "code",
   "execution_count": 224,
   "metadata": {},
   "outputs": [],
   "source": [
    "h_params={'criterion':[\"gini\", \"entropy\"],\n",
    "        'splitter':[\"best\", \"random\"],\n",
    "        'max_depth':[1,3,5,7,10,15,20,25,30],\n",
    "        'min_samples_split':[2,5,10,20,50],\n",
    "        'max_features':[\"auto\", \"sqrt\", \"log2\",None],\n",
    "        'max_leaf_nodes':[10,20,30,40,50,60,70,80,90]}"
   ]
  },
  {
   "cell_type": "code",
   "execution_count": 225,
   "metadata": {},
   "outputs": [],
   "source": [
    "rscv=RandomizedSearchCV(estimator=DecisionTreeClassifier(),param_distributions=h_params,scoring='accuracy',cv=5,random_state=1)\n",
    "results=rscv.fit(predicts,response)"
   ]
  },
  {
   "cell_type": "code",
   "execution_count": 226,
   "metadata": {},
   "outputs": [
    {
     "data": {
      "text/plain": [
       "{'splitter': 'random',\n",
       " 'min_samples_split': 10,\n",
       " 'max_leaf_nodes': 10,\n",
       " 'max_features': 'log2',\n",
       " 'max_depth': 5,\n",
       " 'criterion': 'gini'}"
      ]
     },
     "execution_count": 226,
     "metadata": {},
     "output_type": "execute_result"
    }
   ],
   "source": [
    "results.best_params_"
   ]
  },
  {
   "cell_type": "code",
   "execution_count": 227,
   "metadata": {},
   "outputs": [
    {
     "data": {
      "text/plain": [
       "0.5500192293377664"
      ]
     },
     "execution_count": 227,
     "metadata": {},
     "output_type": "execute_result"
    }
   ],
   "source": [
    "results.best_score_"
   ]
  },
  {
   "cell_type": "markdown",
   "metadata": {},
   "source": [
    "# Decision Tree  with hyperparameters"
   ]
  },
  {
   "cell_type": "code",
   "execution_count": 228,
   "metadata": {},
   "outputs": [],
   "source": [
    "dt_tuned_model=results.best_estimator_\n",
    "dt_tuned_model.fit(x_train,y_train)\n",
    "dt_pred=dt_tuned_model.predict(x_test)\n",
    "y_preds=dt_tuned_model.predict_proba(x_test)[:,1]"
   ]
  },
  {
   "cell_type": "code",
   "execution_count": 229,
   "metadata": {},
   "outputs": [
    {
     "data": {
      "text/plain": [
       "array([[230, 283],\n",
       "       [219, 252]], dtype=int64)"
      ]
     },
     "execution_count": 229,
     "metadata": {},
     "output_type": "execute_result"
    }
   ],
   "source": [
    "confusion_matrix(y_test,dt_pred)"
   ]
  },
  {
   "cell_type": "code",
   "execution_count": 230,
   "metadata": {},
   "outputs": [
    {
     "name": "stdout",
     "output_type": "stream",
     "text": [
      "              precision    recall  f1-score   support\n",
      "\n",
      "           0       0.51      0.45      0.48       513\n",
      "           1       0.47      0.54      0.50       471\n",
      "\n",
      "    accuracy                           0.49       984\n",
      "   macro avg       0.49      0.49      0.49       984\n",
      "weighted avg       0.49      0.49      0.49       984\n",
      "\n",
      "\n",
      "Accuracy is :  0.4898373983739837\n",
      "Precission :  0.47102803738317756\n",
      "Recall :  0.535031847133758\n",
      "f1-score :  0.5009940357852882\n",
      "Roc Auc score :  0.4916874635278926\n"
     ]
    }
   ],
   "source": [
    "print(classification_report(y_test,dt_pred))\n",
    "print()\n",
    "print('Accuracy is : ',accuracy_score(y_test,dt_pred))\n",
    "print('Precission : ',precision_score(y_test,dt_pred))\n",
    "print('Recall : ',recall_score(y_test,dt_pred))\n",
    "print('f1-score : ',f1_score(y_test,dt_pred))\n",
    "print('Roc Auc score : ',roc_auc_score(y_test,dt_pred))"
   ]
  },
  {
   "cell_type": "code",
   "execution_count": 231,
   "metadata": {},
   "outputs": [
    {
     "name": "stdout",
     "output_type": "stream",
     "text": [
      "Area under the ROC curve :  0.497036705942729\n"
     ]
    }
   ],
   "source": [
    "[fpr, tpr, thr] = roc_curve(y_test, y_preds)\n",
    "print('Area under the ROC curve : ',auc(fpr, tpr))"
   ]
  },
  {
   "cell_type": "code",
   "execution_count": 232,
   "metadata": {},
   "outputs": [
    {
     "data": {
      "image/png": "[encoded data removed]",
      "text/plain": [
       "<Figure size 432x288 with 1 Axes>"
      ]
     },
     "metadata": {
      "needs_background": "light"
     },
     "output_type": "display_data"
    }
   ],
   "source": [
    "plt.figure()\n",
    "plt.plot(fpr, tpr, color='coral', label = 'ROC Curve with Area Under Curve = '+str(auc (fpr, tpr)))\n",
    "plt.title('ROC curve for Decision Tree ',fontsize=15)\n",
    "plt.xlabel('False positive Rate (1 - specificity)')\n",
    "plt.ylabel('True Positive Rate ')\n",
    "plt.legend(loc='lower right')\n",
    "plt.show()"
   ]
  },
  {
   "cell_type": "code",
   "execution_count": 233,
   "metadata": {},
   "outputs": [],
   "source": [
    "performance_metrics_with_hyperparameters['Decision Tree']=[accuracy_score(y_test,dt_pred),\n",
    "                                                                    precision_score(y_test,dt_pred),\n",
    "                                                                    recall_score(y_test,dt_pred),\n",
    "                                                                    f1_score(y_test,dt_pred),\n",
    "                                                                    auc(fpr, tpr)]"
   ]
  },
  {
   "cell_type": "markdown",
   "metadata": {},
   "source": [
    "# Random Forest"
   ]
  },
  {
   "cell_type": "code",
   "execution_count": 234,
   "metadata": {},
   "outputs": [],
   "source": [
    "h_params={'n_estimators':[10,20,30,50,100,150,200],\n",
    "        'criterion':[\"gini\", \"entropy\"],\n",
    "        'max_depth':[1,3,5,7,10,15,20,25,30],\n",
    "        'min_samples_split':[2,5,10,20,50],\n",
    "        'max_features':[\"auto\", \"sqrt\", \"log2\",None],\n",
    "        'max_leaf_nodes':[10,20,30,40,50,60,70,80,90]}"
   ]
  },
  {
   "cell_type": "code",
   "execution_count": 235,
   "metadata": {},
   "outputs": [],
   "source": [
    "rscv=RandomizedSearchCV(estimator=RandomForestClassifier(),param_distributions=h_params,scoring='accuracy',cv=5,random_state=1)\n",
    "results=rscv.fit(predicts,response)"
   ]
  },
  {
   "cell_type": "code",
   "execution_count": 236,
   "metadata": {},
   "outputs": [
    {
     "data": {
      "text/plain": [
       "{'n_estimators': 20,\n",
       " 'min_samples_split': 50,\n",
       " 'max_leaf_nodes': 20,\n",
       " 'max_features': 'sqrt',\n",
       " 'max_depth': 20,\n",
       " 'criterion': 'entropy'}"
      ]
     },
     "execution_count": 236,
     "metadata": {},
     "output_type": "execute_result"
    }
   ],
   "source": [
    "results.best_params_"
   ]
  },
  {
   "cell_type": "code",
   "execution_count": 237,
   "metadata": {},
   "outputs": [
    {
     "data": {
      "text/plain": [
       "0.5646604057597037"
      ]
     },
     "execution_count": 237,
     "metadata": {},
     "output_type": "execute_result"
    }
   ],
   "source": [
    "results.best_score_"
   ]
  },
  {
   "cell_type": "markdown",
   "metadata": {},
   "source": [
    "# Random Forest with hyperparameters"
   ]
  },
  {
   "cell_type": "code",
   "execution_count": 238,
   "metadata": {},
   "outputs": [],
   "source": [
    "rf_tuned_model=results.best_estimator_\n",
    "rf_tuned_model.fit(x_train,y_train)\n",
    "rf_pred=rf_tuned_model.predict(x_test)\n",
    "y_preds=rf_tuned_model.predict_proba(x_test)[:,1]"
   ]
  },
  {
   "cell_type": "code",
   "execution_count": 239,
   "metadata": {},
   "outputs": [
    {
     "data": {
      "text/plain": [
       "array([[236, 277],\n",
       "       [129, 342]], dtype=int64)"
      ]
     },
     "execution_count": 239,
     "metadata": {},
     "output_type": "execute_result"
    }
   ],
   "source": [
    "confusion_matrix(y_test,rf_pred)"
   ]
  },
  {
   "cell_type": "code",
   "execution_count": 240,
   "metadata": {},
   "outputs": [
    {
     "name": "stdout",
     "output_type": "stream",
     "text": [
      "              precision    recall  f1-score   support\n",
      "\n",
      "           0       0.65      0.46      0.54       513\n",
      "           1       0.55      0.73      0.63       471\n",
      "\n",
      "    accuracy                           0.59       984\n",
      "   macro avg       0.60      0.59      0.58       984\n",
      "weighted avg       0.60      0.59      0.58       984\n",
      "\n",
      "\n",
      "Accuracy is :  0.5873983739837398\n",
      "Precission :  0.5525040387722132\n",
      "Recall :  0.7261146496815286\n",
      "f1-score :  0.6275229357798164\n",
      "Roc Auc score :  0.5930768180181522\n"
     ]
    }
   ],
   "source": [
    "print(classification_report(y_test,rf_pred))\n",
    "print()\n",
    "print('Accuracy is : ',accuracy_score(y_test,rf_pred))\n",
    "print('Precission : ',precision_score(y_test,rf_pred))\n",
    "print('Recall : ',recall_score(y_test,rf_pred))\n",
    "print('f1-score : ',f1_score(y_test,rf_pred))\n",
    "print('Roc Auc score : ',roc_auc_score(y_test,rf_pred))"
   ]
  },
  {
   "cell_type": "code",
   "execution_count": 241,
   "metadata": {},
   "outputs": [
    {
     "name": "stdout",
     "output_type": "stream",
     "text": [
      "Area under the ROC curve :  0.6060867549860733\n"
     ]
    }
   ],
   "source": [
    "[fpr, tpr, thr] = roc_curve(y_test, y_preds)\n",
    "print('Area under the ROC curve : ',auc(fpr, tpr))"
   ]
  },
  {
   "cell_type": "code",
   "execution_count": 242,
   "metadata": {},
   "outputs": [
    {
     "data": {
      "image/png": "[encoded data removed]",
      "text/plain": [
       "<Figure size 432x288 with 1 Axes>"
      ]
     },
     "metadata": {
      "needs_background": "light"
     },
     "output_type": "display_data"
    }
   ],
   "source": [
    "plt.figure()\n",
    "plt.plot(fpr, tpr, color='coral', label = 'ROC Curve with Area Under Curve = '+str(auc (fpr, tpr)))\n",
    "plt.title('ROC curve for Random forest ',fontsize=15)\n",
    "plt.xlabel('False positive Rate (1 - specificity)')\n",
    "plt.ylabel('True Positive Rate ')\n",
    "plt.legend(loc='lower right')\n",
    "plt.show()"
   ]
  },
  {
   "cell_type": "code",
   "execution_count": 243,
   "metadata": {},
   "outputs": [],
   "source": [
    "performance_metrics_with_hyperparameters['Random Forest']=[accuracy_score(y_test,rf_pred),\n",
    "                                                                    precision_score(y_test,rf_pred),\n",
    "                                                                    recall_score(y_test,rf_pred),\n",
    "                                                                    f1_score(y_test,rf_pred),\n",
    "                                                                    auc(fpr, tpr)]"
   ]
  },
  {
   "cell_type": "markdown",
   "metadata": {},
   "source": [
    "# Gradient Boosting"
   ]
  },
  {
   "cell_type": "code",
   "execution_count": 244,
   "metadata": {},
   "outputs": [],
   "source": [
    "h_params={'n_estimators':[10,20,30,50,70],\n",
    "        'criterion':['friedman_mse', 'mse', 'mae'],\n",
    "        'max_depth':[1,3,5,7,10,15,20],\n",
    "        'min_samples_split':[2,5,10,20,50],\n",
    "        'max_features':[\"auto\", \"sqrt\", \"log2\",None],\n",
    "        'max_leaf_nodes':[10,20,30,40,50,60]}"
   ]
  },
  {
   "cell_type": "code",
   "execution_count": 245,
   "metadata": {},
   "outputs": [],
   "source": [
    "rscv=RandomizedSearchCV(estimator=GradientBoostingClassifier(),param_distributions=h_params,scoring='accuracy',cv=5,random_state=1)\n",
    "results=rscv.fit(predicts,response)"
   ]
  },
  {
   "cell_type": "code",
   "execution_count": 246,
   "metadata": {},
   "outputs": [
    {
     "data": {
      "text/plain": [
       "{'n_estimators': 50,\n",
       " 'min_samples_split': 10,\n",
       " 'max_leaf_nodes': 10,\n",
       " 'max_features': 'auto',\n",
       " 'max_depth': 20,\n",
       " 'criterion': 'mse'}"
      ]
     },
     "execution_count": 246,
     "metadata": {},
     "output_type": "execute_result"
    }
   ],
   "source": [
    "results.best_params_"
   ]
  },
  {
   "cell_type": "code",
   "execution_count": 247,
   "metadata": {},
   "outputs": [
    {
     "data": {
      "text/plain": [
       "0.5701508986096983"
      ]
     },
     "execution_count": 247,
     "metadata": {},
     "output_type": "execute_result"
    }
   ],
   "source": [
    "results.best_score_"
   ]
  },
  {
   "cell_type": "markdown",
   "metadata": {},
   "source": [
    "# Gradient Boosting with Hyperparameters"
   ]
  },
  {
   "cell_type": "code",
   "execution_count": 248,
   "metadata": {},
   "outputs": [],
   "source": [
    "gd_tuned_model=results.best_estimator_\n",
    "gd_tuned_model.fit(x_train,y_train)\n",
    "gb_pred=gd_tuned_model.predict(x_test)\n",
    "y_preds=gd_tuned_model.predict_proba(x_test)[:,1]"
   ]
  },
  {
   "cell_type": "code",
   "execution_count": 249,
   "metadata": {},
   "outputs": [
    {
     "data": {
      "text/plain": [
       "array([[204, 309],\n",
       "       [127, 344]], dtype=int64)"
      ]
     },
     "execution_count": 249,
     "metadata": {},
     "output_type": "execute_result"
    }
   ],
   "source": [
    "confusion_matrix(y_test,gb_pred)"
   ]
  },
  {
   "cell_type": "code",
   "execution_count": 250,
   "metadata": {},
   "outputs": [
    {
     "name": "stdout",
     "output_type": "stream",
     "text": [
      "              precision    recall  f1-score   support\n",
      "\n",
      "           0       0.62      0.40      0.48       513\n",
      "           1       0.53      0.73      0.61       471\n",
      "\n",
      "    accuracy                           0.56       984\n",
      "   macro avg       0.57      0.56      0.55       984\n",
      "weighted avg       0.57      0.56      0.55       984\n",
      "\n",
      "\n",
      "Accuracy is :  0.556910569105691\n",
      "Precission :  0.5267993874425727\n",
      "Recall :  0.7303609341825902\n",
      "f1-score :  0.6120996441281139\n",
      "Roc Auc score :  0.5640108764480203\n"
     ]
    }
   ],
   "source": [
    "print(classification_report(y_test,gb_pred))\n",
    "print()\n",
    "print('Accuracy is : ',accuracy_score(y_test,gb_pred))\n",
    "print('Precission : ',precision_score(y_test,gb_pred))\n",
    "print('Recall : ',recall_score(y_test,gb_pred))\n",
    "print('f1-score : ',f1_score(y_test,gb_pred))\n",
    "print('Roc Auc score : ',roc_auc_score(y_test,gb_pred))"
   ]
  },
  {
   "cell_type": "code",
   "execution_count": 251,
   "metadata": {},
   "outputs": [
    {
     "name": "stdout",
     "output_type": "stream",
     "text": [
      "Area under the ROC curve :  0.6058674050069737\n"
     ]
    }
   ],
   "source": [
    "[fpr, tpr, thr] = roc_curve(y_test, y_preds)\n",
    "print('Area under the ROC curve : ',auc(fpr, tpr))"
   ]
  },
  {
   "cell_type": "code",
   "execution_count": 252,
   "metadata": {},
   "outputs": [
    {
     "data": {
      "image/png": "[encoded data removed]",
      "text/plain": [
       "<Figure size 432x288 with 1 Axes>"
      ]
     },
     "metadata": {
      "needs_background": "light"
     },
     "output_type": "display_data"
    }
   ],
   "source": [
    "plt.figure()\n",
    "plt.plot(fpr, tpr, color='coral', label = 'ROC Curve with Area Under Curve = '+str(auc (fpr, tpr)))\n",
    "plt.title('ROC curve for Gradient boosting ',fontsize=15)\n",
    "plt.xlabel('False positive Rate (1 - specificity)')\n",
    "plt.ylabel('True Positive Rate ')\n",
    "plt.legend(loc='lower right')\n",
    "plt.show()"
   ]
  },
  {
   "cell_type": "code",
   "execution_count": 253,
   "metadata": {},
   "outputs": [],
   "source": [
    "performance_metrics_with_hyperparameters['Gradient boosting']=[accuracy_score(y_test,gb_pred),\n",
    "                                                                    precision_score(y_test,gb_pred),\n",
    "                                                                    recall_score(y_test,gb_pred),\n",
    "                                                                    f1_score(y_test,gb_pred),\n",
    "                                                                    auc(fpr, tpr)]"
   ]
  },
  {
   "cell_type": "markdown",
   "metadata": {},
   "source": [
    "# Adaboosting"
   ]
  },
  {
   "cell_type": "code",
   "execution_count": 254,
   "metadata": {},
   "outputs": [],
   "source": [
    "h_params={'n_estimators':[10,20,30,50,70],\n",
    "        'learning_rate':[0.01,0.05,0.1,0.2,0.5,1,2,5],\n",
    "        'algorithm' : ['SAMME', 'SAMME.R']}"
   ]
  },
  {
   "cell_type": "code",
   "execution_count": 255,
   "metadata": {},
   "outputs": [],
   "source": [
    "rscv=RandomizedSearchCV(estimator=AdaBoostClassifier(),param_distributions=h_params,scoring='accuracy',cv=5,random_state=1)\n",
    "results=rscv.fit(predicts,response)"
   ]
  },
  {
   "cell_type": "code",
   "execution_count": 256,
   "metadata": {},
   "outputs": [
    {
     "data": {
      "text/plain": [
       "{'n_estimators': 50, 'learning_rate': 0.5, 'algorithm': 'SAMME.R'}"
      ]
     },
     "execution_count": 256,
     "metadata": {},
     "output_type": "execute_result"
    }
   ],
   "source": [
    "results.best_params_"
   ]
  },
  {
   "cell_type": "code",
   "execution_count": 257,
   "metadata": {},
   "outputs": [
    {
     "data": {
      "text/plain": [
       "0.5679142991836835"
      ]
     },
     "execution_count": 257,
     "metadata": {},
     "output_type": "execute_result"
    }
   ],
   "source": [
    "results.best_score_"
   ]
  },
  {
   "cell_type": "markdown",
   "metadata": {},
   "source": [
    "# Adaboost with Hyperparameters"
   ]
  },
  {
   "cell_type": "code",
   "execution_count": 258,
   "metadata": {},
   "outputs": [],
   "source": [
    "ada_tuned_model=results.best_estimator_\n",
    "ada_tuned_model.fit(x_train,y_train)\n",
    "ad_pred=ada_tuned_model.predict(x_test)\n",
    "y_preds=ada_tuned_model.predict_proba(x_test)[:,1]"
   ]
  },
  {
   "cell_type": "code",
   "execution_count": 259,
   "metadata": {},
   "outputs": [
    {
     "data": {
      "text/plain": [
       "array([[204, 309],\n",
       "       [122, 349]], dtype=int64)"
      ]
     },
     "execution_count": 259,
     "metadata": {},
     "output_type": "execute_result"
    }
   ],
   "source": [
    "confusion_matrix(y_test,ad_pred)"
   ]
  },
  {
   "cell_type": "code",
   "execution_count": 260,
   "metadata": {},
   "outputs": [
    {
     "name": "stdout",
     "output_type": "stream",
     "text": [
      "              precision    recall  f1-score   support\n",
      "\n",
      "           0       0.63      0.40      0.49       513\n",
      "           1       0.53      0.74      0.62       471\n",
      "\n",
      "    accuracy                           0.56       984\n",
      "   macro avg       0.58      0.57      0.55       984\n",
      "weighted avg       0.58      0.56      0.55       984\n",
      "\n",
      "\n",
      "Accuracy is :  0.5619918699186992\n",
      "Precission :  0.5303951367781155\n",
      "Recall :  0.7409766454352441\n",
      "f1-score :  0.6182462356067315\n"
     ]
    }
   ],
   "source": [
    "print(classification_report(y_test,ad_pred))\n",
    "print()\n",
    "print('Accuracy is : ',accuracy_score(y_test,ad_pred))\n",
    "print('Precission : ',precision_score(y_test,ad_pred))\n",
    "print('Recall : ',recall_score(y_test,ad_pred))\n",
    "print('f1-score : ',f1_score(y_test,ad_pred))"
   ]
  },
  {
   "cell_type": "code",
   "execution_count": 261,
   "metadata": {},
   "outputs": [
    {
     "name": "stdout",
     "output_type": "stream",
     "text": [
      "Area under the ROC curve :  0.6088741551921796\n"
     ]
    }
   ],
   "source": [
    "[fpr, tpr, thr] = roc_curve(y_test, y_preds)\n",
    "print('Area under the ROC curve : ',auc(fpr, tpr))"
   ]
  },
  {
   "cell_type": "code",
   "execution_count": 262,
   "metadata": {},
   "outputs": [
    {
     "data": {
      "image/png": "[encoded data removed]",
      "text/plain": [
       "<Figure size 432x288 with 1 Axes>"
      ]
     },
     "metadata": {
      "needs_background": "light"
     },
     "output_type": "display_data"
    }
   ],
   "source": [
    "plt.figure()\n",
    "plt.plot(fpr, tpr, color='coral', label = 'ROC Curve with Area Under Curve = '+str(auc (fpr, tpr)))\n",
    "plt.title('ROC curve for Adaboosting ',fontsize=15)\n",
    "plt.xlabel('False positive Rate (1 - specificity)')\n",
    "plt.ylabel('True Positive Rate ')\n",
    "plt.legend(loc='lower right')\n",
    "plt.show()"
   ]
  },
  {
   "cell_type": "code",
   "execution_count": 263,
   "metadata": {},
   "outputs": [],
   "source": [
    "performance_metrics_with_hyperparameters['Adaboost']=[accuracy_score(y_test,ad_pred),\n",
    "                                                                    precision_score(y_test,ad_pred),\n",
    "                                                                    recall_score(y_test,ad_pred),\n",
    "                                                                    f1_score(y_test,ad_pred),\n",
    "                                                                    auc(fpr, tpr)]"
   ]
  },
  {
   "cell_type": "markdown",
   "metadata": {},
   "source": [
    "# Performance metrics with hyperparameters"
   ]
  },
  {
   "cell_type": "code",
   "execution_count": 264,
   "metadata": {},
   "outputs": [
    {
     "data": {
      "text/html": [
       "<div>\n",
       "<style scoped>\n",
       "    .dataframe tbody tr th:only-of-type {\n",
       "        vertical-align: middle;\n",
       "    }\n",
       "\n",
       "    .dataframe tbody tr th {\n",
       "        vertical-align: top;\n",
       "    }\n",
       "\n",
       "    .dataframe thead th {\n",
       "        text-align: right;\n",
       "    }\n",
       "</style>\n",
       "<table border=\"1\" class=\"dataframe\">\n",
       "  <thead>\n",
       "    <tr style=\"text-align: right;\">\n",
       "      <th></th>\n",
       "      <th>Logistic Regression</th>\n",
       "      <th>SVM</th>\n",
       "      <th>KNN</th>\n",
       "      <th>Decision Tree</th>\n",
       "      <th>Random Forest</th>\n",
       "      <th>Gradient boosting</th>\n",
       "      <th>Adaboost</th>\n",
       "    </tr>\n",
       "  </thead>\n",
       "  <tbody>\n",
       "    <tr>\n",
       "      <th>Accuracy</th>\n",
       "      <td>0.557927</td>\n",
       "      <td>0.561992</td>\n",
       "      <td>0.523374</td>\n",
       "      <td>0.489837</td>\n",
       "      <td>0.587398</td>\n",
       "      <td>0.556911</td>\n",
       "      <td>0.561992</td>\n",
       "    </tr>\n",
       "    <tr>\n",
       "      <th>Precision</th>\n",
       "      <td>0.526706</td>\n",
       "      <td>0.525907</td>\n",
       "      <td>0.501992</td>\n",
       "      <td>0.471028</td>\n",
       "      <td>0.552504</td>\n",
       "      <td>0.526799</td>\n",
       "      <td>0.530395</td>\n",
       "    </tr>\n",
       "    <tr>\n",
       "      <th>Recall</th>\n",
       "      <td>0.753715</td>\n",
       "      <td>0.861996</td>\n",
       "      <td>0.535032</td>\n",
       "      <td>0.535032</td>\n",
       "      <td>0.726115</td>\n",
       "      <td>0.730361</td>\n",
       "      <td>0.740977</td>\n",
       "    </tr>\n",
       "    <tr>\n",
       "      <th>F1_score</th>\n",
       "      <td>0.620087</td>\n",
       "      <td>0.653258</td>\n",
       "      <td>0.517986</td>\n",
       "      <td>0.500994</td>\n",
       "      <td>0.627523</td>\n",
       "      <td>0.612100</td>\n",
       "      <td>0.618246</td>\n",
       "    </tr>\n",
       "    <tr>\n",
       "      <th>AUC</th>\n",
       "      <td>0.594856</td>\n",
       "      <td>0.571874</td>\n",
       "      <td>0.523870</td>\n",
       "      <td>0.497037</td>\n",
       "      <td>0.606087</td>\n",
       "      <td>0.605867</td>\n",
       "      <td>0.608874</td>\n",
       "    </tr>\n",
       "  </tbody>\n",
       "</table>\n",
       "</div>"
      ],
      "text/plain": [
       "           Logistic Regression       SVM       KNN  Decision Tree  \\\n",
       "Accuracy              0.557927  0.561992  0.523374       0.489837   \n",
       "Precision             0.526706  0.525907  0.501992       0.471028   \n",
       "Recall                0.753715  0.861996  0.535032       0.535032   \n",
       "F1_score              0.620087  0.653258  0.517986       0.500994   \n",
       "AUC                   0.594856  0.571874  0.523870       0.497037   \n",
       "\n",
       "           Random Forest  Gradient boosting  Adaboost  \n",
       "Accuracy        0.587398           0.556911  0.561992  \n",
       "Precision       0.552504           0.526799  0.530395  \n",
       "Recall          0.726115           0.730361  0.740977  \n",
       "F1_score        0.627523           0.612100  0.618246  \n",
       "AUC             0.606087           0.605867  0.608874  "
      ]
     },
     "execution_count": 264,
     "metadata": {},
     "output_type": "execute_result"
    }
   ],
   "source": [
    ".,kvdperformance_metrics_with_hyperparameters"
   ]
  },
  {
   "cell_type": "code",
   "execution_count": 265,
   "metadata": {},
   "outputs": [
    {
     "name": "stdout",
     "output_type": "stream",
     "text": [
      "Logistic Regression Model Accuracy :  0.5579268292682927\n",
      "SVM Model Accuracy :  0.5619918699186992\n",
      "KNeighborsClassifier Model Accuracy :  0.5233739837398373\n",
      "DecisionTreeClassifier Model Accuracy :  0.4898373983739837\n",
      "RandomForestClassifier Model Accuracy :  0.5873983739837398\n",
      "GradientBoostingClassifier Model Accuracy :  0.556910569105691\n",
      "AdaBoostClassifier Model Accuracy :  0.5619918699186992\n"
     ]
    }
   ],
   "source": [
    "print('Logistic Regression Model Accuracy : ', accuracy_score(y_test,lg_pred))\n",
    "print('SVM Model Accuracy : ', accuracy_score(y_test,sv_pred))\n",
    "print('KNeighborsClassifier Model Accuracy : ', accuracy_score(y_test,kn_pred))\n",
    "print('DecisionTreeClassifier Model Accuracy : ', accuracy_score(y_test,dt_pred))\n",
    "print('RandomForestClassifier Model Accuracy : ', accuracy_score(y_test,rf_pred))\n",
    "print('GradientBoostingClassifier Model Accuracy : ', accuracy_score(y_test,gb_pred))\n",
    "print('AdaBoostClassifier Model Accuracy : ', accuracy_score(y_test,ad_pred))"
   ]
  },
  {
   "cell_type": "code",
   "execution_count": 266,
   "metadata": {},
   "outputs": [
    {
     "data": {
      "image/png": "[encoded data removed]",
      "text/plain": [
       "<Figure size 1440x720 with 1 Axes>"
      ]
     },
     "metadata": {
      "needs_background": "light"
     },
     "output_type": "display_data"
    }
   ],
   "source": [
    "x = np.array([\"Logistic_Reg\",\"SVM\", \"KNN\", \"Decision_Tree\", \"Random_Forest\", \"Gradient_Boosting\", \"AdaBoost\"])\n",
    "y = np.array([0.5579,0.5619,0.5233,0.4898,0.5873,0.5569,0.5619])\n",
    "width = 0.6\n",
    "plt.figure(figsize=[20,10])\n",
    "plt.bar(x,y,width)\n",
    "plt.xlabel('Models')\n",
    "plt.ylabel('Accuracy')\n",
    "plt.title('Accuracy of Different Algorithms using Hyperparameter')\n",
    "plt.show()"
   ]
  },
  {
   "cell_type": "markdown",
   "metadata": {},
   "source": [
    "# Some conclusion \n",
    "Here we conclude that all the models having good accuracy instead of Decision_Tree.<br>\n",
    "Reco_Policy_Cat, Holding_Policy_Type are most imported features.<br>\n",
    "If Holding_Policy_Type is of type 1 or 3, then they have more chances of cross selling insurance.<br>\n",
    "If Holding policy duration in in bet 1, 2, 4 or more than 14 years then we have more chance to cross sell."
   ]
  },
  {
   "cell_type": "code",
   "execution_count": null,
   "metadata": {},
   "outputs": [],
   "source": []
  }
 ],
 "metadata": {
  "kernelspec": {
   "display_name": "Python 3",
   "language": "python",
   "name": "python3"
  },
  "language_info": {
   "codemirror_mode": {
    "name": "ipython",
    "version": 3
   },
   "file_extension": ".py",
   "mimetype": "text/x-python",
   "name": "python",
   "nbconvert_exporter": "python",
   "pygments_lexer": "ipython3",
   "version": "3.8.5"
  }
 },
 "nbformat": 4,
 "nbformat_minor": 5
}
