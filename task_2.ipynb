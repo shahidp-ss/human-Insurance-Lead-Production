{
 "cells": [
  {
   "cell_type": "markdown",
   "metadata": {},
   "source": [
    "# Task - 2\n",
    "\n",
    "\n",
    "## **Task has been mentioned at the end of this notebook**  \n",
    "\n",
    "Read this notebook to understand the solutions to `Task - 1`\n",
    "\n"
   ]
  },
  {
   "cell_type": "markdown",
   "metadata": {},
   "source": [
    "## 1. Basic Pandas Operations"
   ]
  },
  {
   "cell_type": "code",
   "execution_count": 1,
   "metadata": {},
   "outputs": [],
   "source": [
    "# Import all the required Libraries\n",
    "\n",
    "import pandas as pd\n",
    "import numpy as np\n",
    "\n",
    "import seaborn as sns\n",
    "import matplotlib.pyplot as plt\n",
    "import warnings\n",
    "warnings.filterwarnings('ignore')"
   ]
  },
  {
   "cell_type": "code",
   "execution_count": 2,
   "metadata": {
    "scrolled": true
   },
   "outputs": [
    {
     "data": {
      "text/html": [
       "<div>\n",
       "<style scoped>\n",
       "    .dataframe tbody tr th:only-of-type {\n",
       "        vertical-align: middle;\n",
       "    }\n",
       "\n",
       "    .dataframe tbody tr th {\n",
       "        vertical-align: top;\n",
       "    }\n",
       "\n",
       "    .dataframe thead th {\n",
       "        text-align: right;\n",
       "    }\n",
       "</style>\n",
       "<table border=\"1\" class=\"dataframe\">\n",
       "  <thead>\n",
       "    <tr style=\"text-align: right;\">\n",
       "      <th></th>\n",
       "      <th>Unnamed: 0</th>\n",
       "      <th>ID</th>\n",
       "      <th>City_Code</th>\n",
       "      <th>Region_Code</th>\n",
       "      <th>Accomodation_Type</th>\n",
       "      <th>Reco_Insurance_Type</th>\n",
       "      <th>Upper_Age</th>\n",
       "      <th>Lower_Age</th>\n",
       "      <th>Is_Spouse</th>\n",
       "      <th>Health Indicator</th>\n",
       "      <th>Holding_Policy_Duration</th>\n",
       "      <th>Holding_Policy_Type</th>\n",
       "      <th>Reco_Policy_Cat</th>\n",
       "      <th>Reco_Policy_Premium</th>\n",
       "      <th>Response</th>\n",
       "    </tr>\n",
       "  </thead>\n",
       "  <tbody>\n",
       "    <tr>\n",
       "      <th>0</th>\n",
       "      <td>27385</td>\n",
       "      <td>27386</td>\n",
       "      <td>C3</td>\n",
       "      <td>64</td>\n",
       "      <td>Owned</td>\n",
       "      <td>Individual</td>\n",
       "      <td>36</td>\n",
       "      <td>36</td>\n",
       "      <td>No</td>\n",
       "      <td>X1</td>\n",
       "      <td>14+</td>\n",
       "      <td>2.0</td>\n",
       "      <td>16</td>\n",
       "      <td>13320.0</td>\n",
       "      <td>0</td>\n",
       "    </tr>\n",
       "    <tr>\n",
       "      <th>1</th>\n",
       "      <td>33499</td>\n",
       "      <td>33500</td>\n",
       "      <td>C3</td>\n",
       "      <td>2955</td>\n",
       "      <td>Owned</td>\n",
       "      <td>Individual</td>\n",
       "      <td>66</td>\n",
       "      <td>66</td>\n",
       "      <td>No</td>\n",
       "      <td>X6</td>\n",
       "      <td>10</td>\n",
       "      <td>1.0</td>\n",
       "      <td>19</td>\n",
       "      <td>16152.0</td>\n",
       "      <td>0</td>\n",
       "    </tr>\n",
       "    <tr>\n",
       "      <th>2</th>\n",
       "      <td>7997</td>\n",
       "      <td>7998</td>\n",
       "      <td>C1</td>\n",
       "      <td>1542</td>\n",
       "      <td>Rented</td>\n",
       "      <td>Individual</td>\n",
       "      <td>24</td>\n",
       "      <td>24</td>\n",
       "      <td>No</td>\n",
       "      <td>NaN</td>\n",
       "      <td>3</td>\n",
       "      <td>1.0</td>\n",
       "      <td>16</td>\n",
       "      <td>7310.0</td>\n",
       "      <td>0</td>\n",
       "    </tr>\n",
       "    <tr>\n",
       "      <th>3</th>\n",
       "      <td>33032</td>\n",
       "      <td>33033</td>\n",
       "      <td>C26</td>\n",
       "      <td>772</td>\n",
       "      <td>Rented</td>\n",
       "      <td>Individual</td>\n",
       "      <td>75</td>\n",
       "      <td>75</td>\n",
       "      <td>No</td>\n",
       "      <td>X1</td>\n",
       "      <td>1</td>\n",
       "      <td>3.0</td>\n",
       "      <td>16</td>\n",
       "      <td>15792.0</td>\n",
       "      <td>0</td>\n",
       "    </tr>\n",
       "    <tr>\n",
       "      <th>4</th>\n",
       "      <td>30516</td>\n",
       "      <td>30517</td>\n",
       "      <td>C2</td>\n",
       "      <td>1510</td>\n",
       "      <td>Owned</td>\n",
       "      <td>Joint</td>\n",
       "      <td>59</td>\n",
       "      <td>58</td>\n",
       "      <td>Yes</td>\n",
       "      <td>X1</td>\n",
       "      <td>14+</td>\n",
       "      <td>4.0</td>\n",
       "      <td>17</td>\n",
       "      <td>23673.0</td>\n",
       "      <td>0</td>\n",
       "    </tr>\n",
       "  </tbody>\n",
       "</table>\n",
       "</div>"
      ],
      "text/plain": [
       "   Unnamed: 0     ID City_Code  Region_Code Accomodation_Type  \\\n",
       "0       27385  27386        C3           64             Owned   \n",
       "1       33499  33500        C3         2955             Owned   \n",
       "2        7997   7998        C1         1542            Rented   \n",
       "3       33032  33033       C26          772            Rented   \n",
       "4       30516  30517        C2         1510             Owned   \n",
       "\n",
       "  Reco_Insurance_Type  Upper_Age  Lower_Age Is_Spouse Health Indicator  \\\n",
       "0          Individual         36         36        No               X1   \n",
       "1          Individual         66         66        No               X6   \n",
       "2          Individual         24         24        No              NaN   \n",
       "3          Individual         75         75        No               X1   \n",
       "4               Joint         59         58       Yes               X1   \n",
       "\n",
       "  Holding_Policy_Duration  Holding_Policy_Type  Reco_Policy_Cat  \\\n",
       "0                     14+                  2.0               16   \n",
       "1                      10                  1.0               19   \n",
       "2                       3                  1.0               16   \n",
       "3                       1                  3.0               16   \n",
       "4                     14+                  4.0               17   \n",
       "\n",
       "   Reco_Policy_Premium  Response  \n",
       "0              13320.0         0  \n",
       "1              16152.0         0  \n",
       "2               7310.0         0  \n",
       "3              15792.0         0  \n",
       "4              23673.0         0  "
      ]
     },
     "execution_count": 2,
     "metadata": {},
     "output_type": "execute_result"
    }
   ],
   "source": [
    "# Read the dataset and display the head. You will get the output as mentioned below\n",
    "\n",
    "df = pd.read_csv('train.csv')\n",
    "df.head(5)\n"
   ]
  },
  {
   "cell_type": "code",
   "execution_count": 3,
   "metadata": {},
   "outputs": [
    {
     "data": {
      "text/plain": [
       "(10000, 15)"
      ]
     },
     "execution_count": 3,
     "metadata": {},
     "output_type": "execute_result"
    }
   ],
   "source": [
    "# Check the shape of the dataframe\n",
    "\n",
    "df.shape"
   ]
  },
  {
   "cell_type": "code",
   "execution_count": 4,
   "metadata": {},
   "outputs": [
    {
     "name": "stdout",
     "output_type": "stream",
     "text": [
      "<class 'pandas.core.frame.DataFrame'>\n",
      "RangeIndex: 10000 entries, 0 to 9999\n",
      "Data columns (total 15 columns):\n",
      " #   Column                   Non-Null Count  Dtype  \n",
      "---  ------                   --------------  -----  \n",
      " 0   Unnamed: 0               10000 non-null  int64  \n",
      " 1   ID                       10000 non-null  int64  \n",
      " 2   City_Code                10000 non-null  object \n",
      " 3   Region_Code              10000 non-null  int64  \n",
      " 4   Accomodation_Type        10000 non-null  object \n",
      " 5   Reco_Insurance_Type      10000 non-null  object \n",
      " 6   Upper_Age                10000 non-null  int64  \n",
      " 7   Lower_Age                10000 non-null  int64  \n",
      " 8   Is_Spouse                10000 non-null  object \n",
      " 9   Health Indicator         7671 non-null   object \n",
      " 10  Holding_Policy_Duration  5946 non-null   object \n",
      " 11  Holding_Policy_Type      5946 non-null   float64\n",
      " 12  Reco_Policy_Cat          10000 non-null  int64  \n",
      " 13  Reco_Policy_Premium      10000 non-null  float64\n",
      " 14  Response                 10000 non-null  int64  \n",
      "dtypes: float64(2), int64(7), object(6)\n",
      "memory usage: 1.1+ MB\n"
     ]
    }
   ],
   "source": [
    "# On the dataframe apply info() function and observe the Dtypes and Missing Values\n",
    "df.info()"
   ]
  },
  {
   "cell_type": "markdown",
   "metadata": {},
   "source": [
    "## Observations:\n",
    "There are initially 7 int datatype variables, 2 float datatype variables and 6 object datatype variables in the dataset.\n",
    "\n",
    "There are null values in Health Indicator, Holding_Policy_Duration, Holding_Policy_Type,features."
   ]
  },
  {
   "cell_type": "markdown",
   "metadata": {},
   "source": [
    "## 2. Cleaning the Data"
   ]
  },
  {
   "cell_type": "code",
   "execution_count": 5,
   "metadata": {},
   "outputs": [
    {
     "data": {
      "text/plain": [
       "Unnamed: 0                    0\n",
       "ID                            0\n",
       "City_Code                     0\n",
       "Region_Code                   0\n",
       "Accomodation_Type             0\n",
       "Reco_Insurance_Type           0\n",
       "Upper_Age                     0\n",
       "Lower_Age                     0\n",
       "Is_Spouse                     0\n",
       "Health Indicator           2329\n",
       "Holding_Policy_Duration    4054\n",
       "Holding_Policy_Type        4054\n",
       "Reco_Policy_Cat               0\n",
       "Reco_Policy_Premium           0\n",
       "Response                      0\n",
       "dtype: int64"
      ]
     },
     "execution_count": 5,
     "metadata": {},
     "output_type": "execute_result"
    }
   ],
   "source": [
    "df.isnull().sum()"
   ]
  },
  {
   "cell_type": "code",
   "execution_count": 6,
   "metadata": {},
   "outputs": [],
   "source": [
    "# Impute the Null values in Health Indicator, Holding_Policy_Duration and Holding_Policy_Type\n",
    "\n",
    "#lets impute the missing values with the mode\n",
    "\n",
    "df['Health Indicator'].fillna(df['Health Indicator'].mode()[0],axis=0,inplace=True)\n",
    "df['Holding_Policy_Duration'].fillna(df['Holding_Policy_Duration'].mode()[0],axis=0,inplace=True)\n",
    "df['Holding_Policy_Type'].fillna(df['Holding_Policy_Type'].mode()[0],axis=0,inplace=True)\n",
    "# -> if categrical :  Fill  \"Mode\"\n",
    "# -> in  Neumerical : \"Median\" Always (because the mean will not be affected by the median)"
   ]
  },
  {
   "cell_type": "code",
   "execution_count": 7,
   "metadata": {},
   "outputs": [
    {
     "data": {
      "text/plain": [
       "dtype('int64')"
      ]
     },
     "execution_count": 7,
     "metadata": {},
     "output_type": "execute_result"
    }
   ],
   "source": [
    "# Check again Holding_Policy_Duration is in object column convert that into int\n",
    "\n",
    "df['Holding_Policy_Duration']=df['Holding_Policy_Duration'].apply(lambda x: str(15) if x=='14+' else x)\n",
    "df['Holding_Policy_Duration']=pd.to_numeric(df['Holding_Policy_Duration'])\n",
    "df['Holding_Policy_Duration'].dtype"
   ]
  },
  {
   "cell_type": "markdown",
   "metadata": {},
   "source": [
    "## Observations:\n",
    "First I replaced 14+ in Holding_Policy_Duration feature with 15.\n",
    "\n",
    "Later converted this feature into int datatype using pandas.to_numeric() inbuilt function."
   ]
  },
  {
   "cell_type": "code",
   "execution_count": 8,
   "metadata": {},
   "outputs": [
    {
     "data": {
      "text/plain": [
       "Accomodation_Type      2\n",
       "Reco_Insurance_Type    2\n",
       "Is_Spouse              2\n",
       "dtype: int64"
      ]
     },
     "execution_count": 8,
     "metadata": {},
     "output_type": "execute_result"
    }
   ],
   "source": [
    "# Observe that ['Accomodation_Type','Reco_Insurance_Type','Is_Spouse'] \n",
    "# above these Object columns have two values - Yes and No\n",
    "\n",
    "\n",
    "df[['Accomodation_Type','Reco_Insurance_Type','Is_Spouse']].nunique()"
   ]
  },
  {
   "cell_type": "code",
   "execution_count": 9,
   "metadata": {},
   "outputs": [],
   "source": [
    "# Converting all the Yes to 1 and No to 0. \n",
    "# Write a for loop to iterate over the list given above\n",
    "# For each feature use pandas 'apply()' to convert all the 'Yes' to 1 and 'No' to 0\n",
    "\n",
    "\n",
    "df['Accomodation_Type']=df['Accomodation_Type'].apply(lambda x:1 if x=='Owned' else 0)\n",
    "df['Reco_Insurance_Type']=df['Reco_Insurance_Type'].apply(lambda x:1 if x=='Individual' else 0)\n",
    "df['Is_Spouse']=df['Is_Spouse'].apply(lambda x:1 if x=='Yes' else 0)"
   ]
  },
  {
   "cell_type": "markdown",
   "metadata": {},
   "source": [
    "## Observations:\n",
    "I converted values of Accomodation_Type, Reco_Insurance_Type, Is_Spouse features into 1 and 0.\n",
    "\n",
    "In Accomodation_Type - 'Owned' by 1, 'Rented' by 0.\n",
    "In Reco_Insurance_Type - 'Individual' by 1, 'Joint' by 0.\n",
    "In Is_Spouse - 'Yes' by 1, 'No' by 0."
   ]
  },
  {
   "cell_type": "code",
   "execution_count": 10,
   "metadata": {
    "scrolled": true
   },
   "outputs": [
    {
     "name": "stdout",
     "output_type": "stream",
     "text": [
      "<class 'pandas.core.frame.DataFrame'>\n",
      "RangeIndex: 10000 entries, 0 to 9999\n",
      "Data columns (total 15 columns):\n",
      " #   Column                   Non-Null Count  Dtype  \n",
      "---  ------                   --------------  -----  \n",
      " 0   Unnamed: 0               10000 non-null  int64  \n",
      " 1   ID                       10000 non-null  int64  \n",
      " 2   City_Code                10000 non-null  object \n",
      " 3   Region_Code              10000 non-null  int64  \n",
      " 4   Accomodation_Type        10000 non-null  int64  \n",
      " 5   Reco_Insurance_Type      10000 non-null  int64  \n",
      " 6   Upper_Age                10000 non-null  int64  \n",
      " 7   Lower_Age                10000 non-null  int64  \n",
      " 8   Is_Spouse                10000 non-null  int64  \n",
      " 9   Health Indicator         10000 non-null  object \n",
      " 10  Holding_Policy_Duration  10000 non-null  int64  \n",
      " 11  Holding_Policy_Type      10000 non-null  float64\n",
      " 12  Reco_Policy_Cat          10000 non-null  int64  \n",
      " 13  Reco_Policy_Premium      10000 non-null  float64\n",
      " 14  Response                 10000 non-null  int64  \n",
      "dtypes: float64(2), int64(11), object(2)\n",
      "memory usage: 1.1+ MB\n"
     ]
    }
   ],
   "source": [
    "# Now again having a look at all those columns to see if everything went well\n",
    "\n",
    "df.info() "
   ]
  },
  {
   "cell_type": "markdown",
   "metadata": {},
   "source": [
    "## Observations:\n",
    "Now there are no null values in the dataset,There are 11 int datatype, 2 float datatype, 2 object datatype features in the dataset."
   ]
  },
  {
   "cell_type": "code",
   "execution_count": 11,
   "metadata": {
    "scrolled": true
   },
   "outputs": [
    {
     "data": {
      "text/plain": [
       "City_Code           36\n",
       "Health Indicator     9\n",
       "dtype: int64"
      ]
     },
     "execution_count": 11,
     "metadata": {},
     "output_type": "execute_result"
    }
   ],
   "source": [
    "# Checking all the Object Dtypes - Here, these columns have more than 2 categories\n",
    "\n",
    "df[['City_Code','Health Indicator']].nunique()"
   ]
  },
  {
   "cell_type": "markdown",
   "metadata": {},
   "source": [
    "## Observations:\n",
    "City Code,Health Indicator features have 36,9 unique values respectively."
   ]
  },
  {
   "cell_type": "code",
   "execution_count": 12,
   "metadata": {},
   "outputs": [
    {
     "data": {
      "text/plain": [
       "0       0\n",
       "1       0\n",
       "2       0\n",
       "3       0\n",
       "4       0\n",
       "       ..\n",
       "9995    1\n",
       "9996    0\n",
       "9997    0\n",
       "9998    0\n",
       "9999    0\n",
       "Name: Response, Length: 10000, dtype: int64"
      ]
     },
     "execution_count": 12,
     "metadata": {},
     "output_type": "execute_result"
    }
   ],
   "source": [
    "# Lets just try to see what is happening Response. Check the output.\n",
    "\n",
    "df['Response']"
   ]
  },
  {
   "cell_type": "code",
   "execution_count": 13,
   "metadata": {},
   "outputs": [
    {
     "name": "stdout",
     "output_type": "stream",
     "text": [
      "(10000, 15)\n"
     ]
    },
    {
     "data": {
      "text/plain": [
       "(10000, 14)"
      ]
     },
     "execution_count": 13,
     "metadata": {},
     "output_type": "execute_result"
    }
   ],
   "source": [
    "print(df.shape)\n",
    "# Dropping unknown column\n",
    "\n",
    "# Write the code here to drop unknown column and check dataframe shape\n",
    "\n",
    "\n",
    "df.drop('Unnamed: 0',axis=1,inplace=True)\n",
    "\n",
    "df.shape"
   ]
  },
  {
   "cell_type": "code",
   "execution_count": 14,
   "metadata": {
    "scrolled": true
   },
   "outputs": [
    {
     "data": {
      "text/plain": [
       "Index(['City_Code', 'Health Indicator'], dtype='object')"
      ]
     },
     "execution_count": 14,
     "metadata": {},
     "output_type": "execute_result"
    }
   ],
   "source": [
    "# Getting all the Object Dtypes\n",
    "\n",
    "df.select_dtypes(include='object').columns"
   ]
  },
  {
   "cell_type": "code",
   "execution_count": 15,
   "metadata": {},
   "outputs": [],
   "source": [
    "# Encoding the categorical features\n",
    "\n",
    "\n",
    "\n",
    "# column names are (annoyingly) lost after OneHotEncoding\n",
    "# (i.e. the dataframe is converted to a numpy ndarray)\n",
    "\n",
    "# Write the code here to use 'encoder' to convert all the categorical columns to numerical representations\n",
    "# Take extra care to convert encoded numpy array to dataframe and call that data fram 'df_encoded'\n",
    "\n",
    "from sklearn.preprocessing import OneHotEncoder\n",
    "\n",
    "OHE=OneHotEncoder(handle_unknown='ignore')\n",
    "one_hot_encoded=OHE.fit_transform(df[['Health Indicator']])\n",
    "\n",
    "df_encoded=pd.DataFrame(one_hot_encoded.toarray(),columns=sorted(df['Health Indicator'].unique().tolist()))"
   ]
  },
  {
   "cell_type": "code",
   "execution_count": 16,
   "metadata": {},
   "outputs": [
    {
     "name": "stdout",
     "output_type": "stream",
     "text": [
      "<class 'pandas.core.frame.DataFrame'>\n",
      "RangeIndex: 10000 entries, 0 to 9999\n",
      "Data columns (total 14 columns):\n",
      " #   Column                   Non-Null Count  Dtype  \n",
      "---  ------                   --------------  -----  \n",
      " 0   ID                       10000 non-null  int64  \n",
      " 1   City_Code                10000 non-null  object \n",
      " 2   Region_Code              10000 non-null  int64  \n",
      " 3   Accomodation_Type        10000 non-null  int64  \n",
      " 4   Reco_Insurance_Type      10000 non-null  int64  \n",
      " 5   Upper_Age                10000 non-null  int64  \n",
      " 6   Lower_Age                10000 non-null  int64  \n",
      " 7   Is_Spouse                10000 non-null  int64  \n",
      " 8   Health Indicator         10000 non-null  object \n",
      " 9   Holding_Policy_Duration  10000 non-null  int64  \n",
      " 10  Holding_Policy_Type      10000 non-null  float64\n",
      " 11  Reco_Policy_Cat          10000 non-null  int64  \n",
      " 12  Reco_Policy_Premium      10000 non-null  float64\n",
      " 13  Response                 10000 non-null  int64  \n",
      "dtypes: float64(2), int64(10), object(2)\n",
      "memory usage: 1.1+ MB\n"
     ]
    }
   ],
   "source": [
    "# Observe that all those columns are now converted from Object to Int64\n",
    "df.info()"
   ]
  },
  {
   "cell_type": "code",
   "execution_count": 17,
   "metadata": {},
   "outputs": [],
   "source": [
    "# Concatinating the original data frame and onehot encoded dataframe\n",
    "\n",
    "df1=df.join(df_encoded)"
   ]
  },
  {
   "cell_type": "code",
   "execution_count": 18,
   "metadata": {},
   "outputs": [],
   "source": [
    "# Drop all the unwanted columns.\n",
    "\n",
    "\n",
    "# Because we have already encoded them and added to main dataframe\n",
    "\n",
    "\n",
    "df1.drop(['ID','Health Indicator','X9'],axis=1,inplace=True)"
   ]
  },
  {
   "cell_type": "markdown",
   "metadata": {},
   "source": [
    "## Observations:\n",
    "I dropped ID, Health Indicator,X9 features. I dropped X9 feature, to avoid multicollinearity."
   ]
  },
  {
   "cell_type": "markdown",
   "metadata": {},
   "source": [
    "## Perform Exploratory Data Analysis\n",
    "\n",
    "**To Do:**\n",
    "1. Perform Univaraite Analysis (Basic pandas statistical description)\n",
    "2. Perform Bivaraite Analysis (Pandas Cross Tabs)\n",
    "3. Visualisations - \n",
    "    * Univariate - Histograms, boxplot, PDFs, countplot, etc\n",
    "    * Bivariate - Scatterplot, Boxplots, Pairplot, etc\n",
    "4. Write proper observations after each plot\n",
    "5. At the end of the notebook, summarize it with all the best observations you got."
   ]
  },
  {
   "cell_type": "code",
   "execution_count": 19,
   "metadata": {
    "scrolled": true
   },
   "outputs": [
    {
     "data": {
      "text/html": [
       "<div>\n",
       "<style scoped>\n",
       "    .dataframe tbody tr th:only-of-type {\n",
       "        vertical-align: middle;\n",
       "    }\n",
       "\n",
       "    .dataframe tbody tr th {\n",
       "        vertical-align: top;\n",
       "    }\n",
       "\n",
       "    .dataframe thead th {\n",
       "        text-align: right;\n",
       "    }\n",
       "</style>\n",
       "<table border=\"1\" class=\"dataframe\">\n",
       "  <thead>\n",
       "    <tr style=\"text-align: right;\">\n",
       "      <th></th>\n",
       "      <th>Region_Code</th>\n",
       "      <th>Accomodation_Type</th>\n",
       "      <th>Reco_Insurance_Type</th>\n",
       "      <th>Upper_Age</th>\n",
       "      <th>Lower_Age</th>\n",
       "      <th>Is_Spouse</th>\n",
       "      <th>Holding_Policy_Duration</th>\n",
       "      <th>Holding_Policy_Type</th>\n",
       "      <th>Reco_Policy_Cat</th>\n",
       "      <th>Reco_Policy_Premium</th>\n",
       "      <th>Response</th>\n",
       "      <th>X1</th>\n",
       "      <th>X2</th>\n",
       "      <th>X3</th>\n",
       "      <th>X4</th>\n",
       "      <th>X5</th>\n",
       "      <th>X6</th>\n",
       "      <th>X7</th>\n",
       "      <th>X8</th>\n",
       "    </tr>\n",
       "  </thead>\n",
       "  <tbody>\n",
       "    <tr>\n",
       "      <th>count</th>\n",
       "      <td>10000.000000</td>\n",
       "      <td>10000.000000</td>\n",
       "      <td>10000.000000</td>\n",
       "      <td>10000.000000</td>\n",
       "      <td>10000.00000</td>\n",
       "      <td>10000.000000</td>\n",
       "      <td>10000.000000</td>\n",
       "      <td>10000.000000</td>\n",
       "      <td>10000.000000</td>\n",
       "      <td>10000.000000</td>\n",
       "      <td>10000.000000</td>\n",
       "      <td>10000.0000</td>\n",
       "      <td>10000.000000</td>\n",
       "      <td>10000.000000</td>\n",
       "      <td>10000.000000</td>\n",
       "      <td>10000.000000</td>\n",
       "      <td>10000.000000</td>\n",
       "      <td>10000.000000</td>\n",
       "      <td>10000.000000</td>\n",
       "    </tr>\n",
       "    <tr>\n",
       "      <th>mean</th>\n",
       "      <td>1723.510900</td>\n",
       "      <td>0.550900</td>\n",
       "      <td>0.795600</td>\n",
       "      <td>44.765600</td>\n",
       "      <td>42.65650</td>\n",
       "      <td>0.168200</td>\n",
       "      <td>9.807300</td>\n",
       "      <td>2.662100</td>\n",
       "      <td>15.090700</td>\n",
       "      <td>14182.681460</td>\n",
       "      <td>0.245900</td>\n",
       "      <td>0.4888</td>\n",
       "      <td>0.202800</td>\n",
       "      <td>0.134400</td>\n",
       "      <td>0.109000</td>\n",
       "      <td>0.034300</td>\n",
       "      <td>0.024800</td>\n",
       "      <td>0.003400</td>\n",
       "      <td>0.001300</td>\n",
       "    </tr>\n",
       "    <tr>\n",
       "      <th>std</th>\n",
       "      <td>1416.809648</td>\n",
       "      <td>0.497427</td>\n",
       "      <td>0.403283</td>\n",
       "      <td>17.281705</td>\n",
       "      <td>17.31614</td>\n",
       "      <td>0.374062</td>\n",
       "      <td>5.673604</td>\n",
       "      <td>0.838924</td>\n",
       "      <td>6.350237</td>\n",
       "      <td>6538.837384</td>\n",
       "      <td>0.430641</td>\n",
       "      <td>0.4999</td>\n",
       "      <td>0.402105</td>\n",
       "      <td>0.341099</td>\n",
       "      <td>0.311655</td>\n",
       "      <td>0.182008</td>\n",
       "      <td>0.155523</td>\n",
       "      <td>0.058213</td>\n",
       "      <td>0.036034</td>\n",
       "    </tr>\n",
       "    <tr>\n",
       "      <th>min</th>\n",
       "      <td>1.000000</td>\n",
       "      <td>0.000000</td>\n",
       "      <td>0.000000</td>\n",
       "      <td>18.000000</td>\n",
       "      <td>16.00000</td>\n",
       "      <td>0.000000</td>\n",
       "      <td>1.000000</td>\n",
       "      <td>1.000000</td>\n",
       "      <td>1.000000</td>\n",
       "      <td>2280.000000</td>\n",
       "      <td>0.000000</td>\n",
       "      <td>0.0000</td>\n",
       "      <td>0.000000</td>\n",
       "      <td>0.000000</td>\n",
       "      <td>0.000000</td>\n",
       "      <td>0.000000</td>\n",
       "      <td>0.000000</td>\n",
       "      <td>0.000000</td>\n",
       "      <td>0.000000</td>\n",
       "    </tr>\n",
       "    <tr>\n",
       "      <th>25%</th>\n",
       "      <td>517.000000</td>\n",
       "      <td>0.000000</td>\n",
       "      <td>1.000000</td>\n",
       "      <td>28.000000</td>\n",
       "      <td>27.00000</td>\n",
       "      <td>0.000000</td>\n",
       "      <td>4.000000</td>\n",
       "      <td>2.000000</td>\n",
       "      <td>12.000000</td>\n",
       "      <td>9278.400000</td>\n",
       "      <td>0.000000</td>\n",
       "      <td>0.0000</td>\n",
       "      <td>0.000000</td>\n",
       "      <td>0.000000</td>\n",
       "      <td>0.000000</td>\n",
       "      <td>0.000000</td>\n",
       "      <td>0.000000</td>\n",
       "      <td>0.000000</td>\n",
       "      <td>0.000000</td>\n",
       "    </tr>\n",
       "    <tr>\n",
       "      <th>50%</th>\n",
       "      <td>1382.000000</td>\n",
       "      <td>1.000000</td>\n",
       "      <td>1.000000</td>\n",
       "      <td>44.000000</td>\n",
       "      <td>40.00000</td>\n",
       "      <td>0.000000</td>\n",
       "      <td>14.000000</td>\n",
       "      <td>3.000000</td>\n",
       "      <td>17.000000</td>\n",
       "      <td>13214.000000</td>\n",
       "      <td>0.000000</td>\n",
       "      <td>0.0000</td>\n",
       "      <td>0.000000</td>\n",
       "      <td>0.000000</td>\n",
       "      <td>0.000000</td>\n",
       "      <td>0.000000</td>\n",
       "      <td>0.000000</td>\n",
       "      <td>0.000000</td>\n",
       "      <td>0.000000</td>\n",
       "    </tr>\n",
       "    <tr>\n",
       "      <th>75%</th>\n",
       "      <td>2637.000000</td>\n",
       "      <td>1.000000</td>\n",
       "      <td>1.000000</td>\n",
       "      <td>59.000000</td>\n",
       "      <td>57.00000</td>\n",
       "      <td>0.000000</td>\n",
       "      <td>15.000000</td>\n",
       "      <td>3.000000</td>\n",
       "      <td>20.000000</td>\n",
       "      <td>18070.000000</td>\n",
       "      <td>0.000000</td>\n",
       "      <td>1.0000</td>\n",
       "      <td>0.000000</td>\n",
       "      <td>0.000000</td>\n",
       "      <td>0.000000</td>\n",
       "      <td>0.000000</td>\n",
       "      <td>0.000000</td>\n",
       "      <td>0.000000</td>\n",
       "      <td>0.000000</td>\n",
       "    </tr>\n",
       "    <tr>\n",
       "      <th>max</th>\n",
       "      <td>6193.000000</td>\n",
       "      <td>1.000000</td>\n",
       "      <td>1.000000</td>\n",
       "      <td>75.000000</td>\n",
       "      <td>75.00000</td>\n",
       "      <td>1.000000</td>\n",
       "      <td>15.000000</td>\n",
       "      <td>4.000000</td>\n",
       "      <td>22.000000</td>\n",
       "      <td>42256.000000</td>\n",
       "      <td>1.000000</td>\n",
       "      <td>1.0000</td>\n",
       "      <td>1.000000</td>\n",
       "      <td>1.000000</td>\n",
       "      <td>1.000000</td>\n",
       "      <td>1.000000</td>\n",
       "      <td>1.000000</td>\n",
       "      <td>1.000000</td>\n",
       "      <td>1.000000</td>\n",
       "    </tr>\n",
       "  </tbody>\n",
       "</table>\n",
       "</div>"
      ],
      "text/plain": [
       "        Region_Code  Accomodation_Type  Reco_Insurance_Type     Upper_Age  \\\n",
       "count  10000.000000       10000.000000         10000.000000  10000.000000   \n",
       "mean    1723.510900           0.550900             0.795600     44.765600   \n",
       "std     1416.809648           0.497427             0.403283     17.281705   \n",
       "min        1.000000           0.000000             0.000000     18.000000   \n",
       "25%      517.000000           0.000000             1.000000     28.000000   \n",
       "50%     1382.000000           1.000000             1.000000     44.000000   \n",
       "75%     2637.000000           1.000000             1.000000     59.000000   \n",
       "max     6193.000000           1.000000             1.000000     75.000000   \n",
       "\n",
       "         Lower_Age     Is_Spouse  Holding_Policy_Duration  \\\n",
       "count  10000.00000  10000.000000             10000.000000   \n",
       "mean      42.65650      0.168200                 9.807300   \n",
       "std       17.31614      0.374062                 5.673604   \n",
       "min       16.00000      0.000000                 1.000000   \n",
       "25%       27.00000      0.000000                 4.000000   \n",
       "50%       40.00000      0.000000                14.000000   \n",
       "75%       57.00000      0.000000                15.000000   \n",
       "max       75.00000      1.000000                15.000000   \n",
       "\n",
       "       Holding_Policy_Type  Reco_Policy_Cat  Reco_Policy_Premium  \\\n",
       "count         10000.000000     10000.000000         10000.000000   \n",
       "mean              2.662100        15.090700         14182.681460   \n",
       "std               0.838924         6.350237          6538.837384   \n",
       "min               1.000000         1.000000          2280.000000   \n",
       "25%               2.000000        12.000000          9278.400000   \n",
       "50%               3.000000        17.000000         13214.000000   \n",
       "75%               3.000000        20.000000         18070.000000   \n",
       "max               4.000000        22.000000         42256.000000   \n",
       "\n",
       "           Response          X1            X2            X3            X4  \\\n",
       "count  10000.000000  10000.0000  10000.000000  10000.000000  10000.000000   \n",
       "mean       0.245900      0.4888      0.202800      0.134400      0.109000   \n",
       "std        0.430641      0.4999      0.402105      0.341099      0.311655   \n",
       "min        0.000000      0.0000      0.000000      0.000000      0.000000   \n",
       "25%        0.000000      0.0000      0.000000      0.000000      0.000000   \n",
       "50%        0.000000      0.0000      0.000000      0.000000      0.000000   \n",
       "75%        0.000000      1.0000      0.000000      0.000000      0.000000   \n",
       "max        1.000000      1.0000      1.000000      1.000000      1.000000   \n",
       "\n",
       "                 X5            X6            X7            X8  \n",
       "count  10000.000000  10000.000000  10000.000000  10000.000000  \n",
       "mean       0.034300      0.024800      0.003400      0.001300  \n",
       "std        0.182008      0.155523      0.058213      0.036034  \n",
       "min        0.000000      0.000000      0.000000      0.000000  \n",
       "25%        0.000000      0.000000      0.000000      0.000000  \n",
       "50%        0.000000      0.000000      0.000000      0.000000  \n",
       "75%        0.000000      0.000000      0.000000      0.000000  \n",
       "max        1.000000      1.000000      1.000000      1.000000  "
      ]
     },
     "execution_count": 19,
     "metadata": {},
     "output_type": "execute_result"
    }
   ],
   "source": [
    "df1.describe()"
   ]
  },
  {
   "cell_type": "code",
   "execution_count": 20,
   "metadata": {},
   "outputs": [
    {
     "data": {
      "text/html": [
       "<div>\n",
       "<style scoped>\n",
       "    .dataframe tbody tr th:only-of-type {\n",
       "        vertical-align: middle;\n",
       "    }\n",
       "\n",
       "    .dataframe tbody tr th {\n",
       "        vertical-align: top;\n",
       "    }\n",
       "\n",
       "    .dataframe thead th {\n",
       "        text-align: right;\n",
       "    }\n",
       "</style>\n",
       "<table border=\"1\" class=\"dataframe\">\n",
       "  <thead>\n",
       "    <tr style=\"text-align: right;\">\n",
       "      <th></th>\n",
       "      <th>Region_Code</th>\n",
       "      <th>Accomodation_Type</th>\n",
       "      <th>Reco_Insurance_Type</th>\n",
       "      <th>Upper_Age</th>\n",
       "      <th>Lower_Age</th>\n",
       "      <th>Is_Spouse</th>\n",
       "      <th>Holding_Policy_Duration</th>\n",
       "      <th>Holding_Policy_Type</th>\n",
       "      <th>Reco_Policy_Cat</th>\n",
       "      <th>Reco_Policy_Premium</th>\n",
       "      <th>Response</th>\n",
       "      <th>X1</th>\n",
       "      <th>X2</th>\n",
       "      <th>X3</th>\n",
       "      <th>X4</th>\n",
       "      <th>X5</th>\n",
       "      <th>X6</th>\n",
       "      <th>X7</th>\n",
       "      <th>X8</th>\n",
       "    </tr>\n",
       "  </thead>\n",
       "  <tbody>\n",
       "    <tr>\n",
       "      <th>Region_Code</th>\n",
       "      <td>1.000000</td>\n",
       "      <td>-0.011550</td>\n",
       "      <td>0.006700</td>\n",
       "      <td>-0.010383</td>\n",
       "      <td>-0.009397</td>\n",
       "      <td>-0.004968</td>\n",
       "      <td>0.013471</td>\n",
       "      <td>0.016224</td>\n",
       "      <td>-0.068594</td>\n",
       "      <td>-0.018902</td>\n",
       "      <td>-0.006917</td>\n",
       "      <td>-0.009993</td>\n",
       "      <td>0.001045</td>\n",
       "      <td>0.005434</td>\n",
       "      <td>0.003493</td>\n",
       "      <td>0.012402</td>\n",
       "      <td>-0.005962</td>\n",
       "      <td>-0.001070</td>\n",
       "      <td>0.016857</td>\n",
       "    </tr>\n",
       "    <tr>\n",
       "      <th>Accomodation_Type</th>\n",
       "      <td>-0.011550</td>\n",
       "      <td>1.000000</td>\n",
       "      <td>-0.198900</td>\n",
       "      <td>0.417756</td>\n",
       "      <td>0.372804</td>\n",
       "      <td>0.201228</td>\n",
       "      <td>-0.005755</td>\n",
       "      <td>0.057875</td>\n",
       "      <td>0.016284</td>\n",
       "      <td>0.349844</td>\n",
       "      <td>0.016965</td>\n",
       "      <td>-0.034105</td>\n",
       "      <td>0.038888</td>\n",
       "      <td>-0.063311</td>\n",
       "      <td>0.056460</td>\n",
       "      <td>0.056383</td>\n",
       "      <td>-0.038296</td>\n",
       "      <td>0.018199</td>\n",
       "      <td>-0.000902</td>\n",
       "    </tr>\n",
       "    <tr>\n",
       "      <th>Reco_Insurance_Type</th>\n",
       "      <td>0.006700</td>\n",
       "      <td>-0.198900</td>\n",
       "      <td>1.000000</td>\n",
       "      <td>-0.218076</td>\n",
       "      <td>0.022669</td>\n",
       "      <td>-0.887177</td>\n",
       "      <td>0.013249</td>\n",
       "      <td>-0.061387</td>\n",
       "      <td>-0.008264</td>\n",
       "      <td>-0.587222</td>\n",
       "      <td>-0.018647</td>\n",
       "      <td>0.040732</td>\n",
       "      <td>-0.035448</td>\n",
       "      <td>0.047049</td>\n",
       "      <td>-0.026421</td>\n",
       "      <td>-0.070702</td>\n",
       "      <td>0.002697</td>\n",
       "      <td>-0.021515</td>\n",
       "      <td>-0.009241</td>\n",
       "    </tr>\n",
       "    <tr>\n",
       "      <th>Upper_Age</th>\n",
       "      <td>-0.010383</td>\n",
       "      <td>0.417756</td>\n",
       "      <td>-0.218076</td>\n",
       "      <td>1.000000</td>\n",
       "      <td>0.922250</td>\n",
       "      <td>0.195787</td>\n",
       "      <td>-0.036364</td>\n",
       "      <td>0.004608</td>\n",
       "      <td>0.021442</td>\n",
       "      <td>0.791601</td>\n",
       "      <td>0.008082</td>\n",
       "      <td>-0.019660</td>\n",
       "      <td>0.028256</td>\n",
       "      <td>-0.029266</td>\n",
       "      <td>0.015923</td>\n",
       "      <td>0.027866</td>\n",
       "      <td>-0.017893</td>\n",
       "      <td>0.017195</td>\n",
       "      <td>0.006271</td>\n",
       "    </tr>\n",
       "    <tr>\n",
       "      <th>Lower_Age</th>\n",
       "      <td>-0.009397</td>\n",
       "      <td>0.372804</td>\n",
       "      <td>0.022669</td>\n",
       "      <td>0.922250</td>\n",
       "      <td>1.000000</td>\n",
       "      <td>0.050038</td>\n",
       "      <td>-0.034517</td>\n",
       "      <td>-0.006524</td>\n",
       "      <td>0.024647</td>\n",
       "      <td>0.614515</td>\n",
       "      <td>-0.000367</td>\n",
       "      <td>-0.017515</td>\n",
       "      <td>0.028477</td>\n",
       "      <td>-0.028875</td>\n",
       "      <td>0.018076</td>\n",
       "      <td>0.021223</td>\n",
       "      <td>-0.023092</td>\n",
       "      <td>0.016636</td>\n",
       "      <td>0.007608</td>\n",
       "    </tr>\n",
       "    <tr>\n",
       "      <th>Is_Spouse</th>\n",
       "      <td>-0.004968</td>\n",
       "      <td>0.201228</td>\n",
       "      <td>-0.887177</td>\n",
       "      <td>0.195787</td>\n",
       "      <td>0.050038</td>\n",
       "      <td>1.000000</td>\n",
       "      <td>-0.007911</td>\n",
       "      <td>0.069587</td>\n",
       "      <td>0.016733</td>\n",
       "      <td>0.510275</td>\n",
       "      <td>0.007075</td>\n",
       "      <td>-0.046082</td>\n",
       "      <td>0.045141</td>\n",
       "      <td>-0.060402</td>\n",
       "      <td>0.031452</td>\n",
       "      <td>0.082713</td>\n",
       "      <td>-0.008103</td>\n",
       "      <td>0.024256</td>\n",
       "      <td>0.013455</td>\n",
       "    </tr>\n",
       "    <tr>\n",
       "      <th>Holding_Policy_Duration</th>\n",
       "      <td>0.013471</td>\n",
       "      <td>-0.005755</td>\n",
       "      <td>0.013249</td>\n",
       "      <td>-0.036364</td>\n",
       "      <td>-0.034517</td>\n",
       "      <td>-0.007911</td>\n",
       "      <td>1.000000</td>\n",
       "      <td>0.339631</td>\n",
       "      <td>0.003283</td>\n",
       "      <td>-0.032460</td>\n",
       "      <td>0.006420</td>\n",
       "      <td>0.001549</td>\n",
       "      <td>0.008583</td>\n",
       "      <td>0.008991</td>\n",
       "      <td>-0.019341</td>\n",
       "      <td>-0.012387</td>\n",
       "      <td>0.012784</td>\n",
       "      <td>-0.009220</td>\n",
       "      <td>-0.011004</td>\n",
       "    </tr>\n",
       "    <tr>\n",
       "      <th>Holding_Policy_Type</th>\n",
       "      <td>0.016224</td>\n",
       "      <td>0.057875</td>\n",
       "      <td>-0.061387</td>\n",
       "      <td>0.004608</td>\n",
       "      <td>-0.006524</td>\n",
       "      <td>0.069587</td>\n",
       "      <td>0.339631</td>\n",
       "      <td>1.000000</td>\n",
       "      <td>0.051991</td>\n",
       "      <td>0.026552</td>\n",
       "      <td>0.012152</td>\n",
       "      <td>-0.014152</td>\n",
       "      <td>-0.002591</td>\n",
       "      <td>-0.043289</td>\n",
       "      <td>0.060939</td>\n",
       "      <td>0.035958</td>\n",
       "      <td>-0.027749</td>\n",
       "      <td>0.031718</td>\n",
       "      <td>0.001299</td>\n",
       "    </tr>\n",
       "    <tr>\n",
       "      <th>Reco_Policy_Cat</th>\n",
       "      <td>-0.068594</td>\n",
       "      <td>0.016284</td>\n",
       "      <td>-0.008264</td>\n",
       "      <td>0.021442</td>\n",
       "      <td>0.024647</td>\n",
       "      <td>0.016733</td>\n",
       "      <td>0.003283</td>\n",
       "      <td>0.051991</td>\n",
       "      <td>1.000000</td>\n",
       "      <td>0.054974</td>\n",
       "      <td>0.119623</td>\n",
       "      <td>0.003549</td>\n",
       "      <td>0.022092</td>\n",
       "      <td>-0.024882</td>\n",
       "      <td>0.009255</td>\n",
       "      <td>0.003538</td>\n",
       "      <td>-0.033062</td>\n",
       "      <td>0.015669</td>\n",
       "      <td>-0.017998</td>\n",
       "    </tr>\n",
       "    <tr>\n",
       "      <th>Reco_Policy_Premium</th>\n",
       "      <td>-0.018902</td>\n",
       "      <td>0.349844</td>\n",
       "      <td>-0.587222</td>\n",
       "      <td>0.791601</td>\n",
       "      <td>0.614515</td>\n",
       "      <td>0.510275</td>\n",
       "      <td>-0.032460</td>\n",
       "      <td>0.026552</td>\n",
       "      <td>0.054974</td>\n",
       "      <td>1.000000</td>\n",
       "      <td>0.010099</td>\n",
       "      <td>-0.031757</td>\n",
       "      <td>0.041448</td>\n",
       "      <td>-0.045705</td>\n",
       "      <td>0.019981</td>\n",
       "      <td>0.062053</td>\n",
       "      <td>-0.030790</td>\n",
       "      <td>0.033956</td>\n",
       "      <td>0.011471</td>\n",
       "    </tr>\n",
       "    <tr>\n",
       "      <th>Response</th>\n",
       "      <td>-0.006917</td>\n",
       "      <td>0.016965</td>\n",
       "      <td>-0.018647</td>\n",
       "      <td>0.008082</td>\n",
       "      <td>-0.000367</td>\n",
       "      <td>0.007075</td>\n",
       "      <td>0.006420</td>\n",
       "      <td>0.012152</td>\n",
       "      <td>0.119623</td>\n",
       "      <td>0.010099</td>\n",
       "      <td>1.000000</td>\n",
       "      <td>-0.000446</td>\n",
       "      <td>0.011155</td>\n",
       "      <td>-0.009865</td>\n",
       "      <td>-0.000023</td>\n",
       "      <td>-0.001715</td>\n",
       "      <td>-0.005948</td>\n",
       "      <td>0.010530</td>\n",
       "      <td>-0.007713</td>\n",
       "    </tr>\n",
       "    <tr>\n",
       "      <th>X1</th>\n",
       "      <td>-0.009993</td>\n",
       "      <td>-0.034105</td>\n",
       "      <td>0.040732</td>\n",
       "      <td>-0.019660</td>\n",
       "      <td>-0.017515</td>\n",
       "      <td>-0.046082</td>\n",
       "      <td>0.001549</td>\n",
       "      <td>-0.014152</td>\n",
       "      <td>0.003549</td>\n",
       "      <td>-0.031757</td>\n",
       "      <td>-0.000446</td>\n",
       "      <td>1.000000</td>\n",
       "      <td>-0.493197</td>\n",
       "      <td>-0.385311</td>\n",
       "      <td>-0.342015</td>\n",
       "      <td>-0.184288</td>\n",
       "      <td>-0.155937</td>\n",
       "      <td>-0.057115</td>\n",
       "      <td>-0.035280</td>\n",
       "    </tr>\n",
       "    <tr>\n",
       "      <th>X2</th>\n",
       "      <td>0.001045</td>\n",
       "      <td>0.038888</td>\n",
       "      <td>-0.035448</td>\n",
       "      <td>0.028256</td>\n",
       "      <td>0.028477</td>\n",
       "      <td>0.045141</td>\n",
       "      <td>0.008583</td>\n",
       "      <td>-0.002591</td>\n",
       "      <td>0.022092</td>\n",
       "      <td>0.041448</td>\n",
       "      <td>0.011155</td>\n",
       "      <td>-0.493197</td>\n",
       "      <td>1.000000</td>\n",
       "      <td>-0.198743</td>\n",
       "      <td>-0.176411</td>\n",
       "      <td>-0.095055</td>\n",
       "      <td>-0.080432</td>\n",
       "      <td>-0.029460</td>\n",
       "      <td>-0.018197</td>\n",
       "    </tr>\n",
       "    <tr>\n",
       "      <th>X3</th>\n",
       "      <td>0.005434</td>\n",
       "      <td>-0.063311</td>\n",
       "      <td>0.047049</td>\n",
       "      <td>-0.029266</td>\n",
       "      <td>-0.028875</td>\n",
       "      <td>-0.060402</td>\n",
       "      <td>0.008991</td>\n",
       "      <td>-0.043289</td>\n",
       "      <td>-0.024882</td>\n",
       "      <td>-0.045705</td>\n",
       "      <td>-0.009865</td>\n",
       "      <td>-0.385311</td>\n",
       "      <td>-0.198743</td>\n",
       "      <td>1.000000</td>\n",
       "      <td>-0.137821</td>\n",
       "      <td>-0.074262</td>\n",
       "      <td>-0.062838</td>\n",
       "      <td>-0.023015</td>\n",
       "      <td>-0.014217</td>\n",
       "    </tr>\n",
       "    <tr>\n",
       "      <th>X4</th>\n",
       "      <td>0.003493</td>\n",
       "      <td>0.056460</td>\n",
       "      <td>-0.026421</td>\n",
       "      <td>0.015923</td>\n",
       "      <td>0.018076</td>\n",
       "      <td>0.031452</td>\n",
       "      <td>-0.019341</td>\n",
       "      <td>0.060939</td>\n",
       "      <td>0.009255</td>\n",
       "      <td>0.019981</td>\n",
       "      <td>-0.000023</td>\n",
       "      <td>-0.342015</td>\n",
       "      <td>-0.176411</td>\n",
       "      <td>-0.137821</td>\n",
       "      <td>1.000000</td>\n",
       "      <td>-0.065917</td>\n",
       "      <td>-0.055777</td>\n",
       "      <td>-0.020429</td>\n",
       "      <td>-0.012619</td>\n",
       "    </tr>\n",
       "    <tr>\n",
       "      <th>X5</th>\n",
       "      <td>0.012402</td>\n",
       "      <td>0.056383</td>\n",
       "      <td>-0.070702</td>\n",
       "      <td>0.027866</td>\n",
       "      <td>0.021223</td>\n",
       "      <td>0.082713</td>\n",
       "      <td>-0.012387</td>\n",
       "      <td>0.035958</td>\n",
       "      <td>0.003538</td>\n",
       "      <td>0.062053</td>\n",
       "      <td>-0.001715</td>\n",
       "      <td>-0.184288</td>\n",
       "      <td>-0.095055</td>\n",
       "      <td>-0.074262</td>\n",
       "      <td>-0.065917</td>\n",
       "      <td>1.000000</td>\n",
       "      <td>-0.030054</td>\n",
       "      <td>-0.011008</td>\n",
       "      <td>-0.006800</td>\n",
       "    </tr>\n",
       "    <tr>\n",
       "      <th>X6</th>\n",
       "      <td>-0.005962</td>\n",
       "      <td>-0.038296</td>\n",
       "      <td>0.002697</td>\n",
       "      <td>-0.017893</td>\n",
       "      <td>-0.023092</td>\n",
       "      <td>-0.008103</td>\n",
       "      <td>0.012784</td>\n",
       "      <td>-0.027749</td>\n",
       "      <td>-0.033062</td>\n",
       "      <td>-0.030790</td>\n",
       "      <td>-0.005948</td>\n",
       "      <td>-0.155937</td>\n",
       "      <td>-0.080432</td>\n",
       "      <td>-0.062838</td>\n",
       "      <td>-0.055777</td>\n",
       "      <td>-0.030054</td>\n",
       "      <td>1.000000</td>\n",
       "      <td>-0.009314</td>\n",
       "      <td>-0.005754</td>\n",
       "    </tr>\n",
       "    <tr>\n",
       "      <th>X7</th>\n",
       "      <td>-0.001070</td>\n",
       "      <td>0.018199</td>\n",
       "      <td>-0.021515</td>\n",
       "      <td>0.017195</td>\n",
       "      <td>0.016636</td>\n",
       "      <td>0.024256</td>\n",
       "      <td>-0.009220</td>\n",
       "      <td>0.031718</td>\n",
       "      <td>0.015669</td>\n",
       "      <td>0.033956</td>\n",
       "      <td>0.010530</td>\n",
       "      <td>-0.057115</td>\n",
       "      <td>-0.029460</td>\n",
       "      <td>-0.023015</td>\n",
       "      <td>-0.020429</td>\n",
       "      <td>-0.011008</td>\n",
       "      <td>-0.009314</td>\n",
       "      <td>1.000000</td>\n",
       "      <td>-0.002107</td>\n",
       "    </tr>\n",
       "    <tr>\n",
       "      <th>X8</th>\n",
       "      <td>0.016857</td>\n",
       "      <td>-0.000902</td>\n",
       "      <td>-0.009241</td>\n",
       "      <td>0.006271</td>\n",
       "      <td>0.007608</td>\n",
       "      <td>0.013455</td>\n",
       "      <td>-0.011004</td>\n",
       "      <td>0.001299</td>\n",
       "      <td>-0.017998</td>\n",
       "      <td>0.011471</td>\n",
       "      <td>-0.007713</td>\n",
       "      <td>-0.035280</td>\n",
       "      <td>-0.018197</td>\n",
       "      <td>-0.014217</td>\n",
       "      <td>-0.012619</td>\n",
       "      <td>-0.006800</td>\n",
       "      <td>-0.005754</td>\n",
       "      <td>-0.002107</td>\n",
       "      <td>1.000000</td>\n",
       "    </tr>\n",
       "  </tbody>\n",
       "</table>\n",
       "</div>"
      ],
      "text/plain": [
       "                         Region_Code  Accomodation_Type  Reco_Insurance_Type  \\\n",
       "Region_Code                 1.000000          -0.011550             0.006700   \n",
       "Accomodation_Type          -0.011550           1.000000            -0.198900   \n",
       "Reco_Insurance_Type         0.006700          -0.198900             1.000000   \n",
       "Upper_Age                  -0.010383           0.417756            -0.218076   \n",
       "Lower_Age                  -0.009397           0.372804             0.022669   \n",
       "Is_Spouse                  -0.004968           0.201228            -0.887177   \n",
       "Holding_Policy_Duration     0.013471          -0.005755             0.013249   \n",
       "Holding_Policy_Type         0.016224           0.057875            -0.061387   \n",
       "Reco_Policy_Cat            -0.068594           0.016284            -0.008264   \n",
       "Reco_Policy_Premium        -0.018902           0.349844            -0.587222   \n",
       "Response                   -0.006917           0.016965            -0.018647   \n",
       "X1                         -0.009993          -0.034105             0.040732   \n",
       "X2                          0.001045           0.038888            -0.035448   \n",
       "X3                          0.005434          -0.063311             0.047049   \n",
       "X4                          0.003493           0.056460            -0.026421   \n",
       "X5                          0.012402           0.056383            -0.070702   \n",
       "X6                         -0.005962          -0.038296             0.002697   \n",
       "X7                         -0.001070           0.018199            -0.021515   \n",
       "X8                          0.016857          -0.000902            -0.009241   \n",
       "\n",
       "                         Upper_Age  Lower_Age  Is_Spouse  \\\n",
       "Region_Code              -0.010383  -0.009397  -0.004968   \n",
       "Accomodation_Type         0.417756   0.372804   0.201228   \n",
       "Reco_Insurance_Type      -0.218076   0.022669  -0.887177   \n",
       "Upper_Age                 1.000000   0.922250   0.195787   \n",
       "Lower_Age                 0.922250   1.000000   0.050038   \n",
       "Is_Spouse                 0.195787   0.050038   1.000000   \n",
       "Holding_Policy_Duration  -0.036364  -0.034517  -0.007911   \n",
       "Holding_Policy_Type       0.004608  -0.006524   0.069587   \n",
       "Reco_Policy_Cat           0.021442   0.024647   0.016733   \n",
       "Reco_Policy_Premium       0.791601   0.614515   0.510275   \n",
       "Response                  0.008082  -0.000367   0.007075   \n",
       "X1                       -0.019660  -0.017515  -0.046082   \n",
       "X2                        0.028256   0.028477   0.045141   \n",
       "X3                       -0.029266  -0.028875  -0.060402   \n",
       "X4                        0.015923   0.018076   0.031452   \n",
       "X5                        0.027866   0.021223   0.082713   \n",
       "X6                       -0.017893  -0.023092  -0.008103   \n",
       "X7                        0.017195   0.016636   0.024256   \n",
       "X8                        0.006271   0.007608   0.013455   \n",
       "\n",
       "                         Holding_Policy_Duration  Holding_Policy_Type  \\\n",
       "Region_Code                             0.013471             0.016224   \n",
       "Accomodation_Type                      -0.005755             0.057875   \n",
       "Reco_Insurance_Type                     0.013249            -0.061387   \n",
       "Upper_Age                              -0.036364             0.004608   \n",
       "Lower_Age                              -0.034517            -0.006524   \n",
       "Is_Spouse                              -0.007911             0.069587   \n",
       "Holding_Policy_Duration                 1.000000             0.339631   \n",
       "Holding_Policy_Type                     0.339631             1.000000   \n",
       "Reco_Policy_Cat                         0.003283             0.051991   \n",
       "Reco_Policy_Premium                    -0.032460             0.026552   \n",
       "Response                                0.006420             0.012152   \n",
       "X1                                      0.001549            -0.014152   \n",
       "X2                                      0.008583            -0.002591   \n",
       "X3                                      0.008991            -0.043289   \n",
       "X4                                     -0.019341             0.060939   \n",
       "X5                                     -0.012387             0.035958   \n",
       "X6                                      0.012784            -0.027749   \n",
       "X7                                     -0.009220             0.031718   \n",
       "X8                                     -0.011004             0.001299   \n",
       "\n",
       "                         Reco_Policy_Cat  Reco_Policy_Premium  Response  \\\n",
       "Region_Code                    -0.068594            -0.018902 -0.006917   \n",
       "Accomodation_Type               0.016284             0.349844  0.016965   \n",
       "Reco_Insurance_Type            -0.008264            -0.587222 -0.018647   \n",
       "Upper_Age                       0.021442             0.791601  0.008082   \n",
       "Lower_Age                       0.024647             0.614515 -0.000367   \n",
       "Is_Spouse                       0.016733             0.510275  0.007075   \n",
       "Holding_Policy_Duration         0.003283            -0.032460  0.006420   \n",
       "Holding_Policy_Type             0.051991             0.026552  0.012152   \n",
       "Reco_Policy_Cat                 1.000000             0.054974  0.119623   \n",
       "Reco_Policy_Premium             0.054974             1.000000  0.010099   \n",
       "Response                        0.119623             0.010099  1.000000   \n",
       "X1                              0.003549            -0.031757 -0.000446   \n",
       "X2                              0.022092             0.041448  0.011155   \n",
       "X3                             -0.024882            -0.045705 -0.009865   \n",
       "X4                              0.009255             0.019981 -0.000023   \n",
       "X5                              0.003538             0.062053 -0.001715   \n",
       "X6                             -0.033062            -0.030790 -0.005948   \n",
       "X7                              0.015669             0.033956  0.010530   \n",
       "X8                             -0.017998             0.011471 -0.007713   \n",
       "\n",
       "                               X1        X2        X3        X4        X5  \\\n",
       "Region_Code             -0.009993  0.001045  0.005434  0.003493  0.012402   \n",
       "Accomodation_Type       -0.034105  0.038888 -0.063311  0.056460  0.056383   \n",
       "Reco_Insurance_Type      0.040732 -0.035448  0.047049 -0.026421 -0.070702   \n",
       "Upper_Age               -0.019660  0.028256 -0.029266  0.015923  0.027866   \n",
       "Lower_Age               -0.017515  0.028477 -0.028875  0.018076  0.021223   \n",
       "Is_Spouse               -0.046082  0.045141 -0.060402  0.031452  0.082713   \n",
       "Holding_Policy_Duration  0.001549  0.008583  0.008991 -0.019341 -0.012387   \n",
       "Holding_Policy_Type     -0.014152 -0.002591 -0.043289  0.060939  0.035958   \n",
       "Reco_Policy_Cat          0.003549  0.022092 -0.024882  0.009255  0.003538   \n",
       "Reco_Policy_Premium     -0.031757  0.041448 -0.045705  0.019981  0.062053   \n",
       "Response                -0.000446  0.011155 -0.009865 -0.000023 -0.001715   \n",
       "X1                       1.000000 -0.493197 -0.385311 -0.342015 -0.184288   \n",
       "X2                      -0.493197  1.000000 -0.198743 -0.176411 -0.095055   \n",
       "X3                      -0.385311 -0.198743  1.000000 -0.137821 -0.074262   \n",
       "X4                      -0.342015 -0.176411 -0.137821  1.000000 -0.065917   \n",
       "X5                      -0.184288 -0.095055 -0.074262 -0.065917  1.000000   \n",
       "X6                      -0.155937 -0.080432 -0.062838 -0.055777 -0.030054   \n",
       "X7                      -0.057115 -0.029460 -0.023015 -0.020429 -0.011008   \n",
       "X8                      -0.035280 -0.018197 -0.014217 -0.012619 -0.006800   \n",
       "\n",
       "                               X6        X7        X8  \n",
       "Region_Code             -0.005962 -0.001070  0.016857  \n",
       "Accomodation_Type       -0.038296  0.018199 -0.000902  \n",
       "Reco_Insurance_Type      0.002697 -0.021515 -0.009241  \n",
       "Upper_Age               -0.017893  0.017195  0.006271  \n",
       "Lower_Age               -0.023092  0.016636  0.007608  \n",
       "Is_Spouse               -0.008103  0.024256  0.013455  \n",
       "Holding_Policy_Duration  0.012784 -0.009220 -0.011004  \n",
       "Holding_Policy_Type     -0.027749  0.031718  0.001299  \n",
       "Reco_Policy_Cat         -0.033062  0.015669 -0.017998  \n",
       "Reco_Policy_Premium     -0.030790  0.033956  0.011471  \n",
       "Response                -0.005948  0.010530 -0.007713  \n",
       "X1                      -0.155937 -0.057115 -0.035280  \n",
       "X2                      -0.080432 -0.029460 -0.018197  \n",
       "X3                      -0.062838 -0.023015 -0.014217  \n",
       "X4                      -0.055777 -0.020429 -0.012619  \n",
       "X5                      -0.030054 -0.011008 -0.006800  \n",
       "X6                       1.000000 -0.009314 -0.005754  \n",
       "X7                      -0.009314  1.000000 -0.002107  \n",
       "X8                      -0.005754 -0.002107  1.000000  "
      ]
     },
     "execution_count": 20,
     "metadata": {},
     "output_type": "execute_result"
    }
   ],
   "source": [
    "df1.corr()"
   ]
  },
  {
   "cell_type": "code",
   "execution_count": null,
   "metadata": {},
   "outputs": [],
   "source": []
  },
  {
   "cell_type": "code",
   "execution_count": null,
   "metadata": {},
   "outputs": [],
   "source": []
  },
  {
   "cell_type": "markdown",
   "metadata": {},
   "source": [
    "### City Code\n",
    "#### Lets see the number of cities and see how many customers are there"
   ]
  },
  {
   "cell_type": "code",
   "execution_count": 21,
   "metadata": {},
   "outputs": [
    {
     "name": "stdout",
     "output_type": "stream",
     "text": [
      "no of cities in the dataframe : 36\n",
      "\n"
     ]
    },
    {
     "data": {
      "text/plain": [
       "C1     1796\n",
       "C2     1505\n",
       "C3      966\n",
       "C4      727\n",
       "C9      428\n",
       "C7      390\n",
       "C8      371\n",
       "C6      361\n",
       "C10     335\n",
       "C5      264\n",
       "C15     239\n",
       "C11     231\n",
       "C16     219\n",
       "C17     211\n",
       "C13     193\n",
       "C20     179\n",
       "C12     168\n",
       "C19     168\n",
       "C14     153\n",
       "C21     136\n",
       "C24     129\n",
       "C18     127\n",
       "C23     123\n",
       "C22     102\n",
       "C26      89\n",
       "C29      71\n",
       "C25      66\n",
       "C27      57\n",
       "C33      54\n",
       "C28      47\n",
       "C32      39\n",
       "C34      25\n",
       "C36      12\n",
       "C30      12\n",
       "C31       4\n",
       "C35       3\n",
       "Name: City_Code, dtype: int64"
      ]
     },
     "execution_count": 21,
     "metadata": {},
     "output_type": "execute_result"
    }
   ],
   "source": [
    "print('no of cities in the dataframe :',df1['City_Code'].nunique())\n",
    "print()\n",
    "df1['City_Code'].value_counts()"
   ]
  },
  {
   "cell_type": "code",
   "execution_count": 22,
   "metadata": {
    "scrolled": true
   },
   "outputs": [
    {
     "data": {
      "image/png": "[encoded data removed]",
      "text/plain": [
       "<Figure size 1440x720 with 1 Axes>"
      ]
     },
     "metadata": {
      "needs_background": "light"
     },
     "output_type": "display_data"
    }
   ],
   "source": [
    "plt.figure(figsize=(20,10))\n",
    "sns.countplot(df1['City_Code'])\n",
    "plt.show()"
   ]
  },
  {
   "cell_type": "markdown",
   "metadata": {},
   "source": [
    "## Observations:\n",
    "There are 36 city codes in the dataset. There are more datapoints from C1, C2, C3, C4 city codes."
   ]
  },
  {
   "cell_type": "markdown",
   "metadata": {},
   "source": [
    "#### Let's see city-wise customers interests in recommended policy"
   ]
  },
  {
   "cell_type": "code",
   "execution_count": 23,
   "metadata": {},
   "outputs": [
    {
     "data": {
      "image/png": "[encoded data removed]",
      "text/plain": [
       "<Figure size 1440x720 with 1 Axes>"
      ]
     },
     "metadata": {
      "needs_background": "light"
     },
     "output_type": "display_data"
    }
   ],
   "source": [
    "plt.figure(figsize=(20,10))\n",
    "sns.countplot(df1['City_Code'],hue=df1['Response'])\n",
    "plt.show()"
   ]
  },
  {
   "cell_type": "markdown",
   "metadata": {},
   "source": [
    "## Observation:\n",
    "The response of customers interest in recommended policy."
   ]
  },
  {
   "cell_type": "markdown",
   "metadata": {},
   "source": [
    "#### I grouped those values into four groups (C1-C9),(C10-C18),(C19-C27) and (C28-C36)"
   ]
  },
  {
   "cell_type": "code",
   "execution_count": 24,
   "metadata": {},
   "outputs": [],
   "source": [
    "def city_code(x):\n",
    "    if x in ['C1','C2','C3','C4','C5','C6','C7','C8','C9']:\n",
    "        return 'C1-C9'\n",
    "    elif x in ['C10','C11','C12','C13','C14','C15','C16','C17','C18']:\n",
    "        return 'C10-C18'\n",
    "    elif x in ['C19','C20','C21','C22','C23','C24','C25','C26','C27']:\n",
    "        return 'C19-C27'\n",
    "    else:\n",
    "        return 'C28-C36'"
   ]
  },
  {
   "cell_type": "code",
   "execution_count": 25,
   "metadata": {},
   "outputs": [],
   "source": [
    "df1['City_Code']=df1['City_Code'].apply(lambda x: city_code(x))"
   ]
  },
  {
   "cell_type": "code",
   "execution_count": 26,
   "metadata": {},
   "outputs": [
    {
     "data": {
      "text/plain": [
       "C1-C9      6808\n",
       "C10-C18    1876\n",
       "C19-C27    1049\n",
       "C28-C36     267\n",
       "Name: City_Code, dtype: int64"
      ]
     },
     "execution_count": 26,
     "metadata": {},
     "output_type": "execute_result"
    }
   ],
   "source": [
    "df1['City_Code'].value_counts()"
   ]
  },
  {
   "cell_type": "code",
   "execution_count": 27,
   "metadata": {},
   "outputs": [
    {
     "data": {
      "text/plain": [
       "<AxesSubplot:xlabel='City_Code', ylabel='count'>"
      ]
     },
     "execution_count": 27,
     "metadata": {},
     "output_type": "execute_result"
    },
    {
     "data": {
      "image/png": "[encoded data removed]",
      "text/plain": [
       "<Figure size 432x288 with 1 Axes>"
      ]
     },
     "metadata": {
      "needs_background": "light"
     },
     "output_type": "display_data"
    }
   ],
   "source": [
    "sns.countplot(df1['City_Code'])"
   ]
  },
  {
   "cell_type": "code",
   "execution_count": 28,
   "metadata": {},
   "outputs": [
    {
     "data": {
      "text/plain": [
       "<AxesSubplot:xlabel='City_Code', ylabel='count'>"
      ]
     },
     "execution_count": 28,
     "metadata": {},
     "output_type": "execute_result"
    },
    {
     "data": {
      "image/png": "[encoded data removed]",
      "text/plain": [
       "<Figure size 432x288 with 1 Axes>"
      ]
     },
     "metadata": {
      "needs_background": "light"
     },
     "output_type": "display_data"
    }
   ],
   "source": [
    "sns.countplot(df1['City_Code'],hue=df1['Response'])"
   ]
  },
  {
   "cell_type": "markdown",
   "metadata": {},
   "source": [
    "## Observation:\n",
    "The above plots shows response of customers based on city codes after grouping."
   ]
  },
  {
   "cell_type": "markdown",
   "metadata": {},
   "source": [
    "### Region Code\n",
    "#### Let's see the number of regions and region-wise customer interests in recommended policy."
   ]
  },
  {
   "cell_type": "code",
   "execution_count": 29,
   "metadata": {},
   "outputs": [
    {
     "name": "stdout",
     "output_type": "stream",
     "text": [
      "no of Regions in the dataframe : 3726\n",
      "\n"
     ]
    },
    {
     "data": {
      "text/plain": [
       "1       23\n",
       "6       18\n",
       "4       18\n",
       "7       17\n",
       "30      15\n",
       "        ..\n",
       "2747     1\n",
       "733      1\n",
       "714      1\n",
       "2764     1\n",
       "6147     1\n",
       "Name: Region_Code, Length: 3726, dtype: int64"
      ]
     },
     "execution_count": 29,
     "metadata": {},
     "output_type": "execute_result"
    }
   ],
   "source": [
    "print('no of Regions in the dataframe :',df1['Region_Code'].nunique())\n",
    "print()\n",
    "df1['Region_Code'].value_counts()"
   ]
  },
  {
   "cell_type": "markdown",
   "metadata": {},
   "source": [
    "## Observation:\n",
    "There are 3726 regioin codes in the dataset."
   ]
  },
  {
   "cell_type": "markdown",
   "metadata": {},
   "source": [
    "### Accomodation Type\n",
    "#### Let's see how many customers are living in their own house or rented houseand see how their interests vary in recommended policy."
   ]
  },
  {
   "cell_type": "code",
   "execution_count": 30,
   "metadata": {
    "scrolled": false
   },
   "outputs": [
    {
     "data": {
      "text/plain": [
       "1    5509\n",
       "0    4491\n",
       "Name: Accomodation_Type, dtype: int64"
      ]
     },
     "execution_count": 30,
     "metadata": {},
     "output_type": "execute_result"
    }
   ],
   "source": [
    "df1['Accomodation_Type'].value_counts()"
   ]
  },
  {
   "cell_type": "code",
   "execution_count": 31,
   "metadata": {
    "scrolled": true
   },
   "outputs": [
    {
     "data": {
      "text/plain": [
       "<AxesSubplot:xlabel='Accomodation_Type', ylabel='count'>"
      ]
     },
     "execution_count": 31,
     "metadata": {},
     "output_type": "execute_result"
    },
    {
     "data": {
      "image/png": "[encoded data removed]",
      "text/plain": [
       "<Figure size 432x288 with 1 Axes>"
      ]
     },
     "metadata": {
      "needs_background": "light"
     },
     "output_type": "display_data"
    }
   ],
   "source": [
    "sns.countplot(df1['Accomodation_Type'])"
   ]
  },
  {
   "cell_type": "code",
   "execution_count": 32,
   "metadata": {},
   "outputs": [
    {
     "data": {
      "text/html": [
       "<div>\n",
       "<style scoped>\n",
       "    .dataframe tbody tr th:only-of-type {\n",
       "        vertical-align: middle;\n",
       "    }\n",
       "\n",
       "    .dataframe tbody tr th {\n",
       "        vertical-align: top;\n",
       "    }\n",
       "\n",
       "    .dataframe thead th {\n",
       "        text-align: right;\n",
       "    }\n",
       "</style>\n",
       "<table border=\"1\" class=\"dataframe\">\n",
       "  <thead>\n",
       "    <tr style=\"text-align: right;\">\n",
       "      <th>Response</th>\n",
       "      <th>0</th>\n",
       "      <th>1</th>\n",
       "    </tr>\n",
       "    <tr>\n",
       "      <th>Accomodation_Type</th>\n",
       "      <th></th>\n",
       "      <th></th>\n",
       "    </tr>\n",
       "  </thead>\n",
       "  <tbody>\n",
       "    <tr>\n",
       "      <th>0</th>\n",
       "      <td>3423</td>\n",
       "      <td>1068</td>\n",
       "    </tr>\n",
       "    <tr>\n",
       "      <th>1</th>\n",
       "      <td>4118</td>\n",
       "      <td>1391</td>\n",
       "    </tr>\n",
       "  </tbody>\n",
       "</table>\n",
       "</div>"
      ],
      "text/plain": [
       "Response              0     1\n",
       "Accomodation_Type            \n",
       "0                  3423  1068\n",
       "1                  4118  1391"
      ]
     },
     "execution_count": 32,
     "metadata": {},
     "output_type": "execute_result"
    }
   ],
   "source": [
    "pd.crosstab(df1['Accomodation_Type'],df1['Response'])"
   ]
  },
  {
   "cell_type": "code",
   "execution_count": 33,
   "metadata": {
    "scrolled": true
   },
   "outputs": [
    {
     "data": {
      "text/plain": [
       "<AxesSubplot:xlabel='Accomodation_Type', ylabel='count'>"
      ]
     },
     "execution_count": 33,
     "metadata": {},
     "output_type": "execute_result"
    },
    {
     "data": {
      "image/png": "[encoded data removed]",
      "text/plain": [
       "<Figure size 432x288 with 1 Axes>"
      ]
     },
     "metadata": {
      "needs_background": "light"
     },
     "output_type": "display_data"
    }
   ],
   "source": [
    "sns.countplot(df1['Accomodation_Type'],hue=df1['Response'])"
   ]
  },
  {
   "cell_type": "markdown",
   "metadata": {},
   "source": [
    "## Observations:\n",
    "There are more customers with owned house than rented in the dataset, from the above countplot, we can say that most customers didn't shown interest in the recommended policy."
   ]
  },
  {
   "cell_type": "markdown",
   "metadata": {},
   "source": [
    "#### Let's see the city-wise accomodation type and customer response"
   ]
  },
  {
   "cell_type": "code",
   "execution_count": 34,
   "metadata": {},
   "outputs": [
    {
     "data": {
      "text/html": [
       "<div>\n",
       "<style scoped>\n",
       "    .dataframe tbody tr th:only-of-type {\n",
       "        vertical-align: middle;\n",
       "    }\n",
       "\n",
       "    .dataframe tbody tr th {\n",
       "        vertical-align: top;\n",
       "    }\n",
       "\n",
       "    .dataframe thead tr th {\n",
       "        text-align: left;\n",
       "    }\n",
       "\n",
       "    .dataframe thead tr:last-of-type th {\n",
       "        text-align: right;\n",
       "    }\n",
       "</style>\n",
       "<table border=\"1\" class=\"dataframe\">\n",
       "  <thead>\n",
       "    <tr>\n",
       "      <th>City_Code</th>\n",
       "      <th colspan=\"2\" halign=\"left\">C1-C9</th>\n",
       "      <th colspan=\"2\" halign=\"left\">C10-C18</th>\n",
       "      <th colspan=\"2\" halign=\"left\">C19-C27</th>\n",
       "      <th colspan=\"2\" halign=\"left\">C28-C36</th>\n",
       "    </tr>\n",
       "    <tr>\n",
       "      <th>Accomodation_Type</th>\n",
       "      <th>0</th>\n",
       "      <th>1</th>\n",
       "      <th>0</th>\n",
       "      <th>1</th>\n",
       "      <th>0</th>\n",
       "      <th>1</th>\n",
       "      <th>0</th>\n",
       "      <th>1</th>\n",
       "    </tr>\n",
       "    <tr>\n",
       "      <th>Response</th>\n",
       "      <th></th>\n",
       "      <th></th>\n",
       "      <th></th>\n",
       "      <th></th>\n",
       "      <th></th>\n",
       "      <th></th>\n",
       "      <th></th>\n",
       "      <th></th>\n",
       "    </tr>\n",
       "  </thead>\n",
       "  <tbody>\n",
       "    <tr>\n",
       "      <th>0</th>\n",
       "      <td>2180</td>\n",
       "      <td>2940</td>\n",
       "      <td>781</td>\n",
       "      <td>645</td>\n",
       "      <td>357</td>\n",
       "      <td>441</td>\n",
       "      <td>105</td>\n",
       "      <td>92</td>\n",
       "    </tr>\n",
       "    <tr>\n",
       "      <th>1</th>\n",
       "      <td>698</td>\n",
       "      <td>990</td>\n",
       "      <td>234</td>\n",
       "      <td>216</td>\n",
       "      <td>106</td>\n",
       "      <td>145</td>\n",
       "      <td>30</td>\n",
       "      <td>40</td>\n",
       "    </tr>\n",
       "  </tbody>\n",
       "</table>\n",
       "</div>"
      ],
      "text/plain": [
       "City_Code         C1-C9       C10-C18      C19-C27      C28-C36    \n",
       "Accomodation_Type     0     1       0    1       0    1       0   1\n",
       "Response                                                           \n",
       "0                  2180  2940     781  645     357  441     105  92\n",
       "1                   698   990     234  216     106  145      30  40"
      ]
     },
     "execution_count": 34,
     "metadata": {},
     "output_type": "execute_result"
    }
   ],
   "source": [
    "pd.crosstab(df1['Response'],columns=[df1['City_Code'],df1['Accomodation_Type']])"
   ]
  },
  {
   "cell_type": "code",
   "execution_count": 35,
   "metadata": {},
   "outputs": [
    {
     "data": {
      "text/plain": [
       "<AxesSubplot:xlabel='Response'>"
      ]
     },
     "execution_count": 35,
     "metadata": {},
     "output_type": "execute_result"
    },
    {
     "data": {
      "image/png": "[encoded data removed]",
      "text/plain": [
       "<Figure size 1440x720 with 1 Axes>"
      ]
     },
     "metadata": {
      "needs_background": "light"
     },
     "output_type": "display_data"
    }
   ],
   "source": [
    "pd.crosstab(df1['Response'],columns=[df1['City_Code'],df1['Accomodation_Type']]).plot(kind='bar',figsize=(20,10))"
   ]
  },
  {
   "cell_type": "markdown",
   "metadata": {},
   "source": [
    "## Observations:\n",
    "Their is more costomer in city code c1-c9 having interest and also not interest."
   ]
  },
  {
   "cell_type": "markdown",
   "metadata": {},
   "source": [
    "### Reco Insurance Type\n",
    "#### Let's see the various recommended insurance types and customer response to them."
   ]
  },
  {
   "cell_type": "code",
   "execution_count": 36,
   "metadata": {},
   "outputs": [
    {
     "data": {
      "text/html": [
       "<div>\n",
       "<style scoped>\n",
       "    .dataframe tbody tr th:only-of-type {\n",
       "        vertical-align: middle;\n",
       "    }\n",
       "\n",
       "    .dataframe tbody tr th {\n",
       "        vertical-align: top;\n",
       "    }\n",
       "\n",
       "    .dataframe thead th {\n",
       "        text-align: right;\n",
       "    }\n",
       "</style>\n",
       "<table border=\"1\" class=\"dataframe\">\n",
       "  <thead>\n",
       "    <tr style=\"text-align: right;\">\n",
       "      <th>Response</th>\n",
       "      <th>0</th>\n",
       "      <th>1</th>\n",
       "    </tr>\n",
       "    <tr>\n",
       "      <th>Reco_Insurance_Type</th>\n",
       "      <th></th>\n",
       "      <th></th>\n",
       "    </tr>\n",
       "  </thead>\n",
       "  <tbody>\n",
       "    <tr>\n",
       "      <th>0</th>\n",
       "      <td>1509</td>\n",
       "      <td>535</td>\n",
       "    </tr>\n",
       "    <tr>\n",
       "      <th>1</th>\n",
       "      <td>6032</td>\n",
       "      <td>1924</td>\n",
       "    </tr>\n",
       "  </tbody>\n",
       "</table>\n",
       "</div>"
      ],
      "text/plain": [
       "Response                0     1\n",
       "Reco_Insurance_Type            \n",
       "0                    1509   535\n",
       "1                    6032  1924"
      ]
     },
     "execution_count": 36,
     "metadata": {},
     "output_type": "execute_result"
    }
   ],
   "source": [
    "pd.crosstab(df1['Reco_Insurance_Type'],df1['Response'])"
   ]
  },
  {
   "cell_type": "code",
   "execution_count": 37,
   "metadata": {},
   "outputs": [
    {
     "data": {
      "text/plain": [
       "<AxesSubplot:xlabel='Reco_Insurance_Type', ylabel='count'>"
      ]
     },
     "execution_count": 37,
     "metadata": {},
     "output_type": "execute_result"
    },
    {
     "data": {
      "image/png": "[encoded data removed]",
      "text/plain": [
       "<Figure size 432x288 with 1 Axes>"
      ]
     },
     "metadata": {
      "needs_background": "light"
     },
     "output_type": "display_data"
    }
   ],
   "source": [
    "sns.countplot(df1['Reco_Insurance_Type'],hue=df1['Response'])"
   ]
  },
  {
   "cell_type": "markdown",
   "metadata": {},
   "source": [
    "#### Let's see customers accommodation, recommended insurance type and customer responses."
   ]
  },
  {
   "cell_type": "code",
   "execution_count": 38,
   "metadata": {},
   "outputs": [
    {
     "data": {
      "text/html": [
       "<div>\n",
       "<style scoped>\n",
       "    .dataframe tbody tr th:only-of-type {\n",
       "        vertical-align: middle;\n",
       "    }\n",
       "\n",
       "    .dataframe tbody tr th {\n",
       "        vertical-align: top;\n",
       "    }\n",
       "\n",
       "    .dataframe thead th {\n",
       "        text-align: right;\n",
       "    }\n",
       "</style>\n",
       "<table border=\"1\" class=\"dataframe\">\n",
       "  <thead>\n",
       "    <tr style=\"text-align: right;\">\n",
       "      <th></th>\n",
       "      <th>Response</th>\n",
       "      <th>0</th>\n",
       "      <th>1</th>\n",
       "    </tr>\n",
       "    <tr>\n",
       "      <th>Accomodation_Type</th>\n",
       "      <th>Reco_Insurance_Type</th>\n",
       "      <th></th>\n",
       "      <th></th>\n",
       "    </tr>\n",
       "  </thead>\n",
       "  <tbody>\n",
       "    <tr>\n",
       "      <th rowspan=\"2\" valign=\"top\">0</th>\n",
       "      <th>0</th>\n",
       "      <td>380</td>\n",
       "      <td>139</td>\n",
       "    </tr>\n",
       "    <tr>\n",
       "      <th>1</th>\n",
       "      <td>3043</td>\n",
       "      <td>929</td>\n",
       "    </tr>\n",
       "    <tr>\n",
       "      <th rowspan=\"2\" valign=\"top\">1</th>\n",
       "      <th>0</th>\n",
       "      <td>1129</td>\n",
       "      <td>396</td>\n",
       "    </tr>\n",
       "    <tr>\n",
       "      <th>1</th>\n",
       "      <td>2989</td>\n",
       "      <td>995</td>\n",
       "    </tr>\n",
       "  </tbody>\n",
       "</table>\n",
       "</div>"
      ],
      "text/plain": [
       "Response                                  0    1\n",
       "Accomodation_Type Reco_Insurance_Type           \n",
       "0                 0                     380  139\n",
       "                  1                    3043  929\n",
       "1                 0                    1129  396\n",
       "                  1                    2989  995"
      ]
     },
     "execution_count": 38,
     "metadata": {},
     "output_type": "execute_result"
    }
   ],
   "source": [
    "pd.crosstab(index=[df1['Accomodation_Type'],df1['Reco_Insurance_Type']],columns=df['Response'])"
   ]
  },
  {
   "cell_type": "code",
   "execution_count": 39,
   "metadata": {},
   "outputs": [
    {
     "data": {
      "text/plain": [
       "<AxesSubplot:xlabel='Accomodation_Type,Reco_Insurance_Type'>"
      ]
     },
     "execution_count": 39,
     "metadata": {},
     "output_type": "execute_result"
    },
    {
     "data": {
      "image/png": "[encoded data removed]",
      "text/plain": [
       "<Figure size 432x288 with 1 Axes>"
      ]
     },
     "metadata": {
      "needs_background": "light"
     },
     "output_type": "display_data"
    }
   ],
   "source": [
    "pd.crosstab(index=[df1['Accomodation_Type'],df1['Reco_Insurance_Type']],columns=df1['Response']).plot(kind='bar')"
   ]
  },
  {
   "cell_type": "markdown",
   "metadata": {},
   "source": [
    "### Recommended Policy Category\n",
    "#### Let's see how many categories under the type of recommended policies."
   ]
  },
  {
   "cell_type": "code",
   "execution_count": 40,
   "metadata": {},
   "outputs": [
    {
     "name": "stdout",
     "output_type": "stream",
     "text": [
      "Number of Recommended Policy Categories :  22\n"
     ]
    }
   ],
   "source": [
    "print('Number of Recommended Policy Categories : ',df1['Reco_Policy_Cat'].nunique())"
   ]
  },
  {
   "cell_type": "code",
   "execution_count": 41,
   "metadata": {},
   "outputs": [
    {
     "data": {
      "text/plain": [
       "array([16, 19, 17, 21,  9, 18, 13, 15, 14, 22, 20,  5, 12,  6,  4,  1,  3,\n",
       "       11,  8,  2,  7, 10], dtype=int64)"
      ]
     },
     "execution_count": 41,
     "metadata": {},
     "output_type": "execute_result"
    }
   ],
   "source": [
    "df1['Reco_Policy_Cat'].unique()"
   ]
  },
  {
   "cell_type": "code",
   "execution_count": 42,
   "metadata": {},
   "outputs": [
    {
     "data": {
      "text/plain": [
       "<AxesSubplot:xlabel='Reco_Policy_Cat', ylabel='count'>"
      ]
     },
     "execution_count": 42,
     "metadata": {},
     "output_type": "execute_result"
    },
    {
     "data": {
      "image/png": "[encoded data removed]",
      "text/plain": [
       "<Figure size 1440x720 with 1 Axes>"
      ]
     },
     "metadata": {
      "needs_background": "light"
     },
     "output_type": "display_data"
    }
   ],
   "source": [
    "plt.figure(figsize=(20,10))\n",
    "sns.countplot(df1['Reco_Policy_Cat'])"
   ]
  },
  {
   "cell_type": "markdown",
   "metadata": {},
   "source": [
    "## Observation:\n",
    "There are more customers in Reco_Policy_Cat from 16 to 22."
   ]
  },
  {
   "cell_type": "markdown",
   "metadata": {},
   "source": [
    "### Recommended Policy Premium\n",
    "#### Let's see if there is a relationship between the recommended policy premium and recommended policy category.Analyse results with customer's holding policy type and their response to recommended policy.\n"
   ]
  },
  {
   "cell_type": "code",
   "execution_count": 43,
   "metadata": {
    "scrolled": true
   },
   "outputs": [
    {
     "data": {
      "text/html": [
       "<div>\n",
       "<style scoped>\n",
       "    .dataframe tbody tr th:only-of-type {\n",
       "        vertical-align: middle;\n",
       "    }\n",
       "\n",
       "    .dataframe tbody tr th {\n",
       "        vertical-align: top;\n",
       "    }\n",
       "\n",
       "    .dataframe thead th {\n",
       "        text-align: right;\n",
       "    }\n",
       "</style>\n",
       "<table border=\"1\" class=\"dataframe\">\n",
       "  <thead>\n",
       "    <tr style=\"text-align: right;\">\n",
       "      <th></th>\n",
       "      <th>Reco_Policy_Premium</th>\n",
       "    </tr>\n",
       "    <tr>\n",
       "      <th>Reco_Policy_Cat</th>\n",
       "      <th></th>\n",
       "    </tr>\n",
       "  </thead>\n",
       "  <tbody>\n",
       "    <tr>\n",
       "      <th>1</th>\n",
       "      <td>12915.944357</td>\n",
       "    </tr>\n",
       "    <tr>\n",
       "      <th>2</th>\n",
       "      <td>13231.982306</td>\n",
       "    </tr>\n",
       "    <tr>\n",
       "      <th>3</th>\n",
       "      <td>15390.644240</td>\n",
       "    </tr>\n",
       "    <tr>\n",
       "      <th>4</th>\n",
       "      <td>12157.566000</td>\n",
       "    </tr>\n",
       "    <tr>\n",
       "      <th>5</th>\n",
       "      <td>16142.542157</td>\n",
       "    </tr>\n",
       "    <tr>\n",
       "      <th>6</th>\n",
       "      <td>13193.164444</td>\n",
       "    </tr>\n",
       "    <tr>\n",
       "      <th>7</th>\n",
       "      <td>15231.881046</td>\n",
       "    </tr>\n",
       "    <tr>\n",
       "      <th>8</th>\n",
       "      <td>14319.471765</td>\n",
       "    </tr>\n",
       "    <tr>\n",
       "      <th>9</th>\n",
       "      <td>13699.385333</td>\n",
       "    </tr>\n",
       "    <tr>\n",
       "      <th>10</th>\n",
       "      <td>13265.102041</td>\n",
       "    </tr>\n",
       "    <tr>\n",
       "      <th>11</th>\n",
       "      <td>13789.516129</td>\n",
       "    </tr>\n",
       "    <tr>\n",
       "      <th>12</th>\n",
       "      <td>12596.450116</td>\n",
       "    </tr>\n",
       "    <tr>\n",
       "      <th>13</th>\n",
       "      <td>13575.699425</td>\n",
       "    </tr>\n",
       "    <tr>\n",
       "      <th>14</th>\n",
       "      <td>13355.313095</td>\n",
       "    </tr>\n",
       "    <tr>\n",
       "      <th>15</th>\n",
       "      <td>12939.012384</td>\n",
       "    </tr>\n",
       "    <tr>\n",
       "      <th>16</th>\n",
       "      <td>14246.226463</td>\n",
       "    </tr>\n",
       "    <tr>\n",
       "      <th>17</th>\n",
       "      <td>14879.984438</td>\n",
       "    </tr>\n",
       "    <tr>\n",
       "      <th>18</th>\n",
       "      <td>14789.379129</td>\n",
       "    </tr>\n",
       "    <tr>\n",
       "      <th>19</th>\n",
       "      <td>14779.668063</td>\n",
       "    </tr>\n",
       "    <tr>\n",
       "      <th>20</th>\n",
       "      <td>14158.377124</td>\n",
       "    </tr>\n",
       "    <tr>\n",
       "      <th>21</th>\n",
       "      <td>14498.437474</td>\n",
       "    </tr>\n",
       "    <tr>\n",
       "      <th>22</th>\n",
       "      <td>14541.143731</td>\n",
       "    </tr>\n",
       "  </tbody>\n",
       "</table>\n",
       "</div>"
      ],
      "text/plain": [
       "                 Reco_Policy_Premium\n",
       "Reco_Policy_Cat                     \n",
       "1                       12915.944357\n",
       "2                       13231.982306\n",
       "3                       15390.644240\n",
       "4                       12157.566000\n",
       "5                       16142.542157\n",
       "6                       13193.164444\n",
       "7                       15231.881046\n",
       "8                       14319.471765\n",
       "9                       13699.385333\n",
       "10                      13265.102041\n",
       "11                      13789.516129\n",
       "12                      12596.450116\n",
       "13                      13575.699425\n",
       "14                      13355.313095\n",
       "15                      12939.012384\n",
       "16                      14246.226463\n",
       "17                      14879.984438\n",
       "18                      14789.379129\n",
       "19                      14779.668063\n",
       "20                      14158.377124\n",
       "21                      14498.437474\n",
       "22                      14541.143731"
      ]
     },
     "execution_count": 43,
     "metadata": {},
     "output_type": "execute_result"
    }
   ],
   "source": [
    "avg_premium=df1.groupby(df1['Reco_Policy_Cat'])[['Reco_Policy_Premium']].mean()\n",
    "avg_premium"
   ]
  },
  {
   "cell_type": "code",
   "execution_count": 44,
   "metadata": {},
   "outputs": [
    {
     "data": {
      "text/plain": [
       "<AxesSubplot:xlabel='Reco_Policy_Cat'>"
      ]
     },
     "execution_count": 44,
     "metadata": {},
     "output_type": "execute_result"
    },
    {
     "data": {
      "image/png": "[encoded data removed]",
      "text/plain": [
       "<Figure size 432x288 with 1 Axes>"
      ]
     },
     "metadata": {
      "needs_background": "light"
     },
     "output_type": "display_data"
    }
   ],
   "source": [
    "avg_premium.plot(kind='bar')"
   ]
  },
  {
   "cell_type": "code",
   "execution_count": 45,
   "metadata": {},
   "outputs": [
    {
     "data": {
      "text/plain": [
       "Text(0, 0.5, 'Average Recommended plocy premium')"
      ]
     },
     "execution_count": 45,
     "metadata": {},
     "output_type": "execute_result"
    },
    {
     "data": {
      "image/png": "[encoded data removed]",
      "text/plain": [
       "<Figure size 432x288 with 1 Axes>"
      ]
     },
     "metadata": {
      "needs_background": "light"
     },
     "output_type": "display_data"
    }
   ],
   "source": [
    "plt.scatter(avg_premium.index,avg_premium.values)\n",
    "plt.xlabel('Recommended policy category')\n",
    "plt.ylabel('Average Recommended plocy premium')"
   ]
  },
  {
   "cell_type": "code",
   "execution_count": 46,
   "metadata": {
    "scrolled": true
   },
   "outputs": [
    {
     "data": {
      "text/plain": [
       "<AxesSubplot:xlabel='Reco_Policy_Cat'>"
      ]
     },
     "execution_count": 46,
     "metadata": {},
     "output_type": "execute_result"
    },
    {
     "data": {
      "image/png": "[encoded data removed]",
      "text/plain": [
       "<Figure size 432x288 with 1 Axes>"
      ]
     },
     "metadata": {
      "needs_background": "light"
     },
     "output_type": "display_data"
    }
   ],
   "source": [
    "avg_premium.plot(kind='line')"
   ]
  },
  {
   "cell_type": "markdown",
   "metadata": {},
   "source": [
    "## Observation:\n",
    "There is relationship between Reco_Policy_Cat and Reco_Policy_Premium."
   ]
  },
  {
   "cell_type": "code",
   "execution_count": 47,
   "metadata": {
    "scrolled": true
   },
   "outputs": [
    {
     "data": {
      "text/html": [
       "<div>\n",
       "<style scoped>\n",
       "    .dataframe tbody tr th:only-of-type {\n",
       "        vertical-align: middle;\n",
       "    }\n",
       "\n",
       "    .dataframe tbody tr th {\n",
       "        vertical-align: top;\n",
       "    }\n",
       "\n",
       "    .dataframe thead th {\n",
       "        text-align: right;\n",
       "    }\n",
       "</style>\n",
       "<table border=\"1\" class=\"dataframe\">\n",
       "  <thead>\n",
       "    <tr style=\"text-align: right;\">\n",
       "      <th>Response</th>\n",
       "      <th>0</th>\n",
       "      <th>1</th>\n",
       "    </tr>\n",
       "    <tr>\n",
       "      <th>Holding_Policy_Type</th>\n",
       "      <th></th>\n",
       "      <th></th>\n",
       "    </tr>\n",
       "  </thead>\n",
       "  <tbody>\n",
       "    <tr>\n",
       "      <th>1.0</th>\n",
       "      <td>1212</td>\n",
       "      <td>390</td>\n",
       "    </tr>\n",
       "    <tr>\n",
       "      <th>2.0</th>\n",
       "      <td>730</td>\n",
       "      <td>243</td>\n",
       "    </tr>\n",
       "    <tr>\n",
       "      <th>3.0</th>\n",
       "      <td>5037</td>\n",
       "      <td>1590</td>\n",
       "    </tr>\n",
       "    <tr>\n",
       "      <th>4.0</th>\n",
       "      <td>562</td>\n",
       "      <td>236</td>\n",
       "    </tr>\n",
       "  </tbody>\n",
       "</table>\n",
       "</div>"
      ],
      "text/plain": [
       "Response                0     1\n",
       "Holding_Policy_Type            \n",
       "1.0                  1212   390\n",
       "2.0                   730   243\n",
       "3.0                  5037  1590\n",
       "4.0                   562   236"
      ]
     },
     "execution_count": 47,
     "metadata": {},
     "output_type": "execute_result"
    }
   ],
   "source": [
    "pd.crosstab(df1['Holding_Policy_Type'],df1['Response'])"
   ]
  },
  {
   "cell_type": "code",
   "execution_count": 48,
   "metadata": {},
   "outputs": [
    {
     "data": {
      "text/plain": [
       "<AxesSubplot:xlabel='Holding_Policy_Type'>"
      ]
     },
     "execution_count": 48,
     "metadata": {},
     "output_type": "execute_result"
    },
    {
     "data": {
      "image/png": "[encoded data removed]",
      "text/plain": [
       "<Figure size 432x288 with 1 Axes>"
      ]
     },
     "metadata": {
      "needs_background": "light"
     },
     "output_type": "display_data"
    }
   ],
   "source": [
    "pd.crosstab(df1['Holding_Policy_Type'],df1['Response']).plot(kind='bar')"
   ]
  },
  {
   "cell_type": "markdown",
   "metadata": {},
   "source": [
    "## Observation:\n",
    "There are more customers from Holding_Policy_Type 3 thats they didn't showed interest in Recommended Policy."
   ]
  },
  {
   "cell_type": "markdown",
   "metadata": {},
   "source": [
    "#### Let's see which type of recommnded policy has more number of customers"
   ]
  },
  {
   "cell_type": "code",
   "execution_count": 49,
   "metadata": {
    "scrolled": true
   },
   "outputs": [
    {
     "data": {
      "text/plain": [
       "22    1308\n",
       "18    1102\n",
       "21     966\n",
       "16     786\n",
       "19     764\n",
       "17     694\n",
       "20     612\n",
       "12     431\n",
       "1      381\n",
       "2      373\n",
       "13     348\n",
       "14     336\n",
       "15     323\n",
       "3      217\n",
       "5      204\n",
       "4      200\n",
       "6      180\n",
       "8      170\n",
       "11     155\n",
       "7      153\n",
       "9      150\n",
       "10     147\n",
       "Name: Reco_Policy_Cat, dtype: int64"
      ]
     },
     "execution_count": 49,
     "metadata": {},
     "output_type": "execute_result"
    }
   ],
   "source": [
    "df1['Reco_Policy_Cat'].value_counts()"
   ]
  },
  {
   "cell_type": "code",
   "execution_count": 50,
   "metadata": {},
   "outputs": [
    {
     "name": "stdout",
     "output_type": "stream",
     "text": [
      "Recommended policy category 22 has more number of customers with 1308\n"
     ]
    }
   ],
   "source": [
    "print('Recommended policy category {} has more number of customers with {}'.format(df1['Reco_Policy_Cat'].value_counts().idxmax(),df1['Reco_Policy_Cat'].value_counts().max()))"
   ]
  },
  {
   "cell_type": "code",
   "execution_count": 51,
   "metadata": {},
   "outputs": [
    {
     "data": {
      "text/html": [
       "<div>\n",
       "<style scoped>\n",
       "    .dataframe tbody tr th:only-of-type {\n",
       "        vertical-align: middle;\n",
       "    }\n",
       "\n",
       "    .dataframe tbody tr th {\n",
       "        vertical-align: top;\n",
       "    }\n",
       "\n",
       "    .dataframe thead th {\n",
       "        text-align: right;\n",
       "    }\n",
       "</style>\n",
       "<table border=\"1\" class=\"dataframe\">\n",
       "  <thead>\n",
       "    <tr style=\"text-align: right;\">\n",
       "      <th>Response</th>\n",
       "      <th>0</th>\n",
       "      <th>1</th>\n",
       "    </tr>\n",
       "    <tr>\n",
       "      <th>Reco_Policy_Cat</th>\n",
       "      <th></th>\n",
       "      <th></th>\n",
       "    </tr>\n",
       "  </thead>\n",
       "  <tbody>\n",
       "    <tr>\n",
       "      <th>1</th>\n",
       "      <td>378</td>\n",
       "      <td>3</td>\n",
       "    </tr>\n",
       "    <tr>\n",
       "      <th>2</th>\n",
       "      <td>324</td>\n",
       "      <td>49</td>\n",
       "    </tr>\n",
       "    <tr>\n",
       "      <th>3</th>\n",
       "      <td>173</td>\n",
       "      <td>44</td>\n",
       "    </tr>\n",
       "    <tr>\n",
       "      <th>4</th>\n",
       "      <td>182</td>\n",
       "      <td>18</td>\n",
       "    </tr>\n",
       "    <tr>\n",
       "      <th>5</th>\n",
       "      <td>150</td>\n",
       "      <td>54</td>\n",
       "    </tr>\n",
       "    <tr>\n",
       "      <th>6</th>\n",
       "      <td>154</td>\n",
       "      <td>26</td>\n",
       "    </tr>\n",
       "    <tr>\n",
       "      <th>7</th>\n",
       "      <td>123</td>\n",
       "      <td>30</td>\n",
       "    </tr>\n",
       "    <tr>\n",
       "      <th>8</th>\n",
       "      <td>137</td>\n",
       "      <td>33</td>\n",
       "    </tr>\n",
       "    <tr>\n",
       "      <th>9</th>\n",
       "      <td>123</td>\n",
       "      <td>27</td>\n",
       "    </tr>\n",
       "    <tr>\n",
       "      <th>10</th>\n",
       "      <td>121</td>\n",
       "      <td>26</td>\n",
       "    </tr>\n",
       "    <tr>\n",
       "      <th>11</th>\n",
       "      <td>123</td>\n",
       "      <td>32</td>\n",
       "    </tr>\n",
       "    <tr>\n",
       "      <th>12</th>\n",
       "      <td>287</td>\n",
       "      <td>144</td>\n",
       "    </tr>\n",
       "    <tr>\n",
       "      <th>13</th>\n",
       "      <td>262</td>\n",
       "      <td>86</td>\n",
       "    </tr>\n",
       "    <tr>\n",
       "      <th>14</th>\n",
       "      <td>244</td>\n",
       "      <td>92</td>\n",
       "    </tr>\n",
       "    <tr>\n",
       "      <th>15</th>\n",
       "      <td>173</td>\n",
       "      <td>150</td>\n",
       "    </tr>\n",
       "    <tr>\n",
       "      <th>16</th>\n",
       "      <td>615</td>\n",
       "      <td>171</td>\n",
       "    </tr>\n",
       "    <tr>\n",
       "      <th>17</th>\n",
       "      <td>471</td>\n",
       "      <td>223</td>\n",
       "    </tr>\n",
       "    <tr>\n",
       "      <th>18</th>\n",
       "      <td>861</td>\n",
       "      <td>241</td>\n",
       "    </tr>\n",
       "    <tr>\n",
       "      <th>19</th>\n",
       "      <td>554</td>\n",
       "      <td>210</td>\n",
       "    </tr>\n",
       "    <tr>\n",
       "      <th>20</th>\n",
       "      <td>452</td>\n",
       "      <td>160</td>\n",
       "    </tr>\n",
       "    <tr>\n",
       "      <th>21</th>\n",
       "      <td>766</td>\n",
       "      <td>200</td>\n",
       "    </tr>\n",
       "    <tr>\n",
       "      <th>22</th>\n",
       "      <td>868</td>\n",
       "      <td>440</td>\n",
       "    </tr>\n",
       "  </tbody>\n",
       "</table>\n",
       "</div>"
      ],
      "text/plain": [
       "Response           0    1\n",
       "Reco_Policy_Cat          \n",
       "1                378    3\n",
       "2                324   49\n",
       "3                173   44\n",
       "4                182   18\n",
       "5                150   54\n",
       "6                154   26\n",
       "7                123   30\n",
       "8                137   33\n",
       "9                123   27\n",
       "10               121   26\n",
       "11               123   32\n",
       "12               287  144\n",
       "13               262   86\n",
       "14               244   92\n",
       "15               173  150\n",
       "16               615  171\n",
       "17               471  223\n",
       "18               861  241\n",
       "19               554  210\n",
       "20               452  160\n",
       "21               766  200\n",
       "22               868  440"
      ]
     },
     "execution_count": 51,
     "metadata": {},
     "output_type": "execute_result"
    }
   ],
   "source": [
    "pd.crosstab(df1['Reco_Policy_Cat'],df1['Response'])"
   ]
  },
  {
   "cell_type": "code",
   "execution_count": 52,
   "metadata": {
    "scrolled": true
   },
   "outputs": [
    {
     "data": {
      "text/plain": [
       "<AxesSubplot:xlabel='Reco_Policy_Cat'>"
      ]
     },
     "execution_count": 52,
     "metadata": {},
     "output_type": "execute_result"
    },
    {
     "data": {
      "image/png": "[encoded data removed]",
      "text/plain": [
       "<Figure size 1440x720 with 1 Axes>"
      ]
     },
     "metadata": {
      "needs_background": "light"
     },
     "output_type": "display_data"
    }
   ],
   "source": [
    "pd.crosstab(df1['Reco_Policy_Cat'],df1['Response']).plot(kind='bar',figsize=(20,10))"
   ]
  },
  {
   "cell_type": "markdown",
   "metadata": {},
   "source": [
    "## Observations:\n",
    "Category 1 policy are mostly rejeted by near to all customers.\n",
    "Category 15 policies are accepted by nearly 50 % of those customers.\n",
    "Remaining Categories are mostly rejected by al customers than those who accepted policy."
   ]
  },
  {
   "cell_type": "markdown",
   "metadata": {},
   "source": [
    "#### Let's see city-wise recommended insurance types to customers and theirresponses to recommended policy.\n"
   ]
  },
  {
   "cell_type": "code",
   "execution_count": 53,
   "metadata": {
    "scrolled": true
   },
   "outputs": [
    {
     "data": {
      "text/html": [
       "<div>\n",
       "<style scoped>\n",
       "    .dataframe tbody tr th:only-of-type {\n",
       "        vertical-align: middle;\n",
       "    }\n",
       "\n",
       "    .dataframe tbody tr th {\n",
       "        vertical-align: top;\n",
       "    }\n",
       "\n",
       "    .dataframe thead th {\n",
       "        text-align: right;\n",
       "    }\n",
       "</style>\n",
       "<table border=\"1\" class=\"dataframe\">\n",
       "  <thead>\n",
       "    <tr style=\"text-align: right;\">\n",
       "      <th></th>\n",
       "      <th>Response</th>\n",
       "      <th>0</th>\n",
       "      <th>1</th>\n",
       "    </tr>\n",
       "    <tr>\n",
       "      <th>City_Code</th>\n",
       "      <th>Reco_Insurance_Type</th>\n",
       "      <th></th>\n",
       "      <th></th>\n",
       "    </tr>\n",
       "  </thead>\n",
       "  <tbody>\n",
       "    <tr>\n",
       "      <th rowspan=\"2\" valign=\"top\">C1-C9</th>\n",
       "      <th>0</th>\n",
       "      <td>1056</td>\n",
       "      <td>372</td>\n",
       "    </tr>\n",
       "    <tr>\n",
       "      <th>1</th>\n",
       "      <td>4064</td>\n",
       "      <td>1316</td>\n",
       "    </tr>\n",
       "    <tr>\n",
       "      <th rowspan=\"2\" valign=\"top\">C10-C18</th>\n",
       "      <th>0</th>\n",
       "      <td>271</td>\n",
       "      <td>95</td>\n",
       "    </tr>\n",
       "    <tr>\n",
       "      <th>1</th>\n",
       "      <td>1155</td>\n",
       "      <td>355</td>\n",
       "    </tr>\n",
       "    <tr>\n",
       "      <th rowspan=\"2\" valign=\"top\">C19-C27</th>\n",
       "      <th>0</th>\n",
       "      <td>141</td>\n",
       "      <td>50</td>\n",
       "    </tr>\n",
       "    <tr>\n",
       "      <th>1</th>\n",
       "      <td>657</td>\n",
       "      <td>201</td>\n",
       "    </tr>\n",
       "    <tr>\n",
       "      <th rowspan=\"2\" valign=\"top\">C28-C36</th>\n",
       "      <th>0</th>\n",
       "      <td>41</td>\n",
       "      <td>18</td>\n",
       "    </tr>\n",
       "    <tr>\n",
       "      <th>1</th>\n",
       "      <td>156</td>\n",
       "      <td>52</td>\n",
       "    </tr>\n",
       "  </tbody>\n",
       "</table>\n",
       "</div>"
      ],
      "text/plain": [
       "Response                          0     1\n",
       "City_Code Reco_Insurance_Type            \n",
       "C1-C9     0                    1056   372\n",
       "          1                    4064  1316\n",
       "C10-C18   0                     271    95\n",
       "          1                    1155   355\n",
       "C19-C27   0                     141    50\n",
       "          1                     657   201\n",
       "C28-C36   0                      41    18\n",
       "          1                     156    52"
      ]
     },
     "execution_count": 53,
     "metadata": {},
     "output_type": "execute_result"
    }
   ],
   "source": [
    "pd.crosstab(index=[df1['City_Code'],df1['Reco_Insurance_Type']],columns=df1['Response'])"
   ]
  },
  {
   "cell_type": "code",
   "execution_count": 54,
   "metadata": {
    "scrolled": true
   },
   "outputs": [
    {
     "data": {
      "text/plain": [
       "<AxesSubplot:xlabel='City_Code,Reco_Insurance_Type'>"
      ]
     },
     "execution_count": 54,
     "metadata": {},
     "output_type": "execute_result"
    },
    {
     "data": {
      "image/png": "[encoded data removed]",
      "text/plain": [
       "<Figure size 1440x720 with 1 Axes>"
      ]
     },
     "metadata": {
      "needs_background": "light"
     },
     "output_type": "display_data"
    }
   ],
   "source": [
    "pd.crosstab(columns=df1['Response'],index=[df1['City_Code'],df1['Reco_Insurance_Type']]).plot(kind='bar',figsize=(20,10))"
   ]
  },
  {
   "cell_type": "markdown",
   "metadata": {},
   "source": [
    "## Observations:\n",
    "There are more number of customers with individual recommended insurance type in city codes C1 - C9.\n",
    "The response of the customers based on city codes and recommended insurance types."
   ]
  },
  {
   "cell_type": "markdown",
   "metadata": {},
   "source": [
    "#### Let's analyze the customer's upper age with their type of accommodation and recommended policy types to them and also their interest in the recommended policy.\n"
   ]
  },
  {
   "cell_type": "code",
   "execution_count": 55,
   "metadata": {
    "scrolled": true
   },
   "outputs": [
    {
     "data": {
      "text/html": [
       "<div>\n",
       "<style scoped>\n",
       "    .dataframe tbody tr th:only-of-type {\n",
       "        vertical-align: middle;\n",
       "    }\n",
       "\n",
       "    .dataframe tbody tr th {\n",
       "        vertical-align: top;\n",
       "    }\n",
       "\n",
       "    .dataframe thead th {\n",
       "        text-align: right;\n",
       "    }\n",
       "</style>\n",
       "<table border=\"1\" class=\"dataframe\">\n",
       "  <thead>\n",
       "    <tr style=\"text-align: right;\">\n",
       "      <th>Upper_Age</th>\n",
       "      <th>18</th>\n",
       "      <th>19</th>\n",
       "      <th>20</th>\n",
       "      <th>21</th>\n",
       "      <th>22</th>\n",
       "      <th>23</th>\n",
       "      <th>24</th>\n",
       "      <th>25</th>\n",
       "      <th>26</th>\n",
       "      <th>27</th>\n",
       "      <th>...</th>\n",
       "      <th>66</th>\n",
       "      <th>67</th>\n",
       "      <th>68</th>\n",
       "      <th>69</th>\n",
       "      <th>70</th>\n",
       "      <th>71</th>\n",
       "      <th>72</th>\n",
       "      <th>73</th>\n",
       "      <th>74</th>\n",
       "      <th>75</th>\n",
       "    </tr>\n",
       "    <tr>\n",
       "      <th>Accomodation_Type</th>\n",
       "      <th></th>\n",
       "      <th></th>\n",
       "      <th></th>\n",
       "      <th></th>\n",
       "      <th></th>\n",
       "      <th></th>\n",
       "      <th></th>\n",
       "      <th></th>\n",
       "      <th></th>\n",
       "      <th></th>\n",
       "      <th></th>\n",
       "      <th></th>\n",
       "      <th></th>\n",
       "      <th></th>\n",
       "      <th></th>\n",
       "      <th></th>\n",
       "      <th></th>\n",
       "      <th></th>\n",
       "      <th></th>\n",
       "      <th></th>\n",
       "      <th></th>\n",
       "    </tr>\n",
       "  </thead>\n",
       "  <tbody>\n",
       "    <tr>\n",
       "      <th>0</th>\n",
       "      <td>24</td>\n",
       "      <td>101</td>\n",
       "      <td>129</td>\n",
       "      <td>221</td>\n",
       "      <td>240</td>\n",
       "      <td>247</td>\n",
       "      <td>252</td>\n",
       "      <td>240</td>\n",
       "      <td>201</td>\n",
       "      <td>173</td>\n",
       "      <td>...</td>\n",
       "      <td>32</td>\n",
       "      <td>24</td>\n",
       "      <td>26</td>\n",
       "      <td>23</td>\n",
       "      <td>28</td>\n",
       "      <td>16</td>\n",
       "      <td>25</td>\n",
       "      <td>17</td>\n",
       "      <td>15</td>\n",
       "      <td>109</td>\n",
       "    </tr>\n",
       "    <tr>\n",
       "      <th>1</th>\n",
       "      <td>5</td>\n",
       "      <td>12</td>\n",
       "      <td>21</td>\n",
       "      <td>31</td>\n",
       "      <td>56</td>\n",
       "      <td>59</td>\n",
       "      <td>64</td>\n",
       "      <td>70</td>\n",
       "      <td>88</td>\n",
       "      <td>79</td>\n",
       "      <td>...</td>\n",
       "      <td>106</td>\n",
       "      <td>109</td>\n",
       "      <td>80</td>\n",
       "      <td>97</td>\n",
       "      <td>106</td>\n",
       "      <td>102</td>\n",
       "      <td>74</td>\n",
       "      <td>85</td>\n",
       "      <td>70</td>\n",
       "      <td>441</td>\n",
       "    </tr>\n",
       "  </tbody>\n",
       "</table>\n",
       "<p>2 rows × 58 columns</p>\n",
       "</div>"
      ],
      "text/plain": [
       "Upper_Age          18   19   20   21   22   23   24   25   26   27  ...   66  \\\n",
       "Accomodation_Type                                                   ...        \n",
       "0                  24  101  129  221  240  247  252  240  201  173  ...   32   \n",
       "1                   5   12   21   31   56   59   64   70   88   79  ...  106   \n",
       "\n",
       "Upper_Age           67  68  69   70   71  72  73  74   75  \n",
       "Accomodation_Type                                          \n",
       "0                   24  26  23   28   16  25  17  15  109  \n",
       "1                  109  80  97  106  102  74  85  70  441  \n",
       "\n",
       "[2 rows x 58 columns]"
      ]
     },
     "execution_count": 55,
     "metadata": {},
     "output_type": "execute_result"
    }
   ],
   "source": [
    "pd.crosstab(df1['Accomodation_Type'],df1['Upper_Age'])"
   ]
  },
  {
   "cell_type": "code",
   "execution_count": 56,
   "metadata": {},
   "outputs": [
    {
     "data": {
      "text/plain": [
       "<AxesSubplot:xlabel='Upper_Age', ylabel='count'>"
      ]
     },
     "execution_count": 56,
     "metadata": {},
     "output_type": "execute_result"
    },
    {
     "data": {
      "image/png": "[encoded data removed]",
      "text/plain": [
       "<Figure size 1080x720 with 1 Axes>"
      ]
     },
     "metadata": {
      "needs_background": "light"
     },
     "output_type": "display_data"
    }
   ],
   "source": [
    "plt.figure(figsize=(15,10))\n",
    "sns.countplot(df1['Upper_Age'],hue=df1['Accomodation_Type'])"
   ]
  },
  {
   "cell_type": "code",
   "execution_count": 57,
   "metadata": {},
   "outputs": [
    {
     "data": {
      "text/html": [
       "<div>\n",
       "<style scoped>\n",
       "    .dataframe tbody tr th:only-of-type {\n",
       "        vertical-align: middle;\n",
       "    }\n",
       "\n",
       "    .dataframe tbody tr th {\n",
       "        vertical-align: top;\n",
       "    }\n",
       "\n",
       "    .dataframe thead th {\n",
       "        text-align: right;\n",
       "    }\n",
       "</style>\n",
       "<table border=\"1\" class=\"dataframe\">\n",
       "  <thead>\n",
       "    <tr style=\"text-align: right;\">\n",
       "      <th>Upper_Age</th>\n",
       "      <th>18</th>\n",
       "      <th>19</th>\n",
       "      <th>20</th>\n",
       "      <th>21</th>\n",
       "      <th>22</th>\n",
       "      <th>23</th>\n",
       "      <th>24</th>\n",
       "      <th>25</th>\n",
       "      <th>26</th>\n",
       "      <th>27</th>\n",
       "      <th>...</th>\n",
       "      <th>66</th>\n",
       "      <th>67</th>\n",
       "      <th>68</th>\n",
       "      <th>69</th>\n",
       "      <th>70</th>\n",
       "      <th>71</th>\n",
       "      <th>72</th>\n",
       "      <th>73</th>\n",
       "      <th>74</th>\n",
       "      <th>75</th>\n",
       "    </tr>\n",
       "    <tr>\n",
       "      <th>Reco_Policy_Cat</th>\n",
       "      <th></th>\n",
       "      <th></th>\n",
       "      <th></th>\n",
       "      <th></th>\n",
       "      <th></th>\n",
       "      <th></th>\n",
       "      <th></th>\n",
       "      <th></th>\n",
       "      <th></th>\n",
       "      <th></th>\n",
       "      <th></th>\n",
       "      <th></th>\n",
       "      <th></th>\n",
       "      <th></th>\n",
       "      <th></th>\n",
       "      <th></th>\n",
       "      <th></th>\n",
       "      <th></th>\n",
       "      <th></th>\n",
       "      <th></th>\n",
       "      <th></th>\n",
       "    </tr>\n",
       "  </thead>\n",
       "  <tbody>\n",
       "    <tr>\n",
       "      <th>1</th>\n",
       "      <td>0</td>\n",
       "      <td>2</td>\n",
       "      <td>7</td>\n",
       "      <td>8</td>\n",
       "      <td>10</td>\n",
       "      <td>16</td>\n",
       "      <td>12</td>\n",
       "      <td>9</td>\n",
       "      <td>6</td>\n",
       "      <td>14</td>\n",
       "      <td>...</td>\n",
       "      <td>2</td>\n",
       "      <td>4</td>\n",
       "      <td>1</td>\n",
       "      <td>2</td>\n",
       "      <td>4</td>\n",
       "      <td>2</td>\n",
       "      <td>2</td>\n",
       "      <td>3</td>\n",
       "      <td>2</td>\n",
       "      <td>18</td>\n",
       "    </tr>\n",
       "    <tr>\n",
       "      <th>2</th>\n",
       "      <td>8</td>\n",
       "      <td>5</td>\n",
       "      <td>5</td>\n",
       "      <td>9</td>\n",
       "      <td>11</td>\n",
       "      <td>16</td>\n",
       "      <td>11</td>\n",
       "      <td>9</td>\n",
       "      <td>10</td>\n",
       "      <td>6</td>\n",
       "      <td>...</td>\n",
       "      <td>3</td>\n",
       "      <td>1</td>\n",
       "      <td>1</td>\n",
       "      <td>2</td>\n",
       "      <td>6</td>\n",
       "      <td>1</td>\n",
       "      <td>3</td>\n",
       "      <td>1</td>\n",
       "      <td>1</td>\n",
       "      <td>16</td>\n",
       "    </tr>\n",
       "    <tr>\n",
       "      <th>3</th>\n",
       "      <td>0</td>\n",
       "      <td>0</td>\n",
       "      <td>4</td>\n",
       "      <td>5</td>\n",
       "      <td>5</td>\n",
       "      <td>9</td>\n",
       "      <td>4</td>\n",
       "      <td>8</td>\n",
       "      <td>2</td>\n",
       "      <td>4</td>\n",
       "      <td>...</td>\n",
       "      <td>1</td>\n",
       "      <td>5</td>\n",
       "      <td>3</td>\n",
       "      <td>5</td>\n",
       "      <td>0</td>\n",
       "      <td>0</td>\n",
       "      <td>4</td>\n",
       "      <td>1</td>\n",
       "      <td>7</td>\n",
       "      <td>14</td>\n",
       "    </tr>\n",
       "    <tr>\n",
       "      <th>4</th>\n",
       "      <td>0</td>\n",
       "      <td>2</td>\n",
       "      <td>3</td>\n",
       "      <td>10</td>\n",
       "      <td>12</td>\n",
       "      <td>5</td>\n",
       "      <td>9</td>\n",
       "      <td>10</td>\n",
       "      <td>8</td>\n",
       "      <td>2</td>\n",
       "      <td>...</td>\n",
       "      <td>2</td>\n",
       "      <td>1</td>\n",
       "      <td>2</td>\n",
       "      <td>3</td>\n",
       "      <td>1</td>\n",
       "      <td>1</td>\n",
       "      <td>0</td>\n",
       "      <td>2</td>\n",
       "      <td>1</td>\n",
       "      <td>4</td>\n",
       "    </tr>\n",
       "    <tr>\n",
       "      <th>5</th>\n",
       "      <td>0</td>\n",
       "      <td>2</td>\n",
       "      <td>0</td>\n",
       "      <td>1</td>\n",
       "      <td>1</td>\n",
       "      <td>5</td>\n",
       "      <td>6</td>\n",
       "      <td>7</td>\n",
       "      <td>3</td>\n",
       "      <td>8</td>\n",
       "      <td>...</td>\n",
       "      <td>3</td>\n",
       "      <td>4</td>\n",
       "      <td>4</td>\n",
       "      <td>5</td>\n",
       "      <td>5</td>\n",
       "      <td>7</td>\n",
       "      <td>0</td>\n",
       "      <td>5</td>\n",
       "      <td>3</td>\n",
       "      <td>21</td>\n",
       "    </tr>\n",
       "    <tr>\n",
       "      <th>6</th>\n",
       "      <td>0</td>\n",
       "      <td>6</td>\n",
       "      <td>5</td>\n",
       "      <td>9</td>\n",
       "      <td>6</td>\n",
       "      <td>6</td>\n",
       "      <td>8</td>\n",
       "      <td>3</td>\n",
       "      <td>4</td>\n",
       "      <td>2</td>\n",
       "      <td>...</td>\n",
       "      <td>0</td>\n",
       "      <td>1</td>\n",
       "      <td>1</td>\n",
       "      <td>1</td>\n",
       "      <td>0</td>\n",
       "      <td>4</td>\n",
       "      <td>0</td>\n",
       "      <td>2</td>\n",
       "      <td>1</td>\n",
       "      <td>8</td>\n",
       "    </tr>\n",
       "    <tr>\n",
       "      <th>7</th>\n",
       "      <td>0</td>\n",
       "      <td>2</td>\n",
       "      <td>0</td>\n",
       "      <td>1</td>\n",
       "      <td>6</td>\n",
       "      <td>5</td>\n",
       "      <td>3</td>\n",
       "      <td>3</td>\n",
       "      <td>5</td>\n",
       "      <td>2</td>\n",
       "      <td>...</td>\n",
       "      <td>5</td>\n",
       "      <td>7</td>\n",
       "      <td>2</td>\n",
       "      <td>1</td>\n",
       "      <td>1</td>\n",
       "      <td>2</td>\n",
       "      <td>4</td>\n",
       "      <td>3</td>\n",
       "      <td>6</td>\n",
       "      <td>12</td>\n",
       "    </tr>\n",
       "    <tr>\n",
       "      <th>8</th>\n",
       "      <td>0</td>\n",
       "      <td>0</td>\n",
       "      <td>5</td>\n",
       "      <td>3</td>\n",
       "      <td>9</td>\n",
       "      <td>8</td>\n",
       "      <td>4</td>\n",
       "      <td>5</td>\n",
       "      <td>5</td>\n",
       "      <td>3</td>\n",
       "      <td>...</td>\n",
       "      <td>4</td>\n",
       "      <td>2</td>\n",
       "      <td>4</td>\n",
       "      <td>2</td>\n",
       "      <td>3</td>\n",
       "      <td>4</td>\n",
       "      <td>0</td>\n",
       "      <td>0</td>\n",
       "      <td>2</td>\n",
       "      <td>10</td>\n",
       "    </tr>\n",
       "    <tr>\n",
       "      <th>9</th>\n",
       "      <td>0</td>\n",
       "      <td>0</td>\n",
       "      <td>3</td>\n",
       "      <td>4</td>\n",
       "      <td>5</td>\n",
       "      <td>5</td>\n",
       "      <td>6</td>\n",
       "      <td>4</td>\n",
       "      <td>4</td>\n",
       "      <td>7</td>\n",
       "      <td>...</td>\n",
       "      <td>2</td>\n",
       "      <td>1</td>\n",
       "      <td>1</td>\n",
       "      <td>2</td>\n",
       "      <td>1</td>\n",
       "      <td>0</td>\n",
       "      <td>2</td>\n",
       "      <td>1</td>\n",
       "      <td>1</td>\n",
       "      <td>4</td>\n",
       "    </tr>\n",
       "    <tr>\n",
       "      <th>10</th>\n",
       "      <td>0</td>\n",
       "      <td>3</td>\n",
       "      <td>0</td>\n",
       "      <td>5</td>\n",
       "      <td>4</td>\n",
       "      <td>4</td>\n",
       "      <td>4</td>\n",
       "      <td>7</td>\n",
       "      <td>8</td>\n",
       "      <td>7</td>\n",
       "      <td>...</td>\n",
       "      <td>4</td>\n",
       "      <td>1</td>\n",
       "      <td>2</td>\n",
       "      <td>0</td>\n",
       "      <td>1</td>\n",
       "      <td>1</td>\n",
       "      <td>0</td>\n",
       "      <td>1</td>\n",
       "      <td>0</td>\n",
       "      <td>5</td>\n",
       "    </tr>\n",
       "    <tr>\n",
       "      <th>11</th>\n",
       "      <td>0</td>\n",
       "      <td>1</td>\n",
       "      <td>2</td>\n",
       "      <td>3</td>\n",
       "      <td>8</td>\n",
       "      <td>4</td>\n",
       "      <td>9</td>\n",
       "      <td>5</td>\n",
       "      <td>5</td>\n",
       "      <td>2</td>\n",
       "      <td>...</td>\n",
       "      <td>3</td>\n",
       "      <td>1</td>\n",
       "      <td>1</td>\n",
       "      <td>0</td>\n",
       "      <td>2</td>\n",
       "      <td>1</td>\n",
       "      <td>0</td>\n",
       "      <td>0</td>\n",
       "      <td>1</td>\n",
       "      <td>15</td>\n",
       "    </tr>\n",
       "    <tr>\n",
       "      <th>12</th>\n",
       "      <td>2</td>\n",
       "      <td>14</td>\n",
       "      <td>13</td>\n",
       "      <td>18</td>\n",
       "      <td>14</td>\n",
       "      <td>11</td>\n",
       "      <td>7</td>\n",
       "      <td>18</td>\n",
       "      <td>9</td>\n",
       "      <td>6</td>\n",
       "      <td>...</td>\n",
       "      <td>3</td>\n",
       "      <td>7</td>\n",
       "      <td>2</td>\n",
       "      <td>5</td>\n",
       "      <td>4</td>\n",
       "      <td>3</td>\n",
       "      <td>3</td>\n",
       "      <td>6</td>\n",
       "      <td>4</td>\n",
       "      <td>17</td>\n",
       "    </tr>\n",
       "    <tr>\n",
       "      <th>13</th>\n",
       "      <td>1</td>\n",
       "      <td>5</td>\n",
       "      <td>7</td>\n",
       "      <td>9</td>\n",
       "      <td>8</td>\n",
       "      <td>8</td>\n",
       "      <td>17</td>\n",
       "      <td>14</td>\n",
       "      <td>9</td>\n",
       "      <td>8</td>\n",
       "      <td>...</td>\n",
       "      <td>6</td>\n",
       "      <td>5</td>\n",
       "      <td>2</td>\n",
       "      <td>3</td>\n",
       "      <td>9</td>\n",
       "      <td>3</td>\n",
       "      <td>2</td>\n",
       "      <td>5</td>\n",
       "      <td>2</td>\n",
       "      <td>16</td>\n",
       "    </tr>\n",
       "    <tr>\n",
       "      <th>14</th>\n",
       "      <td>1</td>\n",
       "      <td>1</td>\n",
       "      <td>9</td>\n",
       "      <td>12</td>\n",
       "      <td>15</td>\n",
       "      <td>14</td>\n",
       "      <td>12</td>\n",
       "      <td>5</td>\n",
       "      <td>5</td>\n",
       "      <td>8</td>\n",
       "      <td>...</td>\n",
       "      <td>3</td>\n",
       "      <td>5</td>\n",
       "      <td>4</td>\n",
       "      <td>2</td>\n",
       "      <td>2</td>\n",
       "      <td>5</td>\n",
       "      <td>3</td>\n",
       "      <td>5</td>\n",
       "      <td>0</td>\n",
       "      <td>25</td>\n",
       "    </tr>\n",
       "    <tr>\n",
       "      <th>15</th>\n",
       "      <td>4</td>\n",
       "      <td>8</td>\n",
       "      <td>9</td>\n",
       "      <td>12</td>\n",
       "      <td>14</td>\n",
       "      <td>11</td>\n",
       "      <td>12</td>\n",
       "      <td>5</td>\n",
       "      <td>11</td>\n",
       "      <td>5</td>\n",
       "      <td>...</td>\n",
       "      <td>2</td>\n",
       "      <td>3</td>\n",
       "      <td>5</td>\n",
       "      <td>3</td>\n",
       "      <td>3</td>\n",
       "      <td>2</td>\n",
       "      <td>2</td>\n",
       "      <td>3</td>\n",
       "      <td>2</td>\n",
       "      <td>10</td>\n",
       "    </tr>\n",
       "    <tr>\n",
       "      <th>16</th>\n",
       "      <td>1</td>\n",
       "      <td>8</td>\n",
       "      <td>14</td>\n",
       "      <td>21</td>\n",
       "      <td>18</td>\n",
       "      <td>19</td>\n",
       "      <td>31</td>\n",
       "      <td>20</td>\n",
       "      <td>22</td>\n",
       "      <td>21</td>\n",
       "      <td>...</td>\n",
       "      <td>9</td>\n",
       "      <td>10</td>\n",
       "      <td>8</td>\n",
       "      <td>6</td>\n",
       "      <td>9</td>\n",
       "      <td>8</td>\n",
       "      <td>16</td>\n",
       "      <td>5</td>\n",
       "      <td>10</td>\n",
       "      <td>34</td>\n",
       "    </tr>\n",
       "    <tr>\n",
       "      <th>17</th>\n",
       "      <td>1</td>\n",
       "      <td>8</td>\n",
       "      <td>8</td>\n",
       "      <td>15</td>\n",
       "      <td>14</td>\n",
       "      <td>23</td>\n",
       "      <td>23</td>\n",
       "      <td>17</td>\n",
       "      <td>19</td>\n",
       "      <td>14</td>\n",
       "      <td>...</td>\n",
       "      <td>16</td>\n",
       "      <td>11</td>\n",
       "      <td>6</td>\n",
       "      <td>11</td>\n",
       "      <td>2</td>\n",
       "      <td>8</td>\n",
       "      <td>15</td>\n",
       "      <td>9</td>\n",
       "      <td>5</td>\n",
       "      <td>41</td>\n",
       "    </tr>\n",
       "    <tr>\n",
       "      <th>18</th>\n",
       "      <td>0</td>\n",
       "      <td>6</td>\n",
       "      <td>9</td>\n",
       "      <td>23</td>\n",
       "      <td>36</td>\n",
       "      <td>33</td>\n",
       "      <td>27</td>\n",
       "      <td>35</td>\n",
       "      <td>35</td>\n",
       "      <td>26</td>\n",
       "      <td>...</td>\n",
       "      <td>17</td>\n",
       "      <td>21</td>\n",
       "      <td>13</td>\n",
       "      <td>20</td>\n",
       "      <td>20</td>\n",
       "      <td>22</td>\n",
       "      <td>17</td>\n",
       "      <td>15</td>\n",
       "      <td>14</td>\n",
       "      <td>64</td>\n",
       "    </tr>\n",
       "    <tr>\n",
       "      <th>19</th>\n",
       "      <td>3</td>\n",
       "      <td>7</td>\n",
       "      <td>13</td>\n",
       "      <td>17</td>\n",
       "      <td>9</td>\n",
       "      <td>17</td>\n",
       "      <td>31</td>\n",
       "      <td>20</td>\n",
       "      <td>20</td>\n",
       "      <td>19</td>\n",
       "      <td>...</td>\n",
       "      <td>8</td>\n",
       "      <td>6</td>\n",
       "      <td>9</td>\n",
       "      <td>7</td>\n",
       "      <td>10</td>\n",
       "      <td>7</td>\n",
       "      <td>4</td>\n",
       "      <td>14</td>\n",
       "      <td>6</td>\n",
       "      <td>41</td>\n",
       "    </tr>\n",
       "    <tr>\n",
       "      <th>20</th>\n",
       "      <td>0</td>\n",
       "      <td>6</td>\n",
       "      <td>11</td>\n",
       "      <td>13</td>\n",
       "      <td>23</td>\n",
       "      <td>18</td>\n",
       "      <td>14</td>\n",
       "      <td>18</td>\n",
       "      <td>19</td>\n",
       "      <td>21</td>\n",
       "      <td>...</td>\n",
       "      <td>7</td>\n",
       "      <td>8</td>\n",
       "      <td>9</td>\n",
       "      <td>10</td>\n",
       "      <td>7</td>\n",
       "      <td>9</td>\n",
       "      <td>4</td>\n",
       "      <td>5</td>\n",
       "      <td>1</td>\n",
       "      <td>37</td>\n",
       "    </tr>\n",
       "    <tr>\n",
       "      <th>21</th>\n",
       "      <td>2</td>\n",
       "      <td>12</td>\n",
       "      <td>8</td>\n",
       "      <td>19</td>\n",
       "      <td>28</td>\n",
       "      <td>30</td>\n",
       "      <td>32</td>\n",
       "      <td>32</td>\n",
       "      <td>28</td>\n",
       "      <td>31</td>\n",
       "      <td>...</td>\n",
       "      <td>15</td>\n",
       "      <td>17</td>\n",
       "      <td>12</td>\n",
       "      <td>14</td>\n",
       "      <td>21</td>\n",
       "      <td>13</td>\n",
       "      <td>8</td>\n",
       "      <td>8</td>\n",
       "      <td>6</td>\n",
       "      <td>63</td>\n",
       "    </tr>\n",
       "    <tr>\n",
       "      <th>22</th>\n",
       "      <td>6</td>\n",
       "      <td>15</td>\n",
       "      <td>15</td>\n",
       "      <td>35</td>\n",
       "      <td>40</td>\n",
       "      <td>39</td>\n",
       "      <td>34</td>\n",
       "      <td>56</td>\n",
       "      <td>52</td>\n",
       "      <td>36</td>\n",
       "      <td>...</td>\n",
       "      <td>23</td>\n",
       "      <td>12</td>\n",
       "      <td>14</td>\n",
       "      <td>16</td>\n",
       "      <td>23</td>\n",
       "      <td>15</td>\n",
       "      <td>10</td>\n",
       "      <td>8</td>\n",
       "      <td>10</td>\n",
       "      <td>75</td>\n",
       "    </tr>\n",
       "  </tbody>\n",
       "</table>\n",
       "<p>22 rows × 58 columns</p>\n",
       "</div>"
      ],
      "text/plain": [
       "Upper_Age        18  19  20  21  22  23  24  25  26  27  ...  66  67  68  69  \\\n",
       "Reco_Policy_Cat                                          ...                   \n",
       "1                 0   2   7   8  10  16  12   9   6  14  ...   2   4   1   2   \n",
       "2                 8   5   5   9  11  16  11   9  10   6  ...   3   1   1   2   \n",
       "3                 0   0   4   5   5   9   4   8   2   4  ...   1   5   3   5   \n",
       "4                 0   2   3  10  12   5   9  10   8   2  ...   2   1   2   3   \n",
       "5                 0   2   0   1   1   5   6   7   3   8  ...   3   4   4   5   \n",
       "6                 0   6   5   9   6   6   8   3   4   2  ...   0   1   1   1   \n",
       "7                 0   2   0   1   6   5   3   3   5   2  ...   5   7   2   1   \n",
       "8                 0   0   5   3   9   8   4   5   5   3  ...   4   2   4   2   \n",
       "9                 0   0   3   4   5   5   6   4   4   7  ...   2   1   1   2   \n",
       "10                0   3   0   5   4   4   4   7   8   7  ...   4   1   2   0   \n",
       "11                0   1   2   3   8   4   9   5   5   2  ...   3   1   1   0   \n",
       "12                2  14  13  18  14  11   7  18   9   6  ...   3   7   2   5   \n",
       "13                1   5   7   9   8   8  17  14   9   8  ...   6   5   2   3   \n",
       "14                1   1   9  12  15  14  12   5   5   8  ...   3   5   4   2   \n",
       "15                4   8   9  12  14  11  12   5  11   5  ...   2   3   5   3   \n",
       "16                1   8  14  21  18  19  31  20  22  21  ...   9  10   8   6   \n",
       "17                1   8   8  15  14  23  23  17  19  14  ...  16  11   6  11   \n",
       "18                0   6   9  23  36  33  27  35  35  26  ...  17  21  13  20   \n",
       "19                3   7  13  17   9  17  31  20  20  19  ...   8   6   9   7   \n",
       "20                0   6  11  13  23  18  14  18  19  21  ...   7   8   9  10   \n",
       "21                2  12   8  19  28  30  32  32  28  31  ...  15  17  12  14   \n",
       "22                6  15  15  35  40  39  34  56  52  36  ...  23  12  14  16   \n",
       "\n",
       "Upper_Age        70  71  72  73  74  75  \n",
       "Reco_Policy_Cat                          \n",
       "1                 4   2   2   3   2  18  \n",
       "2                 6   1   3   1   1  16  \n",
       "3                 0   0   4   1   7  14  \n",
       "4                 1   1   0   2   1   4  \n",
       "5                 5   7   0   5   3  21  \n",
       "6                 0   4   0   2   1   8  \n",
       "7                 1   2   4   3   6  12  \n",
       "8                 3   4   0   0   2  10  \n",
       "9                 1   0   2   1   1   4  \n",
       "10                1   1   0   1   0   5  \n",
       "11                2   1   0   0   1  15  \n",
       "12                4   3   3   6   4  17  \n",
       "13                9   3   2   5   2  16  \n",
       "14                2   5   3   5   0  25  \n",
       "15                3   2   2   3   2  10  \n",
       "16                9   8  16   5  10  34  \n",
       "17                2   8  15   9   5  41  \n",
       "18               20  22  17  15  14  64  \n",
       "19               10   7   4  14   6  41  \n",
       "20                7   9   4   5   1  37  \n",
       "21               21  13   8   8   6  63  \n",
       "22               23  15  10   8  10  75  \n",
       "\n",
       "[22 rows x 58 columns]"
      ]
     },
     "execution_count": 57,
     "metadata": {},
     "output_type": "execute_result"
    }
   ],
   "source": [
    "pd.crosstab(df1['Reco_Policy_Cat'],df1['Upper_Age'])"
   ]
  },
  {
   "cell_type": "code",
   "execution_count": 58,
   "metadata": {},
   "outputs": [
    {
     "data": {
      "text/html": [
       "<div>\n",
       "<style scoped>\n",
       "    .dataframe tbody tr th:only-of-type {\n",
       "        vertical-align: middle;\n",
       "    }\n",
       "\n",
       "    .dataframe tbody tr th {\n",
       "        vertical-align: top;\n",
       "    }\n",
       "\n",
       "    .dataframe thead th {\n",
       "        text-align: right;\n",
       "    }\n",
       "</style>\n",
       "<table border=\"1\" class=\"dataframe\">\n",
       "  <thead>\n",
       "    <tr style=\"text-align: right;\">\n",
       "      <th>Upper_Age</th>\n",
       "      <th>18</th>\n",
       "      <th>19</th>\n",
       "      <th>20</th>\n",
       "      <th>21</th>\n",
       "      <th>22</th>\n",
       "      <th>23</th>\n",
       "      <th>24</th>\n",
       "      <th>25</th>\n",
       "      <th>26</th>\n",
       "      <th>27</th>\n",
       "      <th>...</th>\n",
       "      <th>66</th>\n",
       "      <th>67</th>\n",
       "      <th>68</th>\n",
       "      <th>69</th>\n",
       "      <th>70</th>\n",
       "      <th>71</th>\n",
       "      <th>72</th>\n",
       "      <th>73</th>\n",
       "      <th>74</th>\n",
       "      <th>75</th>\n",
       "    </tr>\n",
       "    <tr>\n",
       "      <th>Response</th>\n",
       "      <th></th>\n",
       "      <th></th>\n",
       "      <th></th>\n",
       "      <th></th>\n",
       "      <th></th>\n",
       "      <th></th>\n",
       "      <th></th>\n",
       "      <th></th>\n",
       "      <th></th>\n",
       "      <th></th>\n",
       "      <th></th>\n",
       "      <th></th>\n",
       "      <th></th>\n",
       "      <th></th>\n",
       "      <th></th>\n",
       "      <th></th>\n",
       "      <th></th>\n",
       "      <th></th>\n",
       "      <th></th>\n",
       "      <th></th>\n",
       "      <th></th>\n",
       "    </tr>\n",
       "  </thead>\n",
       "  <tbody>\n",
       "    <tr>\n",
       "      <th>0</th>\n",
       "      <td>24</td>\n",
       "      <td>91</td>\n",
       "      <td>116</td>\n",
       "      <td>192</td>\n",
       "      <td>232</td>\n",
       "      <td>240</td>\n",
       "      <td>243</td>\n",
       "      <td>230</td>\n",
       "      <td>217</td>\n",
       "      <td>189</td>\n",
       "      <td>...</td>\n",
       "      <td>96</td>\n",
       "      <td>103</td>\n",
       "      <td>80</td>\n",
       "      <td>82</td>\n",
       "      <td>97</td>\n",
       "      <td>88</td>\n",
       "      <td>81</td>\n",
       "      <td>73</td>\n",
       "      <td>74</td>\n",
       "      <td>413</td>\n",
       "    </tr>\n",
       "    <tr>\n",
       "      <th>1</th>\n",
       "      <td>5</td>\n",
       "      <td>22</td>\n",
       "      <td>34</td>\n",
       "      <td>60</td>\n",
       "      <td>64</td>\n",
       "      <td>66</td>\n",
       "      <td>73</td>\n",
       "      <td>80</td>\n",
       "      <td>72</td>\n",
       "      <td>63</td>\n",
       "      <td>...</td>\n",
       "      <td>42</td>\n",
       "      <td>30</td>\n",
       "      <td>26</td>\n",
       "      <td>38</td>\n",
       "      <td>37</td>\n",
       "      <td>30</td>\n",
       "      <td>18</td>\n",
       "      <td>29</td>\n",
       "      <td>11</td>\n",
       "      <td>137</td>\n",
       "    </tr>\n",
       "  </tbody>\n",
       "</table>\n",
       "<p>2 rows × 58 columns</p>\n",
       "</div>"
      ],
      "text/plain": [
       "Upper_Age  18  19   20   21   22   23   24   25   26   27  ...  66   67  68  \\\n",
       "Response                                                   ...                \n",
       "0          24  91  116  192  232  240  243  230  217  189  ...  96  103  80   \n",
       "1           5  22   34   60   64   66   73   80   72   63  ...  42   30  26   \n",
       "\n",
       "Upper_Age  69  70  71  72  73  74   75  \n",
       "Response                                \n",
       "0          82  97  88  81  73  74  413  \n",
       "1          38  37  30  18  29  11  137  \n",
       "\n",
       "[2 rows x 58 columns]"
      ]
     },
     "execution_count": 58,
     "metadata": {},
     "output_type": "execute_result"
    }
   ],
   "source": [
    "pd.crosstab(df1['Response'],df1['Upper_Age'])"
   ]
  },
  {
   "cell_type": "code",
   "execution_count": 59,
   "metadata": {},
   "outputs": [
    {
     "data": {
      "text/plain": [
       "<AxesSubplot:xlabel='Upper_Age', ylabel='count'>"
      ]
     },
     "execution_count": 59,
     "metadata": {},
     "output_type": "execute_result"
    },
    {
     "data": {
      "image/png": "[encoded data removed]",
      "text/plain": [
       "<Figure size 1080x360 with 1 Axes>"
      ]
     },
     "metadata": {
      "needs_background": "light"
     },
     "output_type": "display_data"
    }
   ],
   "source": [
    "plt.figure(figsize=(15,5))\n",
    "sns.countplot(df1['Upper_Age'],hue=df1['Response'])"
   ]
  },
  {
   "cell_type": "markdown",
   "metadata": {},
   "source": [
    "#### Let's see city-wise the customers who have recommended to take the joint policy with their spouse or with other customers. Check these results with the customer's type of accommodation.\n"
   ]
  },
  {
   "cell_type": "code",
   "execution_count": 60,
   "metadata": {},
   "outputs": [
    {
     "data": {
      "text/plain": [
       "C1-C9      1428\n",
       "C10-C18     366\n",
       "C19-C27     191\n",
       "C28-C36      59\n",
       "Name: City_Code, dtype: int64"
      ]
     },
     "execution_count": 60,
     "metadata": {},
     "output_type": "execute_result"
    }
   ],
   "source": [
    "df1[df['Reco_Insurance_Type']==0]['City_Code'].value_counts()"
   ]
  },
  {
   "cell_type": "code",
   "execution_count": 61,
   "metadata": {},
   "outputs": [
    {
     "data": {
      "text/html": [
       "<div>\n",
       "<style scoped>\n",
       "    .dataframe tbody tr th:only-of-type {\n",
       "        vertical-align: middle;\n",
       "    }\n",
       "\n",
       "    .dataframe tbody tr th {\n",
       "        vertical-align: top;\n",
       "    }\n",
       "\n",
       "    .dataframe thead th {\n",
       "        text-align: right;\n",
       "    }\n",
       "</style>\n",
       "<table border=\"1\" class=\"dataframe\">\n",
       "  <thead>\n",
       "    <tr style=\"text-align: right;\">\n",
       "      <th>City_Code</th>\n",
       "      <th>C1-C9</th>\n",
       "      <th>C10-C18</th>\n",
       "      <th>C19-C27</th>\n",
       "      <th>C28-C36</th>\n",
       "    </tr>\n",
       "    <tr>\n",
       "      <th>Response</th>\n",
       "      <th></th>\n",
       "      <th></th>\n",
       "      <th></th>\n",
       "      <th></th>\n",
       "    </tr>\n",
       "  </thead>\n",
       "  <tbody>\n",
       "    <tr>\n",
       "      <th>0</th>\n",
       "      <td>1056</td>\n",
       "      <td>271</td>\n",
       "      <td>141</td>\n",
       "      <td>41</td>\n",
       "    </tr>\n",
       "    <tr>\n",
       "      <th>1</th>\n",
       "      <td>372</td>\n",
       "      <td>95</td>\n",
       "      <td>50</td>\n",
       "      <td>18</td>\n",
       "    </tr>\n",
       "  </tbody>\n",
       "</table>\n",
       "</div>"
      ],
      "text/plain": [
       "City_Code  C1-C9  C10-C18  C19-C27  C28-C36\n",
       "Response                                   \n",
       "0           1056      271      141       41\n",
       "1            372       95       50       18"
      ]
     },
     "execution_count": 61,
     "metadata": {},
     "output_type": "execute_result"
    }
   ],
   "source": [
    "pd.crosstab(df1[df1['Reco_Insurance_Type']==0]['Response'],df1[df1['Reco_Insurance_Type']==0]['City_Code'])"
   ]
  },
  {
   "cell_type": "code",
   "execution_count": 62,
   "metadata": {},
   "outputs": [
    {
     "data": {
      "text/plain": [
       "<AxesSubplot:xlabel='City_Code'>"
      ]
     },
     "execution_count": 62,
     "metadata": {},
     "output_type": "execute_result"
    },
    {
     "data": {
      "image/png": "[encoded data removed]",
      "text/plain": [
       "<Figure size 1080x360 with 1 Axes>"
      ]
     },
     "metadata": {
      "needs_background": "light"
     },
     "output_type": "display_data"
    }
   ],
   "source": [
    "pd.crosstab(df1[df1['Reco_Insurance_Type']==0]['City_Code'],\n",
    "            df1[df1['Reco_Insurance_Type']==0]['Response']).plot(kind='bar',figsize=(15,5))"
   ]
  },
  {
   "cell_type": "code",
   "execution_count": 63,
   "metadata": {},
   "outputs": [],
   "source": [
    "df1['Age']=(df1['Upper_Age']+df1['Lower_Age'])/2"
   ]
  },
  {
   "cell_type": "code",
   "execution_count": 64,
   "metadata": {},
   "outputs": [],
   "source": [
    "def policy_category(x):\n",
    "    if x>=1 and x<=5:\n",
    "        return '1-5'\n",
    "    elif x>5 and x<=11:\n",
    "        return '6-11'\n",
    "    elif x>11 and x<=15:\n",
    "        return '12-15'\n",
    "    else:\n",
    "        return '16-22'"
   ]
  },
  {
   "cell_type": "code",
   "execution_count": 65,
   "metadata": {},
   "outputs": [],
   "source": [
    "df1['Reco_Policy_Cat']=df1['Reco_Policy_Cat'].apply(lambda x: policy_category(x))"
   ]
  },
  {
   "cell_type": "code",
   "execution_count": 66,
   "metadata": {},
   "outputs": [],
   "source": [
    "Q1,Q3 = np.percentile(df1['Reco_Policy_Premium'],[25,75])\n",
    "IQR = Q3-Q1\n",
    "LB = Q1-1.5*IQR\n",
    "UB = Q3+1.5*IQR\n",
    "df1['Reco_Policy_Premium']=df1['Reco_Policy_Premium'].apply(lambda x: UB if x>UB else x)"
   ]
  },
  {
   "cell_type": "code",
   "execution_count": 67,
   "metadata": {},
   "outputs": [
    {
     "data": {
      "text/plain": [
       "<AxesSubplot:xlabel='Reco_Policy_Premium'>"
      ]
     },
     "execution_count": 67,
     "metadata": {},
     "output_type": "execute_result"
    },
    {
     "data": {
      "image/png": "[encoded data removed]",
      "text/plain": [
       "<Figure size 432x288 with 1 Axes>"
      ]
     },
     "metadata": {
      "needs_background": "light"
     },
     "output_type": "display_data"
    }
   ],
   "source": [
    "sns.boxplot(df1['Reco_Policy_Premium'])"
   ]
  },
  {
   "cell_type": "code",
   "execution_count": 68,
   "metadata": {},
   "outputs": [],
   "source": [
    "df1['Holding_Policy_Type']=df1['Holding_Policy_Type'].astype('category')\n",
    "df1['Reco_Policy_Cat']=df1['Reco_Policy_Cat'].astype('category')"
   ]
  },
  {
   "cell_type": "code",
   "execution_count": 69,
   "metadata": {},
   "outputs": [],
   "source": [
    "df1=pd.concat([df1,pd.get_dummies(df1[['City_Code','Holding_Policy_Type','Reco_Policy_Cat']],drop_first=True)],axis=1)"
   ]
  },
  {
   "cell_type": "code",
   "execution_count": 70,
   "metadata": {},
   "outputs": [],
   "source": [
    "df1.drop(['City_Code','Region_Code','Holding_Policy_Type','Reco_Policy_Cat','Upper_Age','Lower_Age'],axis=1,inplace=True)"
   ]
  },
  {
   "cell_type": "code",
   "execution_count": 71,
   "metadata": {},
   "outputs": [
    {
     "data": {
      "text/html": [
       "<div>\n",
       "<style scoped>\n",
       "    .dataframe tbody tr th:only-of-type {\n",
       "        vertical-align: middle;\n",
       "    }\n",
       "\n",
       "    .dataframe tbody tr th {\n",
       "        vertical-align: top;\n",
       "    }\n",
       "\n",
       "    .dataframe thead th {\n",
       "        text-align: right;\n",
       "    }\n",
       "</style>\n",
       "<table border=\"1\" class=\"dataframe\">\n",
       "  <thead>\n",
       "    <tr style=\"text-align: right;\">\n",
       "      <th></th>\n",
       "      <th>Accomodation_Type</th>\n",
       "      <th>Reco_Insurance_Type</th>\n",
       "      <th>Is_Spouse</th>\n",
       "      <th>Holding_Policy_Duration</th>\n",
       "      <th>Reco_Policy_Premium</th>\n",
       "      <th>Response</th>\n",
       "      <th>X1</th>\n",
       "      <th>X2</th>\n",
       "      <th>X3</th>\n",
       "      <th>X4</th>\n",
       "      <th>...</th>\n",
       "      <th>Age</th>\n",
       "      <th>City_Code_C10-C18</th>\n",
       "      <th>City_Code_C19-C27</th>\n",
       "      <th>City_Code_C28-C36</th>\n",
       "      <th>Holding_Policy_Type_2.0</th>\n",
       "      <th>Holding_Policy_Type_3.0</th>\n",
       "      <th>Holding_Policy_Type_4.0</th>\n",
       "      <th>Reco_Policy_Cat_12-15</th>\n",
       "      <th>Reco_Policy_Cat_16-22</th>\n",
       "      <th>Reco_Policy_Cat_6-11</th>\n",
       "    </tr>\n",
       "  </thead>\n",
       "  <tbody>\n",
       "    <tr>\n",
       "      <th>Accomodation_Type</th>\n",
       "      <td>1.000000</td>\n",
       "      <td>-0.198900</td>\n",
       "      <td>0.201228</td>\n",
       "      <td>-0.005755</td>\n",
       "      <td>0.353815</td>\n",
       "      <td>0.016965</td>\n",
       "      <td>-0.034105</td>\n",
       "      <td>0.038888</td>\n",
       "      <td>-0.063311</td>\n",
       "      <td>0.056460</td>\n",
       "      <td>...</td>\n",
       "      <td>0.403172</td>\n",
       "      <td>-0.088828</td>\n",
       "      <td>0.005318</td>\n",
       "      <td>-0.018820</td>\n",
       "      <td>0.004731</td>\n",
       "      <td>-0.027561</td>\n",
       "      <td>0.090054</td>\n",
       "      <td>-0.045948</td>\n",
       "      <td>0.028540</td>\n",
       "      <td>0.011554</td>\n",
       "    </tr>\n",
       "    <tr>\n",
       "      <th>Reco_Insurance_Type</th>\n",
       "      <td>-0.198900</td>\n",
       "      <td>1.000000</td>\n",
       "      <td>-0.887177</td>\n",
       "      <td>0.013249</td>\n",
       "      <td>-0.585791</td>\n",
       "      <td>-0.018647</td>\n",
       "      <td>0.040732</td>\n",
       "      <td>-0.035448</td>\n",
       "      <td>0.047049</td>\n",
       "      <td>-0.026421</td>\n",
       "      <td>...</td>\n",
       "      <td>-0.099538</td>\n",
       "      <td>0.011087</td>\n",
       "      <td>0.018949</td>\n",
       "      <td>-0.006807</td>\n",
       "      <td>-0.005120</td>\n",
       "      <td>0.007636</td>\n",
       "      <td>-0.070361</td>\n",
       "      <td>0.009843</td>\n",
       "      <td>-0.012885</td>\n",
       "      <td>0.005233</td>\n",
       "    </tr>\n",
       "    <tr>\n",
       "      <th>Is_Spouse</th>\n",
       "      <td>0.201228</td>\n",
       "      <td>-0.887177</td>\n",
       "      <td>1.000000</td>\n",
       "      <td>-0.007911</td>\n",
       "      <td>0.509409</td>\n",
       "      <td>0.007075</td>\n",
       "      <td>-0.046082</td>\n",
       "      <td>0.045141</td>\n",
       "      <td>-0.060402</td>\n",
       "      <td>0.031452</td>\n",
       "      <td>...</td>\n",
       "      <td>0.125299</td>\n",
       "      <td>-0.022971</td>\n",
       "      <td>-0.020452</td>\n",
       "      <td>0.013418</td>\n",
       "      <td>-0.007811</td>\n",
       "      <td>0.004150</td>\n",
       "      <td>0.069827</td>\n",
       "      <td>-0.011331</td>\n",
       "      <td>0.018084</td>\n",
       "      <td>-0.001484</td>\n",
       "    </tr>\n",
       "    <tr>\n",
       "      <th>Holding_Policy_Duration</th>\n",
       "      <td>-0.005755</td>\n",
       "      <td>0.013249</td>\n",
       "      <td>-0.007911</td>\n",
       "      <td>1.000000</td>\n",
       "      <td>-0.033647</td>\n",
       "      <td>0.006420</td>\n",
       "      <td>0.001549</td>\n",
       "      <td>0.008583</td>\n",
       "      <td>0.008991</td>\n",
       "      <td>-0.019341</td>\n",
       "      <td>...</td>\n",
       "      <td>-0.036149</td>\n",
       "      <td>-0.033524</td>\n",
       "      <td>-0.013970</td>\n",
       "      <td>0.016888</td>\n",
       "      <td>-0.209263</td>\n",
       "      <td>0.498047</td>\n",
       "      <td>-0.152547</td>\n",
       "      <td>-0.002858</td>\n",
       "      <td>-0.002149</td>\n",
       "      <td>0.021292</td>\n",
       "    </tr>\n",
       "    <tr>\n",
       "      <th>Reco_Policy_Premium</th>\n",
       "      <td>0.353815</td>\n",
       "      <td>-0.585791</td>\n",
       "      <td>0.509409</td>\n",
       "      <td>-0.033647</td>\n",
       "      <td>1.000000</td>\n",
       "      <td>0.011012</td>\n",
       "      <td>-0.030865</td>\n",
       "      <td>0.040611</td>\n",
       "      <td>-0.047311</td>\n",
       "      <td>0.020886</td>\n",
       "      <td>...</td>\n",
       "      <td>0.723738</td>\n",
       "      <td>-0.055175</td>\n",
       "      <td>-0.045234</td>\n",
       "      <td>-0.046257</td>\n",
       "      <td>0.021967</td>\n",
       "      <td>-0.084427</td>\n",
       "      <td>0.115712</td>\n",
       "      <td>-0.069436</td>\n",
       "      <td>0.076480</td>\n",
       "      <td>-0.012469</td>\n",
       "    </tr>\n",
       "    <tr>\n",
       "      <th>Response</th>\n",
       "      <td>0.016965</td>\n",
       "      <td>-0.018647</td>\n",
       "      <td>0.007075</td>\n",
       "      <td>0.006420</td>\n",
       "      <td>0.011012</td>\n",
       "      <td>1.000000</td>\n",
       "      <td>-0.000446</td>\n",
       "      <td>0.011155</td>\n",
       "      <td>-0.009865</td>\n",
       "      <td>-0.000023</td>\n",
       "      <td>...</td>\n",
       "      <td>0.003930</td>\n",
       "      <td>-0.006727</td>\n",
       "      <td>-0.005266</td>\n",
       "      <td>0.006259</td>\n",
       "      <td>0.002930</td>\n",
       "      <td>-0.019441</td>\n",
       "      <td>0.034083</td>\n",
       "      <td>0.078357</td>\n",
       "      <td>0.053937</td>\n",
       "      <td>-0.048067</td>\n",
       "    </tr>\n",
       "    <tr>\n",
       "      <th>X1</th>\n",
       "      <td>-0.034105</td>\n",
       "      <td>0.040732</td>\n",
       "      <td>-0.046082</td>\n",
       "      <td>0.001549</td>\n",
       "      <td>-0.030865</td>\n",
       "      <td>-0.000446</td>\n",
       "      <td>1.000000</td>\n",
       "      <td>-0.493197</td>\n",
       "      <td>-0.385311</td>\n",
       "      <td>-0.342015</td>\n",
       "      <td>...</td>\n",
       "      <td>-0.018958</td>\n",
       "      <td>0.003080</td>\n",
       "      <td>-0.018117</td>\n",
       "      <td>-0.022970</td>\n",
       "      <td>0.032669</td>\n",
       "      <td>-0.011965</td>\n",
       "      <td>-0.012596</td>\n",
       "      <td>0.009752</td>\n",
       "      <td>-0.000909</td>\n",
       "      <td>-0.007354</td>\n",
       "    </tr>\n",
       "    <tr>\n",
       "      <th>X2</th>\n",
       "      <td>0.038888</td>\n",
       "      <td>-0.035448</td>\n",
       "      <td>0.045141</td>\n",
       "      <td>0.008583</td>\n",
       "      <td>0.040611</td>\n",
       "      <td>0.011155</td>\n",
       "      <td>-0.493197</td>\n",
       "      <td>1.000000</td>\n",
       "      <td>-0.198743</td>\n",
       "      <td>-0.176411</td>\n",
       "      <td>...</td>\n",
       "      <td>0.028935</td>\n",
       "      <td>-0.016215</td>\n",
       "      <td>0.003460</td>\n",
       "      <td>0.021371</td>\n",
       "      <td>-0.029643</td>\n",
       "      <td>0.025799</td>\n",
       "      <td>-0.021875</td>\n",
       "      <td>-0.032339</td>\n",
       "      <td>0.028818</td>\n",
       "      <td>0.010430</td>\n",
       "    </tr>\n",
       "    <tr>\n",
       "      <th>X3</th>\n",
       "      <td>-0.063311</td>\n",
       "      <td>0.047049</td>\n",
       "      <td>-0.060402</td>\n",
       "      <td>0.008991</td>\n",
       "      <td>-0.047311</td>\n",
       "      <td>-0.009865</td>\n",
       "      <td>-0.385311</td>\n",
       "      <td>-0.198743</td>\n",
       "      <td>1.000000</td>\n",
       "      <td>-0.137821</td>\n",
       "      <td>...</td>\n",
       "      <td>-0.029652</td>\n",
       "      <td>0.020927</td>\n",
       "      <td>0.007668</td>\n",
       "      <td>0.003847</td>\n",
       "      <td>0.016055</td>\n",
       "      <td>-0.002275</td>\n",
       "      <td>-0.047877</td>\n",
       "      <td>0.048239</td>\n",
       "      <td>-0.036048</td>\n",
       "      <td>-0.008332</td>\n",
       "    </tr>\n",
       "    <tr>\n",
       "      <th>X4</th>\n",
       "      <td>0.056460</td>\n",
       "      <td>-0.026421</td>\n",
       "      <td>0.031452</td>\n",
       "      <td>-0.019341</td>\n",
       "      <td>0.020886</td>\n",
       "      <td>-0.000023</td>\n",
       "      <td>-0.342015</td>\n",
       "      <td>-0.176411</td>\n",
       "      <td>-0.137821</td>\n",
       "      <td>1.000000</td>\n",
       "      <td>...</td>\n",
       "      <td>0.017341</td>\n",
       "      <td>-0.014371</td>\n",
       "      <td>0.001737</td>\n",
       "      <td>-0.008167</td>\n",
       "      <td>-0.022799</td>\n",
       "      <td>0.001125</td>\n",
       "      <td>0.069886</td>\n",
       "      <td>-0.042745</td>\n",
       "      <td>0.024972</td>\n",
       "      <td>-0.004471</td>\n",
       "    </tr>\n",
       "    <tr>\n",
       "      <th>X5</th>\n",
       "      <td>0.056383</td>\n",
       "      <td>-0.070702</td>\n",
       "      <td>0.082713</td>\n",
       "      <td>-0.012387</td>\n",
       "      <td>0.062404</td>\n",
       "      <td>-0.001715</td>\n",
       "      <td>-0.184288</td>\n",
       "      <td>-0.095055</td>\n",
       "      <td>-0.074262</td>\n",
       "      <td>-0.065917</td>\n",
       "      <td>...</td>\n",
       "      <td>0.025033</td>\n",
       "      <td>-0.020192</td>\n",
       "      <td>0.003621</td>\n",
       "      <td>0.013095</td>\n",
       "      <td>-0.022941</td>\n",
       "      <td>-0.010815</td>\n",
       "      <td>0.058048</td>\n",
       "      <td>-0.023995</td>\n",
       "      <td>0.010480</td>\n",
       "      <td>0.021020</td>\n",
       "    </tr>\n",
       "    <tr>\n",
       "      <th>X6</th>\n",
       "      <td>-0.038296</td>\n",
       "      <td>0.002697</td>\n",
       "      <td>-0.008103</td>\n",
       "      <td>0.012784</td>\n",
       "      <td>-0.030474</td>\n",
       "      <td>-0.005948</td>\n",
       "      <td>-0.155937</td>\n",
       "      <td>-0.080432</td>\n",
       "      <td>-0.062838</td>\n",
       "      <td>-0.055777</td>\n",
       "      <td>...</td>\n",
       "      <td>-0.020905</td>\n",
       "      <td>0.033725</td>\n",
       "      <td>0.016756</td>\n",
       "      <td>0.009487</td>\n",
       "      <td>0.019244</td>\n",
       "      <td>-0.004556</td>\n",
       "      <td>-0.030351</td>\n",
       "      <td>0.061093</td>\n",
       "      <td>-0.051159</td>\n",
       "      <td>-0.005872</td>\n",
       "    </tr>\n",
       "    <tr>\n",
       "      <th>X7</th>\n",
       "      <td>0.018199</td>\n",
       "      <td>-0.021515</td>\n",
       "      <td>0.024256</td>\n",
       "      <td>-0.009220</td>\n",
       "      <td>0.034369</td>\n",
       "      <td>0.010530</td>\n",
       "      <td>-0.057115</td>\n",
       "      <td>-0.029460</td>\n",
       "      <td>-0.023015</td>\n",
       "      <td>-0.020429</td>\n",
       "      <td>...</td>\n",
       "      <td>0.017254</td>\n",
       "      <td>-0.014867</td>\n",
       "      <td>0.013642</td>\n",
       "      <td>0.000983</td>\n",
       "      <td>-0.013380</td>\n",
       "      <td>-0.023734</td>\n",
       "      <td>0.065214</td>\n",
       "      <td>-0.009249</td>\n",
       "      <td>0.013511</td>\n",
       "      <td>-0.001444</td>\n",
       "    </tr>\n",
       "    <tr>\n",
       "      <th>X8</th>\n",
       "      <td>-0.000902</td>\n",
       "      <td>-0.009241</td>\n",
       "      <td>0.013455</td>\n",
       "      <td>-0.011004</td>\n",
       "      <td>0.011963</td>\n",
       "      <td>-0.007713</td>\n",
       "      <td>-0.035280</td>\n",
       "      <td>-0.018197</td>\n",
       "      <td>-0.014217</td>\n",
       "      <td>-0.012619</td>\n",
       "      <td>...</td>\n",
       "      <td>0.007079</td>\n",
       "      <td>0.018208</td>\n",
       "      <td>0.005763</td>\n",
       "      <td>-0.005976</td>\n",
       "      <td>-0.011845</td>\n",
       "      <td>-0.003611</td>\n",
       "      <td>0.009859</td>\n",
       "      <td>0.008942</td>\n",
       "      <td>-0.017763</td>\n",
       "      <td>0.007162</td>\n",
       "    </tr>\n",
       "    <tr>\n",
       "      <th>Age</th>\n",
       "      <td>0.403172</td>\n",
       "      <td>-0.099538</td>\n",
       "      <td>0.125299</td>\n",
       "      <td>-0.036149</td>\n",
       "      <td>0.723738</td>\n",
       "      <td>0.003930</td>\n",
       "      <td>-0.018958</td>\n",
       "      <td>0.028935</td>\n",
       "      <td>-0.029652</td>\n",
       "      <td>0.017341</td>\n",
       "      <td>...</td>\n",
       "      <td>1.000000</td>\n",
       "      <td>-0.069156</td>\n",
       "      <td>-0.022927</td>\n",
       "      <td>-0.047749</td>\n",
       "      <td>0.042334</td>\n",
       "      <td>-0.109284</td>\n",
       "      <td>0.110665</td>\n",
       "      <td>-0.035367</td>\n",
       "      <td>0.039216</td>\n",
       "      <td>-0.013263</td>\n",
       "    </tr>\n",
       "    <tr>\n",
       "      <th>City_Code_C10-C18</th>\n",
       "      <td>-0.088828</td>\n",
       "      <td>0.011087</td>\n",
       "      <td>-0.022971</td>\n",
       "      <td>-0.033524</td>\n",
       "      <td>-0.055175</td>\n",
       "      <td>-0.006727</td>\n",
       "      <td>0.003080</td>\n",
       "      <td>-0.016215</td>\n",
       "      <td>0.020927</td>\n",
       "      <td>-0.014371</td>\n",
       "      <td>...</td>\n",
       "      <td>-0.069156</td>\n",
       "      <td>1.000000</td>\n",
       "      <td>-0.164507</td>\n",
       "      <td>-0.079591</td>\n",
       "      <td>0.055718</td>\n",
       "      <td>-0.056468</td>\n",
       "      <td>-0.046039</td>\n",
       "      <td>-0.008591</td>\n",
       "      <td>0.042223</td>\n",
       "      <td>-0.060275</td>\n",
       "    </tr>\n",
       "    <tr>\n",
       "      <th>City_Code_C19-C27</th>\n",
       "      <td>0.005318</td>\n",
       "      <td>0.018949</td>\n",
       "      <td>-0.020452</td>\n",
       "      <td>-0.013970</td>\n",
       "      <td>-0.045234</td>\n",
       "      <td>-0.005266</td>\n",
       "      <td>-0.018117</td>\n",
       "      <td>0.003460</td>\n",
       "      <td>0.007668</td>\n",
       "      <td>0.001737</td>\n",
       "      <td>...</td>\n",
       "      <td>-0.022927</td>\n",
       "      <td>-0.164507</td>\n",
       "      <td>1.000000</td>\n",
       "      <td>-0.056700</td>\n",
       "      <td>0.009836</td>\n",
       "      <td>-0.007712</td>\n",
       "      <td>-0.020124</td>\n",
       "      <td>0.029905</td>\n",
       "      <td>-0.036863</td>\n",
       "      <td>-0.034621</td>\n",
       "    </tr>\n",
       "    <tr>\n",
       "      <th>City_Code_C28-C36</th>\n",
       "      <td>-0.018820</td>\n",
       "      <td>-0.006807</td>\n",
       "      <td>0.013418</td>\n",
       "      <td>0.016888</td>\n",
       "      <td>-0.046257</td>\n",
       "      <td>0.006259</td>\n",
       "      <td>-0.022970</td>\n",
       "      <td>0.021371</td>\n",
       "      <td>0.003847</td>\n",
       "      <td>-0.008167</td>\n",
       "      <td>...</td>\n",
       "      <td>-0.047749</td>\n",
       "      <td>-0.079591</td>\n",
       "      <td>-0.056700</td>\n",
       "      <td>1.000000</td>\n",
       "      <td>-0.006236</td>\n",
       "      <td>0.030255</td>\n",
       "      <td>-0.007569</td>\n",
       "      <td>-0.009537</td>\n",
       "      <td>-0.063231</td>\n",
       "      <td>0.070710</td>\n",
       "    </tr>\n",
       "    <tr>\n",
       "      <th>Holding_Policy_Type_2.0</th>\n",
       "      <td>0.004731</td>\n",
       "      <td>-0.005120</td>\n",
       "      <td>-0.007811</td>\n",
       "      <td>-0.209263</td>\n",
       "      <td>0.021967</td>\n",
       "      <td>0.002930</td>\n",
       "      <td>0.032669</td>\n",
       "      <td>-0.029643</td>\n",
       "      <td>0.016055</td>\n",
       "      <td>-0.022799</td>\n",
       "      <td>...</td>\n",
       "      <td>0.042334</td>\n",
       "      <td>0.055718</td>\n",
       "      <td>0.009836</td>\n",
       "      <td>-0.006236</td>\n",
       "      <td>1.000000</td>\n",
       "      <td>-0.460188</td>\n",
       "      <td>-0.096682</td>\n",
       "      <td>0.038544</td>\n",
       "      <td>0.019237</td>\n",
       "      <td>-0.048129</td>\n",
       "    </tr>\n",
       "    <tr>\n",
       "      <th>Holding_Policy_Type_3.0</th>\n",
       "      <td>-0.027561</td>\n",
       "      <td>0.007636</td>\n",
       "      <td>0.004150</td>\n",
       "      <td>0.498047</td>\n",
       "      <td>-0.084427</td>\n",
       "      <td>-0.019441</td>\n",
       "      <td>-0.011965</td>\n",
       "      <td>0.025799</td>\n",
       "      <td>-0.002275</td>\n",
       "      <td>0.001125</td>\n",
       "      <td>...</td>\n",
       "      <td>-0.109284</td>\n",
       "      <td>-0.056468</td>\n",
       "      <td>-0.007712</td>\n",
       "      <td>0.030255</td>\n",
       "      <td>-0.460188</td>\n",
       "      <td>1.000000</td>\n",
       "      <td>-0.412772</td>\n",
       "      <td>-0.022281</td>\n",
       "      <td>-0.044934</td>\n",
       "      <td>0.083568</td>\n",
       "    </tr>\n",
       "    <tr>\n",
       "      <th>Holding_Policy_Type_4.0</th>\n",
       "      <td>0.090054</td>\n",
       "      <td>-0.070361</td>\n",
       "      <td>0.069827</td>\n",
       "      <td>-0.152547</td>\n",
       "      <td>0.115712</td>\n",
       "      <td>0.034083</td>\n",
       "      <td>-0.012596</td>\n",
       "      <td>-0.021875</td>\n",
       "      <td>-0.047877</td>\n",
       "      <td>0.069886</td>\n",
       "      <td>...</td>\n",
       "      <td>0.110665</td>\n",
       "      <td>-0.046039</td>\n",
       "      <td>-0.020124</td>\n",
       "      <td>-0.007569</td>\n",
       "      <td>-0.096682</td>\n",
       "      <td>-0.412772</td>\n",
       "      <td>1.000000</td>\n",
       "      <td>-0.041807</td>\n",
       "      <td>0.063730</td>\n",
       "      <td>-0.012818</td>\n",
       "    </tr>\n",
       "    <tr>\n",
       "      <th>Reco_Policy_Cat_12-15</th>\n",
       "      <td>-0.045948</td>\n",
       "      <td>0.009843</td>\n",
       "      <td>-0.011331</td>\n",
       "      <td>-0.002858</td>\n",
       "      <td>-0.069436</td>\n",
       "      <td>0.078357</td>\n",
       "      <td>0.009752</td>\n",
       "      <td>-0.032339</td>\n",
       "      <td>0.048239</td>\n",
       "      <td>-0.042745</td>\n",
       "      <td>...</td>\n",
       "      <td>-0.035367</td>\n",
       "      <td>-0.008591</td>\n",
       "      <td>0.029905</td>\n",
       "      <td>-0.009537</td>\n",
       "      <td>0.038544</td>\n",
       "      <td>-0.022281</td>\n",
       "      <td>-0.041807</td>\n",
       "      <td>1.000000</td>\n",
       "      <td>-0.527048</td>\n",
       "      <td>-0.133165</td>\n",
       "    </tr>\n",
       "    <tr>\n",
       "      <th>Reco_Policy_Cat_16-22</th>\n",
       "      <td>0.028540</td>\n",
       "      <td>-0.012885</td>\n",
       "      <td>0.018084</td>\n",
       "      <td>-0.002149</td>\n",
       "      <td>0.076480</td>\n",
       "      <td>0.053937</td>\n",
       "      <td>-0.000909</td>\n",
       "      <td>0.028818</td>\n",
       "      <td>-0.036048</td>\n",
       "      <td>0.024972</td>\n",
       "      <td>...</td>\n",
       "      <td>0.039216</td>\n",
       "      <td>0.042223</td>\n",
       "      <td>-0.036863</td>\n",
       "      <td>-0.063231</td>\n",
       "      <td>0.019237</td>\n",
       "      <td>-0.044934</td>\n",
       "      <td>0.063730</td>\n",
       "      <td>-0.527048</td>\n",
       "      <td>1.000000</td>\n",
       "      <td>-0.417884</td>\n",
       "    </tr>\n",
       "    <tr>\n",
       "      <th>Reco_Policy_Cat_6-11</th>\n",
       "      <td>0.011554</td>\n",
       "      <td>0.005233</td>\n",
       "      <td>-0.001484</td>\n",
       "      <td>0.021292</td>\n",
       "      <td>-0.012469</td>\n",
       "      <td>-0.048067</td>\n",
       "      <td>-0.007354</td>\n",
       "      <td>0.010430</td>\n",
       "      <td>-0.008332</td>\n",
       "      <td>-0.004471</td>\n",
       "      <td>...</td>\n",
       "      <td>-0.013263</td>\n",
       "      <td>-0.060275</td>\n",
       "      <td>-0.034621</td>\n",
       "      <td>0.070710</td>\n",
       "      <td>-0.048129</td>\n",
       "      <td>0.083568</td>\n",
       "      <td>-0.012818</td>\n",
       "      <td>-0.133165</td>\n",
       "      <td>-0.417884</td>\n",
       "      <td>1.000000</td>\n",
       "    </tr>\n",
       "  </tbody>\n",
       "</table>\n",
       "<p>24 rows × 24 columns</p>\n",
       "</div>"
      ],
      "text/plain": [
       "                         Accomodation_Type  Reco_Insurance_Type  Is_Spouse  \\\n",
       "Accomodation_Type                 1.000000            -0.198900   0.201228   \n",
       "Reco_Insurance_Type              -0.198900             1.000000  -0.887177   \n",
       "Is_Spouse                         0.201228            -0.887177   1.000000   \n",
       "Holding_Policy_Duration          -0.005755             0.013249  -0.007911   \n",
       "Reco_Policy_Premium               0.353815            -0.585791   0.509409   \n",
       "Response                          0.016965            -0.018647   0.007075   \n",
       "X1                               -0.034105             0.040732  -0.046082   \n",
       "X2                                0.038888            -0.035448   0.045141   \n",
       "X3                               -0.063311             0.047049  -0.060402   \n",
       "X4                                0.056460            -0.026421   0.031452   \n",
       "X5                                0.056383            -0.070702   0.082713   \n",
       "X6                               -0.038296             0.002697  -0.008103   \n",
       "X7                                0.018199            -0.021515   0.024256   \n",
       "X8                               -0.000902            -0.009241   0.013455   \n",
       "Age                               0.403172            -0.099538   0.125299   \n",
       "City_Code_C10-C18                -0.088828             0.011087  -0.022971   \n",
       "City_Code_C19-C27                 0.005318             0.018949  -0.020452   \n",
       "City_Code_C28-C36                -0.018820            -0.006807   0.013418   \n",
       "Holding_Policy_Type_2.0           0.004731            -0.005120  -0.007811   \n",
       "Holding_Policy_Type_3.0          -0.027561             0.007636   0.004150   \n",
       "Holding_Policy_Type_4.0           0.090054            -0.070361   0.069827   \n",
       "Reco_Policy_Cat_12-15            -0.045948             0.009843  -0.011331   \n",
       "Reco_Policy_Cat_16-22             0.028540            -0.012885   0.018084   \n",
       "Reco_Policy_Cat_6-11              0.011554             0.005233  -0.001484   \n",
       "\n",
       "                         Holding_Policy_Duration  Reco_Policy_Premium  \\\n",
       "Accomodation_Type                      -0.005755             0.353815   \n",
       "Reco_Insurance_Type                     0.013249            -0.585791   \n",
       "Is_Spouse                              -0.007911             0.509409   \n",
       "Holding_Policy_Duration                 1.000000            -0.033647   \n",
       "Reco_Policy_Premium                    -0.033647             1.000000   \n",
       "Response                                0.006420             0.011012   \n",
       "X1                                      0.001549            -0.030865   \n",
       "X2                                      0.008583             0.040611   \n",
       "X3                                      0.008991            -0.047311   \n",
       "X4                                     -0.019341             0.020886   \n",
       "X5                                     -0.012387             0.062404   \n",
       "X6                                      0.012784            -0.030474   \n",
       "X7                                     -0.009220             0.034369   \n",
       "X8                                     -0.011004             0.011963   \n",
       "Age                                    -0.036149             0.723738   \n",
       "City_Code_C10-C18                      -0.033524            -0.055175   \n",
       "City_Code_C19-C27                      -0.013970            -0.045234   \n",
       "City_Code_C28-C36                       0.016888            -0.046257   \n",
       "Holding_Policy_Type_2.0                -0.209263             0.021967   \n",
       "Holding_Policy_Type_3.0                 0.498047            -0.084427   \n",
       "Holding_Policy_Type_4.0                -0.152547             0.115712   \n",
       "Reco_Policy_Cat_12-15                  -0.002858            -0.069436   \n",
       "Reco_Policy_Cat_16-22                  -0.002149             0.076480   \n",
       "Reco_Policy_Cat_6-11                    0.021292            -0.012469   \n",
       "\n",
       "                         Response        X1        X2        X3        X4  \\\n",
       "Accomodation_Type        0.016965 -0.034105  0.038888 -0.063311  0.056460   \n",
       "Reco_Insurance_Type     -0.018647  0.040732 -0.035448  0.047049 -0.026421   \n",
       "Is_Spouse                0.007075 -0.046082  0.045141 -0.060402  0.031452   \n",
       "Holding_Policy_Duration  0.006420  0.001549  0.008583  0.008991 -0.019341   \n",
       "Reco_Policy_Premium      0.011012 -0.030865  0.040611 -0.047311  0.020886   \n",
       "Response                 1.000000 -0.000446  0.011155 -0.009865 -0.000023   \n",
       "X1                      -0.000446  1.000000 -0.493197 -0.385311 -0.342015   \n",
       "X2                       0.011155 -0.493197  1.000000 -0.198743 -0.176411   \n",
       "X3                      -0.009865 -0.385311 -0.198743  1.000000 -0.137821   \n",
       "X4                      -0.000023 -0.342015 -0.176411 -0.137821  1.000000   \n",
       "X5                      -0.001715 -0.184288 -0.095055 -0.074262 -0.065917   \n",
       "X6                      -0.005948 -0.155937 -0.080432 -0.062838 -0.055777   \n",
       "X7                       0.010530 -0.057115 -0.029460 -0.023015 -0.020429   \n",
       "X8                      -0.007713 -0.035280 -0.018197 -0.014217 -0.012619   \n",
       "Age                      0.003930 -0.018958  0.028935 -0.029652  0.017341   \n",
       "City_Code_C10-C18       -0.006727  0.003080 -0.016215  0.020927 -0.014371   \n",
       "City_Code_C19-C27       -0.005266 -0.018117  0.003460  0.007668  0.001737   \n",
       "City_Code_C28-C36        0.006259 -0.022970  0.021371  0.003847 -0.008167   \n",
       "Holding_Policy_Type_2.0  0.002930  0.032669 -0.029643  0.016055 -0.022799   \n",
       "Holding_Policy_Type_3.0 -0.019441 -0.011965  0.025799 -0.002275  0.001125   \n",
       "Holding_Policy_Type_4.0  0.034083 -0.012596 -0.021875 -0.047877  0.069886   \n",
       "Reco_Policy_Cat_12-15    0.078357  0.009752 -0.032339  0.048239 -0.042745   \n",
       "Reco_Policy_Cat_16-22    0.053937 -0.000909  0.028818 -0.036048  0.024972   \n",
       "Reco_Policy_Cat_6-11    -0.048067 -0.007354  0.010430 -0.008332 -0.004471   \n",
       "\n",
       "                         ...       Age  City_Code_C10-C18  City_Code_C19-C27  \\\n",
       "Accomodation_Type        ...  0.403172          -0.088828           0.005318   \n",
       "Reco_Insurance_Type      ... -0.099538           0.011087           0.018949   \n",
       "Is_Spouse                ...  0.125299          -0.022971          -0.020452   \n",
       "Holding_Policy_Duration  ... -0.036149          -0.033524          -0.013970   \n",
       "Reco_Policy_Premium      ...  0.723738          -0.055175          -0.045234   \n",
       "Response                 ...  0.003930          -0.006727          -0.005266   \n",
       "X1                       ... -0.018958           0.003080          -0.018117   \n",
       "X2                       ...  0.028935          -0.016215           0.003460   \n",
       "X3                       ... -0.029652           0.020927           0.007668   \n",
       "X4                       ...  0.017341          -0.014371           0.001737   \n",
       "X5                       ...  0.025033          -0.020192           0.003621   \n",
       "X6                       ... -0.020905           0.033725           0.016756   \n",
       "X7                       ...  0.017254          -0.014867           0.013642   \n",
       "X8                       ...  0.007079           0.018208           0.005763   \n",
       "Age                      ...  1.000000          -0.069156          -0.022927   \n",
       "City_Code_C10-C18        ... -0.069156           1.000000          -0.164507   \n",
       "City_Code_C19-C27        ... -0.022927          -0.164507           1.000000   \n",
       "City_Code_C28-C36        ... -0.047749          -0.079591          -0.056700   \n",
       "Holding_Policy_Type_2.0  ...  0.042334           0.055718           0.009836   \n",
       "Holding_Policy_Type_3.0  ... -0.109284          -0.056468          -0.007712   \n",
       "Holding_Policy_Type_4.0  ...  0.110665          -0.046039          -0.020124   \n",
       "Reco_Policy_Cat_12-15    ... -0.035367          -0.008591           0.029905   \n",
       "Reco_Policy_Cat_16-22    ...  0.039216           0.042223          -0.036863   \n",
       "Reco_Policy_Cat_6-11     ... -0.013263          -0.060275          -0.034621   \n",
       "\n",
       "                         City_Code_C28-C36  Holding_Policy_Type_2.0  \\\n",
       "Accomodation_Type                -0.018820                 0.004731   \n",
       "Reco_Insurance_Type              -0.006807                -0.005120   \n",
       "Is_Spouse                         0.013418                -0.007811   \n",
       "Holding_Policy_Duration           0.016888                -0.209263   \n",
       "Reco_Policy_Premium              -0.046257                 0.021967   \n",
       "Response                          0.006259                 0.002930   \n",
       "X1                               -0.022970                 0.032669   \n",
       "X2                                0.021371                -0.029643   \n",
       "X3                                0.003847                 0.016055   \n",
       "X4                               -0.008167                -0.022799   \n",
       "X5                                0.013095                -0.022941   \n",
       "X6                                0.009487                 0.019244   \n",
       "X7                                0.000983                -0.013380   \n",
       "X8                               -0.005976                -0.011845   \n",
       "Age                              -0.047749                 0.042334   \n",
       "City_Code_C10-C18                -0.079591                 0.055718   \n",
       "City_Code_C19-C27                -0.056700                 0.009836   \n",
       "City_Code_C28-C36                 1.000000                -0.006236   \n",
       "Holding_Policy_Type_2.0          -0.006236                 1.000000   \n",
       "Holding_Policy_Type_3.0           0.030255                -0.460188   \n",
       "Holding_Policy_Type_4.0          -0.007569                -0.096682   \n",
       "Reco_Policy_Cat_12-15            -0.009537                 0.038544   \n",
       "Reco_Policy_Cat_16-22            -0.063231                 0.019237   \n",
       "Reco_Policy_Cat_6-11              0.070710                -0.048129   \n",
       "\n",
       "                         Holding_Policy_Type_3.0  Holding_Policy_Type_4.0  \\\n",
       "Accomodation_Type                      -0.027561                 0.090054   \n",
       "Reco_Insurance_Type                     0.007636                -0.070361   \n",
       "Is_Spouse                               0.004150                 0.069827   \n",
       "Holding_Policy_Duration                 0.498047                -0.152547   \n",
       "Reco_Policy_Premium                    -0.084427                 0.115712   \n",
       "Response                               -0.019441                 0.034083   \n",
       "X1                                     -0.011965                -0.012596   \n",
       "X2                                      0.025799                -0.021875   \n",
       "X3                                     -0.002275                -0.047877   \n",
       "X4                                      0.001125                 0.069886   \n",
       "X5                                     -0.010815                 0.058048   \n",
       "X6                                     -0.004556                -0.030351   \n",
       "X7                                     -0.023734                 0.065214   \n",
       "X8                                     -0.003611                 0.009859   \n",
       "Age                                    -0.109284                 0.110665   \n",
       "City_Code_C10-C18                      -0.056468                -0.046039   \n",
       "City_Code_C19-C27                      -0.007712                -0.020124   \n",
       "City_Code_C28-C36                       0.030255                -0.007569   \n",
       "Holding_Policy_Type_2.0                -0.460188                -0.096682   \n",
       "Holding_Policy_Type_3.0                 1.000000                -0.412772   \n",
       "Holding_Policy_Type_4.0                -0.412772                 1.000000   \n",
       "Reco_Policy_Cat_12-15                  -0.022281                -0.041807   \n",
       "Reco_Policy_Cat_16-22                  -0.044934                 0.063730   \n",
       "Reco_Policy_Cat_6-11                    0.083568                -0.012818   \n",
       "\n",
       "                         Reco_Policy_Cat_12-15  Reco_Policy_Cat_16-22  \\\n",
       "Accomodation_Type                    -0.045948               0.028540   \n",
       "Reco_Insurance_Type                   0.009843              -0.012885   \n",
       "Is_Spouse                            -0.011331               0.018084   \n",
       "Holding_Policy_Duration              -0.002858              -0.002149   \n",
       "Reco_Policy_Premium                  -0.069436               0.076480   \n",
       "Response                              0.078357               0.053937   \n",
       "X1                                    0.009752              -0.000909   \n",
       "X2                                   -0.032339               0.028818   \n",
       "X3                                    0.048239              -0.036048   \n",
       "X4                                   -0.042745               0.024972   \n",
       "X5                                   -0.023995               0.010480   \n",
       "X6                                    0.061093              -0.051159   \n",
       "X7                                   -0.009249               0.013511   \n",
       "X8                                    0.008942              -0.017763   \n",
       "Age                                  -0.035367               0.039216   \n",
       "City_Code_C10-C18                    -0.008591               0.042223   \n",
       "City_Code_C19-C27                     0.029905              -0.036863   \n",
       "City_Code_C28-C36                    -0.009537              -0.063231   \n",
       "Holding_Policy_Type_2.0               0.038544               0.019237   \n",
       "Holding_Policy_Type_3.0              -0.022281              -0.044934   \n",
       "Holding_Policy_Type_4.0              -0.041807               0.063730   \n",
       "Reco_Policy_Cat_12-15                 1.000000              -0.527048   \n",
       "Reco_Policy_Cat_16-22                -0.527048               1.000000   \n",
       "Reco_Policy_Cat_6-11                 -0.133165              -0.417884   \n",
       "\n",
       "                         Reco_Policy_Cat_6-11  \n",
       "Accomodation_Type                    0.011554  \n",
       "Reco_Insurance_Type                  0.005233  \n",
       "Is_Spouse                           -0.001484  \n",
       "Holding_Policy_Duration              0.021292  \n",
       "Reco_Policy_Premium                 -0.012469  \n",
       "Response                            -0.048067  \n",
       "X1                                  -0.007354  \n",
       "X2                                   0.010430  \n",
       "X3                                  -0.008332  \n",
       "X4                                  -0.004471  \n",
       "X5                                   0.021020  \n",
       "X6                                  -0.005872  \n",
       "X7                                  -0.001444  \n",
       "X8                                   0.007162  \n",
       "Age                                 -0.013263  \n",
       "City_Code_C10-C18                   -0.060275  \n",
       "City_Code_C19-C27                   -0.034621  \n",
       "City_Code_C28-C36                    0.070710  \n",
       "Holding_Policy_Type_2.0             -0.048129  \n",
       "Holding_Policy_Type_3.0              0.083568  \n",
       "Holding_Policy_Type_4.0             -0.012818  \n",
       "Reco_Policy_Cat_12-15               -0.133165  \n",
       "Reco_Policy_Cat_16-22               -0.417884  \n",
       "Reco_Policy_Cat_6-11                 1.000000  \n",
       "\n",
       "[24 rows x 24 columns]"
      ]
     },
     "execution_count": 71,
     "metadata": {},
     "output_type": "execute_result"
    }
   ],
   "source": [
    "df1.corr()"
   ]
  },
  {
   "cell_type": "code",
   "execution_count": 72,
   "metadata": {},
   "outputs": [
    {
     "data": {
      "text/plain": [
       "<AxesSubplot:>"
      ]
     },
     "execution_count": 72,
     "metadata": {},
     "output_type": "execute_result"
    },
    {
     "data": {
      "image/png": "[encoded data removed]",
      "text/plain": [
       "<Figure size 1080x1080 with 2 Axes>"
      ]
     },
     "metadata": {
      "needs_background": "light"
     },
     "output_type": "display_data"
    }
   ],
   "source": [
    "plt.figure(figsize=(15,15))\n",
    "sns.heatmap(df1.corr(),annot=True,cmap='Blues',fmt='.2f')"
   ]
  },
  {
   "cell_type": "code",
   "execution_count": 74,
   "metadata": {},
   "outputs": [
    {
     "data": {
      "text/plain": [
       "(10000, 24)"
      ]
     },
     "execution_count": 74,
     "metadata": {},
     "output_type": "execute_result"
    }
   ],
   "source": [
    "df1.shape"
   ]
  },
  {
   "cell_type": "code",
   "execution_count": 75,
   "metadata": {},
   "outputs": [],
   "source": [
    "df1.to_csv('Clean.csv')"
   ]
  },
  {
   "cell_type": "code",
   "execution_count": null,
   "metadata": {},
   "outputs": [],
   "source": []
  }
 ],
 "metadata": {
  "kernelspec": {
   "display_name": "Python 3",
   "language": "python",
   "name": "python3"
  },
  "language_info": {
   "codemirror_mode": {
    "name": "ipython",
    "version": 3
   },
   "file_extension": ".py",
   "mimetype": "text/x-python",
   "name": "python",
   "nbconvert_exporter": "python",
   "pygments_lexer": "ipython3",
   "version": "3.8.5"
  }
 },
 "nbformat": 4,
 "nbformat_minor": 5
}
